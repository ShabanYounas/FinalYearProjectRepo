{
 "cells": [
  {
   "cell_type": "code",
   "execution_count": 1,
   "id": "3336e234-75aa-449f-b588-558e487d8c27",
   "metadata": {},
   "outputs": [],
   "source": [
    "import yfinance as yf\n",
    "from datetime import datetime\n",
    "import pandas as pd\n",
    "import psycopg2\n",
    "import configparser\n",
    "import datetime"
   ]
  },
  {
   "cell_type": "code",
   "execution_count": 4,
   "id": "8c9c38ec-6801-4943-8ede-19a5fad198ce",
   "metadata": {},
   "outputs": [
    {
     "name": "stderr",
     "output_type": "stream",
     "text": [
      "0DK9: No data found, symbol may be delisted\n"
     ]
    },
    {
     "name": "stdout",
     "output_type": "stream",
     "text": [
      "Empty DataFrame\n",
      "Columns: [Open, High, Low, Close, Adj Close, Volume]\n",
      "Index: []\n"
     ]
    }
   ],
   "source": [
    "#This is a sample test and will be used for testing only. \n",
    "#It utilises yfinance library. It takes \"Ticker\" symbol then returns the ticker information. \n",
    "#Fetch data for a single stock symbol\n",
    "#This is used to get financial information on stock market from yahoo finance using ticker as test \n",
    "\n",
    "stock = yf.Ticker(\"0DK9.L\")\n",
    "hist = stock.history(period=\"6y\")  # Fetches one month of historical data\n",
    "\n",
    "print(hist)\n",
    "#If you want to see the result just uncomment the print statement.\n",
    "#This was a test that was run to ensure that the code is able to work on one ticker\n"
   ]
  },
  {
   "cell_type": "code",
   "execution_count": null,
   "id": "0398ba7e-654b-47a3-ba8f-f6ff345a80af",
   "metadata": {},
   "outputs": [],
   "source": [
    "#*****************\n",
    "#This code uses the function created generate_date_dimension, and the result of that function is then pushed into the database.\n",
    "#This code does not need to be run regularley so will comment it out. \n",
    "#SQL REFERENCE B\n",
    "#Reference cell C\n",
    "#*****************\n",
    "\n",
    "'''\n",
    "\n",
    "def insert_date_dimension_row(row):\n",
    "    query = \"\"\"\n",
    "    INSERT INTO s_date \n",
    "    (Date, Year, Quarter, Month, Week, Day, DayOfWeek, IsWeekend, IsHoliday, FiscalYear, FiscalQuarter, FiscalMonth) \n",
    "    VALUES (%s, %s, %s, %s, %s, %s, %s, %s, %s, %s, %s, %s)\n",
    "    \"\"\"\n",
    "    # Formatting the Date to string if it's in datetime format\n",
    "    date_str = row['Date'].strftime('%Y-%m-%d') if pd.notnull(row['Date']) else None\n",
    "\n",
    "    params = (\n",
    "        date_str, row['Year'], row['Quarter'], row['Month'], row['Week'], row['Day'], \n",
    "        row['DayOfWeek'], row['IsWeekend'], row['IsHoliday'], row['FiscalYear'], \n",
    "        row['FiscalQuarter'], row['FiscalMonth']\n",
    "    )\n",
    "\n",
    "    # Execute the SQL query\n",
    "    execute_sql_query(query, params)\n",
    "\n",
    "# Generate the date dimension DataFrame\n",
    "start_date = datetime.date(2005, 1, 1)\n",
    "end_date = datetime.date(2050, 12, 31)\n",
    "date_dimension = generate_date_dimension(start_date, end_date)\n",
    "\n",
    "# Iterate through each row of  DataFrame and insert it\n",
    "for index, row in date_dimension.iterrows():\n",
    "    insert_date_dimension_row(row)\n",
    "\n",
    "'''"
   ]
  },
  {
   "cell_type": "code",
   "execution_count": null,
   "id": "ce02be2b-b81d-4a47-8708-bc177fd26c1c",
   "metadata": {},
   "outputs": [],
   "source": []
  },
  {
   "cell_type": "code",
   "execution_count": null,
   "id": "f99e3eff-ab49-41b1-aace-a1409771b772",
   "metadata": {},
   "outputs": [],
   "source": []
  }
 ],
 "metadata": {
  "kernelspec": {
   "display_name": "Python 3 (ipykernel)",
   "language": "python",
   "name": "python3"
  },
  "language_info": {
   "codemirror_mode": {
    "name": "ipython",
    "version": 3
   },
   "file_extension": ".py",
   "mimetype": "text/x-python",
   "name": "python",
   "nbconvert_exporter": "python",
   "pygments_lexer": "ipython3",
   "version": "3.11.7"
  }
 },
 "nbformat": 4,
 "nbformat_minor": 5
}
