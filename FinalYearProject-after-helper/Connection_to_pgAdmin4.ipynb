{
 "cells": [
  {
   "cell_type": "code",
   "execution_count": 1,
   "id": "6b8010f0-3b07-454f-a19c-467d8f63ece9",
   "metadata": {
    "tags": []
   },
   "outputs": [],
   "source": [
    "import yfinance as yf\n",
    "from datetime import datetime\n",
    "import pandas as pd\n",
    "import psycopg2\n",
    "import configparser\n",
    "import datetime\n",
    "import nbimporter\n",
    "from General import *\n",
    "from Daily_etl import *\n",
    "from SQL import *\n",
    "from Functions import *"
   ]
  },
  {
   "cell_type": "code",
   "execution_count": 2,
   "id": "984dcd69-a9bb-4b53-81ce-268f1031839e",
   "metadata": {
    "tags": []
   },
   "outputs": [
    {
     "name": "stdout",
     "output_type": "stream",
     "text": [
      "Error: name 'configpar' is not defined\n",
      "Failed to connect to the database.\n"
     ]
    }
   ],
   "source": [
    "#connecting to the database\n",
    "\n",
    "\n",
    "def connect_to_database():\n",
    "     #Establish a connection to PostgreSQL database using parameters from config.ini. \n",
    "        #Returns: A connection to the PostgreSQL database.\n",
    "    \n",
    "    try:\n",
    "        # Read database credentials from the configuration file\n",
    "        config = configpar\n",
    "        ser.ConfigParser()\n",
    "        config.read('config.ini')\n",
    "\n",
    "        host = config['database']['host']\n",
    "        port = int(config['database']['port'])\n",
    "        user = config['database']['user']\n",
    "        password = config['database']['password']\n",
    "        database = config['database']['database']\n",
    "\n",
    "        # Establish a connection to the database using the credentials from the config file\n",
    "        connection = psycopg2.connect(host=host, port=port, user=user, password=password, database=database)\n",
    "\n",
    "        return connection\n",
    "\n",
    "    except (Exception, psycopg2.Error) as error:\n",
    "        print(f\"Error: {error}\")\n",
    "        return None\n",
    "\n",
    "if __name__ == \"__main__\":\n",
    "    # Establish a connection to the database\n",
    "    connection = connect_to_database()\n",
    "\n",
    "    if connection:\n",
    "        print(\"Connected to the database successfully.\")\n",
    "        # can continue with database operations here\n",
    "\n",
    "        # Close the connection when done\n",
    "        connection.close()\n",
    "    else:\n",
    "        print(\"Failed to connect to the database.\")\n"
   ]
  },
  {
   "cell_type": "code",
   "execution_count": null,
   "id": "57f24fc6-aae0-47c0-b7a2-341202f9cd90",
   "metadata": {},
   "outputs": [],
   "source": []
  },
  {
   "cell_type": "code",
   "execution_count": null,
   "id": "17adc3e7-9944-4dcb-9160-54dcf18cf5de",
   "metadata": {},
   "outputs": [],
   "source": []
  }
 ],
 "metadata": {
  "kernelspec": {
   "display_name": "Python 3 (ipykernel)",
   "language": "python",
   "name": "python3"
  },
  "language_info": {
   "codemirror_mode": {
    "name": "ipython",
    "version": 3
   },
   "file_extension": ".py",
   "mimetype": "text/x-python",
   "name": "python",
   "nbconvert_exporter": "python",
   "pygments_lexer": "ipython3",
   "version": "3.11.5"
  }
 },
 "nbformat": 4,
 "nbformat_minor": 5
}
