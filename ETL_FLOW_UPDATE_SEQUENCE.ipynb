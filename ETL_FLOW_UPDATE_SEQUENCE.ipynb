{
 "cells": [
  {
   "cell_type": "code",
   "execution_count": null,
   "id": "c572a9d2-4a52-45dd-a5f8-7333cf077ce7",
   "metadata": {},
   "outputs": [],
   "source": [
    "'''**The script compiles a list, functions_to_execute, which aggregates several predefined functions updating a financial database.\n",
    "This list is designed to systematically execute a series of operations aimed at maintaining the currency and integrity of the database's data.\n",
    "It initiates by fetching symbols and their last update dates from a specific table, a crucial step for determining the scope of new data to be fetched. \n",
    "However, due to parameter requirements for certain functions within the list, \n",
    "such as fetching new stock data for a given symbol and inserting this new data into the database, \n",
    "the script intelligently differentiates between functions that can be executed directly and those that necessitate additional input.\n",
    "For functions without parameter requirements, the script executes them sequentially, ensuring a streamlined update process.\n",
    "This methodical approach allows for the efficient management of financial data, ensuring the database reflects the most current information available,\n",
    "while also acknowledging the need for flexibility in executing functions with specific data requirements.**'''\n",
    "\n",
    "\n",
    "\n",
    "\n",
    "\n"
   ]
  },
  {
   "cell_type": "code",
   "execution_count": 29,
   "id": "6393f626-6f4f-4de7-be59-688feec0e4c4",
   "metadata": {
    "tags": []
   },
   "outputs": [],
   "source": [
    "import yfinance as yf\n",
    "from datetime import datetime\n",
    "import pandas as pd\n",
    "import psycopg2\n",
    "import configparser\n",
    "import nbimporter\n",
    "from General import *\n",
    "from Functions import *\n",
    "from SQL import *\n",
    "from Daily_etl import *\n",
    "from Connection_to_pgAdmin4 import *"
   ]
  },
  {
   "cell_type": "code",
   "execution_count": 30,
   "id": "a575d92c-9717-409b-99c3-61615bb67b99",
   "metadata": {
    "tags": []
   },
   "outputs": [],
   "source": [
    "#This code will run the function in one go. \n",
    "#The function contain all the functions that will run to update the Warehouse.\n",
    "#This is part of the automation Objective"
   ]
  },
  {
   "cell_type": "code",
   "execution_count": 1,
   "id": "28d67101-f149-4dfe-a758-f5f829b05670",
   "metadata": {
    "tags": []
   },
   "outputs": [
    {
     "data": {
      "text/plain": [
       "'\\ndef execute_update_process():\\n    # Fetch symbols and their last update dates.\\n    symbols_dates_df = fetch_symbols_and_last_dates()\\n    if symbols_dates_df.empty:\\n        print(\"No symbols or last dates found.\")\\n        return\\n    \\n    # Check if the DataFrame is not empty to proceed.\\n    if not symbols_dates_df.empty:\\n        # Initialize an empty DataFrame to store new stock data for all symbols.\\n    \\n    all_new_stock_data = pd.DataFrame()\\n\\n    # Iterate over each row in the DataFrame to get the symbol and its last update date.\\n    for index, row in symbols_dates_df.iterrows():\\n        symbol = row[\\'symbol\\']\\n        last_date = row[\\'lastdate\\']\\n        \\n        # Calculate the start date as the day after the last recorded date.\\n        start_date = (pd.to_datetime(last_date) + pd.Timedelta(days=1)).strftime(\\'%Y-%m-%d\\')\\n\\n        # Fetch new stock data for the symbol starting from the calculated start_date.\\n        symbol_new_data = fetch_new_stock_data_for_symbol(symbol, start_date)\\n\\n        # Only aggregate this new stock data into a single DataFrame if it\\'s not empty.\\n        if not symbol_new_data.empty:\\n            all_new_stock_data = pd.concat([all_new_stock_data, symbol_new_data], ignore_index=True)\\n        else:\\n            print(f\"No new data found for {symbol} since {start_date}. Skipping...\")\\n            \\n        # Insert the aggregated new stock data into the database if not empty.\\n        if not all_new_stock_data.empty:\\n            insert_new_stock_data(all_new_stock_data)\\n            print(\\'Symbols extracted from DB. New records extracted. Inserted records to DB.\\')\\n\\n    # Execute other updates that don\\'t depend on the fetched new stock data.\\n    insert_into_financial_info()\\n    print(\\'Inserted unique rows to the dimension.d_finance_info from historical_stock_data.\\')\\n    update_facts_table()\\n    print(\\'Truncated Last facts table, rebuilt f_usage_daily from dimensions.\\')\\n    update_dates_of_stock_info()\\n    print(\\'Truncated facts.dates_of_stock_info, rebuilt it using f_usage_daily.\\')\\n    \\n    current_date = datetime.now().date()\\n    print(f\"ETL update Complete {current_date}\")\\n\\n\\n'"
      ]
     },
     "execution_count": 1,
     "metadata": {},
     "output_type": "execute_result"
    }
   ],
   "source": [
    "def execute_update_process():\n",
    "    symbols_dates_df = fetch_symbols_and_last_dates()\n",
    "    if symbols_dates_df.empty:\n",
    "        print(\"No symbols or last dates found.\")\n",
    "        return\n",
    "\n",
    "    all_new_stock_data = pd.DataFrame()\n",
    "    for index, row in symbols_dates_df.iterrows():\n",
    "        symbol = row['symbol']\n",
    "        last_date = row['lastdate']\n",
    "        start_date = (pd.to_datetime(last_date) + pd.Timedelta(days=1)).strftime('%Y-%m-%d')\n",
    "        symbol_new_data = fetch_new_stock_data_for_symbol(symbol, start_date)\n",
    "\n",
    "        if symbol_new_data.empty:\n",
    "            print(f\"No new data found for {symbol} since {start_date}. Skipping...\")\n",
    "            continue\n",
    "\n",
    "        all_new_stock_data = pd.concat([all_new_stock_data, symbol_new_data], ignore_index=True)\n",
    "\n",
    "    if not all_new_stock_data.empty:\n",
    "        insert_new_stock_data(all_new_stock_data)\n",
    "    else:\n",
    "        print(\"No new stock data was found for any symbols.\")\n",
    "\n",
    "    insert_into_financial_info()\n",
    "    update_facts_table()\n",
    "    update_dates_of_stock_info()\n",
    "    print(\"ETL update process completed.\")\n",
    "\n",
    "\n",
    "\n",
    "\n",
    "'''\n",
    "def execute_update_process():\n",
    "    # Fetch symbols and their last update dates.\n",
    "    symbols_dates_df = fetch_symbols_and_last_dates()\n",
    "    if symbols_dates_df.empty:\n",
    "        print(\"No symbols or last dates found.\")\n",
    "        return\n",
    "    \n",
    "    # Check if the DataFrame is not empty to proceed.\n",
    "    if not symbols_dates_df.empty:\n",
    "        # Initialize an empty DataFrame to store new stock data for all symbols.\n",
    "    \n",
    "    all_new_stock_data = pd.DataFrame()\n",
    "\n",
    "    # Iterate over each row in the DataFrame to get the symbol and its last update date.\n",
    "    for index, row in symbols_dates_df.iterrows():\n",
    "        symbol = row['symbol']\n",
    "        last_date = row['lastdate']\n",
    "        \n",
    "        # Calculate the start date as the day after the last recorded date.\n",
    "        start_date = (pd.to_datetime(last_date) + pd.Timedelta(days=1)).strftime('%Y-%m-%d')\n",
    "\n",
    "        # Fetch new stock data for the symbol starting from the calculated start_date.\n",
    "        symbol_new_data = fetch_new_stock_data_for_symbol(symbol, start_date)\n",
    "\n",
    "        # Only aggregate this new stock data into a single DataFrame if it's not empty.\n",
    "        if not symbol_new_data.empty:\n",
    "            all_new_stock_data = pd.concat([all_new_stock_data, symbol_new_data], ignore_index=True)\n",
    "        else:\n",
    "            print(f\"No new data found for {symbol} since {start_date}. Skipping...\")\n",
    "            \n",
    "        # Insert the aggregated new stock data into the database if not empty.\n",
    "        if not all_new_stock_data.empty:\n",
    "            insert_new_stock_data(all_new_stock_data)\n",
    "            print('Symbols extracted from DB. New records extracted. Inserted records to DB.')\n",
    "\n",
    "    # Execute other updates that don't depend on the fetched new stock data.\n",
    "    insert_into_financial_info()\n",
    "    print('Inserted unique rows to the dimension.d_finance_info from historical_stock_data.')\n",
    "    update_facts_table()\n",
    "    print('Truncated Last facts table, rebuilt f_usage_daily from dimensions.')\n",
    "    update_dates_of_stock_info()\n",
    "    print('Truncated facts.dates_of_stock_info, rebuilt it using f_usage_daily.')\n",
    "    \n",
    "    current_date = datetime.now().date()\n",
    "    print(f\"ETL update Complete {current_date}\")\n",
    "\n",
    "\n",
    "'''"
   ]
  },
  {
   "cell_type": "code",
   "execution_count": 38,
   "id": "70fd7485-0981-45ec-b389-7387d860c99b",
   "metadata": {
    "tags": []
   },
   "outputs": [
    {
     "name": "stderr",
     "output_type": "stream",
     "text": [
      "Daily_etl.ipynb:15: UserWarning: pandas only supports SQLAlchemy connectable (engine/connection) or database string URI or sqlite3 DBAPI2 connection. Other DBAPI2 objects are not tested. Please consider using SQLAlchemy.\n",
      "  \"import configparser\\n\",\n"
     ]
    },
    {
     "name": "stdout",
     "output_type": "stream",
     "text": [
      "      symbol    lastdate\n",
      "0     XUEK.L  2024-02-28\n",
      "1     0NOL.L  2024-02-29\n",
      "2     0KVR.L  2024-02-29\n",
      "3     ASIT.L  2024-02-29\n",
      "4     N30X.L  2014-08-01\n",
      "...      ...         ...\n",
      "4868   CLA.L  2024-02-29\n",
      "4869  UC87.L  2024-02-29\n",
      "4870   EUA.L  2024-02-29\n",
      "4871   ROR.L  2024-02-29\n",
      "4872  0HOB.L  2024-02-29\n",
      "\n",
      "[4873 rows x 2 columns]\n"
     ]
    },
    {
     "name": "stderr",
     "output_type": "stream",
     "text": [
      "0DRH.L: No price data found, symbol may be delisted (1d 2024-01-18 -> 2024-03-03)\n"
     ]
    },
    {
     "name": "stdout",
     "output_type": "stream",
     "text": [
      "No new data found for 0DRH.L since 2024-01-18. Skipping...\n"
     ]
    },
    {
     "name": "stderr",
     "output_type": "stream",
     "text": [
      "0OJX.L: No price data found, symbol may be delisted (1d 2024-02-14 -> 2024-03-03)\n"
     ]
    },
    {
     "name": "stdout",
     "output_type": "stream",
     "text": [
      "No new data found for 0OJX.L since 2024-02-14. Skipping...\n"
     ]
    },
    {
     "name": "stderr",
     "output_type": "stream",
     "text": [
      "CJ1U.L: No price data found, symbol may be delisted (1d 2024-02-29 -> 2024-03-03)\n"
     ]
    },
    {
     "name": "stdout",
     "output_type": "stream",
     "text": [
      "No new data found for CJ1U.L since 2024-02-29. Skipping...\n"
     ]
    },
    {
     "name": "stderr",
     "output_type": "stream",
     "text": [
      "FIVE.L: No price data found, symbol may be delisted (1d 2024-02-22 -> 2024-03-03)\n",
      "EPIC.L: No price data found, symbol may be delisted (1d 2024-01-13 -> 2024-03-03)\n"
     ]
    },
    {
     "name": "stdout",
     "output_type": "stream",
     "text": [
      "No new data found for FIVE.L since 2024-02-22. Skipping...\n",
      "No new data found for EPIC.L since 2024-01-13. Skipping...\n"
     ]
    },
    {
     "name": "stderr",
     "output_type": "stream",
     "text": [
      "0KAZ.L: No price data found, symbol may be delisted (1d 2024-02-07 -> 2024-03-03)\n"
     ]
    },
    {
     "name": "stdout",
     "output_type": "stream",
     "text": [
      "No new data found for 0KAZ.L since 2024-02-07. Skipping...\n"
     ]
    },
    {
     "name": "stderr",
     "output_type": "stream",
     "text": [
      "0LX1.L: No price data found, symbol may be delisted (1d 2024-02-03 -> 2024-03-03)\n"
     ]
    },
    {
     "name": "stdout",
     "output_type": "stream",
     "text": [
      "No new data found for 0LX1.L since 2024-02-03. Skipping...\n"
     ]
    },
    {
     "name": "stderr",
     "output_type": "stream",
     "text": [
      "SG90.L: No price data found, symbol may be delisted (1d 2020-09-17 -> 2024-03-03)\n"
     ]
    },
    {
     "name": "stdout",
     "output_type": "stream",
     "text": [
      "No new data found for SG90.L since 2020-09-17. Skipping...\n"
     ]
    },
    {
     "name": "stderr",
     "output_type": "stream",
     "text": [
      "0FI1.L: No price data found, symbol may be delisted (1d 2024-02-23 -> 2024-03-03)\n"
     ]
    },
    {
     "name": "stdout",
     "output_type": "stream",
     "text": [
      "No new data found for 0FI1.L since 2024-02-23. Skipping...\n"
     ]
    },
    {
     "name": "stderr",
     "output_type": "stream",
     "text": [
      "0KO8.L: No price data found, symbol may be delisted (1d 2024-01-06 -> 2024-03-03)\n"
     ]
    },
    {
     "name": "stdout",
     "output_type": "stream",
     "text": [
      "No new data found for 0KO8.L since 2024-01-06. Skipping...\n"
     ]
    },
    {
     "name": "stderr",
     "output_type": "stream",
     "text": [
      "0M5M.L: No price data found, symbol may be delisted (1d 2024-02-16 -> 2024-03-03)\n"
     ]
    },
    {
     "name": "stdout",
     "output_type": "stream",
     "text": [
      "No new data found for 0M5M.L since 2024-02-16. Skipping...\n"
     ]
    },
    {
     "name": "stderr",
     "output_type": "stream",
     "text": [
      "AWNT06HK.L: Period '1mo' is invalid, must be one of ['1d', '5d']\n",
      "NMIXNUK.L: Period '1mo' is invalid, must be one of ['1d', '5d']\n"
     ]
    },
    {
     "name": "stdout",
     "output_type": "stream",
     "text": [
      "No new data found for AWNT06HK.L since 2014-08-02. Skipping...\n",
      "No new data found for NMIXNUK.L since 2024-02-24. Skipping...\n"
     ]
    },
    {
     "name": "stderr",
     "output_type": "stream",
     "text": [
      "61WO.L: Period '1mo' is invalid, must be one of ['1d', '5d']\n",
      "SD12.L: Period '1mo' is invalid, must be one of ['1d', '5d']\n"
     ]
    },
    {
     "name": "stdout",
     "output_type": "stream",
     "text": [
      "No new data found for 61WO.L since 2015-01-14. Skipping...\n",
      "No new data found for SD12.L since 2014-03-18. Skipping...\n"
     ]
    },
    {
     "name": "stderr",
     "output_type": "stream",
     "text": [
      "MCXL4X.L: Period '1mo' is invalid, must be one of ['1d', '5d']\n",
      "0FMN.L: No price data found, symbol may be delisted (1d 2024-02-29 -> 2024-03-03)\n"
     ]
    },
    {
     "name": "stdout",
     "output_type": "stream",
     "text": [
      "No new data found for MCXL4X.L since 2024-02-24. Skipping...\n",
      "No new data found for 0FMN.L since 2024-02-29. Skipping...\n"
     ]
    },
    {
     "name": "stderr",
     "output_type": "stream",
     "text": [
      "AWNT05UK.L: Period '1mo' is invalid, must be one of ['1d', '5d']\n"
     ]
    },
    {
     "name": "stdout",
     "output_type": "stream",
     "text": [
      "No new data found for AWNT05UK.L since 2024-02-24. Skipping...\n"
     ]
    },
    {
     "name": "stderr",
     "output_type": "stream",
     "text": [
      "GPFF001.L: Period '1mo' is invalid, must be one of ['1d', '5d']\n"
     ]
    },
    {
     "name": "stdout",
     "output_type": "stream",
     "text": [
      "No new data found for GPFF001.L since 2014-08-02. Skipping...\n"
     ]
    },
    {
     "name": "stderr",
     "output_type": "stream",
     "text": [
      "AWNT14.L: Period '1mo' is invalid, must be one of ['1d', '5d']\n"
     ]
    },
    {
     "name": "stdout",
     "output_type": "stream",
     "text": [
      "No new data found for AWNT14.L since 2014-08-02. Skipping...\n"
     ]
    },
    {
     "name": "stderr",
     "output_type": "stream",
     "text": [
      "3XEC.L: Period '1mo' is invalid, must be one of ['1d', '5d']\n"
     ]
    },
    {
     "name": "stdout",
     "output_type": "stream",
     "text": [
      "No new data found for 3XEC.L since 2016-06-30. Skipping...\n"
     ]
    },
    {
     "name": "stderr",
     "output_type": "stream",
     "text": [
      "MCXI1X.L: Period '1mo' is invalid, must be one of ['1d', '5d']\n"
     ]
    },
    {
     "name": "stdout",
     "output_type": "stream",
     "text": [
      "No new data found for MCXI1X.L since 2024-02-24. Skipping...\n"
     ]
    },
    {
     "name": "stderr",
     "output_type": "stream",
     "text": [
      "0LRI.L: No price data found, symbol may be delisted (1d 2024-03-01 -> 2024-03-03)\n"
     ]
    },
    {
     "name": "stdout",
     "output_type": "stream",
     "text": [
      "No new data found for 0LRI.L since 2024-03-01. Skipping...\n"
     ]
    },
    {
     "name": "stderr",
     "output_type": "stream",
     "text": [
      "43FS.L: Period '1mo' is invalid, must be one of ['1d', '5d']\n"
     ]
    },
    {
     "name": "stdout",
     "output_type": "stream",
     "text": [
      "No new data found for 43FS.L since 2019-03-27. Skipping...\n"
     ]
    },
    {
     "name": "stderr",
     "output_type": "stream",
     "text": [
      "RNXGUS.L: Period '1mo' is invalid, must be one of ['1d', '5d']\n"
     ]
    },
    {
     "name": "stdout",
     "output_type": "stream",
     "text": [
      "No new data found for RNXGUS.L since 2014-08-02. Skipping...\n"
     ]
    },
    {
     "name": "stderr",
     "output_type": "stream",
     "text": [
      "LC12.L: Period '1mo' is invalid, must be one of ['1d', '5d']\n"
     ]
    },
    {
     "name": "stdout",
     "output_type": "stream",
     "text": [
      "No new data found for LC12.L since 2024-01-18. Skipping...\n"
     ]
    },
    {
     "name": "stderr",
     "output_type": "stream",
     "text": [
      "ACNAN.L: Period '1mo' is invalid, must be one of ['1d', '5d']\n"
     ]
    },
    {
     "name": "stdout",
     "output_type": "stream",
     "text": [
      "No new data found for ACNAN.L since 2014-08-02. Skipping...\n"
     ]
    },
    {
     "name": "stderr",
     "output_type": "stream",
     "text": [
      "0MN3.L: No price data found, symbol may be delisted (1d 2024-01-25 -> 2024-03-03)\n"
     ]
    },
    {
     "name": "stdout",
     "output_type": "stream",
     "text": [
      "No new data found for 0MN3.L since 2024-01-25. Skipping...\n"
     ]
    },
    {
     "name": "stderr",
     "output_type": "stream",
     "text": [
      "GSHT.L: Period '1mo' is invalid, must be one of ['1d', '5d']\n"
     ]
    },
    {
     "name": "stdout",
     "output_type": "stream",
     "text": [
      "No new data found for GSHT.L since 2019-01-24. Skipping...\n"
     ]
    },
    {
     "name": "stderr",
     "output_type": "stream",
     "text": [
      "MCXI3X.L: Period '1mo' is invalid, must be one of ['1d', '5d']\n"
     ]
    },
    {
     "name": "stdout",
     "output_type": "stream",
     "text": [
      "No new data found for MCXI3X.L since 2024-02-24. Skipping...\n"
     ]
    },
    {
     "name": "stderr",
     "output_type": "stream",
     "text": [
      "AWNT04.L: Period '1mo' is invalid, must be one of ['1d', '5d']\n"
     ]
    },
    {
     "name": "stdout",
     "output_type": "stream",
     "text": [
      "No new data found for AWNT04.L since 2014-08-02. Skipping...\n"
     ]
    },
    {
     "name": "stderr",
     "output_type": "stream",
     "text": [
      "MCXL2X.L: Period '1mo' is invalid, must be one of ['1d', '5d']\n"
     ]
    },
    {
     "name": "stdout",
     "output_type": "stream",
     "text": [
      "No new data found for MCXL2X.L since 2024-02-24. Skipping...\n"
     ]
    },
    {
     "name": "stderr",
     "output_type": "stream",
     "text": [
      "0O8D.L: No price data found, symbol may be delisted (1d 2024-02-16 -> 2024-03-03)\n"
     ]
    },
    {
     "name": "stdout",
     "output_type": "stream",
     "text": [
      "No new data found for 0O8D.L since 2024-02-16. Skipping...\n"
     ]
    },
    {
     "name": "stderr",
     "output_type": "stream",
     "text": [
      "HDT.L: No price data found, symbol may be delisted (1d 2024-01-11 -> 2024-03-03)\n",
      "68TU.L: Period '1mo' is invalid, must be one of ['1d', '5d']\n",
      "MCIX.L: Period '1mo' is invalid, must be one of ['1d', '5d']\n"
     ]
    },
    {
     "name": "stdout",
     "output_type": "stream",
     "text": [
      "No new data found for HDT.L since 2024-01-11. Skipping...\n",
      "No new data found for 68TU.L since 2019-03-22. Skipping...\n",
      "No new data found for MCIX.L since 2014-08-02. Skipping...\n"
     ]
    },
    {
     "name": "stderr",
     "output_type": "stream",
     "text": [
      "3XUK.L: Period '1mo' is invalid, must be one of ['1d', '5d']\n"
     ]
    },
    {
     "name": "stdout",
     "output_type": "stream",
     "text": [
      "No new data found for 3XUK.L since 2016-06-30. Skipping...\n"
     ]
    },
    {
     "name": "stderr",
     "output_type": "stream",
     "text": [
      "89SK.L: Period '1mo' is invalid, must be one of ['1d', '5d']\n"
     ]
    },
    {
     "name": "stdout",
     "output_type": "stream",
     "text": [
      "No new data found for 89SK.L since 2018-11-07. Skipping...\n"
     ]
    },
    {
     "name": "stderr",
     "output_type": "stream",
     "text": [
      "A2D2.L: Period '1mo' is invalid, must be one of ['1d', '5d']\n"
     ]
    },
    {
     "name": "stdout",
     "output_type": "stream",
     "text": [
      "No new data found for A2D2.L since 2019-02-06. Skipping...\n"
     ]
    },
    {
     "name": "stderr",
     "output_type": "stream",
     "text": [
      "AG99.L: Period '1mo' is invalid, must be one of ['1d', '5d']\n"
     ]
    },
    {
     "name": "stdout",
     "output_type": "stream",
     "text": [
      "No new data found for AG99.L since 2019-01-23. Skipping...\n"
     ]
    },
    {
     "name": "stderr",
     "output_type": "stream",
     "text": [
      "RPRA.L: Period '1mo' is invalid, must be one of ['1d', '5d']\n",
      "NGAG.L: Period '1mo' is invalid, must be one of ['1d', '5d']\n"
     ]
    },
    {
     "name": "stdout",
     "output_type": "stream",
     "text": [
      "No new data found for RPRA.L since 2016-06-29. Skipping...\n",
      "No new data found for NGAG.L since 2024-02-22. Skipping...\n"
     ]
    },
    {
     "name": "stderr",
     "output_type": "stream",
     "text": [
      "0E4F.L: No price data found, symbol may be delisted (1d 2024-02-20 -> 2024-03-03)\n"
     ]
    },
    {
     "name": "stdout",
     "output_type": "stream",
     "text": [
      "No new data found for 0E4F.L since 2024-02-20. Skipping...\n"
     ]
    },
    {
     "name": "stderr",
     "output_type": "stream",
     "text": [
      "AWNAMERS.L: Period '1mo' is invalid, must be one of ['1d', '5d']\n"
     ]
    },
    {
     "name": "stdout",
     "output_type": "stream",
     "text": [
      "No new data found for AWNAMERS.L since 2014-08-02. Skipping...\n"
     ]
    },
    {
     "name": "stderr",
     "output_type": "stream",
     "text": [
      "SGS100.L: Period '1mo' is invalid, must be one of ['1d', '5d']\n"
     ]
    },
    {
     "name": "stdout",
     "output_type": "stream",
     "text": [
      "No new data found for SGS100.L since 2014-08-02. Skipping...\n"
     ]
    },
    {
     "name": "stderr",
     "output_type": "stream",
     "text": [
      "0FMO.L: No price data found, symbol may be delisted (1d 2024-02-16 -> 2024-03-03)\n"
     ]
    },
    {
     "name": "stdout",
     "output_type": "stream",
     "text": [
      "No new data found for 0FMO.L since 2024-02-16. Skipping...\n"
     ]
    },
    {
     "name": "stderr",
     "output_type": "stream",
     "text": [
      "82HM.L: Period '1mo' is invalid, must be one of ['1d', '5d']\n"
     ]
    },
    {
     "name": "stdout",
     "output_type": "stream",
     "text": [
      "No new data found for 82HM.L since 2019-03-13. Skipping...\n"
     ]
    },
    {
     "name": "stderr",
     "output_type": "stream",
     "text": [
      "ORC2.L: No price data found, symbol may be delisted (1d 2019-03-08 -> 2024-03-03)\n",
      "LC08.L: Period '1mo' is invalid, must be one of ['1d', '5d']\n"
     ]
    },
    {
     "name": "stdout",
     "output_type": "stream",
     "text": [
      "No new data found for ORC2.L since 2019-03-08. Skipping...\n",
      "No new data found for LC08.L since 2014-12-31. Skipping...\n"
     ]
    },
    {
     "name": "stderr",
     "output_type": "stream",
     "text": [
      "0HOV.L: No price data found, symbol may be delisted (1d 2024-02-15 -> 2024-03-03)\n"
     ]
    },
    {
     "name": "stdout",
     "output_type": "stream",
     "text": [
      "No new data found for 0HOV.L since 2024-02-15. Skipping...\n"
     ]
    },
    {
     "name": "stderr",
     "output_type": "stream",
     "text": [
      "84DG.L: Period '1mo' is invalid, must be one of ['1d', '5d']\n"
     ]
    },
    {
     "name": "stdout",
     "output_type": "stream",
     "text": [
      "No new data found for 84DG.L since 2019-01-09. Skipping...\n"
     ]
    },
    {
     "name": "stderr",
     "output_type": "stream",
     "text": [
      "N099.L: Period '1mo' is invalid, must be one of ['1d', '5d']\n",
      "AWNT04CH.L: Period '1mo' is invalid, must be one of ['1d', '5d']\n"
     ]
    },
    {
     "name": "stdout",
     "output_type": "stream",
     "text": [
      "No new data found for N099.L since 2014-08-01. Skipping...\n",
      "No new data found for AWNT04CH.L since 2014-08-02. Skipping...\n"
     ]
    },
    {
     "name": "stderr",
     "output_type": "stream",
     "text": [
      "39GJ.L: Period '1mo' is invalid, must be one of ['1d', '5d']\n"
     ]
    },
    {
     "name": "stdout",
     "output_type": "stream",
     "text": [
      "No new data found for 39GJ.L since 2019-01-23. Skipping...\n"
     ]
    },
    {
     "name": "stderr",
     "output_type": "stream",
     "text": [
      "GPVAN022.L: Period '1mo' is invalid, must be one of ['1d', '5d']\n"
     ]
    },
    {
     "name": "stdout",
     "output_type": "stream",
     "text": [
      "No new data found for GPVAN022.L since 2014-08-02. Skipping...\n"
     ]
    },
    {
     "name": "stderr",
     "output_type": "stream",
     "text": [
      "0DZN.L: No price data found, symbol may be delisted (1d 2024-02-29 -> 2024-03-03)\n"
     ]
    },
    {
     "name": "stdout",
     "output_type": "stream",
     "text": [
      "No new data found for 0DZN.L since 2024-02-29. Skipping...\n"
     ]
    },
    {
     "name": "stderr",
     "output_type": "stream",
     "text": [
      "ASX.L: Period '1mo' is invalid, must be one of ['1d', '5d']\n"
     ]
    },
    {
     "name": "stdout",
     "output_type": "stream",
     "text": [
      "No new data found for ASX.L since 2014-08-02. Skipping...\n"
     ]
    },
    {
     "name": "stderr",
     "output_type": "stream",
     "text": [
      "43FO.L: Period '1mo' is invalid, must be one of ['1d', '5d']\n"
     ]
    },
    {
     "name": "stdout",
     "output_type": "stream",
     "text": [
      "No new data found for 43FO.L since 2019-03-13. Skipping...\n"
     ]
    },
    {
     "name": "stderr",
     "output_type": "stream",
     "text": [
      "GPVAN013.L: Period '1mo' is invalid, must be one of ['1d', '5d']\n"
     ]
    },
    {
     "name": "stdout",
     "output_type": "stream",
     "text": [
      "No new data found for GPVAN013.L since 2014-08-02. Skipping...\n"
     ]
    },
    {
     "name": "stderr",
     "output_type": "stream",
     "text": [
      "ACNANEU.L: Period '1mo' is invalid, must be one of ['1d', '5d']\n"
     ]
    },
    {
     "name": "stdout",
     "output_type": "stream",
     "text": [
      "No new data found for ACNANEU.L since 2014-08-02. Skipping...\n"
     ]
    },
    {
     "name": "stderr",
     "output_type": "stream",
     "text": [
      "64XX.L: Period '1mo' is invalid, must be one of ['1d', '5d']\n"
     ]
    },
    {
     "name": "stdout",
     "output_type": "stream",
     "text": [
      "No new data found for 64XX.L since 2017-09-16. Skipping...\n"
     ]
    },
    {
     "name": "stderr",
     "output_type": "stream",
     "text": [
      "ASXX.L: Period '1mo' is invalid, must be one of ['1d', '5d']\n",
      "SJG.L: Duplicate key 1507705200\n"
     ]
    },
    {
     "name": "stdout",
     "output_type": "stream",
     "text": [
      "No new data found for ASXX.L since 2024-01-27. Skipping...\n",
      "No new data found for SJG.L since 2024-01-31. Skipping...\n"
     ]
    },
    {
     "name": "stderr",
     "output_type": "stream",
     "text": [
      "76PL.L: Period '1mo' is invalid, must be one of ['1d', '5d']\n"
     ]
    },
    {
     "name": "stdout",
     "output_type": "stream",
     "text": [
      "No new data found for 76PL.L since 2019-03-13. Skipping...\n"
     ]
    },
    {
     "name": "stderr",
     "output_type": "stream",
     "text": [
      "0MG0.L: No price data found, symbol may be delisted (1d 2024-01-18 -> 2024-03-03)\n"
     ]
    },
    {
     "name": "stdout",
     "output_type": "stream",
     "text": [
      "No new data found for 0MG0.L since 2024-01-18. Skipping...\n"
     ]
    },
    {
     "name": "stderr",
     "output_type": "stream",
     "text": [
      "R0UK.L: Period '1mo' is invalid, must be one of ['1d', '5d']\n"
     ]
    },
    {
     "name": "stdout",
     "output_type": "stream",
     "text": [
      "No new data found for R0UK.L since 2016-06-30. Skipping...\n"
     ]
    },
    {
     "name": "stderr",
     "output_type": "stream",
     "text": [
      "AWHDY01C.L: Period '1mo' is invalid, must be one of ['1d', '5d']\n"
     ]
    },
    {
     "name": "stdout",
     "output_type": "stream",
     "text": [
      "No new data found for AWHDY01C.L since 2014-08-02. Skipping...\n"
     ]
    },
    {
     "name": "stderr",
     "output_type": "stream",
     "text": [
      "SCDNEU.L: Period '1mo' is invalid, must be one of ['1d', '5d']\n"
     ]
    },
    {
     "name": "stdout",
     "output_type": "stream",
     "text": [
      "No new data found for SCDNEU.L since 2014-08-02. Skipping...\n"
     ]
    },
    {
     "name": "stderr",
     "output_type": "stream",
     "text": [
      "MCXL3X.L: Period '1mo' is invalid, must be one of ['1d', '5d']\n"
     ]
    },
    {
     "name": "stdout",
     "output_type": "stream",
     "text": [
      "No new data found for MCXL3X.L since 2024-01-31. Skipping...\n"
     ]
    },
    {
     "name": "stderr",
     "output_type": "stream",
     "text": [
      "LBS.L: No price data found, symbol may be delisted (1d 2019-10-09 -> 2024-03-03)\n"
     ]
    },
    {
     "name": "stdout",
     "output_type": "stream",
     "text": [
      "No new data found for LBS.L since 2019-10-09. Skipping...\n"
     ]
    },
    {
     "name": "stderr",
     "output_type": "stream",
     "text": [
      "OVZA.L: Period '1mo' is invalid, must be one of ['1d', '5d']\n"
     ]
    },
    {
     "name": "stdout",
     "output_type": "stream",
     "text": [
      "No new data found for OVZA.L since 2023-08-30. Skipping...\n"
     ]
    },
    {
     "name": "stderr",
     "output_type": "stream",
     "text": [
      "67RW.L: Period '1mo' is invalid, must be one of ['1d', '5d']\n"
     ]
    },
    {
     "name": "stdout",
     "output_type": "stream",
     "text": [
      "No new data found for 67RW.L since 2019-01-23. Skipping...\n"
     ]
    },
    {
     "name": "stderr",
     "output_type": "stream",
     "text": [
      "NSX.L: Period '1mo' is invalid, must be one of ['1d', '5d']\n"
     ]
    },
    {
     "name": "stdout",
     "output_type": "stream",
     "text": [
      "No new data found for NSX.L since 2024-01-31. Skipping...\n"
     ]
    },
    {
     "name": "stderr",
     "output_type": "stream",
     "text": [
      "OXA5.L: Period '1mo' is invalid, must be one of ['1d', '5d']\n"
     ]
    },
    {
     "name": "stdout",
     "output_type": "stream",
     "text": [
      "No new data found for OXA5.L since 2023-10-03. Skipping...\n"
     ]
    },
    {
     "name": "stderr",
     "output_type": "stream",
     "text": [
      "SG77.L: No price data found, symbol may be delisted (1d 2020-09-10 -> 2024-03-03)\n"
     ]
    },
    {
     "name": "stdout",
     "output_type": "stream",
     "text": [
      "No new data found for SG77.L since 2020-09-10. Skipping...\n"
     ]
    },
    {
     "name": "stderr",
     "output_type": "stream",
     "text": [
      "72NS.L: Period '1mo' is invalid, must be one of ['1d', '5d']\n"
     ]
    },
    {
     "name": "stdout",
     "output_type": "stream",
     "text": [
      "No new data found for 72NS.L since 2019-01-23. Skipping...\n"
     ]
    },
    {
     "name": "stderr",
     "output_type": "stream",
     "text": [
      "64EQ.L: Period '1mo' is invalid, must be one of ['1d', '5d']\n"
     ]
    },
    {
     "name": "stdout",
     "output_type": "stream",
     "text": [
      "No new data found for 64EQ.L since 2018-09-19. Skipping...\n"
     ]
    },
    {
     "name": "stderr",
     "output_type": "stream",
     "text": [
      "AWDEURSE.L: Period '1mo' is invalid, must be one of ['1d', '5d']\n"
     ]
    },
    {
     "name": "stdout",
     "output_type": "stream",
     "text": [
      "No new data found for AWDEURSE.L since 2014-08-02. Skipping...\n"
     ]
    },
    {
     "name": "stderr",
     "output_type": "stream",
     "text": [
      "76UZ.L: Period '1mo' is invalid, must be one of ['1d', '5d']\n"
     ]
    },
    {
     "name": "stdout",
     "output_type": "stream",
     "text": [
      "No new data found for 76UZ.L since 2017-11-09. Skipping...\n"
     ]
    },
    {
     "name": "stderr",
     "output_type": "stream",
     "text": [
      "LIX.L: Period '1mo' is invalid, must be one of ['1d', '5d']\n"
     ]
    },
    {
     "name": "stdout",
     "output_type": "stream",
     "text": [
      "No new data found for LIX.L since 2024-01-31. Skipping...\n"
     ]
    },
    {
     "name": "stderr",
     "output_type": "stream",
     "text": [
      "TCS.L: No price data found, symbol may be delisted (1d 2024-01-31 -> 2024-03-03)\n"
     ]
    },
    {
     "name": "stdout",
     "output_type": "stream",
     "text": [
      "No new data found for TCS.L since 2024-01-31. Skipping...\n"
     ]
    },
    {
     "name": "stderr",
     "output_type": "stream",
     "text": [
      "69WH.L: Period '1mo' is invalid, must be one of ['1d', '5d']\n"
     ]
    },
    {
     "name": "stdout",
     "output_type": "stream",
     "text": [
      "No new data found for 69WH.L since 2019-01-23. Skipping...\n"
     ]
    },
    {
     "name": "stderr",
     "output_type": "stream",
     "text": [
      "72VH.L: Period '1mo' is invalid, must be one of ['1d', '5d']\n"
     ]
    },
    {
     "name": "stdout",
     "output_type": "stream",
     "text": [
      "No new data found for 72VH.L since 2018-05-23. Skipping...\n"
     ]
    },
    {
     "name": "stderr",
     "output_type": "stream",
     "text": [
      "3EC.L: Period '1mo' is invalid, must be one of ['1d', '5d']\n"
     ]
    },
    {
     "name": "stdout",
     "output_type": "stream",
     "text": [
      "No new data found for 3EC.L since 2016-06-30. Skipping...\n"
     ]
    },
    {
     "name": "stderr",
     "output_type": "stream",
     "text": [
      "HDIV.L: No price data found, symbol may be delisted (1d 2024-01-19 -> 2024-03-03)\n"
     ]
    },
    {
     "name": "stdout",
     "output_type": "stream",
     "text": [
      "No new data found for HDIV.L since 2024-01-19. Skipping...\n"
     ]
    },
    {
     "name": "stderr",
     "output_type": "stream",
     "text": [
      "MCXI2X.L: Period '1mo' is invalid, must be one of ['1d', '5d']\n",
      "43PT.L: Period '1mo' is invalid, must be one of ['1d', '5d']\n"
     ]
    },
    {
     "name": "stdout",
     "output_type": "stream",
     "text": [
      "No new data found for MCXI2X.L since 2024-01-31. Skipping...\n",
      "No new data found for 43PT.L since 2019-02-27. Skipping...\n"
     ]
    },
    {
     "name": "stderr",
     "output_type": "stream",
     "text": [
      "80QT.L: Period '1mo' is invalid, must be one of ['1d', '5d']\n"
     ]
    },
    {
     "name": "stdout",
     "output_type": "stream",
     "text": [
      "No new data found for 80QT.L since 2017-10-20. Skipping...\n"
     ]
    },
    {
     "name": "stderr",
     "output_type": "stream",
     "text": [
      "40EM.L: Period '1mo' is invalid, must be one of ['1d', '5d']\n"
     ]
    },
    {
     "name": "stdout",
     "output_type": "stream",
     "text": [
      "No new data found for 40EM.L since 2017-11-15. Skipping...\n"
     ]
    },
    {
     "name": "stderr",
     "output_type": "stream",
     "text": [
      "AWNT04EU.L: Period '1mo' is invalid, must be one of ['1d', '5d']\n"
     ]
    },
    {
     "name": "stdout",
     "output_type": "stream",
     "text": [
      "No new data found for AWNT04EU.L since 2014-08-02. Skipping...\n"
     ]
    },
    {
     "name": "stderr",
     "output_type": "stream",
     "text": [
      "02NG.L: Period '1mo' is invalid, must be one of ['1d', '5d']\n"
     ]
    },
    {
     "name": "stdout",
     "output_type": "stream",
     "text": [
      "No new data found for 02NG.L since 2019-02-27. Skipping...\n"
     ]
    },
    {
     "name": "stderr",
     "output_type": "stream",
     "text": [
      "44EB.L: Period '1mo' is invalid, must be one of ['1d', '5d']\n"
     ]
    },
    {
     "name": "stdout",
     "output_type": "stream",
     "text": [
      "No new data found for 44EB.L since 2017-11-10. Skipping...\n"
     ]
    },
    {
     "name": "stderr",
     "output_type": "stream",
     "text": [
      "AWNT14UK.L: Period '1mo' is invalid, must be one of ['1d', '5d']\n"
     ]
    },
    {
     "name": "stdout",
     "output_type": "stream",
     "text": [
      "No new data found for AWNT14UK.L since 2024-01-27. Skipping...\n"
     ]
    },
    {
     "name": "stderr",
     "output_type": "stream",
     "text": [
      "42FI.L: Period '1mo' is invalid, must be one of ['1d', '5d']\n"
     ]
    },
    {
     "name": "stdout",
     "output_type": "stream",
     "text": [
      "No new data found for 42FI.L since 2018-11-07. Skipping...\n"
     ]
    },
    {
     "name": "stderr",
     "output_type": "stream",
     "text": [
      "30EF.L: Period '1mo' is invalid, must be one of ['1d', '5d']\n"
     ]
    },
    {
     "name": "stdout",
     "output_type": "stream",
     "text": [
      "No new data found for 30EF.L since 2018-11-14. Skipping...\n"
     ]
    },
    {
     "name": "stderr",
     "output_type": "stream",
     "text": [
      "RI54.L: Period '1mo' is invalid, must be one of ['1d', '5d']\n"
     ]
    },
    {
     "name": "stdout",
     "output_type": "stream",
     "text": [
      "No new data found for RI54.L since 2024-01-24. Skipping...\n"
     ]
    },
    {
     "name": "stderr",
     "output_type": "stream",
     "text": [
      "ATST.L: Duplicate key 1521014400\n"
     ]
    },
    {
     "name": "stdout",
     "output_type": "stream",
     "text": [
      "No new data found for ATST.L since 2024-01-27. Skipping...\n"
     ]
    },
    {
     "name": "stderr",
     "output_type": "stream",
     "text": [
      "88QT.L: Period '1mo' is invalid, must be one of ['1d', '5d']\n"
     ]
    },
    {
     "name": "stdout",
     "output_type": "stream",
     "text": [
      "No new data found for 88QT.L since 2018-11-28. Skipping...\n"
     ]
    },
    {
     "name": "stderr",
     "output_type": "stream",
     "text": [
      "0LVL.L: No price data found, symbol may be delisted (1d 2024-02-16 -> 2024-03-03)\n"
     ]
    },
    {
     "name": "stdout",
     "output_type": "stream",
     "text": [
      "No new data found for 0LVL.L since 2024-02-16. Skipping...\n"
     ]
    },
    {
     "name": "stderr",
     "output_type": "stream",
     "text": [
      "68WN.L: Period '1mo' is invalid, must be one of ['1d', '5d']\n"
     ]
    },
    {
     "name": "stdout",
     "output_type": "stream",
     "text": [
      "No new data found for 68WN.L since 2019-01-16. Skipping...\n"
     ]
    },
    {
     "name": "stderr",
     "output_type": "stream",
     "text": [
      "52TC.L: Period '1mo' is invalid, must be one of ['1d', '5d']\n"
     ]
    },
    {
     "name": "stdout",
     "output_type": "stream",
     "text": [
      "No new data found for 52TC.L since 2019-01-04. Skipping...\n"
     ]
    },
    {
     "name": "stderr",
     "output_type": "stream",
     "text": [
      "GPFF002.L: Period '1mo' is invalid, must be one of ['1d', '5d']\n"
     ]
    },
    {
     "name": "stdout",
     "output_type": "stream",
     "text": [
      "No new data found for GPFF002.L since 2014-08-02. Skipping...\n"
     ]
    },
    {
     "name": "stderr",
     "output_type": "stream",
     "text": [
      "0MYY.L: No price data found, symbol may be delisted (1d 2024-02-16 -> 2024-03-03)\n"
     ]
    },
    {
     "name": "stdout",
     "output_type": "stream",
     "text": [
      "No new data found for 0MYY.L since 2024-02-16. Skipping...\n"
     ]
    },
    {
     "name": "stderr",
     "output_type": "stream",
     "text": [
      "59UI.L: Period '1mo' is invalid, must be one of ['1d', '5d']\n"
     ]
    },
    {
     "name": "stdout",
     "output_type": "stream",
     "text": [
      "No new data found for 59UI.L since 2019-03-07. Skipping...\n"
     ]
    },
    {
     "name": "stderr",
     "output_type": "stream",
     "text": [
      "DX.L: No price data found, symbol may be delisted (1d 2024-01-30 -> 2024-03-03)\n",
      "AWNT05EU.L: Period '1mo' is invalid, must be one of ['1d', '5d']\n"
     ]
    },
    {
     "name": "stdout",
     "output_type": "stream",
     "text": [
      "No new data found for DX.L since 2024-01-30. Skipping...\n",
      "No new data found for AWNT05EU.L since 2014-08-02. Skipping...\n"
     ]
    },
    {
     "name": "stderr",
     "output_type": "stream",
     "text": [
      "54HG.L: Period '1mo' is invalid, must be one of ['1d', '5d']\n"
     ]
    },
    {
     "name": "stdout",
     "output_type": "stream",
     "text": [
      "No new data found for 54HG.L since 2018-10-24. Skipping...\n"
     ]
    },
    {
     "name": "stderr",
     "output_type": "stream",
     "text": [
      "BNR.L: No price data found, symbol may be delisted (1d 2024-02-21 -> 2024-03-03)\n"
     ]
    },
    {
     "name": "stdout",
     "output_type": "stream",
     "text": [
      "No new data found for BNR.L since 2024-02-21. Skipping...\n"
     ]
    },
    {
     "name": "stderr",
     "output_type": "stream",
     "text": [
      "0IID.L: Period '1mo' is invalid, must be one of ['1d', '5d']\n"
     ]
    },
    {
     "name": "stdout",
     "output_type": "stream",
     "text": [
      "No new data found for 0IID.L since 2024-01-27. Skipping...\n"
     ]
    },
    {
     "name": "stderr",
     "output_type": "stream",
     "text": [
      "AWNT01HK.L: Period '1mo' is invalid, must be one of ['1d', '5d']\n"
     ]
    },
    {
     "name": "stdout",
     "output_type": "stream",
     "text": [
      "No new data found for AWNT01HK.L since 2014-08-02. Skipping...\n"
     ]
    },
    {
     "name": "stderr",
     "output_type": "stream",
     "text": [
      "AWDPACXJ.L: Period '1mo' is invalid, must be one of ['1d', '5d']\n"
     ]
    },
    {
     "name": "stdout",
     "output_type": "stream",
     "text": [
      "No new data found for AWDPACXJ.L since 2014-08-02. Skipping...\n"
     ]
    },
    {
     "name": "stderr",
     "output_type": "stream",
     "text": [
      "36EL.L: Period '1mo' is invalid, must be one of ['1d', '5d']\n"
     ]
    },
    {
     "name": "stdout",
     "output_type": "stream",
     "text": [
      "No new data found for 36EL.L since 2019-01-05. Skipping...\n"
     ]
    },
    {
     "name": "stderr",
     "output_type": "stream",
     "text": [
      "SG91.L: No price data found, symbol may be delisted (1d 2020-10-03 -> 2024-03-03)\n"
     ]
    },
    {
     "name": "stdout",
     "output_type": "stream",
     "text": [
      "No new data found for SG91.L since 2020-10-03. Skipping...\n"
     ]
    },
    {
     "name": "stderr",
     "output_type": "stream",
     "text": [
      "0DP0.L: No price data found, symbol may be delisted (1d 2024-02-16 -> 2024-03-03)\n"
     ]
    },
    {
     "name": "stdout",
     "output_type": "stream",
     "text": [
      "No new data found for 0DP0.L since 2024-02-16. Skipping...\n"
     ]
    },
    {
     "name": "stderr",
     "output_type": "stream",
     "text": [
      "AWHDY01E.L: Period '1mo' is invalid, must be one of ['1d', '5d']\n"
     ]
    },
    {
     "name": "stdout",
     "output_type": "stream",
     "text": [
      "No new data found for AWHDY01E.L since 2014-08-02. Skipping...\n"
     ]
    },
    {
     "name": "stderr",
     "output_type": "stream",
     "text": [
      "AWNT05.L: Period '1mo' is invalid, must be one of ['1d', '5d']\n",
      "0J39.L: Period '1mo' is invalid, must be one of ['1d', '5d']\n"
     ]
    },
    {
     "name": "stdout",
     "output_type": "stream",
     "text": [
      "No new data found for AWNT05.L since 2014-08-02. Skipping...\n",
      "No new data found for 0J39.L since 2024-01-27. Skipping...\n"
     ]
    },
    {
     "name": "stderr",
     "output_type": "stream",
     "text": [
      "45CR.L: Period '1mo' is invalid, must be one of ['1d', '5d']\n"
     ]
    },
    {
     "name": "stdout",
     "output_type": "stream",
     "text": [
      "No new data found for 45CR.L since 2017-12-08. Skipping...\n"
     ]
    },
    {
     "name": "stderr",
     "output_type": "stream",
     "text": [
      "JMF.L: No price data found, symbol may be delisted (1d 2024-02-29 -> 2024-03-03)\n"
     ]
    },
    {
     "name": "stdout",
     "output_type": "stream",
     "text": [
      "No new data found for JMF.L since 2024-02-29. Skipping...\n"
     ]
    },
    {
     "name": "stderr",
     "output_type": "stream",
     "text": [
      "NMX.L: Period '1mo' is invalid, must be one of ['1d', '5d']\n"
     ]
    },
    {
     "name": "stdout",
     "output_type": "stream",
     "text": [
      "No new data found for NMX.L since 2014-08-02. Skipping...\n"
     ]
    },
    {
     "name": "stderr",
     "output_type": "stream",
     "text": [
      "38OG.L: Period '1mo' is invalid, must be one of ['1d', '5d']\n"
     ]
    },
    {
     "name": "stdout",
     "output_type": "stream",
     "text": [
      "No new data found for 38OG.L since 2019-01-23. Skipping...\n"
     ]
    },
    {
     "ename": "IndexError",
     "evalue": "index 0 is out of bounds for axis 0 with size 0",
     "output_type": "error",
     "traceback": [
      "\u001b[0;31m---------------------------------------------------------------------------\u001b[0m",
      "\u001b[0;31mIndexError\u001b[0m                                Traceback (most recent call last)",
      "Cell \u001b[0;32mIn[38], line 1\u001b[0m\n\u001b[0;32m----> 1\u001b[0m execute_update_process()\n",
      "Cell \u001b[0;32mIn[37], line 12\u001b[0m, in \u001b[0;36mexecute_update_process\u001b[0;34m()\u001b[0m\n\u001b[1;32m     10\u001b[0m last_date \u001b[38;5;241m=\u001b[39m row[\u001b[38;5;124m'\u001b[39m\u001b[38;5;124mlastdate\u001b[39m\u001b[38;5;124m'\u001b[39m]\n\u001b[1;32m     11\u001b[0m start_date \u001b[38;5;241m=\u001b[39m (pd\u001b[38;5;241m.\u001b[39mto_datetime(last_date) \u001b[38;5;241m+\u001b[39m pd\u001b[38;5;241m.\u001b[39mTimedelta(days\u001b[38;5;241m=\u001b[39m\u001b[38;5;241m1\u001b[39m))\u001b[38;5;241m.\u001b[39mstrftime(\u001b[38;5;124m'\u001b[39m\u001b[38;5;124m%\u001b[39m\u001b[38;5;124mY-\u001b[39m\u001b[38;5;124m%\u001b[39m\u001b[38;5;124mm-\u001b[39m\u001b[38;5;132;01m%d\u001b[39;00m\u001b[38;5;124m'\u001b[39m)\n\u001b[0;32m---> 12\u001b[0m symbol_new_data \u001b[38;5;241m=\u001b[39m fetch_new_stock_data_for_symbol(symbol, start_date)\n\u001b[1;32m     14\u001b[0m \u001b[38;5;28;01mif\u001b[39;00m symbol_new_data\u001b[38;5;241m.\u001b[39mempty:\n\u001b[1;32m     15\u001b[0m     \u001b[38;5;28mprint\u001b[39m(\u001b[38;5;124mf\u001b[39m\u001b[38;5;124m\"\u001b[39m\u001b[38;5;124mNo new data found for \u001b[39m\u001b[38;5;132;01m{\u001b[39;00msymbol\u001b[38;5;132;01m}\u001b[39;00m\u001b[38;5;124m since \u001b[39m\u001b[38;5;132;01m{\u001b[39;00mstart_date\u001b[38;5;132;01m}\u001b[39;00m\u001b[38;5;124m. Skipping...\u001b[39m\u001b[38;5;124m\"\u001b[39m)\n",
      "File \u001b[0;32m~/Desktop/Final Year project Python/Daily_etl.ipynb:11\u001b[0m, in \u001b[0;36mfetch_new_stock_data_for_symbol\u001b[0;34m(symbol, start_date)\u001b[0m\n\u001b[1;32m      1\u001b[0m {\n\u001b[1;32m      2\u001b[0m  \u001b[38;5;124m\"\u001b[39m\u001b[38;5;124mcells\u001b[39m\u001b[38;5;124m\"\u001b[39m: [\n\u001b[1;32m      3\u001b[0m   {\n\u001b[1;32m      4\u001b[0m    \u001b[38;5;124m\"\u001b[39m\u001b[38;5;124mcell_type\u001b[39m\u001b[38;5;124m\"\u001b[39m: \u001b[38;5;124m\"\u001b[39m\u001b[38;5;124mcode\u001b[39m\u001b[38;5;124m\"\u001b[39m,\n\u001b[1;32m      5\u001b[0m    \u001b[38;5;124m\"\u001b[39m\u001b[38;5;124mexecution_count\u001b[39m\u001b[38;5;124m\"\u001b[39m: \u001b[38;5;241m8\u001b[39m,\n\u001b[1;32m      6\u001b[0m    \u001b[38;5;124m\"\u001b[39m\u001b[38;5;124mid\u001b[39m\u001b[38;5;124m\"\u001b[39m: \u001b[38;5;124m\"\u001b[39m\u001b[38;5;124me7a011aa-fed9-4d16-96a6-9a269f8d834e\u001b[39m\u001b[38;5;124m\"\u001b[39m,\n\u001b[1;32m      7\u001b[0m    \u001b[38;5;124m\"\u001b[39m\u001b[38;5;124mmetadata\u001b[39m\u001b[38;5;124m\"\u001b[39m: {\n\u001b[1;32m      8\u001b[0m     \u001b[38;5;124m\"\u001b[39m\u001b[38;5;124mtags\u001b[39m\u001b[38;5;124m\"\u001b[39m: []\n\u001b[1;32m      9\u001b[0m    },\n\u001b[1;32m     10\u001b[0m    \u001b[38;5;124m\"\u001b[39m\u001b[38;5;124moutputs\u001b[39m\u001b[38;5;124m\"\u001b[39m: [],\n\u001b[0;32m---> 11\u001b[0m    \u001b[38;5;124m\"\u001b[39m\u001b[38;5;124msource\u001b[39m\u001b[38;5;124m\"\u001b[39m: [\n\u001b[1;32m     12\u001b[0m     \u001b[38;5;124m\"\u001b[39m\u001b[38;5;124mimport yfinance as yf\u001b[39m\u001b[38;5;130;01m\\n\u001b[39;00m\u001b[38;5;124m\"\u001b[39m,\n\u001b[1;32m     13\u001b[0m     \u001b[38;5;124m\"\u001b[39m\u001b[38;5;124mimport pandas as pd\u001b[39m\u001b[38;5;130;01m\\n\u001b[39;00m\u001b[38;5;124m\"\u001b[39m,\n\u001b[1;32m     14\u001b[0m     \u001b[38;5;124m\"\u001b[39m\u001b[38;5;124mimport psycopg2\u001b[39m\u001b[38;5;130;01m\\n\u001b[39;00m\u001b[38;5;124m\"\u001b[39m,\n\u001b[1;32m     15\u001b[0m     \u001b[38;5;124m\"\u001b[39m\u001b[38;5;124mimport configparser\u001b[39m\u001b[38;5;130;01m\\n\u001b[39;00m\u001b[38;5;124m\"\u001b[39m,\n\u001b[1;32m     16\u001b[0m     \u001b[38;5;124m\"\u001b[39m\u001b[38;5;124mimport datetime\u001b[39m\u001b[38;5;130;01m\\n\u001b[39;00m\u001b[38;5;124m\"\u001b[39m,\n\u001b[1;32m     17\u001b[0m     \u001b[38;5;124m\"\u001b[39m\u001b[38;5;124mfrom datetime import datetime\u001b[39m\u001b[38;5;130;01m\\n\u001b[39;00m\u001b[38;5;124m\"\u001b[39m,\n\u001b[1;32m     18\u001b[0m     \u001b[38;5;124m\"\u001b[39m\u001b[38;5;124mimport nbimporter\u001b[39m\u001b[38;5;130;01m\\n\u001b[39;00m\u001b[38;5;124m\"\u001b[39m,\n\u001b[1;32m     19\u001b[0m     \u001b[38;5;124m\"\u001b[39m\u001b[38;5;124mfrom General import *\u001b[39m\u001b[38;5;130;01m\\n\u001b[39;00m\u001b[38;5;124m\"\u001b[39m,\n\u001b[1;32m     20\u001b[0m     \u001b[38;5;124m\"\u001b[39m\u001b[38;5;124mfrom Functions import *\u001b[39m\u001b[38;5;130;01m\\n\u001b[39;00m\u001b[38;5;124m\"\u001b[39m,\n\u001b[1;32m     21\u001b[0m     \u001b[38;5;124m\"\u001b[39m\u001b[38;5;124mfrom SQL import *\u001b[39m\u001b[38;5;130;01m\\n\u001b[39;00m\u001b[38;5;124m\"\u001b[39m,\n\u001b[1;32m     22\u001b[0m     \u001b[38;5;124m\"\u001b[39m\u001b[38;5;124mfrom Connection_to_pgAdmin4 import *\u001b[39m\u001b[38;5;124m\"\u001b[39m\n\u001b[1;32m     23\u001b[0m    ]\n\u001b[1;32m     24\u001b[0m   },\n\u001b[1;32m     25\u001b[0m   {\n\u001b[1;32m     26\u001b[0m    \u001b[38;5;124m\"\u001b[39m\u001b[38;5;124mcell_type\u001b[39m\u001b[38;5;124m\"\u001b[39m: \u001b[38;5;124m\"\u001b[39m\u001b[38;5;124mcode\u001b[39m\u001b[38;5;124m\"\u001b[39m,\n\u001b[1;32m     27\u001b[0m    \u001b[38;5;124m\"\u001b[39m\u001b[38;5;124mexecution_count\u001b[39m\u001b[38;5;124m\"\u001b[39m: \u001b[38;5;241m9\u001b[39m,\n\u001b[1;32m     28\u001b[0m    \u001b[38;5;124m\"\u001b[39m\u001b[38;5;124mid\u001b[39m\u001b[38;5;124m\"\u001b[39m: \u001b[38;5;124m\"\u001b[39m\u001b[38;5;124ma45288d5-5e4a-4998-869d-44a6b2bdda92\u001b[39m\u001b[38;5;124m\"\u001b[39m,\n\u001b[1;32m     29\u001b[0m    \u001b[38;5;124m\"\u001b[39m\u001b[38;5;124mmetadata\u001b[39m\u001b[38;5;124m\"\u001b[39m: {\n\u001b[1;32m     30\u001b[0m     \u001b[38;5;124m\"\u001b[39m\u001b[38;5;124mtags\u001b[39m\u001b[38;5;124m\"\u001b[39m: []\n\u001b[1;32m     31\u001b[0m    },\n\u001b[1;32m     32\u001b[0m    \u001b[38;5;124m\"\u001b[39m\u001b[38;5;124moutputs\u001b[39m\u001b[38;5;124m\"\u001b[39m: [\n\u001b[1;32m     33\u001b[0m     {\n\u001b[1;32m     34\u001b[0m      \u001b[38;5;124m\"\u001b[39m\u001b[38;5;124mdata\u001b[39m\u001b[38;5;124m\"\u001b[39m: {\n\u001b[1;32m     35\u001b[0m       \u001b[38;5;124m\"\u001b[39m\u001b[38;5;124mtext/plain\u001b[39m\u001b[38;5;124m\"\u001b[39m: [\n\u001b[1;32m     36\u001b[0m        \u001b[38;5;124m\"\u001b[39m\u001b[38;5;124m'\u001b[39m\u001b[38;5;130;01m\\\\\u001b[39;00m\u001b[38;5;124mn\u001b[39m\u001b[38;5;130;01m\\\\\u001b[39;00m\u001b[38;5;124mnThe Python script is designed to automate the process of updating a financial database with the latest stock information.\u001b[39m\u001b[38;5;130;01m\\\\\u001b[39;00m\u001b[38;5;124mnIt begins by connecting to a database to retrieve a list of stock symbols and their last recorded data dates. \u001b[39m\u001b[38;5;130;01m\\\\\u001b[39;00m\u001b[38;5;124mnFor each symbol, it fetches new stock data from Yahoo Finance, starting from the day after the last recorded date until the current date. \u001b[39m\u001b[38;5;130;01m\\\\\u001b[39;00m\u001b[38;5;124mnThis new data includes various financial metrics such as opening price, highest price, lowest price, closing price, volume, dividends, and stock splits. \u001b[39m\u001b[38;5;130;01m\\\\\u001b[39;00m\u001b[38;5;124mnOnce the data is fetched, it is inserted into the source.historical_stock_data table in the database. \u001b[39m\u001b[38;5;130;01m\\\\\u001b[39;00m\u001b[38;5;124mnThe script uses custom functions from imported modules for database connections, data fetching, and SQL operations.\u001b[39m\u001b[38;5;130;01m\\\\\u001b[39;00m\u001b[38;5;124mnIf executed as the main program, the script will carry out the update process from start to finish, provided all the necessary modules and functions are correctly defined and available.\u001b[39m\u001b[38;5;130;01m\\\\\u001b[39;00m\u001b[38;5;124mnThe script includes a user warning about the potential for large data transfers and database modifications.\u001b[39m\u001b[38;5;130;01m\\\\\u001b[39;00m\u001b[38;5;124mn\u001b[39m\u001b[38;5;130;01m\\\\\u001b[39;00m\u001b[38;5;124mn\u001b[39m\u001b[38;5;124m'\u001b[39m\u001b[38;5;124m\"\u001b[39m\n\u001b[1;32m     37\u001b[0m       ]\n\u001b[1;32m     38\u001b[0m      },\n\u001b[1;32m     39\u001b[0m      \u001b[38;5;124m\"\u001b[39m\u001b[38;5;124mexecution_count\u001b[39m\u001b[38;5;124m\"\u001b[39m: \u001b[38;5;241m9\u001b[39m,\n\u001b[1;32m     40\u001b[0m      \u001b[38;5;124m\"\u001b[39m\u001b[38;5;124mmetadata\u001b[39m\u001b[38;5;124m\"\u001b[39m: {},\n\u001b[1;32m     41\u001b[0m      \u001b[38;5;124m\"\u001b[39m\u001b[38;5;124moutput_type\u001b[39m\u001b[38;5;124m\"\u001b[39m: \u001b[38;5;124m\"\u001b[39m\u001b[38;5;124mexecute_result\u001b[39m\u001b[38;5;124m\"\u001b[39m\n\u001b[1;32m     42\u001b[0m     }\n\u001b[1;32m     43\u001b[0m    ],\n\u001b[1;32m     44\u001b[0m    \u001b[38;5;124m\"\u001b[39m\u001b[38;5;124msource\u001b[39m\u001b[38;5;124m\"\u001b[39m: [\n\u001b[1;32m     45\u001b[0m     \u001b[38;5;124m\"\u001b[39m\u001b[38;5;124m'\u001b[39m\u001b[38;5;124m'\u001b[39m\u001b[38;5;124m'\u001b[39m\u001b[38;5;130;01m\\n\u001b[39;00m\u001b[38;5;124m\"\u001b[39m,\n\u001b[1;32m     46\u001b[0m     \u001b[38;5;124m\"\u001b[39m\u001b[38;5;130;01m\\n\u001b[39;00m\u001b[38;5;124m\"\u001b[39m,\n\u001b[1;32m     47\u001b[0m     \u001b[38;5;124m\"\u001b[39m\u001b[38;5;124mThe Python script is designed to automate the process of updating a financial database with the latest stock information.\u001b[39m\u001b[38;5;130;01m\\n\u001b[39;00m\u001b[38;5;124m\"\u001b[39m,\n\u001b[1;32m     48\u001b[0m     \u001b[38;5;124m\"\u001b[39m\u001b[38;5;124mIt begins by connecting to a database to retrieve a list of stock symbols and their last recorded data dates. \u001b[39m\u001b[38;5;130;01m\\n\u001b[39;00m\u001b[38;5;124m\"\u001b[39m,\n\u001b[1;32m     49\u001b[0m     \u001b[38;5;124m\"\u001b[39m\u001b[38;5;124mFor each symbol, it fetches new stock data from Yahoo Finance, starting from the day after the last recorded date until the current date. \u001b[39m\u001b[38;5;130;01m\\n\u001b[39;00m\u001b[38;5;124m\"\u001b[39m,\n\u001b[1;32m     50\u001b[0m     \u001b[38;5;124m\"\u001b[39m\u001b[38;5;124mThis new data includes various financial metrics such as opening price, highest price, lowest price, closing price, volume, dividends, and stock splits. \u001b[39m\u001b[38;5;130;01m\\n\u001b[39;00m\u001b[38;5;124m\"\u001b[39m,\n\u001b[1;32m     51\u001b[0m     \u001b[38;5;124m\"\u001b[39m\u001b[38;5;124mOnce the data is fetched, it is inserted into the source.historical_stock_data table in the database. \u001b[39m\u001b[38;5;130;01m\\n\u001b[39;00m\u001b[38;5;124m\"\u001b[39m,\n\u001b[1;32m     52\u001b[0m     \u001b[38;5;124m\"\u001b[39m\u001b[38;5;124mThe script uses custom functions from imported modules for database connections, data fetching, and SQL operations.\u001b[39m\u001b[38;5;130;01m\\n\u001b[39;00m\u001b[38;5;124m\"\u001b[39m,\n\u001b[1;32m     53\u001b[0m     \u001b[38;5;124m\"\u001b[39m\u001b[38;5;124mIf executed as the main program, the script will carry out the update process from start to finish, provided all the necessary modules and functions are correctly defined and available.\u001b[39m\u001b[38;5;130;01m\\n\u001b[39;00m\u001b[38;5;124m\"\u001b[39m,\n\u001b[1;32m     54\u001b[0m     \u001b[38;5;124m\"\u001b[39m\u001b[38;5;124mThe script includes a user warning about the potential for large data transfers and database modifications.\u001b[39m\u001b[38;5;130;01m\\n\u001b[39;00m\u001b[38;5;124m\"\u001b[39m,\n\u001b[1;32m     55\u001b[0m     \u001b[38;5;124m\"\u001b[39m\u001b[38;5;130;01m\\n\u001b[39;00m\u001b[38;5;124m\"\u001b[39m,\n\u001b[1;32m     56\u001b[0m     \u001b[38;5;124m\"\u001b[39m\u001b[38;5;124m'\u001b[39m\u001b[38;5;124m'\u001b[39m\u001b[38;5;124m'\u001b[39m\u001b[38;5;124m\"\u001b[39m\n\u001b[1;32m     57\u001b[0m    ]\n\u001b[1;32m     58\u001b[0m   },\n\u001b[1;32m     59\u001b[0m   {\n\u001b[1;32m     60\u001b[0m    \u001b[38;5;124m\"\u001b[39m\u001b[38;5;124mcell_type\u001b[39m\u001b[38;5;124m\"\u001b[39m: \u001b[38;5;124m\"\u001b[39m\u001b[38;5;124mcode\u001b[39m\u001b[38;5;124m\"\u001b[39m,\n\u001b[1;32m     61\u001b[0m    \u001b[38;5;124m\"\u001b[39m\u001b[38;5;124mexecution_count\u001b[39m\u001b[38;5;124m\"\u001b[39m: \u001b[38;5;241m10\u001b[39m,\n\u001b[1;32m     62\u001b[0m    \u001b[38;5;124m\"\u001b[39m\u001b[38;5;124mid\u001b[39m\u001b[38;5;124m\"\u001b[39m: \u001b[38;5;124m\"\u001b[39m\u001b[38;5;124mc587b209-2573-4dbd-8ca1-9eb7e087a9b4\u001b[39m\u001b[38;5;124m\"\u001b[39m,\n\u001b[1;32m     63\u001b[0m    \u001b[38;5;124m\"\u001b[39m\u001b[38;5;124mmetadata\u001b[39m\u001b[38;5;124m\"\u001b[39m: {},\n\u001b[1;32m     64\u001b[0m    \u001b[38;5;124m\"\u001b[39m\u001b[38;5;124moutputs\u001b[39m\u001b[38;5;124m\"\u001b[39m: [],\n\u001b[1;32m     65\u001b[0m    \u001b[38;5;124m\"\u001b[39m\u001b[38;5;124msource\u001b[39m\u001b[38;5;124m\"\u001b[39m: [\n\u001b[1;32m     66\u001b[0m     \u001b[38;5;124m\"\u001b[39m\u001b[38;5;124m#*****************\u001b[39m\u001b[38;5;130;01m\\n\u001b[39;00m\u001b[38;5;124m\"\u001b[39m,\n\u001b[1;32m     67\u001b[0m     \u001b[38;5;124m\"\u001b[39m\u001b[38;5;124m#This function reads the data from the facts.dates_of_stock_info\u001b[39m\u001b[38;5;130;01m\\n\u001b[39;00m\u001b[38;5;124m\"\u001b[39m,\n\u001b[1;32m     68\u001b[0m     \u001b[38;5;124m\"\u001b[39m\u001b[38;5;124m#Repeatable\u001b[39m\u001b[38;5;130;01m\\n\u001b[39;00m\u001b[38;5;124m\"\u001b[39m,\n\u001b[1;32m     69\u001b[0m     \u001b[38;5;124m\"\u001b[39m\u001b[38;5;124m#*****************\u001b[39m\u001b[38;5;130;01m\\n\u001b[39;00m\u001b[38;5;124m\"\u001b[39m,\n\u001b[1;32m     70\u001b[0m     \u001b[38;5;124m\"\u001b[39m\u001b[38;5;130;01m\\n\u001b[39;00m\u001b[38;5;124m\"\u001b[39m,\n\u001b[1;32m     71\u001b[0m     \u001b[38;5;124m\"\u001b[39m\u001b[38;5;124m#Reference cell D Name\u001b[39m\u001b[38;5;130;01m\\n\u001b[39;00m\u001b[38;5;124m\"\u001b[39m,\n\u001b[1;32m     72\u001b[0m     \u001b[38;5;124m\"\u001b[39m\u001b[38;5;124mdef fetch_symbols_and_last_dates():\u001b[39m\u001b[38;5;130;01m\\n\u001b[39;00m\u001b[38;5;124m\"\u001b[39m,\n\u001b[1;32m     73\u001b[0m     \u001b[38;5;124m\"\u001b[39m\u001b[38;5;124m    connection = connect_to_database()\u001b[39m\u001b[38;5;130;01m\\n\u001b[39;00m\u001b[38;5;124m\"\u001b[39m,\n\u001b[1;32m     74\u001b[0m     \u001b[38;5;124m\"\u001b[39m\u001b[38;5;124m    if connection:\u001b[39m\u001b[38;5;130;01m\\n\u001b[39;00m\u001b[38;5;124m\"\u001b[39m,\n\u001b[1;32m     75\u001b[0m     \u001b[38;5;124m\"\u001b[39m\u001b[38;5;124m        try:\u001b[39m\u001b[38;5;130;01m\\n\u001b[39;00m\u001b[38;5;124m\"\u001b[39m,\n\u001b[1;32m     76\u001b[0m     \u001b[38;5;124m\"\u001b[39m\u001b[38;5;124m            query = \u001b[39m\u001b[38;5;130;01m\\\"\u001b[39;00m\u001b[38;5;130;01m\\\"\u001b[39;00m\u001b[38;5;130;01m\\\"\u001b[39;00m\u001b[38;5;130;01m\\n\u001b[39;00m\u001b[38;5;124m\"\u001b[39m,\n\u001b[1;32m     77\u001b[0m     \u001b[38;5;124m\"\u001b[39m\u001b[38;5;124m            SELECT symbol, lastdate\u001b[39m\u001b[38;5;130;01m\\n\u001b[39;00m\u001b[38;5;124m\"\u001b[39m,\n\u001b[1;32m     78\u001b[0m     \u001b[38;5;124m\"\u001b[39m\u001b[38;5;124m            FROM facts.dates_of_stock_info;\u001b[39m\u001b[38;5;130;01m\\n\u001b[39;00m\u001b[38;5;124m\"\u001b[39m,\n\u001b[1;32m     79\u001b[0m     \u001b[38;5;124m\"\u001b[39m\u001b[38;5;124m            \u001b[39m\u001b[38;5;130;01m\\\"\u001b[39;00m\u001b[38;5;130;01m\\\"\u001b[39;00m\u001b[38;5;130;01m\\\"\u001b[39;00m\u001b[38;5;130;01m\\n\u001b[39;00m\u001b[38;5;124m\"\u001b[39m,\n\u001b[1;32m     80\u001b[0m     \u001b[38;5;124m\"\u001b[39m\u001b[38;5;124m            symbols_dates_df = pd.read_sql(query, connection)\u001b[39m\u001b[38;5;130;01m\\n\u001b[39;00m\u001b[38;5;124m\"\u001b[39m,\n\u001b[1;32m     81\u001b[0m     \u001b[38;5;124m\"\u001b[39m\u001b[38;5;124m            return symbols_dates_df\u001b[39m\u001b[38;5;130;01m\\n\u001b[39;00m\u001b[38;5;124m\"\u001b[39m,\n\u001b[1;32m     82\u001b[0m     \u001b[38;5;124m\"\u001b[39m\u001b[38;5;124m        except (Exception, psycopg2.Error) as error:\u001b[39m\u001b[38;5;130;01m\\n\u001b[39;00m\u001b[38;5;124m\"\u001b[39m,\n\u001b[1;32m     83\u001b[0m     \u001b[38;5;124m\"\u001b[39m\u001b[38;5;124m            print(f\u001b[39m\u001b[38;5;130;01m\\\"\u001b[39;00m\u001b[38;5;124mError fetching symbols and dates: \u001b[39m\u001b[38;5;132;01m{error}\u001b[39;00m\u001b[38;5;130;01m\\\"\u001b[39;00m\u001b[38;5;124m)\u001b[39m\u001b[38;5;130;01m\\n\u001b[39;00m\u001b[38;5;124m\"\u001b[39m,\n\u001b[1;32m     84\u001b[0m     \u001b[38;5;124m\"\u001b[39m\u001b[38;5;124m        finally:\u001b[39m\u001b[38;5;130;01m\\n\u001b[39;00m\u001b[38;5;124m\"\u001b[39m,\n\u001b[1;32m     85\u001b[0m     \u001b[38;5;124m\"\u001b[39m\u001b[38;5;124m            connection.close()\u001b[39m\u001b[38;5;130;01m\\n\u001b[39;00m\u001b[38;5;124m\"\u001b[39m,\n\u001b[1;32m     86\u001b[0m     \u001b[38;5;124m\"\u001b[39m\u001b[38;5;124m            print(symbols_dates_df)\u001b[39m\u001b[38;5;130;01m\\n\u001b[39;00m\u001b[38;5;124m\"\u001b[39m,\n\u001b[1;32m     87\u001b[0m     \u001b[38;5;124m\"\u001b[39m\u001b[38;5;130;01m\\n\u001b[39;00m\u001b[38;5;124m\"\u001b[39m,\n\u001b[1;32m     88\u001b[0m     \u001b[38;5;124m\"\u001b[39m\u001b[38;5;124m#symbols_dates_df = fetch_symbols_and_last_dates()\u001b[39m\u001b[38;5;130;01m\\n\u001b[39;00m\u001b[38;5;124m\"\u001b[39m,\n\u001b[1;32m     89\u001b[0m     \u001b[38;5;124m\"\u001b[39m\u001b[38;5;130;01m\\n\u001b[39;00m\u001b[38;5;124m\"\u001b[39m\n\u001b[1;32m     90\u001b[0m    ]\n\u001b[1;32m     91\u001b[0m   },\n\u001b[1;32m     92\u001b[0m   {\n\u001b[1;32m     93\u001b[0m    \u001b[38;5;124m\"\u001b[39m\u001b[38;5;124mcell_type\u001b[39m\u001b[38;5;124m\"\u001b[39m: \u001b[38;5;124m\"\u001b[39m\u001b[38;5;124mcode\u001b[39m\u001b[38;5;124m\"\u001b[39m,\n\u001b[1;32m     94\u001b[0m    \u001b[38;5;124m\"\u001b[39m\u001b[38;5;124mexecution_count\u001b[39m\u001b[38;5;124m\"\u001b[39m: \u001b[38;5;241m13\u001b[39m,\n\u001b[1;32m     95\u001b[0m    \u001b[38;5;124m\"\u001b[39m\u001b[38;5;124mid\u001b[39m\u001b[38;5;124m\"\u001b[39m: \u001b[38;5;124m\"\u001b[39m\u001b[38;5;124mde25a67c-8710-447e-9bba-9d4fbade59b3\u001b[39m\u001b[38;5;124m\"\u001b[39m,\n\u001b[1;32m     96\u001b[0m    \u001b[38;5;124m\"\u001b[39m\u001b[38;5;124mmetadata\u001b[39m\u001b[38;5;124m\"\u001b[39m: {\n\u001b[1;32m     97\u001b[0m     \u001b[38;5;124m\"\u001b[39m\u001b[38;5;124mtags\u001b[39m\u001b[38;5;124m\"\u001b[39m: []\n\u001b[1;32m     98\u001b[0m    },\n\u001b[1;32m     99\u001b[0m    \u001b[38;5;124m\"\u001b[39m\u001b[38;5;124moutputs\u001b[39m\u001b[38;5;124m\"\u001b[39m: [],\n\u001b[1;32m    100\u001b[0m    \u001b[38;5;124m\"\u001b[39m\u001b[38;5;124msource\u001b[39m\u001b[38;5;124m\"\u001b[39m: [\n\u001b[1;32m    101\u001b[0m     \u001b[38;5;124m\"\u001b[39m\u001b[38;5;124m#*****************\u001b[39m\u001b[38;5;130;01m\\n\u001b[39;00m\u001b[38;5;124m\"\u001b[39m,\n\u001b[1;32m    102\u001b[0m     \u001b[38;5;124m\"\u001b[39m\u001b[38;5;124m#This function reads the data from the facts.dates_of_stock_info and compares the dates \u001b[39m\u001b[38;5;130;01m\\n\u001b[39;00m\u001b[38;5;124m\"\u001b[39m,\n\u001b[1;32m    103\u001b[0m     \u001b[38;5;124m\"\u001b[39m\u001b[38;5;124m#Repeatable\u001b[39m\u001b[38;5;130;01m\\n\u001b[39;00m\u001b[38;5;124m\"\u001b[39m,\n\u001b[1;32m    104\u001b[0m     \u001b[38;5;124m\"\u001b[39m\u001b[38;5;124m#*****************\u001b[39m\u001b[38;5;130;01m\\n\u001b[39;00m\u001b[38;5;124m\"\u001b[39m,\n\u001b[1;32m    105\u001b[0m     \u001b[38;5;124m\"\u001b[39m\u001b[38;5;130;01m\\n\u001b[39;00m\u001b[38;5;124m\"\u001b[39m,\n\u001b[1;32m    106\u001b[0m     \u001b[38;5;124m\"\u001b[39m\u001b[38;5;124m#Reference cell E Name\u001b[39m\u001b[38;5;130;01m\\n\u001b[39;00m\u001b[38;5;124m\"\u001b[39m,\n\u001b[1;32m    107\u001b[0m     \u001b[38;5;124m\"\u001b[39m\u001b[38;5;124mdef fetch_new_stock_data_for_symbol(symbol, start_date):\u001b[39m\u001b[38;5;130;01m\\n\u001b[39;00m\u001b[38;5;124m\"\u001b[39m,\n\u001b[1;32m    108\u001b[0m     \u001b[38;5;124m\"\u001b[39m\u001b[38;5;124m    from datetime import datetime\u001b[39m\u001b[38;5;130;01m\\n\u001b[39;00m\u001b[38;5;124m\"\u001b[39m,\n\u001b[1;32m    109\u001b[0m     \u001b[38;5;124m\"\u001b[39m\u001b[38;5;124m    end_date = datetime.now().strftime(\u001b[39m\u001b[38;5;124m'\u001b[39m\u001b[38;5;124m%\u001b[39m\u001b[38;5;124mY-\u001b[39m\u001b[38;5;124m%\u001b[39m\u001b[38;5;124mm-\u001b[39m\u001b[38;5;132;01m%d\u001b[39;00m\u001b[38;5;124m'\u001b[39m\u001b[38;5;124m)\u001b[39m\u001b[38;5;130;01m\\n\u001b[39;00m\u001b[38;5;124m\"\u001b[39m,\n\u001b[1;32m    110\u001b[0m     \u001b[38;5;124m\"\u001b[39m\u001b[38;5;124m    stock = yf.Ticker(symbol)\u001b[39m\u001b[38;5;130;01m\\n\u001b[39;00m\u001b[38;5;124m\"\u001b[39m,\n\u001b[1;32m    111\u001b[0m     \u001b[38;5;124m\"\u001b[39m\u001b[38;5;124m    new_data = stock.history(start=start_date, end=end_date)\u001b[39m\u001b[38;5;130;01m\\n\u001b[39;00m\u001b[38;5;124m\"\u001b[39m,\n\u001b[1;32m    112\u001b[0m     \u001b[38;5;124m\"\u001b[39m\u001b[38;5;124m    new_data.reset_index(inplace=True)\u001b[39m\u001b[38;5;130;01m\\n\u001b[39;00m\u001b[38;5;124m\"\u001b[39m,\n\u001b[1;32m    113\u001b[0m     \u001b[38;5;124m\"\u001b[39m\u001b[38;5;124m    new_data[\u001b[39m\u001b[38;5;124m'\u001b[39m\u001b[38;5;124mSymbol\u001b[39m\u001b[38;5;124m'\u001b[39m\u001b[38;5;124m] = symbol\u001b[39m\u001b[38;5;130;01m\\n\u001b[39;00m\u001b[38;5;124m\"\u001b[39m,\n\u001b[1;32m    114\u001b[0m     \u001b[38;5;124m\"\u001b[39m\u001b[38;5;124m    return new_data\u001b[39m\u001b[38;5;130;01m\\n\u001b[39;00m\u001b[38;5;124m\"\u001b[39m,\n\u001b[1;32m    115\u001b[0m     \u001b[38;5;124m\"\u001b[39m\u001b[38;5;130;01m\\n\u001b[39;00m\u001b[38;5;124m\"\u001b[39m\n\u001b[1;32m    116\u001b[0m    ]\n\u001b[1;32m    117\u001b[0m   },\n\u001b[1;32m    118\u001b[0m   {\n\u001b[1;32m    119\u001b[0m    \u001b[38;5;124m\"\u001b[39m\u001b[38;5;124mcell_type\u001b[39m\u001b[38;5;124m\"\u001b[39m: \u001b[38;5;124m\"\u001b[39m\u001b[38;5;124mcode\u001b[39m\u001b[38;5;124m\"\u001b[39m,\n\u001b[1;32m    120\u001b[0m    \u001b[38;5;124m\"\u001b[39m\u001b[38;5;124mexecution_count\u001b[39m\u001b[38;5;124m\"\u001b[39m: \u001b[38;5;241m12\u001b[39m,\n\u001b[1;32m    121\u001b[0m    \u001b[38;5;124m\"\u001b[39m\u001b[38;5;124mid\u001b[39m\u001b[38;5;124m\"\u001b[39m: \u001b[38;5;124m\"\u001b[39m\u001b[38;5;124mfbb59af4-bf6f-4e2c-90a3-1e29712bcff2\u001b[39m\u001b[38;5;124m\"\u001b[39m,\n\u001b[1;32m    122\u001b[0m    \u001b[38;5;124m\"\u001b[39m\u001b[38;5;124mmetadata\u001b[39m\u001b[38;5;124m\"\u001b[39m: {\n\u001b[1;32m    123\u001b[0m     \u001b[38;5;124m\"\u001b[39m\u001b[38;5;124mtags\u001b[39m\u001b[38;5;124m\"\u001b[39m: []\n\u001b[1;32m    124\u001b[0m    },\n\u001b[1;32m    125\u001b[0m    \u001b[38;5;124m\"\u001b[39m\u001b[38;5;124moutputs\u001b[39m\u001b[38;5;124m\"\u001b[39m: [\n\u001b[1;32m    126\u001b[0m     {\n\u001b[1;32m    127\u001b[0m      \u001b[38;5;124m\"\u001b[39m\u001b[38;5;124mname\u001b[39m\u001b[38;5;124m\"\u001b[39m: \u001b[38;5;124m\"\u001b[39m\u001b[38;5;124mstderr\u001b[39m\u001b[38;5;124m\"\u001b[39m,\n\u001b[1;32m    128\u001b[0m      \u001b[38;5;124m\"\u001b[39m\u001b[38;5;124moutput_type\u001b[39m\u001b[38;5;124m\"\u001b[39m: \u001b[38;5;124m\"\u001b[39m\u001b[38;5;124mstream\u001b[39m\u001b[38;5;124m\"\u001b[39m,\n\u001b[1;32m    129\u001b[0m      \u001b[38;5;124m\"\u001b[39m\u001b[38;5;124mtext\u001b[39m\u001b[38;5;124m\"\u001b[39m: [\n\u001b[1;32m    130\u001b[0m       \u001b[38;5;124m\"\u001b[39m\u001b[38;5;124m/var/folders/9l/q47vm9y51kd6dzhzbt4sppmr0000gq/T/ipykernel_12810/3148596085.py:15: UserWarning: pandas only supports SQLAlchemy connectable (engine/connection) or database string URI or sqlite3 DBAPI2 connection. Other DBAPI2 objects are not tested. Please consider using SQLAlchemy.\u001b[39m\u001b[38;5;130;01m\\n\u001b[39;00m\u001b[38;5;124m\"\u001b[39m,\n\u001b[1;32m    131\u001b[0m       \u001b[38;5;124m\"\u001b[39m\u001b[38;5;124m  symbols_dates_df = pd.read_sql(query, connection)\u001b[39m\u001b[38;5;130;01m\\n\u001b[39;00m\u001b[38;5;124m\"\u001b[39m\n\u001b[1;32m    132\u001b[0m      ]\n\u001b[1;32m    133\u001b[0m     },\n\u001b[1;32m    134\u001b[0m     {\n\u001b[1;32m    135\u001b[0m      \u001b[38;5;124m\"\u001b[39m\u001b[38;5;124mname\u001b[39m\u001b[38;5;124m\"\u001b[39m: \u001b[38;5;124m\"\u001b[39m\u001b[38;5;124mstdout\u001b[39m\u001b[38;5;124m\"\u001b[39m,\n\u001b[1;32m    136\u001b[0m      \u001b[38;5;124m\"\u001b[39m\u001b[38;5;124moutput_type\u001b[39m\u001b[38;5;124m\"\u001b[39m: \u001b[38;5;124m\"\u001b[39m\u001b[38;5;124mstream\u001b[39m\u001b[38;5;124m\"\u001b[39m,\n\u001b[1;32m    137\u001b[0m      \u001b[38;5;124m\"\u001b[39m\u001b[38;5;124mtext\u001b[39m\u001b[38;5;124m\"\u001b[39m: [\n\u001b[1;32m    138\u001b[0m       \u001b[38;5;124m\"\u001b[39m\u001b[38;5;124m      symbol    lastdate\u001b[39m\u001b[38;5;130;01m\\n\u001b[39;00m\u001b[38;5;124m\"\u001b[39m,\n\u001b[1;32m    139\u001b[0m       \u001b[38;5;124m\"\u001b[39m\u001b[38;5;124m0     XUEK.L  2024-02-28\u001b[39m\u001b[38;5;130;01m\\n\u001b[39;00m\u001b[38;5;124m\"\u001b[39m,\n\u001b[1;32m    140\u001b[0m       \u001b[38;5;124m\"\u001b[39m\u001b[38;5;124m1     0NOL.L  2024-02-29\u001b[39m\u001b[38;5;130;01m\\n\u001b[39;00m\u001b[38;5;124m\"\u001b[39m,\n\u001b[1;32m    141\u001b[0m       \u001b[38;5;124m\"\u001b[39m\u001b[38;5;124m2     0KVR.L  2024-02-29\u001b[39m\u001b[38;5;130;01m\\n\u001b[39;00m\u001b[38;5;124m\"\u001b[39m,\n\u001b[1;32m    142\u001b[0m       \u001b[38;5;124m\"\u001b[39m\u001b[38;5;124m3     ASIT.L  2024-02-29\u001b[39m\u001b[38;5;130;01m\\n\u001b[39;00m\u001b[38;5;124m\"\u001b[39m,\n\u001b[1;32m    143\u001b[0m       \u001b[38;5;124m\"\u001b[39m\u001b[38;5;124m4     N30X.L  2014-08-01\u001b[39m\u001b[38;5;130;01m\\n\u001b[39;00m\u001b[38;5;124m\"\u001b[39m,\n\u001b[1;32m    144\u001b[0m       \u001b[38;5;124m\"\u001b[39m\u001b[38;5;124m...      ...         ...\u001b[39m\u001b[38;5;130;01m\\n\u001b[39;00m\u001b[38;5;124m\"\u001b[39m,\n\u001b[1;32m    145\u001b[0m       \u001b[38;5;124m\"\u001b[39m\u001b[38;5;124m4868   CLA.L  2024-02-29\u001b[39m\u001b[38;5;130;01m\\n\u001b[39;00m\u001b[38;5;124m\"\u001b[39m,\n\u001b[1;32m    146\u001b[0m       \u001b[38;5;124m\"\u001b[39m\u001b[38;5;124m4869  UC87.L  2024-02-29\u001b[39m\u001b[38;5;130;01m\\n\u001b[39;00m\u001b[38;5;124m\"\u001b[39m,\n\u001b[1;32m    147\u001b[0m       \u001b[38;5;124m\"\u001b[39m\u001b[38;5;124m4870   EUA.L  2024-02-29\u001b[39m\u001b[38;5;130;01m\\n\u001b[39;00m\u001b[38;5;124m\"\u001b[39m,\n\u001b[1;32m    148\u001b[0m       \u001b[38;5;124m\"\u001b[39m\u001b[38;5;124m4871   ROR.L  2024-02-29\u001b[39m\u001b[38;5;130;01m\\n\u001b[39;00m\u001b[38;5;124m\"\u001b[39m,\n\u001b[1;32m    149\u001b[0m       \u001b[38;5;124m\"\u001b[39m\u001b[38;5;124m4872  0HOB.L  2024-02-29\u001b[39m\u001b[38;5;130;01m\\n\u001b[39;00m\u001b[38;5;124m\"\u001b[39m,\n\u001b[1;32m    150\u001b[0m       \u001b[38;5;124m\"\u001b[39m\u001b[38;5;130;01m\\n\u001b[39;00m\u001b[38;5;124m\"\u001b[39m,\n\u001b[1;32m    151\u001b[0m       \u001b[38;5;124m\"\u001b[39m\u001b[38;5;124m[4873 rows x 2 columns]\u001b[39m\u001b[38;5;130;01m\\n\u001b[39;00m\u001b[38;5;124m\"\u001b[39m\n\u001b[1;32m    152\u001b[0m      ]\n\u001b[1;32m    153\u001b[0m     },\n\u001b[1;32m    154\u001b[0m     {\n\u001b[1;32m    155\u001b[0m      \u001b[38;5;124m\"\u001b[39m\u001b[38;5;124mename\u001b[39m\u001b[38;5;124m\"\u001b[39m: \u001b[38;5;124m\"\u001b[39m\u001b[38;5;124mKeyboardInterrupt\u001b[39m\u001b[38;5;124m\"\u001b[39m,\n\u001b[1;32m    156\u001b[0m      \u001b[38;5;124m\"\u001b[39m\u001b[38;5;124mevalue\u001b[39m\u001b[38;5;124m\"\u001b[39m: \u001b[38;5;124m\"\u001b[39m\u001b[38;5;124m\"\u001b[39m,\n\u001b[1;32m    157\u001b[0m      \u001b[38;5;124m\"\u001b[39m\u001b[38;5;124moutput_type\u001b[39m\u001b[38;5;124m\"\u001b[39m: \u001b[38;5;124m\"\u001b[39m\u001b[38;5;124merror\u001b[39m\u001b[38;5;124m\"\u001b[39m,\n\u001b[1;32m    158\u001b[0m      \u001b[38;5;124m\"\u001b[39m\u001b[38;5;124mtraceback\u001b[39m\u001b[38;5;124m\"\u001b[39m: [\n\u001b[1;32m    159\u001b[0m       \u001b[38;5;124m\"\u001b[39m\u001b[38;5;130;01m\\u001b\u001b[39;00m\u001b[38;5;124m[0;31m---------------------------------------------------------------------------\u001b[39m\u001b[38;5;130;01m\\u001b\u001b[39;00m\u001b[38;5;124m[0m\u001b[39m\u001b[38;5;124m\"\u001b[39m,\n\u001b[1;32m    160\u001b[0m       \u001b[38;5;124m\"\u001b[39m\u001b[38;5;130;01m\\u001b\u001b[39;00m\u001b[38;5;124m[0;31mKeyboardInterrupt\u001b[39m\u001b[38;5;130;01m\\u001b\u001b[39;00m\u001b[38;5;124m[0m                         Traceback (most recent call last)\u001b[39m\u001b[38;5;124m\"\u001b[39m,\n\u001b[1;32m    161\u001b[0m       \u001b[38;5;124m\"\u001b[39m\u001b[38;5;124mCell \u001b[39m\u001b[38;5;130;01m\\u001b\u001b[39;00m\u001b[38;5;124m[0;32mIn[12], line 29\u001b[39m\u001b[38;5;130;01m\\u001b\u001b[39;00m\u001b[38;5;124m[0m\u001b[39m\u001b[38;5;130;01m\\n\u001b[39;00m\u001b[38;5;130;01m\\u001b\u001b[39;00m\u001b[38;5;124m[1;32m     27\u001b[39m\u001b[38;5;130;01m\\u001b\u001b[39;00m\u001b[38;5;124m[0m     symbol \u001b[39m\u001b[38;5;130;01m\\u001b\u001b[39;00m\u001b[38;5;124m[38;5;241m=\u001b[39m\u001b[38;5;130;01m\\u001b\u001b[39;00m\u001b[38;5;124m[39m row[\u001b[39m\u001b[38;5;130;01m\\u001b\u001b[39;00m\u001b[38;5;124m[38;5;124m\u001b[39m\u001b[38;5;124m'\u001b[39m\u001b[38;5;130;01m\\u001b\u001b[39;00m\u001b[38;5;124m[39m\u001b[39m\u001b[38;5;130;01m\\u001b\u001b[39;00m\u001b[38;5;124m[38;5;124msymbol\u001b[39m\u001b[38;5;130;01m\\u001b\u001b[39;00m\u001b[38;5;124m[39m\u001b[39m\u001b[38;5;130;01m\\u001b\u001b[39;00m\u001b[38;5;124m[38;5;124m\u001b[39m\u001b[38;5;124m'\u001b[39m\u001b[38;5;130;01m\\u001b\u001b[39;00m\u001b[38;5;124m[39m]\u001b[39m\u001b[38;5;130;01m\\n\u001b[39;00m\u001b[38;5;130;01m\\u001b\u001b[39;00m\u001b[38;5;124m[1;32m     28\u001b[39m\u001b[38;5;130;01m\\u001b\u001b[39;00m\u001b[38;5;124m[0m     last_date \u001b[39m\u001b[38;5;130;01m\\u001b\u001b[39;00m\u001b[38;5;124m[38;5;241m=\u001b[39m\u001b[38;5;130;01m\\u001b\u001b[39;00m\u001b[38;5;124m[39m row[\u001b[39m\u001b[38;5;130;01m\\u001b\u001b[39;00m\u001b[38;5;124m[38;5;124m\u001b[39m\u001b[38;5;124m'\u001b[39m\u001b[38;5;130;01m\\u001b\u001b[39;00m\u001b[38;5;124m[39m\u001b[39m\u001b[38;5;130;01m\\u001b\u001b[39;00m\u001b[38;5;124m[38;5;124mlastdate\u001b[39m\u001b[38;5;130;01m\\u001b\u001b[39;00m\u001b[38;5;124m[39m\u001b[39m\u001b[38;5;130;01m\\u001b\u001b[39;00m\u001b[38;5;124m[38;5;124m\u001b[39m\u001b[38;5;124m'\u001b[39m\u001b[38;5;130;01m\\u001b\u001b[39;00m\u001b[38;5;124m[39m] \u001b[39m\u001b[38;5;130;01m\\u001b\u001b[39;00m\u001b[38;5;124m[38;5;241m+\u001b[39m\u001b[38;5;130;01m\\u001b\u001b[39;00m\u001b[38;5;124m[39m pd\u001b[39m\u001b[38;5;130;01m\\u001b\u001b[39;00m\u001b[38;5;124m[38;5;241m.\u001b[39m\u001b[38;5;130;01m\\u001b\u001b[39;00m\u001b[38;5;124m[39mTimedelta(days\u001b[39m\u001b[38;5;130;01m\\u001b\u001b[39;00m\u001b[38;5;124m[38;5;241m=\u001b[39m\u001b[38;5;130;01m\\u001b\u001b[39;00m\u001b[38;5;124m[39m\u001b[39m\u001b[38;5;130;01m\\u001b\u001b[39;00m\u001b[38;5;124m[38;5;241m1\u001b[39m\u001b[38;5;130;01m\\u001b\u001b[39;00m\u001b[38;5;124m[39m)  \u001b[39m\u001b[38;5;130;01m\\u001b\u001b[39;00m\u001b[38;5;124m[38;5;66;03m# Start from the day after the last recorded date\u001b[39m\u001b[38;5;130;01m\\u001b\u001b[39;00m\u001b[38;5;124m[39;00m\u001b[39m\u001b[38;5;130;01m\\n\u001b[39;00m\u001b[38;5;130;01m\\u001b\u001b[39;00m\u001b[38;5;124m[0;32m---> 29\u001b[39m\u001b[38;5;130;01m\\u001b\u001b[39;00m\u001b[38;5;124m[0m     symbol_new_data \u001b[39m\u001b[38;5;130;01m\\u001b\u001b[39;00m\u001b[38;5;124m[38;5;241m=\u001b[39m\u001b[38;5;130;01m\\u001b\u001b[39;00m\u001b[38;5;124m[39m fetch_new_stock_data_for_symbol(symbol, last_date\u001b[39m\u001b[38;5;130;01m\\u001b\u001b[39;00m\u001b[38;5;124m[38;5;241m.\u001b[39m\u001b[38;5;130;01m\\u001b\u001b[39;00m\u001b[38;5;124m[39mstrftime(\u001b[39m\u001b[38;5;130;01m\\u001b\u001b[39;00m\u001b[38;5;124m[38;5;124m\u001b[39m\u001b[38;5;124m'\u001b[39m\u001b[38;5;130;01m\\u001b\u001b[39;00m\u001b[38;5;124m[39m\u001b[39m\u001b[38;5;130;01m\\u001b\u001b[39;00m\u001b[38;5;124m[38;5;124m\u001b[39m\u001b[38;5;124m%\u001b[39m\u001b[38;5;130;01m\\u001b\u001b[39;00m\u001b[38;5;124m[39m\u001b[39m\u001b[38;5;130;01m\\u001b\u001b[39;00m\u001b[38;5;124m[38;5;124mY-\u001b[39m\u001b[38;5;130;01m\\u001b\u001b[39;00m\u001b[38;5;124m[39m\u001b[39m\u001b[38;5;130;01m\\u001b\u001b[39;00m\u001b[38;5;124m[38;5;124m\u001b[39m\u001b[38;5;124m%\u001b[39m\u001b[38;5;130;01m\\u001b\u001b[39;00m\u001b[38;5;124m[39m\u001b[39m\u001b[38;5;130;01m\\u001b\u001b[39;00m\u001b[38;5;124m[38;5;124mm-\u001b[39m\u001b[38;5;130;01m\\u001b\u001b[39;00m\u001b[38;5;124m[39m\u001b[39m\u001b[38;5;130;01m\\u001b\u001b[39;00m\u001b[38;5;124m[38;5;132;01m\u001b[39m\u001b[38;5;132;01m%d\u001b[39;00m\u001b[38;5;130;01m\\u001b\u001b[39;00m\u001b[38;5;124m[39;00m\u001b[39m\u001b[38;5;130;01m\\u001b\u001b[39;00m\u001b[38;5;124m[38;5;124m\u001b[39m\u001b[38;5;124m'\u001b[39m\u001b[38;5;130;01m\\u001b\u001b[39;00m\u001b[38;5;124m[39m))\u001b[39m\u001b[38;5;130;01m\\n\u001b[39;00m\u001b[38;5;130;01m\\u001b\u001b[39;00m\u001b[38;5;124m[1;32m     30\u001b[39m\u001b[38;5;130;01m\\u001b\u001b[39;00m\u001b[38;5;124m[0m     new_stock_data \u001b[39m\u001b[38;5;130;01m\\u001b\u001b[39;00m\u001b[38;5;124m[38;5;241m=\u001b[39m\u001b[38;5;130;01m\\u001b\u001b[39;00m\u001b[38;5;124m[39m pd\u001b[39m\u001b[38;5;130;01m\\u001b\u001b[39;00m\u001b[38;5;124m[38;5;241m.\u001b[39m\u001b[38;5;130;01m\\u001b\u001b[39;00m\u001b[38;5;124m[39mconcat([new_stock_data, symbol_new_data], ignore_index\u001b[39m\u001b[38;5;130;01m\\u001b\u001b[39;00m\u001b[38;5;124m[38;5;241m=\u001b[39m\u001b[38;5;130;01m\\u001b\u001b[39;00m\u001b[38;5;124m[39m\u001b[39m\u001b[38;5;130;01m\\u001b\u001b[39;00m\u001b[38;5;124m[38;5;28;01mTrue\u001b[39m\u001b[38;5;130;01m\\u001b\u001b[39;00m\u001b[38;5;124m[39;00m)\u001b[39m\u001b[38;5;130;01m\\n\u001b[39;00m\u001b[38;5;130;01m\\u001b\u001b[39;00m\u001b[38;5;124m[1;32m     31\u001b[39m\u001b[38;5;130;01m\\u001b\u001b[39;00m\u001b[38;5;124m[0m \u001b[39m\u001b[38;5;130;01m\\u001b\u001b[39;00m\u001b[38;5;124m[38;5;28;01mif\u001b[39m\u001b[38;5;130;01m\\u001b\u001b[39;00m\u001b[38;5;124m[39;00m \u001b[39m\u001b[38;5;130;01m\\u001b\u001b[39;00m\u001b[38;5;124m[38;5;129;01mnot\u001b[39m\u001b[38;5;130;01m\\u001b\u001b[39;00m\u001b[38;5;124m[39;00m new_stock_data\u001b[39m\u001b[38;5;130;01m\\u001b\u001b[39;00m\u001b[38;5;124m[38;5;241m.\u001b[39m\u001b[38;5;130;01m\\u001b\u001b[39;00m\u001b[38;5;124m[39mempty:\u001b[39m\u001b[38;5;130;01m\\n\u001b[39;00m\u001b[38;5;124m\"\u001b[39m,\n\u001b[1;32m    162\u001b[0m       \u001b[38;5;124m\"\u001b[39m\u001b[38;5;124mCell \u001b[39m\u001b[38;5;130;01m\\u001b\u001b[39;00m\u001b[38;5;124m[0;32mIn[11], line 10\u001b[39m\u001b[38;5;130;01m\\u001b\u001b[39;00m\u001b[38;5;124m[0m, in \u001b[39m\u001b[38;5;130;01m\\u001b\u001b[39;00m\u001b[38;5;124m[0;36mfetch_new_stock_data_for_symbol\u001b[39m\u001b[38;5;130;01m\\u001b\u001b[39;00m\u001b[38;5;124m[0;34m(symbol, start_date)\u001b[39m\u001b[38;5;130;01m\\u001b\u001b[39;00m\u001b[38;5;124m[0m\u001b[39m\u001b[38;5;130;01m\\n\u001b[39;00m\u001b[38;5;130;01m\\u001b\u001b[39;00m\u001b[38;5;124m[1;32m      8\u001b[39m\u001b[38;5;130;01m\\u001b\u001b[39;00m\u001b[38;5;124m[0m end_date \u001b[39m\u001b[38;5;130;01m\\u001b\u001b[39;00m\u001b[38;5;124m[38;5;241m=\u001b[39m\u001b[38;5;130;01m\\u001b\u001b[39;00m\u001b[38;5;124m[39m datetime\u001b[39m\u001b[38;5;130;01m\\u001b\u001b[39;00m\u001b[38;5;124m[38;5;241m.\u001b[39m\u001b[38;5;130;01m\\u001b\u001b[39;00m\u001b[38;5;124m[39mnow()\u001b[39m\u001b[38;5;130;01m\\u001b\u001b[39;00m\u001b[38;5;124m[38;5;241m.\u001b[39m\u001b[38;5;130;01m\\u001b\u001b[39;00m\u001b[38;5;124m[39mstrftime(\u001b[39m\u001b[38;5;130;01m\\u001b\u001b[39;00m\u001b[38;5;124m[38;5;124m\u001b[39m\u001b[38;5;124m'\u001b[39m\u001b[38;5;130;01m\\u001b\u001b[39;00m\u001b[38;5;124m[39m\u001b[39m\u001b[38;5;130;01m\\u001b\u001b[39;00m\u001b[38;5;124m[38;5;124m\u001b[39m\u001b[38;5;124m%\u001b[39m\u001b[38;5;130;01m\\u001b\u001b[39;00m\u001b[38;5;124m[39m\u001b[39m\u001b[38;5;130;01m\\u001b\u001b[39;00m\u001b[38;5;124m[38;5;124mY-\u001b[39m\u001b[38;5;130;01m\\u001b\u001b[39;00m\u001b[38;5;124m[39m\u001b[39m\u001b[38;5;130;01m\\u001b\u001b[39;00m\u001b[38;5;124m[38;5;124m\u001b[39m\u001b[38;5;124m%\u001b[39m\u001b[38;5;130;01m\\u001b\u001b[39;00m\u001b[38;5;124m[39m\u001b[39m\u001b[38;5;130;01m\\u001b\u001b[39;00m\u001b[38;5;124m[38;5;124mm-\u001b[39m\u001b[38;5;130;01m\\u001b\u001b[39;00m\u001b[38;5;124m[39m\u001b[39m\u001b[38;5;130;01m\\u001b\u001b[39;00m\u001b[38;5;124m[38;5;132;01m\u001b[39m\u001b[38;5;132;01m%d\u001b[39;00m\u001b[38;5;130;01m\\u001b\u001b[39;00m\u001b[38;5;124m[39;00m\u001b[39m\u001b[38;5;130;01m\\u001b\u001b[39;00m\u001b[38;5;124m[38;5;124m\u001b[39m\u001b[38;5;124m'\u001b[39m\u001b[38;5;130;01m\\u001b\u001b[39;00m\u001b[38;5;124m[39m)\u001b[39m\u001b[38;5;130;01m\\n\u001b[39;00m\u001b[38;5;130;01m\\u001b\u001b[39;00m\u001b[38;5;124m[1;32m      9\u001b[39m\u001b[38;5;130;01m\\u001b\u001b[39;00m\u001b[38;5;124m[0m stock \u001b[39m\u001b[38;5;130;01m\\u001b\u001b[39;00m\u001b[38;5;124m[38;5;241m=\u001b[39m\u001b[38;5;130;01m\\u001b\u001b[39;00m\u001b[38;5;124m[39m yf\u001b[39m\u001b[38;5;130;01m\\u001b\u001b[39;00m\u001b[38;5;124m[38;5;241m.\u001b[39m\u001b[38;5;130;01m\\u001b\u001b[39;00m\u001b[38;5;124m[39mTicker(symbol)\u001b[39m\u001b[38;5;130;01m\\n\u001b[39;00m\u001b[38;5;130;01m\\u001b\u001b[39;00m\u001b[38;5;124m[0;32m---> 10\u001b[39m\u001b[38;5;130;01m\\u001b\u001b[39;00m\u001b[38;5;124m[0m new_data \u001b[39m\u001b[38;5;130;01m\\u001b\u001b[39;00m\u001b[38;5;124m[38;5;241m=\u001b[39m\u001b[38;5;130;01m\\u001b\u001b[39;00m\u001b[38;5;124m[39m stock\u001b[39m\u001b[38;5;130;01m\\u001b\u001b[39;00m\u001b[38;5;124m[38;5;241m.\u001b[39m\u001b[38;5;130;01m\\u001b\u001b[39;00m\u001b[38;5;124m[39mhistory(start\u001b[39m\u001b[38;5;130;01m\\u001b\u001b[39;00m\u001b[38;5;124m[38;5;241m=\u001b[39m\u001b[38;5;130;01m\\u001b\u001b[39;00m\u001b[38;5;124m[39mstart_date, end\u001b[39m\u001b[38;5;130;01m\\u001b\u001b[39;00m\u001b[38;5;124m[38;5;241m=\u001b[39m\u001b[38;5;130;01m\\u001b\u001b[39;00m\u001b[38;5;124m[39mend_date)\u001b[39m\u001b[38;5;130;01m\\n\u001b[39;00m\u001b[38;5;130;01m\\u001b\u001b[39;00m\u001b[38;5;124m[1;32m     11\u001b[39m\u001b[38;5;130;01m\\u001b\u001b[39;00m\u001b[38;5;124m[0m new_data\u001b[39m\u001b[38;5;130;01m\\u001b\u001b[39;00m\u001b[38;5;124m[38;5;241m.\u001b[39m\u001b[38;5;130;01m\\u001b\u001b[39;00m\u001b[38;5;124m[39mreset_index(inplace\u001b[39m\u001b[38;5;130;01m\\u001b\u001b[39;00m\u001b[38;5;124m[38;5;241m=\u001b[39m\u001b[38;5;130;01m\\u001b\u001b[39;00m\u001b[38;5;124m[39m\u001b[39m\u001b[38;5;130;01m\\u001b\u001b[39;00m\u001b[38;5;124m[38;5;28;01mTrue\u001b[39m\u001b[38;5;130;01m\\u001b\u001b[39;00m\u001b[38;5;124m[39;00m)\u001b[39m\u001b[38;5;130;01m\\n\u001b[39;00m\u001b[38;5;130;01m\\u001b\u001b[39;00m\u001b[38;5;124m[1;32m     12\u001b[39m\u001b[38;5;130;01m\\u001b\u001b[39;00m\u001b[38;5;124m[0m new_data[\u001b[39m\u001b[38;5;130;01m\\u001b\u001b[39;00m\u001b[38;5;124m[38;5;124m\u001b[39m\u001b[38;5;124m'\u001b[39m\u001b[38;5;130;01m\\u001b\u001b[39;00m\u001b[38;5;124m[39m\u001b[39m\u001b[38;5;130;01m\\u001b\u001b[39;00m\u001b[38;5;124m[38;5;124mSymbol\u001b[39m\u001b[38;5;130;01m\\u001b\u001b[39;00m\u001b[38;5;124m[39m\u001b[39m\u001b[38;5;130;01m\\u001b\u001b[39;00m\u001b[38;5;124m[38;5;124m\u001b[39m\u001b[38;5;124m'\u001b[39m\u001b[38;5;130;01m\\u001b\u001b[39;00m\u001b[38;5;124m[39m] \u001b[39m\u001b[38;5;130;01m\\u001b\u001b[39;00m\u001b[38;5;124m[38;5;241m=\u001b[39m\u001b[38;5;130;01m\\u001b\u001b[39;00m\u001b[38;5;124m[39m symbol\u001b[39m\u001b[38;5;130;01m\\n\u001b[39;00m\u001b[38;5;124m\"\u001b[39m,\n\u001b[1;32m    163\u001b[0m       \u001b[38;5;124m\"\u001b[39m\u001b[38;5;124mFile \u001b[39m\u001b[38;5;130;01m\\u001b\u001b[39;00m\u001b[38;5;124m[0;32m~/anaconda3/lib/python3.11/site-packages/yfinance/utils.py:103\u001b[39m\u001b[38;5;130;01m\\u001b\u001b[39;00m\u001b[38;5;124m[0m, in \u001b[39m\u001b[38;5;130;01m\\u001b\u001b[39;00m\u001b[38;5;124m[0;36mlog_indent_decorator.<locals>.wrapper\u001b[39m\u001b[38;5;130;01m\\u001b\u001b[39;00m\u001b[38;5;124m[0;34m(*args, **kwargs)\u001b[39m\u001b[38;5;130;01m\\u001b\u001b[39;00m\u001b[38;5;124m[0m\u001b[39m\u001b[38;5;130;01m\\n\u001b[39;00m\u001b[38;5;130;01m\\u001b\u001b[39;00m\u001b[38;5;124m[1;32m    100\u001b[39m\u001b[38;5;130;01m\\u001b\u001b[39;00m\u001b[38;5;124m[0m logger\u001b[39m\u001b[38;5;130;01m\\u001b\u001b[39;00m\u001b[38;5;124m[38;5;241m.\u001b[39m\u001b[38;5;130;01m\\u001b\u001b[39;00m\u001b[38;5;124m[39mdebug(\u001b[39m\u001b[38;5;130;01m\\u001b\u001b[39;00m\u001b[38;5;124m[38;5;124mf\u001b[39m\u001b[38;5;130;01m\\u001b\u001b[39;00m\u001b[38;5;124m[39m\u001b[39m\u001b[38;5;130;01m\\u001b\u001b[39;00m\u001b[38;5;124m[38;5;124m\u001b[39m\u001b[38;5;124m'\u001b[39m\u001b[38;5;130;01m\\u001b\u001b[39;00m\u001b[38;5;124m[39m\u001b[39m\u001b[38;5;130;01m\\u001b\u001b[39;00m\u001b[38;5;124m[38;5;124mEntering \u001b[39m\u001b[38;5;130;01m\\u001b\u001b[39;00m\u001b[38;5;124m[39m\u001b[39m\u001b[38;5;130;01m\\u001b\u001b[39;00m\u001b[38;5;124m[38;5;132;01m\u001b[39m\u001b[38;5;124m{\u001b[39m\u001b[38;5;130;01m\\u001b\u001b[39;00m\u001b[38;5;124m[39;00mfunc\u001b[39m\u001b[38;5;130;01m\\u001b\u001b[39;00m\u001b[38;5;124m[38;5;241m.\u001b[39m\u001b[38;5;130;01m\\u001b\u001b[39;00m\u001b[38;5;124m[39m\u001b[39m\u001b[38;5;130;01m\\u001b\u001b[39;00m\u001b[38;5;124m[38;5;18m__name__\u001b[39m\u001b[38;5;130;01m\\u001b\u001b[39;00m\u001b[38;5;124m[39m\u001b[39m\u001b[38;5;130;01m\\u001b\u001b[39;00m\u001b[38;5;124m[38;5;132;01m}\u001b[39m\u001b[38;5;130;01m\\u001b\u001b[39;00m\u001b[38;5;124m[39;00m\u001b[39m\u001b[38;5;130;01m\\u001b\u001b[39;00m\u001b[38;5;124m[38;5;124m()\u001b[39m\u001b[38;5;130;01m\\u001b\u001b[39;00m\u001b[38;5;124m[39m\u001b[39m\u001b[38;5;130;01m\\u001b\u001b[39;00m\u001b[38;5;124m[38;5;124m\u001b[39m\u001b[38;5;124m'\u001b[39m\u001b[38;5;130;01m\\u001b\u001b[39;00m\u001b[38;5;124m[39m)\u001b[39m\u001b[38;5;130;01m\\n\u001b[39;00m\u001b[38;5;130;01m\\u001b\u001b[39;00m\u001b[38;5;124m[1;32m    102\u001b[39m\u001b[38;5;130;01m\\u001b\u001b[39;00m\u001b[38;5;124m[0m \u001b[39m\u001b[38;5;130;01m\\u001b\u001b[39;00m\u001b[38;5;124m[38;5;28;01mwith\u001b[39m\u001b[38;5;130;01m\\u001b\u001b[39;00m\u001b[38;5;124m[39;00m IndentationContext():\u001b[39m\u001b[38;5;130;01m\\n\u001b[39;00m\u001b[38;5;130;01m\\u001b\u001b[39;00m\u001b[38;5;124m[0;32m--> 103\u001b[39m\u001b[38;5;130;01m\\u001b\u001b[39;00m\u001b[38;5;124m[0m     result \u001b[39m\u001b[38;5;130;01m\\u001b\u001b[39;00m\u001b[38;5;124m[38;5;241m=\u001b[39m\u001b[38;5;130;01m\\u001b\u001b[39;00m\u001b[38;5;124m[39m func(\u001b[39m\u001b[38;5;130;01m\\u001b\u001b[39;00m\u001b[38;5;124m[38;5;241m*\u001b[39m\u001b[38;5;130;01m\\u001b\u001b[39;00m\u001b[38;5;124m[39margs, \u001b[39m\u001b[38;5;130;01m\\u001b\u001b[39;00m\u001b[38;5;124m[38;5;241m*\u001b[39m\u001b[38;5;130;01m\\u001b\u001b[39;00m\u001b[38;5;124m[39m\u001b[39m\u001b[38;5;130;01m\\u001b\u001b[39;00m\u001b[38;5;124m[38;5;241m*\u001b[39m\u001b[38;5;130;01m\\u001b\u001b[39;00m\u001b[38;5;124m[39mkwargs)\u001b[39m\u001b[38;5;130;01m\\n\u001b[39;00m\u001b[38;5;130;01m\\u001b\u001b[39;00m\u001b[38;5;124m[1;32m    105\u001b[39m\u001b[38;5;130;01m\\u001b\u001b[39;00m\u001b[38;5;124m[0m logger\u001b[39m\u001b[38;5;130;01m\\u001b\u001b[39;00m\u001b[38;5;124m[38;5;241m.\u001b[39m\u001b[38;5;130;01m\\u001b\u001b[39;00m\u001b[38;5;124m[39mdebug(\u001b[39m\u001b[38;5;130;01m\\u001b\u001b[39;00m\u001b[38;5;124m[38;5;124mf\u001b[39m\u001b[38;5;130;01m\\u001b\u001b[39;00m\u001b[38;5;124m[39m\u001b[39m\u001b[38;5;130;01m\\u001b\u001b[39;00m\u001b[38;5;124m[38;5;124m\u001b[39m\u001b[38;5;124m'\u001b[39m\u001b[38;5;130;01m\\u001b\u001b[39;00m\u001b[38;5;124m[39m\u001b[39m\u001b[38;5;130;01m\\u001b\u001b[39;00m\u001b[38;5;124m[38;5;124mExiting \u001b[39m\u001b[38;5;130;01m\\u001b\u001b[39;00m\u001b[38;5;124m[39m\u001b[39m\u001b[38;5;130;01m\\u001b\u001b[39;00m\u001b[38;5;124m[38;5;132;01m\u001b[39m\u001b[38;5;124m{\u001b[39m\u001b[38;5;130;01m\\u001b\u001b[39;00m\u001b[38;5;124m[39;00mfunc\u001b[39m\u001b[38;5;130;01m\\u001b\u001b[39;00m\u001b[38;5;124m[38;5;241m.\u001b[39m\u001b[38;5;130;01m\\u001b\u001b[39;00m\u001b[38;5;124m[39m\u001b[39m\u001b[38;5;130;01m\\u001b\u001b[39;00m\u001b[38;5;124m[38;5;18m__name__\u001b[39m\u001b[38;5;130;01m\\u001b\u001b[39;00m\u001b[38;5;124m[39m\u001b[39m\u001b[38;5;130;01m\\u001b\u001b[39;00m\u001b[38;5;124m[38;5;132;01m}\u001b[39m\u001b[38;5;130;01m\\u001b\u001b[39;00m\u001b[38;5;124m[39;00m\u001b[39m\u001b[38;5;130;01m\\u001b\u001b[39;00m\u001b[38;5;124m[38;5;124m()\u001b[39m\u001b[38;5;130;01m\\u001b\u001b[39;00m\u001b[38;5;124m[39m\u001b[39m\u001b[38;5;130;01m\\u001b\u001b[39;00m\u001b[38;5;124m[38;5;124m\u001b[39m\u001b[38;5;124m'\u001b[39m\u001b[38;5;130;01m\\u001b\u001b[39;00m\u001b[38;5;124m[39m)\u001b[39m\u001b[38;5;130;01m\\n\u001b[39;00m\u001b[38;5;130;01m\\u001b\u001b[39;00m\u001b[38;5;124m[1;32m    106\u001b[39m\u001b[38;5;130;01m\\u001b\u001b[39;00m\u001b[38;5;124m[0m \u001b[39m\u001b[38;5;130;01m\\u001b\u001b[39;00m\u001b[38;5;124m[38;5;28;01mreturn\u001b[39m\u001b[38;5;130;01m\\u001b\u001b[39;00m\u001b[38;5;124m[39;00m result\u001b[39m\u001b[38;5;130;01m\\n\u001b[39;00m\u001b[38;5;124m\"\u001b[39m,\n\u001b[1;32m    164\u001b[0m       \u001b[38;5;124m\"\u001b[39m\u001b[38;5;124mFile \u001b[39m\u001b[38;5;130;01m\\u001b\u001b[39;00m\u001b[38;5;124m[0;32m~/anaconda3/lib/python3.11/site-packages/yfinance/base.py:199\u001b[39m\u001b[38;5;130;01m\\u001b\u001b[39;00m\u001b[38;5;124m[0m, in \u001b[39m\u001b[38;5;130;01m\\u001b\u001b[39;00m\u001b[38;5;124m[0;36mTickerBase.history\u001b[39m\u001b[38;5;130;01m\\u001b\u001b[39;00m\u001b[38;5;124m[0;34m(self, period, interval, start, end, prepost, actions, auto_adjust, back_adjust, repair, keepna, proxy, rounding, timeout, raise_errors)\u001b[39m\u001b[38;5;130;01m\\u001b\u001b[39;00m\u001b[38;5;124m[0m\u001b[39m\u001b[38;5;130;01m\\n\u001b[39;00m\u001b[38;5;130;01m\\u001b\u001b[39;00m\u001b[38;5;124m[1;32m    197\u001b[39m\u001b[38;5;130;01m\\u001b\u001b[39;00m\u001b[38;5;124m[0m         get_fn \u001b[39m\u001b[38;5;130;01m\\u001b\u001b[39;00m\u001b[38;5;124m[38;5;241m=\u001b[39m\u001b[38;5;130;01m\\u001b\u001b[39;00m\u001b[38;5;124m[39m \u001b[39m\u001b[38;5;130;01m\\u001b\u001b[39;00m\u001b[38;5;124m[38;5;28mself\u001b[39m\u001b[38;5;130;01m\\u001b\u001b[39;00m\u001b[38;5;124m[39m\u001b[39m\u001b[38;5;130;01m\\u001b\u001b[39;00m\u001b[38;5;124m[38;5;241m.\u001b[39m\u001b[38;5;130;01m\\u001b\u001b[39;00m\u001b[38;5;124m[39m_data\u001b[39m\u001b[38;5;130;01m\\u001b\u001b[39;00m\u001b[38;5;124m[38;5;241m.\u001b[39m\u001b[38;5;130;01m\\u001b\u001b[39;00m\u001b[38;5;124m[39mcache_get\u001b[39m\u001b[38;5;130;01m\\n\u001b[39;00m\u001b[38;5;130;01m\\u001b\u001b[39;00m\u001b[38;5;124m[1;32m    198\u001b[39m\u001b[38;5;130;01m\\u001b\u001b[39;00m\u001b[38;5;124m[0m \u001b[39m\u001b[38;5;130;01m\\u001b\u001b[39;00m\u001b[38;5;124m[38;5;28;01mtry\u001b[39m\u001b[38;5;130;01m\\u001b\u001b[39;00m\u001b[38;5;124m[39;00m:\u001b[39m\u001b[38;5;130;01m\\n\u001b[39;00m\u001b[38;5;130;01m\\u001b\u001b[39;00m\u001b[38;5;124m[0;32m--> 199\u001b[39m\u001b[38;5;130;01m\\u001b\u001b[39;00m\u001b[38;5;124m[0m     data \u001b[39m\u001b[38;5;130;01m\\u001b\u001b[39;00m\u001b[38;5;124m[38;5;241m=\u001b[39m\u001b[38;5;130;01m\\u001b\u001b[39;00m\u001b[38;5;124m[39m get_fn(\u001b[39m\u001b[38;5;130;01m\\n\u001b[39;00m\u001b[38;5;130;01m\\u001b\u001b[39;00m\u001b[38;5;124m[1;32m    200\u001b[39m\u001b[38;5;130;01m\\u001b\u001b[39;00m\u001b[38;5;124m[0m         url\u001b[39m\u001b[38;5;130;01m\\u001b\u001b[39;00m\u001b[38;5;124m[38;5;241m=\u001b[39m\u001b[38;5;130;01m\\u001b\u001b[39;00m\u001b[38;5;124m[39murl,\u001b[39m\u001b[38;5;130;01m\\n\u001b[39;00m\u001b[38;5;130;01m\\u001b\u001b[39;00m\u001b[38;5;124m[1;32m    201\u001b[39m\u001b[38;5;130;01m\\u001b\u001b[39;00m\u001b[38;5;124m[0m         params\u001b[39m\u001b[38;5;130;01m\\u001b\u001b[39;00m\u001b[38;5;124m[38;5;241m=\u001b[39m\u001b[38;5;130;01m\\u001b\u001b[39;00m\u001b[38;5;124m[39mparams,\u001b[39m\u001b[38;5;130;01m\\n\u001b[39;00m\u001b[38;5;130;01m\\u001b\u001b[39;00m\u001b[38;5;124m[1;32m    202\u001b[39m\u001b[38;5;130;01m\\u001b\u001b[39;00m\u001b[38;5;124m[0m         proxy\u001b[39m\u001b[38;5;130;01m\\u001b\u001b[39;00m\u001b[38;5;124m[38;5;241m=\u001b[39m\u001b[38;5;130;01m\\u001b\u001b[39;00m\u001b[38;5;124m[39mproxy,\u001b[39m\u001b[38;5;130;01m\\n\u001b[39;00m\u001b[38;5;130;01m\\u001b\u001b[39;00m\u001b[38;5;124m[1;32m    203\u001b[39m\u001b[38;5;130;01m\\u001b\u001b[39;00m\u001b[38;5;124m[0m         timeout\u001b[39m\u001b[38;5;130;01m\\u001b\u001b[39;00m\u001b[38;5;124m[38;5;241m=\u001b[39m\u001b[38;5;130;01m\\u001b\u001b[39;00m\u001b[38;5;124m[39mtimeout\u001b[39m\u001b[38;5;130;01m\\n\u001b[39;00m\u001b[38;5;130;01m\\u001b\u001b[39;00m\u001b[38;5;124m[1;32m    204\u001b[39m\u001b[38;5;130;01m\\u001b\u001b[39;00m\u001b[38;5;124m[0m     )\u001b[39m\u001b[38;5;130;01m\\n\u001b[39;00m\u001b[38;5;130;01m\\u001b\u001b[39;00m\u001b[38;5;124m[1;32m    205\u001b[39m\u001b[38;5;130;01m\\u001b\u001b[39;00m\u001b[38;5;124m[0m     \u001b[39m\u001b[38;5;130;01m\\u001b\u001b[39;00m\u001b[38;5;124m[38;5;28;01mif\u001b[39m\u001b[38;5;130;01m\\u001b\u001b[39;00m\u001b[38;5;124m[39;00m \u001b[39m\u001b[38;5;130;01m\\u001b\u001b[39;00m\u001b[38;5;124m[38;5;124m\u001b[39m\u001b[38;5;130;01m\\\"\u001b[39;00m\u001b[38;5;130;01m\\u001b\u001b[39;00m\u001b[38;5;124m[39m\u001b[39m\u001b[38;5;130;01m\\u001b\u001b[39;00m\u001b[38;5;124m[38;5;124mWill be right back\u001b[39m\u001b[38;5;130;01m\\u001b\u001b[39;00m\u001b[38;5;124m[39m\u001b[39m\u001b[38;5;130;01m\\u001b\u001b[39;00m\u001b[38;5;124m[38;5;124m\u001b[39m\u001b[38;5;130;01m\\\"\u001b[39;00m\u001b[38;5;130;01m\\u001b\u001b[39;00m\u001b[38;5;124m[39m \u001b[39m\u001b[38;5;130;01m\\u001b\u001b[39;00m\u001b[38;5;124m[38;5;129;01min\u001b[39m\u001b[38;5;130;01m\\u001b\u001b[39;00m\u001b[38;5;124m[39;00m data\u001b[39m\u001b[38;5;130;01m\\u001b\u001b[39;00m\u001b[38;5;124m[38;5;241m.\u001b[39m\u001b[38;5;130;01m\\u001b\u001b[39;00m\u001b[38;5;124m[39mtext \u001b[39m\u001b[38;5;130;01m\\u001b\u001b[39;00m\u001b[38;5;124m[38;5;129;01mor\u001b[39m\u001b[38;5;130;01m\\u001b\u001b[39;00m\u001b[38;5;124m[39;00m data \u001b[39m\u001b[38;5;130;01m\\u001b\u001b[39;00m\u001b[38;5;124m[38;5;129;01mis\u001b[39m\u001b[38;5;130;01m\\u001b\u001b[39;00m\u001b[38;5;124m[39;00m \u001b[39m\u001b[38;5;130;01m\\u001b\u001b[39;00m\u001b[38;5;124m[38;5;28;01mNone\u001b[39m\u001b[38;5;130;01m\\u001b\u001b[39;00m\u001b[38;5;124m[39;00m:\u001b[39m\u001b[38;5;130;01m\\n\u001b[39;00m\u001b[38;5;130;01m\\u001b\u001b[39;00m\u001b[38;5;124m[1;32m    206\u001b[39m\u001b[38;5;130;01m\\u001b\u001b[39;00m\u001b[38;5;124m[0m         \u001b[39m\u001b[38;5;130;01m\\u001b\u001b[39;00m\u001b[38;5;124m[38;5;28;01mraise\u001b[39m\u001b[38;5;130;01m\\u001b\u001b[39;00m\u001b[38;5;124m[39;00m \u001b[39m\u001b[38;5;130;01m\\u001b\u001b[39;00m\u001b[38;5;124m[38;5;167;01mRuntimeError\u001b[39m\u001b[38;5;130;01m\\u001b\u001b[39;00m\u001b[38;5;124m[39;00m(\u001b[39m\u001b[38;5;130;01m\\u001b\u001b[39;00m\u001b[38;5;124m[38;5;124m\u001b[39m\u001b[38;5;130;01m\\\"\u001b[39;00m\u001b[38;5;130;01m\\u001b\u001b[39;00m\u001b[38;5;124m[39m\u001b[39m\u001b[38;5;130;01m\\u001b\u001b[39;00m\u001b[38;5;124m[38;5;124m*** YAHOO! FINANCE IS CURRENTLY DOWN! ***\u001b[39m\u001b[38;5;130;01m\\u001b\u001b[39;00m\u001b[38;5;124m[39m\u001b[39m\u001b[38;5;130;01m\\u001b\u001b[39;00m\u001b[38;5;124m[38;5;130;01m\u001b[39m\u001b[38;5;130;01m\\\\\u001b[39;00m\u001b[38;5;124mn\u001b[39m\u001b[38;5;130;01m\\u001b\u001b[39;00m\u001b[38;5;124m[39;00m\u001b[39m\u001b[38;5;130;01m\\u001b\u001b[39;00m\u001b[38;5;124m[38;5;124m\u001b[39m\u001b[38;5;130;01m\\\"\u001b[39;00m\u001b[38;5;130;01m\\u001b\u001b[39;00m\u001b[38;5;124m[39m\u001b[39m\u001b[38;5;130;01m\\n\u001b[39;00m\u001b[38;5;130;01m\\u001b\u001b[39;00m\u001b[38;5;124m[1;32m    207\u001b[39m\u001b[38;5;130;01m\\u001b\u001b[39;00m\u001b[38;5;124m[0m                            \u001b[39m\u001b[38;5;130;01m\\u001b\u001b[39;00m\u001b[38;5;124m[38;5;124m\u001b[39m\u001b[38;5;130;01m\\\"\u001b[39;00m\u001b[38;5;130;01m\\u001b\u001b[39;00m\u001b[38;5;124m[39m\u001b[39m\u001b[38;5;130;01m\\u001b\u001b[39;00m\u001b[38;5;124m[38;5;124mOur engineers are working quickly to resolve \u001b[39m\u001b[38;5;130;01m\\u001b\u001b[39;00m\u001b[38;5;124m[39m\u001b[39m\u001b[38;5;130;01m\\u001b\u001b[39;00m\u001b[38;5;124m[38;5;124m\u001b[39m\u001b[38;5;130;01m\\\"\u001b[39;00m\u001b[38;5;130;01m\\u001b\u001b[39;00m\u001b[38;5;124m[39m\u001b[39m\u001b[38;5;130;01m\\n\u001b[39;00m\u001b[38;5;130;01m\\u001b\u001b[39;00m\u001b[38;5;124m[1;32m    208\u001b[39m\u001b[38;5;130;01m\\u001b\u001b[39;00m\u001b[38;5;124m[0m                            \u001b[39m\u001b[38;5;130;01m\\u001b\u001b[39;00m\u001b[38;5;124m[38;5;124m\u001b[39m\u001b[38;5;130;01m\\\"\u001b[39;00m\u001b[38;5;130;01m\\u001b\u001b[39;00m\u001b[38;5;124m[39m\u001b[39m\u001b[38;5;130;01m\\u001b\u001b[39;00m\u001b[38;5;124m[38;5;124mthe issue. Thank you for your patience.\u001b[39m\u001b[38;5;130;01m\\u001b\u001b[39;00m\u001b[38;5;124m[39m\u001b[39m\u001b[38;5;130;01m\\u001b\u001b[39;00m\u001b[38;5;124m[38;5;124m\u001b[39m\u001b[38;5;130;01m\\\"\u001b[39;00m\u001b[38;5;130;01m\\u001b\u001b[39;00m\u001b[38;5;124m[39m)\u001b[39m\u001b[38;5;130;01m\\n\u001b[39;00m\u001b[38;5;124m\"\u001b[39m,\n\u001b[1;32m    165\u001b[0m       \u001b[38;5;124m\"\u001b[39m\u001b[38;5;124mFile \u001b[39m\u001b[38;5;130;01m\\u001b\u001b[39;00m\u001b[38;5;124m[0;32m~/anaconda3/lib/python3.11/site-packages/yfinance/data.py:28\u001b[39m\u001b[38;5;130;01m\\u001b\u001b[39;00m\u001b[38;5;124m[0m, in \u001b[39m\u001b[38;5;130;01m\\u001b\u001b[39;00m\u001b[38;5;124m[0;36mlru_cache_freezeargs.<locals>.wrapped\u001b[39m\u001b[38;5;130;01m\\u001b\u001b[39;00m\u001b[38;5;124m[0;34m(*args, **kwargs)\u001b[39m\u001b[38;5;130;01m\\u001b\u001b[39;00m\u001b[38;5;124m[0m\u001b[39m\u001b[38;5;130;01m\\n\u001b[39;00m\u001b[38;5;130;01m\\u001b\u001b[39;00m\u001b[38;5;124m[1;32m     26\u001b[39m\u001b[38;5;130;01m\\u001b\u001b[39;00m\u001b[38;5;124m[0m args \u001b[39m\u001b[38;5;130;01m\\u001b\u001b[39;00m\u001b[38;5;124m[38;5;241m=\u001b[39m\u001b[38;5;130;01m\\u001b\u001b[39;00m\u001b[38;5;124m[39m \u001b[39m\u001b[38;5;130;01m\\u001b\u001b[39;00m\u001b[38;5;124m[38;5;28mtuple\u001b[39m\u001b[38;5;130;01m\\u001b\u001b[39;00m\u001b[38;5;124m[39m([\u001b[39m\u001b[38;5;130;01m\\u001b\u001b[39;00m\u001b[38;5;124m[38;5;28mtuple\u001b[39m\u001b[38;5;130;01m\\u001b\u001b[39;00m\u001b[38;5;124m[39m(arg) \u001b[39m\u001b[38;5;130;01m\\u001b\u001b[39;00m\u001b[38;5;124m[38;5;28;01mif\u001b[39m\u001b[38;5;130;01m\\u001b\u001b[39;00m\u001b[38;5;124m[39;00m \u001b[39m\u001b[38;5;130;01m\\u001b\u001b[39;00m\u001b[38;5;124m[38;5;28misinstance\u001b[39m\u001b[38;5;130;01m\\u001b\u001b[39;00m\u001b[38;5;124m[39m(arg, \u001b[39m\u001b[38;5;130;01m\\u001b\u001b[39;00m\u001b[38;5;124m[38;5;28mlist\u001b[39m\u001b[38;5;130;01m\\u001b\u001b[39;00m\u001b[38;5;124m[39m) \u001b[39m\u001b[38;5;130;01m\\u001b\u001b[39;00m\u001b[38;5;124m[38;5;28;01melse\u001b[39m\u001b[38;5;130;01m\\u001b\u001b[39;00m\u001b[38;5;124m[39;00m arg \u001b[39m\u001b[38;5;130;01m\\u001b\u001b[39;00m\u001b[38;5;124m[38;5;28;01mfor\u001b[39m\u001b[38;5;130;01m\\u001b\u001b[39;00m\u001b[38;5;124m[39;00m arg \u001b[39m\u001b[38;5;130;01m\\u001b\u001b[39;00m\u001b[38;5;124m[38;5;129;01min\u001b[39m\u001b[38;5;130;01m\\u001b\u001b[39;00m\u001b[38;5;124m[39;00m args])\u001b[39m\u001b[38;5;130;01m\\n\u001b[39;00m\u001b[38;5;130;01m\\u001b\u001b[39;00m\u001b[38;5;124m[1;32m     27\u001b[39m\u001b[38;5;130;01m\\u001b\u001b[39;00m\u001b[38;5;124m[0m kwargs \u001b[39m\u001b[38;5;130;01m\\u001b\u001b[39;00m\u001b[38;5;124m[38;5;241m=\u001b[39m\u001b[38;5;130;01m\\u001b\u001b[39;00m\u001b[38;5;124m[39m \u001b[39m\u001b[38;5;124m{\u001b[39m\u001b[38;5;124mk: \u001b[39m\u001b[38;5;130;01m\\u001b\u001b[39;00m\u001b[38;5;124m[38;5;28mtuple\u001b[39m\u001b[38;5;130;01m\\u001b\u001b[39;00m\u001b[38;5;124m[39m(v) \u001b[39m\u001b[38;5;130;01m\\u001b\u001b[39;00m\u001b[38;5;124m[38;5;28;01mif\u001b[39m\u001b[38;5;130;01m\\u001b\u001b[39;00m\u001b[38;5;124m[39;00m \u001b[39m\u001b[38;5;130;01m\\u001b\u001b[39;00m\u001b[38;5;124m[38;5;28misinstance\u001b[39m\u001b[38;5;130;01m\\u001b\u001b[39;00m\u001b[38;5;124m[39m(v, \u001b[39m\u001b[38;5;130;01m\\u001b\u001b[39;00m\u001b[38;5;124m[38;5;28mlist\u001b[39m\u001b[38;5;130;01m\\u001b\u001b[39;00m\u001b[38;5;124m[39m) \u001b[39m\u001b[38;5;130;01m\\u001b\u001b[39;00m\u001b[38;5;124m[38;5;28;01melse\u001b[39m\u001b[38;5;130;01m\\u001b\u001b[39;00m\u001b[38;5;124m[39;00m v \u001b[39m\u001b[38;5;130;01m\\u001b\u001b[39;00m\u001b[38;5;124m[38;5;28;01mfor\u001b[39m\u001b[38;5;130;01m\\u001b\u001b[39;00m\u001b[38;5;124m[39;00m k, v \u001b[39m\u001b[38;5;130;01m\\u001b\u001b[39;00m\u001b[38;5;124m[38;5;129;01min\u001b[39m\u001b[38;5;130;01m\\u001b\u001b[39;00m\u001b[38;5;124m[39;00m kwargs\u001b[39m\u001b[38;5;130;01m\\u001b\u001b[39;00m\u001b[38;5;124m[38;5;241m.\u001b[39m\u001b[38;5;130;01m\\u001b\u001b[39;00m\u001b[38;5;124m[39mitems()}\u001b[39m\u001b[38;5;130;01m\\n\u001b[39;00m\u001b[38;5;130;01m\\u001b\u001b[39;00m\u001b[38;5;124m[0;32m---> 28\u001b[39m\u001b[38;5;130;01m\\u001b\u001b[39;00m\u001b[38;5;124m[0m \u001b[39m\u001b[38;5;130;01m\\u001b\u001b[39;00m\u001b[38;5;124m[38;5;28;01mreturn\u001b[39m\u001b[38;5;130;01m\\u001b\u001b[39;00m\u001b[38;5;124m[39;00m func(\u001b[39m\u001b[38;5;130;01m\\u001b\u001b[39;00m\u001b[38;5;124m[38;5;241m*\u001b[39m\u001b[38;5;130;01m\\u001b\u001b[39;00m\u001b[38;5;124m[39margs, \u001b[39m\u001b[38;5;130;01m\\u001b\u001b[39;00m\u001b[38;5;124m[38;5;241m*\u001b[39m\u001b[38;5;130;01m\\u001b\u001b[39;00m\u001b[38;5;124m[39m\u001b[39m\u001b[38;5;130;01m\\u001b\u001b[39;00m\u001b[38;5;124m[38;5;241m*\u001b[39m\u001b[38;5;130;01m\\u001b\u001b[39;00m\u001b[38;5;124m[39mkwargs)\u001b[39m\u001b[38;5;130;01m\\n\u001b[39;00m\u001b[38;5;124m\"\u001b[39m,\n\u001b[1;32m    166\u001b[0m       \u001b[38;5;124m\"\u001b[39m\u001b[38;5;124mFile \u001b[39m\u001b[38;5;130;01m\\u001b\u001b[39;00m\u001b[38;5;124m[0;32m~/anaconda3/lib/python3.11/site-packages/yfinance/data.py:387\u001b[39m\u001b[38;5;130;01m\\u001b\u001b[39;00m\u001b[38;5;124m[0m, in \u001b[39m\u001b[38;5;130;01m\\u001b\u001b[39;00m\u001b[38;5;124m[0;36mYfData.cache_get\u001b[39m\u001b[38;5;130;01m\\u001b\u001b[39;00m\u001b[38;5;124m[0;34m(self, url, user_agent_headers, params, proxy, timeout)\u001b[39m\u001b[38;5;130;01m\\u001b\u001b[39;00m\u001b[38;5;124m[0m\u001b[39m\u001b[38;5;130;01m\\n\u001b[39;00m\u001b[38;5;130;01m\\u001b\u001b[39;00m\u001b[38;5;124m[1;32m    384\u001b[39m\u001b[38;5;130;01m\\u001b\u001b[39;00m\u001b[38;5;124m[0m \u001b[39m\u001b[38;5;130;01m\\u001b\u001b[39;00m\u001b[38;5;124m[38;5;129m@lru_cache_freezeargs\u001b[39m\u001b[38;5;130;01m\\u001b\u001b[39;00m\u001b[38;5;124m[39m\u001b[39m\u001b[38;5;130;01m\\n\u001b[39;00m\u001b[38;5;130;01m\\u001b\u001b[39;00m\u001b[38;5;124m[1;32m    385\u001b[39m\u001b[38;5;130;01m\\u001b\u001b[39;00m\u001b[38;5;124m[0m \u001b[39m\u001b[38;5;130;01m\\u001b\u001b[39;00m\u001b[38;5;124m[38;5;129m@lru_cache\u001b[39m\u001b[38;5;130;01m\\u001b\u001b[39;00m\u001b[38;5;124m[39m(maxsize\u001b[39m\u001b[38;5;130;01m\\u001b\u001b[39;00m\u001b[38;5;124m[38;5;241m=\u001b[39m\u001b[38;5;130;01m\\u001b\u001b[39;00m\u001b[38;5;124m[39mcache_maxsize)\u001b[39m\u001b[38;5;130;01m\\n\u001b[39;00m\u001b[38;5;130;01m\\u001b\u001b[39;00m\u001b[38;5;124m[1;32m    386\u001b[39m\u001b[38;5;130;01m\\u001b\u001b[39;00m\u001b[38;5;124m[0m \u001b[39m\u001b[38;5;130;01m\\u001b\u001b[39;00m\u001b[38;5;124m[38;5;28;01mdef\u001b[39m\u001b[38;5;130;01m\\u001b\u001b[39;00m\u001b[38;5;124m[39;00m \u001b[39m\u001b[38;5;130;01m\\u001b\u001b[39;00m\u001b[38;5;124m[38;5;21mcache_get\u001b[39m\u001b[38;5;130;01m\\u001b\u001b[39;00m\u001b[38;5;124m[39m(\u001b[39m\u001b[38;5;130;01m\\u001b\u001b[39;00m\u001b[38;5;124m[38;5;28mself\u001b[39m\u001b[38;5;130;01m\\u001b\u001b[39;00m\u001b[38;5;124m[39m, url, user_agent_headers\u001b[39m\u001b[38;5;130;01m\\u001b\u001b[39;00m\u001b[38;5;124m[38;5;241m=\u001b[39m\u001b[38;5;130;01m\\u001b\u001b[39;00m\u001b[38;5;124m[39m\u001b[39m\u001b[38;5;130;01m\\u001b\u001b[39;00m\u001b[38;5;124m[38;5;28;01mNone\u001b[39m\u001b[38;5;130;01m\\u001b\u001b[39;00m\u001b[38;5;124m[39;00m, params\u001b[39m\u001b[38;5;130;01m\\u001b\u001b[39;00m\u001b[38;5;124m[38;5;241m=\u001b[39m\u001b[38;5;130;01m\\u001b\u001b[39;00m\u001b[38;5;124m[39m\u001b[39m\u001b[38;5;130;01m\\u001b\u001b[39;00m\u001b[38;5;124m[38;5;28;01mNone\u001b[39m\u001b[38;5;130;01m\\u001b\u001b[39;00m\u001b[38;5;124m[39;00m, proxy\u001b[39m\u001b[38;5;130;01m\\u001b\u001b[39;00m\u001b[38;5;124m[38;5;241m=\u001b[39m\u001b[38;5;130;01m\\u001b\u001b[39;00m\u001b[38;5;124m[39m\u001b[39m\u001b[38;5;130;01m\\u001b\u001b[39;00m\u001b[38;5;124m[38;5;28;01mNone\u001b[39m\u001b[38;5;130;01m\\u001b\u001b[39;00m\u001b[38;5;124m[39;00m, timeout\u001b[39m\u001b[38;5;130;01m\\u001b\u001b[39;00m\u001b[38;5;124m[38;5;241m=\u001b[39m\u001b[38;5;130;01m\\u001b\u001b[39;00m\u001b[38;5;124m[39m\u001b[39m\u001b[38;5;130;01m\\u001b\u001b[39;00m\u001b[38;5;124m[38;5;241m30\u001b[39m\u001b[38;5;130;01m\\u001b\u001b[39;00m\u001b[38;5;124m[39m):\u001b[39m\u001b[38;5;130;01m\\n\u001b[39;00m\u001b[38;5;130;01m\\u001b\u001b[39;00m\u001b[38;5;124m[0;32m--> 387\u001b[39m\u001b[38;5;130;01m\\u001b\u001b[39;00m\u001b[38;5;124m[0m     \u001b[39m\u001b[38;5;130;01m\\u001b\u001b[39;00m\u001b[38;5;124m[38;5;28;01mreturn\u001b[39m\u001b[38;5;130;01m\\u001b\u001b[39;00m\u001b[38;5;124m[39;00m \u001b[39m\u001b[38;5;130;01m\\u001b\u001b[39;00m\u001b[38;5;124m[38;5;28mself\u001b[39m\u001b[38;5;130;01m\\u001b\u001b[39;00m\u001b[38;5;124m[39m\u001b[39m\u001b[38;5;130;01m\\u001b\u001b[39;00m\u001b[38;5;124m[38;5;241m.\u001b[39m\u001b[38;5;130;01m\\u001b\u001b[39;00m\u001b[38;5;124m[39mget(url, user_agent_headers, params, proxy, timeout)\u001b[39m\u001b[38;5;130;01m\\n\u001b[39;00m\u001b[38;5;124m\"\u001b[39m,\n\u001b[1;32m    167\u001b[0m       \u001b[38;5;124m\"\u001b[39m\u001b[38;5;124mFile \u001b[39m\u001b[38;5;130;01m\\u001b\u001b[39;00m\u001b[38;5;124m[0;32m~/anaconda3/lib/python3.11/site-packages/yfinance/utils.py:103\u001b[39m\u001b[38;5;130;01m\\u001b\u001b[39;00m\u001b[38;5;124m[0m, in \u001b[39m\u001b[38;5;130;01m\\u001b\u001b[39;00m\u001b[38;5;124m[0;36mlog_indent_decorator.<locals>.wrapper\u001b[39m\u001b[38;5;130;01m\\u001b\u001b[39;00m\u001b[38;5;124m[0;34m(*args, **kwargs)\u001b[39m\u001b[38;5;130;01m\\u001b\u001b[39;00m\u001b[38;5;124m[0m\u001b[39m\u001b[38;5;130;01m\\n\u001b[39;00m\u001b[38;5;130;01m\\u001b\u001b[39;00m\u001b[38;5;124m[1;32m    100\u001b[39m\u001b[38;5;130;01m\\u001b\u001b[39;00m\u001b[38;5;124m[0m logger\u001b[39m\u001b[38;5;130;01m\\u001b\u001b[39;00m\u001b[38;5;124m[38;5;241m.\u001b[39m\u001b[38;5;130;01m\\u001b\u001b[39;00m\u001b[38;5;124m[39mdebug(\u001b[39m\u001b[38;5;130;01m\\u001b\u001b[39;00m\u001b[38;5;124m[38;5;124mf\u001b[39m\u001b[38;5;130;01m\\u001b\u001b[39;00m\u001b[38;5;124m[39m\u001b[39m\u001b[38;5;130;01m\\u001b\u001b[39;00m\u001b[38;5;124m[38;5;124m\u001b[39m\u001b[38;5;124m'\u001b[39m\u001b[38;5;130;01m\\u001b\u001b[39;00m\u001b[38;5;124m[39m\u001b[39m\u001b[38;5;130;01m\\u001b\u001b[39;00m\u001b[38;5;124m[38;5;124mEntering \u001b[39m\u001b[38;5;130;01m\\u001b\u001b[39;00m\u001b[38;5;124m[39m\u001b[39m\u001b[38;5;130;01m\\u001b\u001b[39;00m\u001b[38;5;124m[38;5;132;01m\u001b[39m\u001b[38;5;124m{\u001b[39m\u001b[38;5;130;01m\\u001b\u001b[39;00m\u001b[38;5;124m[39;00mfunc\u001b[39m\u001b[38;5;130;01m\\u001b\u001b[39;00m\u001b[38;5;124m[38;5;241m.\u001b[39m\u001b[38;5;130;01m\\u001b\u001b[39;00m\u001b[38;5;124m[39m\u001b[39m\u001b[38;5;130;01m\\u001b\u001b[39;00m\u001b[38;5;124m[38;5;18m__name__\u001b[39m\u001b[38;5;130;01m\\u001b\u001b[39;00m\u001b[38;5;124m[39m\u001b[39m\u001b[38;5;130;01m\\u001b\u001b[39;00m\u001b[38;5;124m[38;5;132;01m}\u001b[39m\u001b[38;5;130;01m\\u001b\u001b[39;00m\u001b[38;5;124m[39;00m\u001b[39m\u001b[38;5;130;01m\\u001b\u001b[39;00m\u001b[38;5;124m[38;5;124m()\u001b[39m\u001b[38;5;130;01m\\u001b\u001b[39;00m\u001b[38;5;124m[39m\u001b[39m\u001b[38;5;130;01m\\u001b\u001b[39;00m\u001b[38;5;124m[38;5;124m\u001b[39m\u001b[38;5;124m'\u001b[39m\u001b[38;5;130;01m\\u001b\u001b[39;00m\u001b[38;5;124m[39m)\u001b[39m\u001b[38;5;130;01m\\n\u001b[39;00m\u001b[38;5;130;01m\\u001b\u001b[39;00m\u001b[38;5;124m[1;32m    102\u001b[39m\u001b[38;5;130;01m\\u001b\u001b[39;00m\u001b[38;5;124m[0m \u001b[39m\u001b[38;5;130;01m\\u001b\u001b[39;00m\u001b[38;5;124m[38;5;28;01mwith\u001b[39m\u001b[38;5;130;01m\\u001b\u001b[39;00m\u001b[38;5;124m[39;00m IndentationContext():\u001b[39m\u001b[38;5;130;01m\\n\u001b[39;00m\u001b[38;5;130;01m\\u001b\u001b[39;00m\u001b[38;5;124m[0;32m--> 103\u001b[39m\u001b[38;5;130;01m\\u001b\u001b[39;00m\u001b[38;5;124m[0m     result \u001b[39m\u001b[38;5;130;01m\\u001b\u001b[39;00m\u001b[38;5;124m[38;5;241m=\u001b[39m\u001b[38;5;130;01m\\u001b\u001b[39;00m\u001b[38;5;124m[39m func(\u001b[39m\u001b[38;5;130;01m\\u001b\u001b[39;00m\u001b[38;5;124m[38;5;241m*\u001b[39m\u001b[38;5;130;01m\\u001b\u001b[39;00m\u001b[38;5;124m[39margs, \u001b[39m\u001b[38;5;130;01m\\u001b\u001b[39;00m\u001b[38;5;124m[38;5;241m*\u001b[39m\u001b[38;5;130;01m\\u001b\u001b[39;00m\u001b[38;5;124m[39m\u001b[39m\u001b[38;5;130;01m\\u001b\u001b[39;00m\u001b[38;5;124m[38;5;241m*\u001b[39m\u001b[38;5;130;01m\\u001b\u001b[39;00m\u001b[38;5;124m[39mkwargs)\u001b[39m\u001b[38;5;130;01m\\n\u001b[39;00m\u001b[38;5;130;01m\\u001b\u001b[39;00m\u001b[38;5;124m[1;32m    105\u001b[39m\u001b[38;5;130;01m\\u001b\u001b[39;00m\u001b[38;5;124m[0m logger\u001b[39m\u001b[38;5;130;01m\\u001b\u001b[39;00m\u001b[38;5;124m[38;5;241m.\u001b[39m\u001b[38;5;130;01m\\u001b\u001b[39;00m\u001b[38;5;124m[39mdebug(\u001b[39m\u001b[38;5;130;01m\\u001b\u001b[39;00m\u001b[38;5;124m[38;5;124mf\u001b[39m\u001b[38;5;130;01m\\u001b\u001b[39;00m\u001b[38;5;124m[39m\u001b[39m\u001b[38;5;130;01m\\u001b\u001b[39;00m\u001b[38;5;124m[38;5;124m\u001b[39m\u001b[38;5;124m'\u001b[39m\u001b[38;5;130;01m\\u001b\u001b[39;00m\u001b[38;5;124m[39m\u001b[39m\u001b[38;5;130;01m\\u001b\u001b[39;00m\u001b[38;5;124m[38;5;124mExiting \u001b[39m\u001b[38;5;130;01m\\u001b\u001b[39;00m\u001b[38;5;124m[39m\u001b[39m\u001b[38;5;130;01m\\u001b\u001b[39;00m\u001b[38;5;124m[38;5;132;01m\u001b[39m\u001b[38;5;124m{\u001b[39m\u001b[38;5;130;01m\\u001b\u001b[39;00m\u001b[38;5;124m[39;00mfunc\u001b[39m\u001b[38;5;130;01m\\u001b\u001b[39;00m\u001b[38;5;124m[38;5;241m.\u001b[39m\u001b[38;5;130;01m\\u001b\u001b[39;00m\u001b[38;5;124m[39m\u001b[39m\u001b[38;5;130;01m\\u001b\u001b[39;00m\u001b[38;5;124m[38;5;18m__name__\u001b[39m\u001b[38;5;130;01m\\u001b\u001b[39;00m\u001b[38;5;124m[39m\u001b[39m\u001b[38;5;130;01m\\u001b\u001b[39;00m\u001b[38;5;124m[38;5;132;01m}\u001b[39m\u001b[38;5;130;01m\\u001b\u001b[39;00m\u001b[38;5;124m[39;00m\u001b[39m\u001b[38;5;130;01m\\u001b\u001b[39;00m\u001b[38;5;124m[38;5;124m()\u001b[39m\u001b[38;5;130;01m\\u001b\u001b[39;00m\u001b[38;5;124m[39m\u001b[39m\u001b[38;5;130;01m\\u001b\u001b[39;00m\u001b[38;5;124m[38;5;124m\u001b[39m\u001b[38;5;124m'\u001b[39m\u001b[38;5;130;01m\\u001b\u001b[39;00m\u001b[38;5;124m[39m)\u001b[39m\u001b[38;5;130;01m\\n\u001b[39;00m\u001b[38;5;130;01m\\u001b\u001b[39;00m\u001b[38;5;124m[1;32m    106\u001b[39m\u001b[38;5;130;01m\\u001b\u001b[39;00m\u001b[38;5;124m[0m \u001b[39m\u001b[38;5;130;01m\\u001b\u001b[39;00m\u001b[38;5;124m[38;5;28;01mreturn\u001b[39m\u001b[38;5;130;01m\\u001b\u001b[39;00m\u001b[38;5;124m[39;00m result\u001b[39m\u001b[38;5;130;01m\\n\u001b[39;00m\u001b[38;5;124m\"\u001b[39m,\n\u001b[1;32m    168\u001b[0m       \u001b[38;5;124m\"\u001b[39m\u001b[38;5;124mFile \u001b[39m\u001b[38;5;130;01m\\u001b\u001b[39;00m\u001b[38;5;124m[0;32m~/anaconda3/lib/python3.11/site-packages/yfinance/data.py:367\u001b[39m\u001b[38;5;130;01m\\u001b\u001b[39;00m\u001b[38;5;124m[0m, in \u001b[39m\u001b[38;5;130;01m\\u001b\u001b[39;00m\u001b[38;5;124m[0;36mYfData.get\u001b[39m\u001b[38;5;130;01m\\u001b\u001b[39;00m\u001b[38;5;124m[0;34m(self, url, user_agent_headers, params, proxy, timeout)\u001b[39m\u001b[38;5;130;01m\\u001b\u001b[39;00m\u001b[38;5;124m[0m\u001b[39m\u001b[38;5;130;01m\\n\u001b[39;00m\u001b[38;5;130;01m\\u001b\u001b[39;00m\u001b[38;5;124m[1;32m    357\u001b[39m\u001b[38;5;130;01m\\u001b\u001b[39;00m\u001b[38;5;124m[0m     cookies \u001b[39m\u001b[38;5;130;01m\\u001b\u001b[39;00m\u001b[38;5;124m[38;5;241m=\u001b[39m\u001b[38;5;130;01m\\u001b\u001b[39;00m\u001b[38;5;124m[39m \u001b[39m\u001b[38;5;130;01m\\u001b\u001b[39;00m\u001b[38;5;124m[38;5;28;01mNone\u001b[39m\u001b[38;5;130;01m\\u001b\u001b[39;00m\u001b[38;5;124m[39;00m\u001b[39m\u001b[38;5;130;01m\\n\u001b[39;00m\u001b[38;5;130;01m\\u001b\u001b[39;00m\u001b[38;5;124m[1;32m    359\u001b[39m\u001b[38;5;130;01m\\u001b\u001b[39;00m\u001b[38;5;124m[0m request_args \u001b[39m\u001b[38;5;130;01m\\u001b\u001b[39;00m\u001b[38;5;124m[38;5;241m=\u001b[39m\u001b[38;5;130;01m\\u001b\u001b[39;00m\u001b[38;5;124m[39m \u001b[39m\u001b[38;5;124m{\u001b[39m\u001b[38;5;130;01m\\n\u001b[39;00m\u001b[38;5;130;01m\\u001b\u001b[39;00m\u001b[38;5;124m[1;32m    360\u001b[39m\u001b[38;5;130;01m\\u001b\u001b[39;00m\u001b[38;5;124m[0m     \u001b[39m\u001b[38;5;130;01m\\u001b\u001b[39;00m\u001b[38;5;124m[38;5;124m\u001b[39m\u001b[38;5;124m'\u001b[39m\u001b[38;5;130;01m\\u001b\u001b[39;00m\u001b[38;5;124m[39m\u001b[39m\u001b[38;5;130;01m\\u001b\u001b[39;00m\u001b[38;5;124m[38;5;124murl\u001b[39m\u001b[38;5;130;01m\\u001b\u001b[39;00m\u001b[38;5;124m[39m\u001b[39m\u001b[38;5;130;01m\\u001b\u001b[39;00m\u001b[38;5;124m[38;5;124m\u001b[39m\u001b[38;5;124m'\u001b[39m\u001b[38;5;130;01m\\u001b\u001b[39;00m\u001b[38;5;124m[39m: url,\u001b[39m\u001b[38;5;130;01m\\n\u001b[39;00m\u001b[38;5;130;01m\\u001b\u001b[39;00m\u001b[38;5;124m[1;32m    361\u001b[39m\u001b[38;5;130;01m\\u001b\u001b[39;00m\u001b[38;5;124m[0m     \u001b[39m\u001b[38;5;130;01m\\u001b\u001b[39;00m\u001b[38;5;124m[38;5;124m\u001b[39m\u001b[38;5;124m'\u001b[39m\u001b[38;5;130;01m\\u001b\u001b[39;00m\u001b[38;5;124m[39m\u001b[39m\u001b[38;5;130;01m\\u001b\u001b[39;00m\u001b[38;5;124m[38;5;124mparams\u001b[39m\u001b[38;5;130;01m\\u001b\u001b[39;00m\u001b[38;5;124m[39m\u001b[39m\u001b[38;5;130;01m\\u001b\u001b[39;00m\u001b[38;5;124m[38;5;124m\u001b[39m\u001b[38;5;124m'\u001b[39m\u001b[38;5;130;01m\\u001b\u001b[39;00m\u001b[38;5;124m[39m: \u001b[39m\u001b[38;5;124m{\u001b[39m\u001b[38;5;130;01m\\u001b\u001b[39;00m\u001b[38;5;124m[38;5;241m*\u001b[39m\u001b[38;5;130;01m\\u001b\u001b[39;00m\u001b[38;5;124m[39m\u001b[39m\u001b[38;5;130;01m\\u001b\u001b[39;00m\u001b[38;5;124m[38;5;241m*\u001b[39m\u001b[38;5;130;01m\\u001b\u001b[39;00m\u001b[38;5;124m[39mparams, \u001b[39m\u001b[38;5;130;01m\\u001b\u001b[39;00m\u001b[38;5;124m[38;5;241m*\u001b[39m\u001b[38;5;130;01m\\u001b\u001b[39;00m\u001b[38;5;124m[39m\u001b[39m\u001b[38;5;130;01m\\u001b\u001b[39;00m\u001b[38;5;124m[38;5;241m*\u001b[39m\u001b[38;5;130;01m\\u001b\u001b[39;00m\u001b[38;5;124m[39mcrumbs},\u001b[39m\u001b[38;5;130;01m\\n\u001b[39;00m\u001b[38;5;130;01m\\u001b\u001b[39;00m\u001b[38;5;124m[0;32m   (...)\u001b[39m\u001b[38;5;130;01m\\u001b\u001b[39;00m\u001b[38;5;124m[0m\u001b[39m\u001b[38;5;130;01m\\n\u001b[39;00m\u001b[38;5;130;01m\\u001b\u001b[39;00m\u001b[38;5;124m[1;32m    365\u001b[39m\u001b[38;5;130;01m\\u001b\u001b[39;00m\u001b[38;5;124m[0m     \u001b[39m\u001b[38;5;130;01m\\u001b\u001b[39;00m\u001b[38;5;124m[38;5;124m\u001b[39m\u001b[38;5;124m'\u001b[39m\u001b[38;5;130;01m\\u001b\u001b[39;00m\u001b[38;5;124m[39m\u001b[39m\u001b[38;5;130;01m\\u001b\u001b[39;00m\u001b[38;5;124m[38;5;124mheaders\u001b[39m\u001b[38;5;130;01m\\u001b\u001b[39;00m\u001b[38;5;124m[39m\u001b[39m\u001b[38;5;130;01m\\u001b\u001b[39;00m\u001b[38;5;124m[38;5;124m\u001b[39m\u001b[38;5;124m'\u001b[39m\u001b[38;5;130;01m\\u001b\u001b[39;00m\u001b[38;5;124m[39m: user_agent_headers \u001b[39m\u001b[38;5;130;01m\\u001b\u001b[39;00m\u001b[38;5;124m[38;5;129;01mor\u001b[39m\u001b[38;5;130;01m\\u001b\u001b[39;00m\u001b[38;5;124m[39;00m \u001b[39m\u001b[38;5;130;01m\\u001b\u001b[39;00m\u001b[38;5;124m[38;5;28mself\u001b[39m\u001b[38;5;130;01m\\u001b\u001b[39;00m\u001b[38;5;124m[39m\u001b[39m\u001b[38;5;130;01m\\u001b\u001b[39;00m\u001b[38;5;124m[38;5;241m.\u001b[39m\u001b[38;5;130;01m\\u001b\u001b[39;00m\u001b[38;5;124m[39muser_agent_headers\u001b[39m\u001b[38;5;130;01m\\n\u001b[39;00m\u001b[38;5;130;01m\\u001b\u001b[39;00m\u001b[38;5;124m[1;32m    366\u001b[39m\u001b[38;5;130;01m\\u001b\u001b[39;00m\u001b[38;5;124m[0m }\u001b[39m\u001b[38;5;130;01m\\n\u001b[39;00m\u001b[38;5;130;01m\\u001b\u001b[39;00m\u001b[38;5;124m[0;32m--> 367\u001b[39m\u001b[38;5;130;01m\\u001b\u001b[39;00m\u001b[38;5;124m[0m response \u001b[39m\u001b[38;5;130;01m\\u001b\u001b[39;00m\u001b[38;5;124m[38;5;241m=\u001b[39m\u001b[38;5;130;01m\\u001b\u001b[39;00m\u001b[38;5;124m[39m \u001b[39m\u001b[38;5;130;01m\\u001b\u001b[39;00m\u001b[38;5;124m[38;5;28mself\u001b[39m\u001b[38;5;130;01m\\u001b\u001b[39;00m\u001b[38;5;124m[39m\u001b[39m\u001b[38;5;130;01m\\u001b\u001b[39;00m\u001b[38;5;124m[38;5;241m.\u001b[39m\u001b[38;5;130;01m\\u001b\u001b[39;00m\u001b[38;5;124m[39m_session\u001b[39m\u001b[38;5;130;01m\\u001b\u001b[39;00m\u001b[38;5;124m[38;5;241m.\u001b[39m\u001b[38;5;130;01m\\u001b\u001b[39;00m\u001b[38;5;124m[39mget(\u001b[39m\u001b[38;5;130;01m\\u001b\u001b[39;00m\u001b[38;5;124m[38;5;241m*\u001b[39m\u001b[38;5;130;01m\\u001b\u001b[39;00m\u001b[38;5;124m[39m\u001b[39m\u001b[38;5;130;01m\\u001b\u001b[39;00m\u001b[38;5;124m[38;5;241m*\u001b[39m\u001b[38;5;130;01m\\u001b\u001b[39;00m\u001b[38;5;124m[39mrequest_args)\u001b[39m\u001b[38;5;130;01m\\n\u001b[39;00m\u001b[38;5;130;01m\\u001b\u001b[39;00m\u001b[38;5;124m[1;32m    368\u001b[39m\u001b[38;5;130;01m\\u001b\u001b[39;00m\u001b[38;5;124m[0m utils\u001b[39m\u001b[38;5;130;01m\\u001b\u001b[39;00m\u001b[38;5;124m[38;5;241m.\u001b[39m\u001b[38;5;130;01m\\u001b\u001b[39;00m\u001b[38;5;124m[39mget_yf_logger()\u001b[39m\u001b[38;5;130;01m\\u001b\u001b[39;00m\u001b[38;5;124m[38;5;241m.\u001b[39m\u001b[38;5;130;01m\\u001b\u001b[39;00m\u001b[38;5;124m[39mdebug(\u001b[39m\u001b[38;5;130;01m\\u001b\u001b[39;00m\u001b[38;5;124m[38;5;124mf\u001b[39m\u001b[38;5;130;01m\\u001b\u001b[39;00m\u001b[38;5;124m[39m\u001b[39m\u001b[38;5;130;01m\\u001b\u001b[39;00m\u001b[38;5;124m[38;5;124m\u001b[39m\u001b[38;5;124m'\u001b[39m\u001b[38;5;130;01m\\u001b\u001b[39;00m\u001b[38;5;124m[39m\u001b[39m\u001b[38;5;130;01m\\u001b\u001b[39;00m\u001b[38;5;124m[38;5;124mresponse code=\u001b[39m\u001b[38;5;130;01m\\u001b\u001b[39;00m\u001b[38;5;124m[39m\u001b[39m\u001b[38;5;130;01m\\u001b\u001b[39;00m\u001b[38;5;124m[38;5;132;01m\u001b[39m\u001b[38;5;124m{\u001b[39m\u001b[38;5;130;01m\\u001b\u001b[39;00m\u001b[38;5;124m[39;00mresponse\u001b[39m\u001b[38;5;130;01m\\u001b\u001b[39;00m\u001b[38;5;124m[38;5;241m.\u001b[39m\u001b[38;5;130;01m\\u001b\u001b[39;00m\u001b[38;5;124m[39mstatus_code\u001b[39m\u001b[38;5;130;01m\\u001b\u001b[39;00m\u001b[38;5;124m[38;5;132;01m}\u001b[39m\u001b[38;5;130;01m\\u001b\u001b[39;00m\u001b[38;5;124m[39;00m\u001b[39m\u001b[38;5;130;01m\\u001b\u001b[39;00m\u001b[38;5;124m[38;5;124m\u001b[39m\u001b[38;5;124m'\u001b[39m\u001b[38;5;130;01m\\u001b\u001b[39;00m\u001b[38;5;124m[39m)\u001b[39m\u001b[38;5;130;01m\\n\u001b[39;00m\u001b[38;5;130;01m\\u001b\u001b[39;00m\u001b[38;5;124m[1;32m    369\u001b[39m\u001b[38;5;130;01m\\u001b\u001b[39;00m\u001b[38;5;124m[0m \u001b[39m\u001b[38;5;130;01m\\u001b\u001b[39;00m\u001b[38;5;124m[38;5;28;01mif\u001b[39m\u001b[38;5;130;01m\\u001b\u001b[39;00m\u001b[38;5;124m[39;00m response\u001b[39m\u001b[38;5;130;01m\\u001b\u001b[39;00m\u001b[38;5;124m[38;5;241m.\u001b[39m\u001b[38;5;130;01m\\u001b\u001b[39;00m\u001b[38;5;124m[39mstatus_code \u001b[39m\u001b[38;5;130;01m\\u001b\u001b[39;00m\u001b[38;5;124m[38;5;241m>\u001b[39m\u001b[38;5;130;01m\\u001b\u001b[39;00m\u001b[38;5;124m[39m\u001b[39m\u001b[38;5;130;01m\\u001b\u001b[39;00m\u001b[38;5;124m[38;5;241m=\u001b[39m\u001b[38;5;130;01m\\u001b\u001b[39;00m\u001b[38;5;124m[39m \u001b[39m\u001b[38;5;130;01m\\u001b\u001b[39;00m\u001b[38;5;124m[38;5;241m400\u001b[39m\u001b[38;5;130;01m\\u001b\u001b[39;00m\u001b[38;5;124m[39m:\u001b[39m\u001b[38;5;130;01m\\n\u001b[39;00m\u001b[38;5;130;01m\\u001b\u001b[39;00m\u001b[38;5;124m[1;32m    370\u001b[39m\u001b[38;5;130;01m\\u001b\u001b[39;00m\u001b[38;5;124m[0m     \u001b[39m\u001b[38;5;130;01m\\u001b\u001b[39;00m\u001b[38;5;124m[38;5;66;03m# Retry with other cookie strategy\u001b[39m\u001b[38;5;130;01m\\u001b\u001b[39;00m\u001b[38;5;124m[39;00m\u001b[39m\u001b[38;5;130;01m\\n\u001b[39;00m\u001b[38;5;124m\"\u001b[39m,\n\u001b[1;32m    169\u001b[0m       \u001b[38;5;124m\"\u001b[39m\u001b[38;5;124mFile \u001b[39m\u001b[38;5;130;01m\\u001b\u001b[39;00m\u001b[38;5;124m[0;32m~/anaconda3/lib/python3.11/site-packages/requests/sessions.py:602\u001b[39m\u001b[38;5;130;01m\\u001b\u001b[39;00m\u001b[38;5;124m[0m, in \u001b[39m\u001b[38;5;130;01m\\u001b\u001b[39;00m\u001b[38;5;124m[0;36mSession.get\u001b[39m\u001b[38;5;130;01m\\u001b\u001b[39;00m\u001b[38;5;124m[0;34m(self, url, **kwargs)\u001b[39m\u001b[38;5;130;01m\\u001b\u001b[39;00m\u001b[38;5;124m[0m\u001b[39m\u001b[38;5;130;01m\\n\u001b[39;00m\u001b[38;5;130;01m\\u001b\u001b[39;00m\u001b[38;5;124m[1;32m    594\u001b[39m\u001b[38;5;130;01m\\u001b\u001b[39;00m\u001b[38;5;124m[0m \u001b[39m\u001b[38;5;130;01m\\u001b\u001b[39;00m\u001b[38;5;124m[38;5;250m\u001b[39m\u001b[38;5;130;01m\\u001b\u001b[39;00m\u001b[38;5;124m[39m\u001b[39m\u001b[38;5;130;01m\\u001b\u001b[39;00m\u001b[38;5;124m[38;5;124mr\u001b[39m\u001b[38;5;130;01m\\u001b\u001b[39;00m\u001b[38;5;124m[39m\u001b[39m\u001b[38;5;130;01m\\u001b\u001b[39;00m\u001b[38;5;124m[38;5;124;03m\u001b[39m\u001b[38;5;130;01m\\\"\u001b[39;00m\u001b[38;5;130;01m\\\"\u001b[39;00m\u001b[38;5;130;01m\\\"\u001b[39;00m\u001b[38;5;124mSends a GET request. Returns :class:`Response` object.\u001b[39m\u001b[38;5;130;01m\\u001b\u001b[39;00m\u001b[38;5;124m[39;00m\u001b[39m\u001b[38;5;130;01m\\n\u001b[39;00m\u001b[38;5;130;01m\\u001b\u001b[39;00m\u001b[38;5;124m[1;32m    595\u001b[39m\u001b[38;5;130;01m\\u001b\u001b[39;00m\u001b[38;5;124m[0m \u001b[39m\u001b[38;5;130;01m\\n\u001b[39;00m\u001b[38;5;130;01m\\u001b\u001b[39;00m\u001b[38;5;124m[1;32m    596\u001b[39m\u001b[38;5;130;01m\\u001b\u001b[39;00m\u001b[38;5;124m[0m \u001b[39m\u001b[38;5;130;01m\\u001b\u001b[39;00m\u001b[38;5;124m[38;5;124;03m:param url: URL for the new :class:`Request` object.\u001b[39m\u001b[38;5;130;01m\\u001b\u001b[39;00m\u001b[38;5;124m[39;00m\u001b[39m\u001b[38;5;130;01m\\n\u001b[39;00m\u001b[38;5;130;01m\\u001b\u001b[39;00m\u001b[38;5;124m[1;32m    597\u001b[39m\u001b[38;5;130;01m\\u001b\u001b[39;00m\u001b[38;5;124m[0m \u001b[39m\u001b[38;5;130;01m\\u001b\u001b[39;00m\u001b[38;5;124m[38;5;124;03m:param \u001b[39m\u001b[38;5;130;01m\\\\\u001b[39;00m\u001b[38;5;124m*\u001b[39m\u001b[38;5;130;01m\\\\\u001b[39;00m\u001b[38;5;124m*kwargs: Optional arguments that ``request`` takes.\u001b[39m\u001b[38;5;130;01m\\u001b\u001b[39;00m\u001b[38;5;124m[39;00m\u001b[39m\u001b[38;5;130;01m\\n\u001b[39;00m\u001b[38;5;130;01m\\u001b\u001b[39;00m\u001b[38;5;124m[1;32m    598\u001b[39m\u001b[38;5;130;01m\\u001b\u001b[39;00m\u001b[38;5;124m[0m \u001b[39m\u001b[38;5;130;01m\\u001b\u001b[39;00m\u001b[38;5;124m[38;5;124;03m:rtype: requests.Response\u001b[39m\u001b[38;5;130;01m\\u001b\u001b[39;00m\u001b[38;5;124m[39;00m\u001b[39m\u001b[38;5;130;01m\\n\u001b[39;00m\u001b[38;5;130;01m\\u001b\u001b[39;00m\u001b[38;5;124m[1;32m    599\u001b[39m\u001b[38;5;130;01m\\u001b\u001b[39;00m\u001b[38;5;124m[0m \u001b[39m\u001b[38;5;130;01m\\u001b\u001b[39;00m\u001b[38;5;124m[38;5;124;03m\u001b[39m\u001b[38;5;130;01m\\\"\u001b[39;00m\u001b[38;5;130;01m\\\"\u001b[39;00m\u001b[38;5;130;01m\\\"\u001b[39;00m\u001b[38;5;130;01m\\u001b\u001b[39;00m\u001b[38;5;124m[39;00m\u001b[39m\u001b[38;5;130;01m\\n\u001b[39;00m\u001b[38;5;130;01m\\u001b\u001b[39;00m\u001b[38;5;124m[1;32m    601\u001b[39m\u001b[38;5;130;01m\\u001b\u001b[39;00m\u001b[38;5;124m[0m kwargs\u001b[39m\u001b[38;5;130;01m\\u001b\u001b[39;00m\u001b[38;5;124m[38;5;241m.\u001b[39m\u001b[38;5;130;01m\\u001b\u001b[39;00m\u001b[38;5;124m[39msetdefault(\u001b[39m\u001b[38;5;130;01m\\u001b\u001b[39;00m\u001b[38;5;124m[38;5;124m\u001b[39m\u001b[38;5;130;01m\\\"\u001b[39;00m\u001b[38;5;130;01m\\u001b\u001b[39;00m\u001b[38;5;124m[39m\u001b[39m\u001b[38;5;130;01m\\u001b\u001b[39;00m\u001b[38;5;124m[38;5;124mallow_redirects\u001b[39m\u001b[38;5;130;01m\\u001b\u001b[39;00m\u001b[38;5;124m[39m\u001b[39m\u001b[38;5;130;01m\\u001b\u001b[39;00m\u001b[38;5;124m[38;5;124m\u001b[39m\u001b[38;5;130;01m\\\"\u001b[39;00m\u001b[38;5;130;01m\\u001b\u001b[39;00m\u001b[38;5;124m[39m, \u001b[39m\u001b[38;5;130;01m\\u001b\u001b[39;00m\u001b[38;5;124m[38;5;28;01mTrue\u001b[39m\u001b[38;5;130;01m\\u001b\u001b[39;00m\u001b[38;5;124m[39;00m)\u001b[39m\u001b[38;5;130;01m\\n\u001b[39;00m\u001b[38;5;130;01m\\u001b\u001b[39;00m\u001b[38;5;124m[0;32m--> 602\u001b[39m\u001b[38;5;130;01m\\u001b\u001b[39;00m\u001b[38;5;124m[0m \u001b[39m\u001b[38;5;130;01m\\u001b\u001b[39;00m\u001b[38;5;124m[38;5;28;01mreturn\u001b[39m\u001b[38;5;130;01m\\u001b\u001b[39;00m\u001b[38;5;124m[39;00m \u001b[39m\u001b[38;5;130;01m\\u001b\u001b[39;00m\u001b[38;5;124m[38;5;28mself\u001b[39m\u001b[38;5;130;01m\\u001b\u001b[39;00m\u001b[38;5;124m[39m\u001b[39m\u001b[38;5;130;01m\\u001b\u001b[39;00m\u001b[38;5;124m[38;5;241m.\u001b[39m\u001b[38;5;130;01m\\u001b\u001b[39;00m\u001b[38;5;124m[39mrequest(\u001b[39m\u001b[38;5;130;01m\\u001b\u001b[39;00m\u001b[38;5;124m[38;5;124m\u001b[39m\u001b[38;5;130;01m\\\"\u001b[39;00m\u001b[38;5;130;01m\\u001b\u001b[39;00m\u001b[38;5;124m[39m\u001b[39m\u001b[38;5;130;01m\\u001b\u001b[39;00m\u001b[38;5;124m[38;5;124mGET\u001b[39m\u001b[38;5;130;01m\\u001b\u001b[39;00m\u001b[38;5;124m[39m\u001b[39m\u001b[38;5;130;01m\\u001b\u001b[39;00m\u001b[38;5;124m[38;5;124m\u001b[39m\u001b[38;5;130;01m\\\"\u001b[39;00m\u001b[38;5;130;01m\\u001b\u001b[39;00m\u001b[38;5;124m[39m, url, \u001b[39m\u001b[38;5;130;01m\\u001b\u001b[39;00m\u001b[38;5;124m[38;5;241m*\u001b[39m\u001b[38;5;130;01m\\u001b\u001b[39;00m\u001b[38;5;124m[39m\u001b[39m\u001b[38;5;130;01m\\u001b\u001b[39;00m\u001b[38;5;124m[38;5;241m*\u001b[39m\u001b[38;5;130;01m\\u001b\u001b[39;00m\u001b[38;5;124m[39mkwargs)\u001b[39m\u001b[38;5;130;01m\\n\u001b[39;00m\u001b[38;5;124m\"\u001b[39m,\n\u001b[1;32m    170\u001b[0m       \u001b[38;5;124m\"\u001b[39m\u001b[38;5;124mFile \u001b[39m\u001b[38;5;130;01m\\u001b\u001b[39;00m\u001b[38;5;124m[0;32m~/anaconda3/lib/python3.11/site-packages/requests/sessions.py:589\u001b[39m\u001b[38;5;130;01m\\u001b\u001b[39;00m\u001b[38;5;124m[0m, in \u001b[39m\u001b[38;5;130;01m\\u001b\u001b[39;00m\u001b[38;5;124m[0;36mSession.request\u001b[39m\u001b[38;5;130;01m\\u001b\u001b[39;00m\u001b[38;5;124m[0;34m(self, method, url, params, data, headers, cookies, files, auth, timeout, allow_redirects, proxies, hooks, stream, verify, cert, json)\u001b[39m\u001b[38;5;130;01m\\u001b\u001b[39;00m\u001b[38;5;124m[0m\u001b[39m\u001b[38;5;130;01m\\n\u001b[39;00m\u001b[38;5;130;01m\\u001b\u001b[39;00m\u001b[38;5;124m[1;32m    584\u001b[39m\u001b[38;5;130;01m\\u001b\u001b[39;00m\u001b[38;5;124m[0m send_kwargs \u001b[39m\u001b[38;5;130;01m\\u001b\u001b[39;00m\u001b[38;5;124m[38;5;241m=\u001b[39m\u001b[38;5;130;01m\\u001b\u001b[39;00m\u001b[38;5;124m[39m \u001b[39m\u001b[38;5;124m{\u001b[39m\u001b[38;5;130;01m\\n\u001b[39;00m\u001b[38;5;130;01m\\u001b\u001b[39;00m\u001b[38;5;124m[1;32m    585\u001b[39m\u001b[38;5;130;01m\\u001b\u001b[39;00m\u001b[38;5;124m[0m     \u001b[39m\u001b[38;5;130;01m\\u001b\u001b[39;00m\u001b[38;5;124m[38;5;124m\u001b[39m\u001b[38;5;130;01m\\\"\u001b[39;00m\u001b[38;5;130;01m\\u001b\u001b[39;00m\u001b[38;5;124m[39m\u001b[39m\u001b[38;5;130;01m\\u001b\u001b[39;00m\u001b[38;5;124m[38;5;124mtimeout\u001b[39m\u001b[38;5;130;01m\\u001b\u001b[39;00m\u001b[38;5;124m[39m\u001b[39m\u001b[38;5;130;01m\\u001b\u001b[39;00m\u001b[38;5;124m[38;5;124m\u001b[39m\u001b[38;5;130;01m\\\"\u001b[39;00m\u001b[38;5;130;01m\\u001b\u001b[39;00m\u001b[38;5;124m[39m: timeout,\u001b[39m\u001b[38;5;130;01m\\n\u001b[39;00m\u001b[38;5;130;01m\\u001b\u001b[39;00m\u001b[38;5;124m[1;32m    586\u001b[39m\u001b[38;5;130;01m\\u001b\u001b[39;00m\u001b[38;5;124m[0m     \u001b[39m\u001b[38;5;130;01m\\u001b\u001b[39;00m\u001b[38;5;124m[38;5;124m\u001b[39m\u001b[38;5;130;01m\\\"\u001b[39;00m\u001b[38;5;130;01m\\u001b\u001b[39;00m\u001b[38;5;124m[39m\u001b[39m\u001b[38;5;130;01m\\u001b\u001b[39;00m\u001b[38;5;124m[38;5;124mallow_redirects\u001b[39m\u001b[38;5;130;01m\\u001b\u001b[39;00m\u001b[38;5;124m[39m\u001b[39m\u001b[38;5;130;01m\\u001b\u001b[39;00m\u001b[38;5;124m[38;5;124m\u001b[39m\u001b[38;5;130;01m\\\"\u001b[39;00m\u001b[38;5;130;01m\\u001b\u001b[39;00m\u001b[38;5;124m[39m: allow_redirects,\u001b[39m\u001b[38;5;130;01m\\n\u001b[39;00m\u001b[38;5;130;01m\\u001b\u001b[39;00m\u001b[38;5;124m[1;32m    587\u001b[39m\u001b[38;5;130;01m\\u001b\u001b[39;00m\u001b[38;5;124m[0m }\u001b[39m\u001b[38;5;130;01m\\n\u001b[39;00m\u001b[38;5;130;01m\\u001b\u001b[39;00m\u001b[38;5;124m[1;32m    588\u001b[39m\u001b[38;5;130;01m\\u001b\u001b[39;00m\u001b[38;5;124m[0m send_kwargs\u001b[39m\u001b[38;5;130;01m\\u001b\u001b[39;00m\u001b[38;5;124m[38;5;241m.\u001b[39m\u001b[38;5;130;01m\\u001b\u001b[39;00m\u001b[38;5;124m[39mupdate(settings)\u001b[39m\u001b[38;5;130;01m\\n\u001b[39;00m\u001b[38;5;130;01m\\u001b\u001b[39;00m\u001b[38;5;124m[0;32m--> 589\u001b[39m\u001b[38;5;130;01m\\u001b\u001b[39;00m\u001b[38;5;124m[0m resp \u001b[39m\u001b[38;5;130;01m\\u001b\u001b[39;00m\u001b[38;5;124m[38;5;241m=\u001b[39m\u001b[38;5;130;01m\\u001b\u001b[39;00m\u001b[38;5;124m[39m \u001b[39m\u001b[38;5;130;01m\\u001b\u001b[39;00m\u001b[38;5;124m[38;5;28mself\u001b[39m\u001b[38;5;130;01m\\u001b\u001b[39;00m\u001b[38;5;124m[39m\u001b[39m\u001b[38;5;130;01m\\u001b\u001b[39;00m\u001b[38;5;124m[38;5;241m.\u001b[39m\u001b[38;5;130;01m\\u001b\u001b[39;00m\u001b[38;5;124m[39msend(prep, \u001b[39m\u001b[38;5;130;01m\\u001b\u001b[39;00m\u001b[38;5;124m[38;5;241m*\u001b[39m\u001b[38;5;130;01m\\u001b\u001b[39;00m\u001b[38;5;124m[39m\u001b[39m\u001b[38;5;130;01m\\u001b\u001b[39;00m\u001b[38;5;124m[38;5;241m*\u001b[39m\u001b[38;5;130;01m\\u001b\u001b[39;00m\u001b[38;5;124m[39msend_kwargs)\u001b[39m\u001b[38;5;130;01m\\n\u001b[39;00m\u001b[38;5;130;01m\\u001b\u001b[39;00m\u001b[38;5;124m[1;32m    591\u001b[39m\u001b[38;5;130;01m\\u001b\u001b[39;00m\u001b[38;5;124m[0m \u001b[39m\u001b[38;5;130;01m\\u001b\u001b[39;00m\u001b[38;5;124m[38;5;28;01mreturn\u001b[39m\u001b[38;5;130;01m\\u001b\u001b[39;00m\u001b[38;5;124m[39;00m resp\u001b[39m\u001b[38;5;130;01m\\n\u001b[39;00m\u001b[38;5;124m\"\u001b[39m,\n\u001b[1;32m    171\u001b[0m       \u001b[38;5;124m\"\u001b[39m\u001b[38;5;124mFile \u001b[39m\u001b[38;5;130;01m\\u001b\u001b[39;00m\u001b[38;5;124m[0;32m~/anaconda3/lib/python3.11/site-packages/requests/sessions.py:703\u001b[39m\u001b[38;5;130;01m\\u001b\u001b[39;00m\u001b[38;5;124m[0m, in \u001b[39m\u001b[38;5;130;01m\\u001b\u001b[39;00m\u001b[38;5;124m[0;36mSession.send\u001b[39m\u001b[38;5;130;01m\\u001b\u001b[39;00m\u001b[38;5;124m[0;34m(self, request, **kwargs)\u001b[39m\u001b[38;5;130;01m\\u001b\u001b[39;00m\u001b[38;5;124m[0m\u001b[39m\u001b[38;5;130;01m\\n\u001b[39;00m\u001b[38;5;130;01m\\u001b\u001b[39;00m\u001b[38;5;124m[1;32m    700\u001b[39m\u001b[38;5;130;01m\\u001b\u001b[39;00m\u001b[38;5;124m[0m start \u001b[39m\u001b[38;5;130;01m\\u001b\u001b[39;00m\u001b[38;5;124m[38;5;241m=\u001b[39m\u001b[38;5;130;01m\\u001b\u001b[39;00m\u001b[38;5;124m[39m preferred_clock()\u001b[39m\u001b[38;5;130;01m\\n\u001b[39;00m\u001b[38;5;130;01m\\u001b\u001b[39;00m\u001b[38;5;124m[1;32m    702\u001b[39m\u001b[38;5;130;01m\\u001b\u001b[39;00m\u001b[38;5;124m[0m \u001b[39m\u001b[38;5;130;01m\\u001b\u001b[39;00m\u001b[38;5;124m[38;5;66;03m# Send the request\u001b[39m\u001b[38;5;130;01m\\u001b\u001b[39;00m\u001b[38;5;124m[39;00m\u001b[39m\u001b[38;5;130;01m\\n\u001b[39;00m\u001b[38;5;130;01m\\u001b\u001b[39;00m\u001b[38;5;124m[0;32m--> 703\u001b[39m\u001b[38;5;130;01m\\u001b\u001b[39;00m\u001b[38;5;124m[0m r \u001b[39m\u001b[38;5;130;01m\\u001b\u001b[39;00m\u001b[38;5;124m[38;5;241m=\u001b[39m\u001b[38;5;130;01m\\u001b\u001b[39;00m\u001b[38;5;124m[39m adapter\u001b[39m\u001b[38;5;130;01m\\u001b\u001b[39;00m\u001b[38;5;124m[38;5;241m.\u001b[39m\u001b[38;5;130;01m\\u001b\u001b[39;00m\u001b[38;5;124m[39msend(request, \u001b[39m\u001b[38;5;130;01m\\u001b\u001b[39;00m\u001b[38;5;124m[38;5;241m*\u001b[39m\u001b[38;5;130;01m\\u001b\u001b[39;00m\u001b[38;5;124m[39m\u001b[39m\u001b[38;5;130;01m\\u001b\u001b[39;00m\u001b[38;5;124m[38;5;241m*\u001b[39m\u001b[38;5;130;01m\\u001b\u001b[39;00m\u001b[38;5;124m[39mkwargs)\u001b[39m\u001b[38;5;130;01m\\n\u001b[39;00m\u001b[38;5;130;01m\\u001b\u001b[39;00m\u001b[38;5;124m[1;32m    705\u001b[39m\u001b[38;5;130;01m\\u001b\u001b[39;00m\u001b[38;5;124m[0m \u001b[39m\u001b[38;5;130;01m\\u001b\u001b[39;00m\u001b[38;5;124m[38;5;66;03m# Total elapsed time of the request (approximately)\u001b[39m\u001b[38;5;130;01m\\u001b\u001b[39;00m\u001b[38;5;124m[39;00m\u001b[39m\u001b[38;5;130;01m\\n\u001b[39;00m\u001b[38;5;130;01m\\u001b\u001b[39;00m\u001b[38;5;124m[1;32m    706\u001b[39m\u001b[38;5;130;01m\\u001b\u001b[39;00m\u001b[38;5;124m[0m elapsed \u001b[39m\u001b[38;5;130;01m\\u001b\u001b[39;00m\u001b[38;5;124m[38;5;241m=\u001b[39m\u001b[38;5;130;01m\\u001b\u001b[39;00m\u001b[38;5;124m[39m preferred_clock() \u001b[39m\u001b[38;5;130;01m\\u001b\u001b[39;00m\u001b[38;5;124m[38;5;241m-\u001b[39m\u001b[38;5;130;01m\\u001b\u001b[39;00m\u001b[38;5;124m[39m start\u001b[39m\u001b[38;5;130;01m\\n\u001b[39;00m\u001b[38;5;124m\"\u001b[39m,\n\u001b[1;32m    172\u001b[0m       \u001b[38;5;124m\"\u001b[39m\u001b[38;5;124mFile \u001b[39m\u001b[38;5;130;01m\\u001b\u001b[39;00m\u001b[38;5;124m[0;32m~/anaconda3/lib/python3.11/site-packages/requests/adapters.py:486\u001b[39m\u001b[38;5;130;01m\\u001b\u001b[39;00m\u001b[38;5;124m[0m, in \u001b[39m\u001b[38;5;130;01m\\u001b\u001b[39;00m\u001b[38;5;124m[0;36mHTTPAdapter.send\u001b[39m\u001b[38;5;130;01m\\u001b\u001b[39;00m\u001b[38;5;124m[0;34m(self, request, stream, timeout, verify, cert, proxies)\u001b[39m\u001b[38;5;130;01m\\u001b\u001b[39;00m\u001b[38;5;124m[0m\u001b[39m\u001b[38;5;130;01m\\n\u001b[39;00m\u001b[38;5;130;01m\\u001b\u001b[39;00m\u001b[38;5;124m[1;32m    483\u001b[39m\u001b[38;5;130;01m\\u001b\u001b[39;00m\u001b[38;5;124m[0m     timeout \u001b[39m\u001b[38;5;130;01m\\u001b\u001b[39;00m\u001b[38;5;124m[38;5;241m=\u001b[39m\u001b[38;5;130;01m\\u001b\u001b[39;00m\u001b[38;5;124m[39m TimeoutSauce(connect\u001b[39m\u001b[38;5;130;01m\\u001b\u001b[39;00m\u001b[38;5;124m[38;5;241m=\u001b[39m\u001b[38;5;130;01m\\u001b\u001b[39;00m\u001b[38;5;124m[39mtimeout, read\u001b[39m\u001b[38;5;130;01m\\u001b\u001b[39;00m\u001b[38;5;124m[38;5;241m=\u001b[39m\u001b[38;5;130;01m\\u001b\u001b[39;00m\u001b[38;5;124m[39mtimeout)\u001b[39m\u001b[38;5;130;01m\\n\u001b[39;00m\u001b[38;5;130;01m\\u001b\u001b[39;00m\u001b[38;5;124m[1;32m    485\u001b[39m\u001b[38;5;130;01m\\u001b\u001b[39;00m\u001b[38;5;124m[0m \u001b[39m\u001b[38;5;130;01m\\u001b\u001b[39;00m\u001b[38;5;124m[38;5;28;01mtry\u001b[39m\u001b[38;5;130;01m\\u001b\u001b[39;00m\u001b[38;5;124m[39;00m:\u001b[39m\u001b[38;5;130;01m\\n\u001b[39;00m\u001b[38;5;130;01m\\u001b\u001b[39;00m\u001b[38;5;124m[0;32m--> 486\u001b[39m\u001b[38;5;130;01m\\u001b\u001b[39;00m\u001b[38;5;124m[0m     resp \u001b[39m\u001b[38;5;130;01m\\u001b\u001b[39;00m\u001b[38;5;124m[38;5;241m=\u001b[39m\u001b[38;5;130;01m\\u001b\u001b[39;00m\u001b[38;5;124m[39m conn\u001b[39m\u001b[38;5;130;01m\\u001b\u001b[39;00m\u001b[38;5;124m[38;5;241m.\u001b[39m\u001b[38;5;130;01m\\u001b\u001b[39;00m\u001b[38;5;124m[39murlopen(\u001b[39m\u001b[38;5;130;01m\\n\u001b[39;00m\u001b[38;5;130;01m\\u001b\u001b[39;00m\u001b[38;5;124m[1;32m    487\u001b[39m\u001b[38;5;130;01m\\u001b\u001b[39;00m\u001b[38;5;124m[0m         method\u001b[39m\u001b[38;5;130;01m\\u001b\u001b[39;00m\u001b[38;5;124m[38;5;241m=\u001b[39m\u001b[38;5;130;01m\\u001b\u001b[39;00m\u001b[38;5;124m[39mrequest\u001b[39m\u001b[38;5;130;01m\\u001b\u001b[39;00m\u001b[38;5;124m[38;5;241m.\u001b[39m\u001b[38;5;130;01m\\u001b\u001b[39;00m\u001b[38;5;124m[39mmethod,\u001b[39m\u001b[38;5;130;01m\\n\u001b[39;00m\u001b[38;5;130;01m\\u001b\u001b[39;00m\u001b[38;5;124m[1;32m    488\u001b[39m\u001b[38;5;130;01m\\u001b\u001b[39;00m\u001b[38;5;124m[0m         url\u001b[39m\u001b[38;5;130;01m\\u001b\u001b[39;00m\u001b[38;5;124m[38;5;241m=\u001b[39m\u001b[38;5;130;01m\\u001b\u001b[39;00m\u001b[38;5;124m[39murl,\u001b[39m\u001b[38;5;130;01m\\n\u001b[39;00m\u001b[38;5;130;01m\\u001b\u001b[39;00m\u001b[38;5;124m[1;32m    489\u001b[39m\u001b[38;5;130;01m\\u001b\u001b[39;00m\u001b[38;5;124m[0m         body\u001b[39m\u001b[38;5;130;01m\\u001b\u001b[39;00m\u001b[38;5;124m[38;5;241m=\u001b[39m\u001b[38;5;130;01m\\u001b\u001b[39;00m\u001b[38;5;124m[39mrequest\u001b[39m\u001b[38;5;130;01m\\u001b\u001b[39;00m\u001b[38;5;124m[38;5;241m.\u001b[39m\u001b[38;5;130;01m\\u001b\u001b[39;00m\u001b[38;5;124m[39mbody,\u001b[39m\u001b[38;5;130;01m\\n\u001b[39;00m\u001b[38;5;130;01m\\u001b\u001b[39;00m\u001b[38;5;124m[1;32m    490\u001b[39m\u001b[38;5;130;01m\\u001b\u001b[39;00m\u001b[38;5;124m[0m         headers\u001b[39m\u001b[38;5;130;01m\\u001b\u001b[39;00m\u001b[38;5;124m[38;5;241m=\u001b[39m\u001b[38;5;130;01m\\u001b\u001b[39;00m\u001b[38;5;124m[39mrequest\u001b[39m\u001b[38;5;130;01m\\u001b\u001b[39;00m\u001b[38;5;124m[38;5;241m.\u001b[39m\u001b[38;5;130;01m\\u001b\u001b[39;00m\u001b[38;5;124m[39mheaders,\u001b[39m\u001b[38;5;130;01m\\n\u001b[39;00m\u001b[38;5;130;01m\\u001b\u001b[39;00m\u001b[38;5;124m[1;32m    491\u001b[39m\u001b[38;5;130;01m\\u001b\u001b[39;00m\u001b[38;5;124m[0m         redirect\u001b[39m\u001b[38;5;130;01m\\u001b\u001b[39;00m\u001b[38;5;124m[38;5;241m=\u001b[39m\u001b[38;5;130;01m\\u001b\u001b[39;00m\u001b[38;5;124m[39m\u001b[39m\u001b[38;5;130;01m\\u001b\u001b[39;00m\u001b[38;5;124m[38;5;28;01mFalse\u001b[39m\u001b[38;5;130;01m\\u001b\u001b[39;00m\u001b[38;5;124m[39;00m,\u001b[39m\u001b[38;5;130;01m\\n\u001b[39;00m\u001b[38;5;130;01m\\u001b\u001b[39;00m\u001b[38;5;124m[1;32m    492\u001b[39m\u001b[38;5;130;01m\\u001b\u001b[39;00m\u001b[38;5;124m[0m         assert_same_host\u001b[39m\u001b[38;5;130;01m\\u001b\u001b[39;00m\u001b[38;5;124m[38;5;241m=\u001b[39m\u001b[38;5;130;01m\\u001b\u001b[39;00m\u001b[38;5;124m[39m\u001b[39m\u001b[38;5;130;01m\\u001b\u001b[39;00m\u001b[38;5;124m[38;5;28;01mFalse\u001b[39m\u001b[38;5;130;01m\\u001b\u001b[39;00m\u001b[38;5;124m[39;00m,\u001b[39m\u001b[38;5;130;01m\\n\u001b[39;00m\u001b[38;5;130;01m\\u001b\u001b[39;00m\u001b[38;5;124m[1;32m    493\u001b[39m\u001b[38;5;130;01m\\u001b\u001b[39;00m\u001b[38;5;124m[0m         preload_content\u001b[39m\u001b[38;5;130;01m\\u001b\u001b[39;00m\u001b[38;5;124m[38;5;241m=\u001b[39m\u001b[38;5;130;01m\\u001b\u001b[39;00m\u001b[38;5;124m[39m\u001b[39m\u001b[38;5;130;01m\\u001b\u001b[39;00m\u001b[38;5;124m[38;5;28;01mFalse\u001b[39m\u001b[38;5;130;01m\\u001b\u001b[39;00m\u001b[38;5;124m[39;00m,\u001b[39m\u001b[38;5;130;01m\\n\u001b[39;00m\u001b[38;5;130;01m\\u001b\u001b[39;00m\u001b[38;5;124m[1;32m    494\u001b[39m\u001b[38;5;130;01m\\u001b\u001b[39;00m\u001b[38;5;124m[0m         decode_content\u001b[39m\u001b[38;5;130;01m\\u001b\u001b[39;00m\u001b[38;5;124m[38;5;241m=\u001b[39m\u001b[38;5;130;01m\\u001b\u001b[39;00m\u001b[38;5;124m[39m\u001b[39m\u001b[38;5;130;01m\\u001b\u001b[39;00m\u001b[38;5;124m[38;5;28;01mFalse\u001b[39m\u001b[38;5;130;01m\\u001b\u001b[39;00m\u001b[38;5;124m[39;00m,\u001b[39m\u001b[38;5;130;01m\\n\u001b[39;00m\u001b[38;5;130;01m\\u001b\u001b[39;00m\u001b[38;5;124m[1;32m    495\u001b[39m\u001b[38;5;130;01m\\u001b\u001b[39;00m\u001b[38;5;124m[0m         retries\u001b[39m\u001b[38;5;130;01m\\u001b\u001b[39;00m\u001b[38;5;124m[38;5;241m=\u001b[39m\u001b[38;5;130;01m\\u001b\u001b[39;00m\u001b[38;5;124m[39m\u001b[39m\u001b[38;5;130;01m\\u001b\u001b[39;00m\u001b[38;5;124m[38;5;28mself\u001b[39m\u001b[38;5;130;01m\\u001b\u001b[39;00m\u001b[38;5;124m[39m\u001b[39m\u001b[38;5;130;01m\\u001b\u001b[39;00m\u001b[38;5;124m[38;5;241m.\u001b[39m\u001b[38;5;130;01m\\u001b\u001b[39;00m\u001b[38;5;124m[39mmax_retries,\u001b[39m\u001b[38;5;130;01m\\n\u001b[39;00m\u001b[38;5;130;01m\\u001b\u001b[39;00m\u001b[38;5;124m[1;32m    496\u001b[39m\u001b[38;5;130;01m\\u001b\u001b[39;00m\u001b[38;5;124m[0m         timeout\u001b[39m\u001b[38;5;130;01m\\u001b\u001b[39;00m\u001b[38;5;124m[38;5;241m=\u001b[39m\u001b[38;5;130;01m\\u001b\u001b[39;00m\u001b[38;5;124m[39mtimeout,\u001b[39m\u001b[38;5;130;01m\\n\u001b[39;00m\u001b[38;5;130;01m\\u001b\u001b[39;00m\u001b[38;5;124m[1;32m    497\u001b[39m\u001b[38;5;130;01m\\u001b\u001b[39;00m\u001b[38;5;124m[0m         chunked\u001b[39m\u001b[38;5;130;01m\\u001b\u001b[39;00m\u001b[38;5;124m[38;5;241m=\u001b[39m\u001b[38;5;130;01m\\u001b\u001b[39;00m\u001b[38;5;124m[39mchunked,\u001b[39m\u001b[38;5;130;01m\\n\u001b[39;00m\u001b[38;5;130;01m\\u001b\u001b[39;00m\u001b[38;5;124m[1;32m    498\u001b[39m\u001b[38;5;130;01m\\u001b\u001b[39;00m\u001b[38;5;124m[0m     )\u001b[39m\u001b[38;5;130;01m\\n\u001b[39;00m\u001b[38;5;130;01m\\u001b\u001b[39;00m\u001b[38;5;124m[1;32m    500\u001b[39m\u001b[38;5;130;01m\\u001b\u001b[39;00m\u001b[38;5;124m[0m \u001b[39m\u001b[38;5;130;01m\\u001b\u001b[39;00m\u001b[38;5;124m[38;5;28;01mexcept\u001b[39m\u001b[38;5;130;01m\\u001b\u001b[39;00m\u001b[38;5;124m[39;00m (ProtocolError, \u001b[39m\u001b[38;5;130;01m\\u001b\u001b[39;00m\u001b[38;5;124m[38;5;167;01mOSError\u001b[39m\u001b[38;5;130;01m\\u001b\u001b[39;00m\u001b[38;5;124m[39;00m) \u001b[39m\u001b[38;5;130;01m\\u001b\u001b[39;00m\u001b[38;5;124m[38;5;28;01mas\u001b[39m\u001b[38;5;130;01m\\u001b\u001b[39;00m\u001b[38;5;124m[39;00m err:\u001b[39m\u001b[38;5;130;01m\\n\u001b[39;00m\u001b[38;5;130;01m\\u001b\u001b[39;00m\u001b[38;5;124m[1;32m    501\u001b[39m\u001b[38;5;130;01m\\u001b\u001b[39;00m\u001b[38;5;124m[0m     \u001b[39m\u001b[38;5;130;01m\\u001b\u001b[39;00m\u001b[38;5;124m[38;5;28;01mraise\u001b[39m\u001b[38;5;130;01m\\u001b\u001b[39;00m\u001b[38;5;124m[39;00m \u001b[39m\u001b[38;5;130;01m\\u001b\u001b[39;00m\u001b[38;5;124m[38;5;167;01mConnectionError\u001b[39m\u001b[38;5;130;01m\\u001b\u001b[39;00m\u001b[38;5;124m[39;00m(err, request\u001b[39m\u001b[38;5;130;01m\\u001b\u001b[39;00m\u001b[38;5;124m[38;5;241m=\u001b[39m\u001b[38;5;130;01m\\u001b\u001b[39;00m\u001b[38;5;124m[39mrequest)\u001b[39m\u001b[38;5;130;01m\\n\u001b[39;00m\u001b[38;5;124m\"\u001b[39m,\n\u001b[1;32m    173\u001b[0m       \u001b[38;5;124m\"\u001b[39m\u001b[38;5;124mFile \u001b[39m\u001b[38;5;130;01m\\u001b\u001b[39;00m\u001b[38;5;124m[0;32m~/anaconda3/lib/python3.11/site-packages/urllib3/connectionpool.py:660\u001b[39m\u001b[38;5;130;01m\\u001b\u001b[39;00m\u001b[38;5;124m[0m, in \u001b[39m\u001b[38;5;130;01m\\u001b\u001b[39;00m\u001b[38;5;124m[0;36mHTTPConnectionPool.urlopen\u001b[39m\u001b[38;5;130;01m\\u001b\u001b[39;00m\u001b[38;5;124m[0;34m(self, method, url, body, headers, retries, redirect, assert_same_host, timeout, pool_timeout, release_conn, chunked, body_pos, **response_kw)\u001b[39m\u001b[38;5;130;01m\\u001b\u001b[39;00m\u001b[38;5;124m[0m\u001b[39m\u001b[38;5;130;01m\\n\u001b[39;00m\u001b[38;5;130;01m\\u001b\u001b[39;00m\u001b[38;5;124m[1;32m    658\u001b[39m\u001b[38;5;130;01m\\u001b\u001b[39;00m\u001b[38;5;124m[0m \u001b[39m\u001b[38;5;130;01m\\u001b\u001b[39;00m\u001b[38;5;124m[38;5;66;03m# Ensure that the URL we\u001b[39m\u001b[38;5;124m'\u001b[39m\u001b[38;5;124mre connecting to is properly encoded\u001b[39m\u001b[38;5;130;01m\\u001b\u001b[39;00m\u001b[38;5;124m[39;00m\u001b[39m\u001b[38;5;130;01m\\n\u001b[39;00m\u001b[38;5;130;01m\\u001b\u001b[39;00m\u001b[38;5;124m[1;32m    659\u001b[39m\u001b[38;5;130;01m\\u001b\u001b[39;00m\u001b[38;5;124m[0m \u001b[39m\u001b[38;5;130;01m\\u001b\u001b[39;00m\u001b[38;5;124m[38;5;28;01mif\u001b[39m\u001b[38;5;130;01m\\u001b\u001b[39;00m\u001b[38;5;124m[39;00m url\u001b[39m\u001b[38;5;130;01m\\u001b\u001b[39;00m\u001b[38;5;124m[38;5;241m.\u001b[39m\u001b[38;5;130;01m\\u001b\u001b[39;00m\u001b[38;5;124m[39mstartswith(\u001b[39m\u001b[38;5;130;01m\\u001b\u001b[39;00m\u001b[38;5;124m[38;5;124m\u001b[39m\u001b[38;5;130;01m\\\"\u001b[39;00m\u001b[38;5;130;01m\\u001b\u001b[39;00m\u001b[38;5;124m[39m\u001b[39m\u001b[38;5;130;01m\\u001b\u001b[39;00m\u001b[38;5;124m[38;5;124m/\u001b[39m\u001b[38;5;130;01m\\u001b\u001b[39;00m\u001b[38;5;124m[39m\u001b[39m\u001b[38;5;130;01m\\u001b\u001b[39;00m\u001b[38;5;124m[38;5;124m\u001b[39m\u001b[38;5;130;01m\\\"\u001b[39;00m\u001b[38;5;130;01m\\u001b\u001b[39;00m\u001b[38;5;124m[39m):\u001b[39m\u001b[38;5;130;01m\\n\u001b[39;00m\u001b[38;5;130;01m\\u001b\u001b[39;00m\u001b[38;5;124m[0;32m--> 660\u001b[39m\u001b[38;5;130;01m\\u001b\u001b[39;00m\u001b[38;5;124m[0m     url \u001b[39m\u001b[38;5;130;01m\\u001b\u001b[39;00m\u001b[38;5;124m[38;5;241m=\u001b[39m\u001b[38;5;130;01m\\u001b\u001b[39;00m\u001b[38;5;124m[39m six\u001b[39m\u001b[38;5;130;01m\\u001b\u001b[39;00m\u001b[38;5;124m[38;5;241m.\u001b[39m\u001b[38;5;130;01m\\u001b\u001b[39;00m\u001b[38;5;124m[39mensure_str(_encode_target(url))\u001b[39m\u001b[38;5;130;01m\\n\u001b[39;00m\u001b[38;5;130;01m\\u001b\u001b[39;00m\u001b[38;5;124m[1;32m    661\u001b[39m\u001b[38;5;130;01m\\u001b\u001b[39;00m\u001b[38;5;124m[0m \u001b[39m\u001b[38;5;130;01m\\u001b\u001b[39;00m\u001b[38;5;124m[38;5;28;01melse\u001b[39m\u001b[38;5;130;01m\\u001b\u001b[39;00m\u001b[38;5;124m[39;00m:\u001b[39m\u001b[38;5;130;01m\\n\u001b[39;00m\u001b[38;5;130;01m\\u001b\u001b[39;00m\u001b[38;5;124m[1;32m    662\u001b[39m\u001b[38;5;130;01m\\u001b\u001b[39;00m\u001b[38;5;124m[0m     url \u001b[39m\u001b[38;5;130;01m\\u001b\u001b[39;00m\u001b[38;5;124m[38;5;241m=\u001b[39m\u001b[38;5;130;01m\\u001b\u001b[39;00m\u001b[38;5;124m[39m six\u001b[39m\u001b[38;5;130;01m\\u001b\u001b[39;00m\u001b[38;5;124m[38;5;241m.\u001b[39m\u001b[38;5;130;01m\\u001b\u001b[39;00m\u001b[38;5;124m[39mensure_str(parsed_url\u001b[39m\u001b[38;5;130;01m\\u001b\u001b[39;00m\u001b[38;5;124m[38;5;241m.\u001b[39m\u001b[38;5;130;01m\\u001b\u001b[39;00m\u001b[38;5;124m[39murl)\u001b[39m\u001b[38;5;130;01m\\n\u001b[39;00m\u001b[38;5;124m\"\u001b[39m,\n\u001b[1;32m    174\u001b[0m       \u001b[38;5;124m\"\u001b[39m\u001b[38;5;124mFile \u001b[39m\u001b[38;5;130;01m\\u001b\u001b[39;00m\u001b[38;5;124m[0;32m~/anaconda3/lib/python3.11/site-packages/urllib3/util/url.py:327\u001b[39m\u001b[38;5;130;01m\\u001b\u001b[39;00m\u001b[38;5;124m[0m, in \u001b[39m\u001b[38;5;130;01m\\u001b\u001b[39;00m\u001b[38;5;124m[0;36m_encode_target\u001b[39m\u001b[38;5;130;01m\\u001b\u001b[39;00m\u001b[38;5;124m[0;34m(target)\u001b[39m\u001b[38;5;130;01m\\u001b\u001b[39;00m\u001b[38;5;124m[0m\u001b[39m\u001b[38;5;130;01m\\n\u001b[39;00m\u001b[38;5;130;01m\\u001b\u001b[39;00m\u001b[38;5;124m[1;32m    325\u001b[39m\u001b[38;5;130;01m\\u001b\u001b[39;00m\u001b[38;5;124m[0m path, query \u001b[39m\u001b[38;5;130;01m\\u001b\u001b[39;00m\u001b[38;5;124m[38;5;241m=\u001b[39m\u001b[38;5;130;01m\\u001b\u001b[39;00m\u001b[38;5;124m[39m TARGET_RE\u001b[39m\u001b[38;5;130;01m\\u001b\u001b[39;00m\u001b[38;5;124m[38;5;241m.\u001b[39m\u001b[38;5;130;01m\\u001b\u001b[39;00m\u001b[38;5;124m[39mmatch(target)\u001b[39m\u001b[38;5;130;01m\\u001b\u001b[39;00m\u001b[38;5;124m[38;5;241m.\u001b[39m\u001b[38;5;130;01m\\u001b\u001b[39;00m\u001b[38;5;124m[39mgroups()\u001b[39m\u001b[38;5;130;01m\\n\u001b[39;00m\u001b[38;5;130;01m\\u001b\u001b[39;00m\u001b[38;5;124m[1;32m    326\u001b[39m\u001b[38;5;130;01m\\u001b\u001b[39;00m\u001b[38;5;124m[0m target \u001b[39m\u001b[38;5;130;01m\\u001b\u001b[39;00m\u001b[38;5;124m[38;5;241m=\u001b[39m\u001b[38;5;130;01m\\u001b\u001b[39;00m\u001b[38;5;124m[39m _encode_invalid_chars(path, PATH_CHARS)\u001b[39m\u001b[38;5;130;01m\\n\u001b[39;00m\u001b[38;5;130;01m\\u001b\u001b[39;00m\u001b[38;5;124m[0;32m--> 327\u001b[39m\u001b[38;5;130;01m\\u001b\u001b[39;00m\u001b[38;5;124m[0m query \u001b[39m\u001b[38;5;130;01m\\u001b\u001b[39;00m\u001b[38;5;124m[38;5;241m=\u001b[39m\u001b[38;5;130;01m\\u001b\u001b[39;00m\u001b[38;5;124m[39m _encode_invalid_chars(query, QUERY_CHARS)\u001b[39m\u001b[38;5;130;01m\\n\u001b[39;00m\u001b[38;5;130;01m\\u001b\u001b[39;00m\u001b[38;5;124m[1;32m    328\u001b[39m\u001b[38;5;130;01m\\u001b\u001b[39;00m\u001b[38;5;124m[0m \u001b[39m\u001b[38;5;130;01m\\u001b\u001b[39;00m\u001b[38;5;124m[38;5;28;01mif\u001b[39m\u001b[38;5;130;01m\\u001b\u001b[39;00m\u001b[38;5;124m[39;00m query \u001b[39m\u001b[38;5;130;01m\\u001b\u001b[39;00m\u001b[38;5;124m[38;5;129;01mis\u001b[39m\u001b[38;5;130;01m\\u001b\u001b[39;00m\u001b[38;5;124m[39;00m \u001b[39m\u001b[38;5;130;01m\\u001b\u001b[39;00m\u001b[38;5;124m[38;5;129;01mnot\u001b[39m\u001b[38;5;130;01m\\u001b\u001b[39;00m\u001b[38;5;124m[39;00m \u001b[39m\u001b[38;5;130;01m\\u001b\u001b[39;00m\u001b[38;5;124m[38;5;28;01mNone\u001b[39m\u001b[38;5;130;01m\\u001b\u001b[39;00m\u001b[38;5;124m[39;00m:\u001b[39m\u001b[38;5;130;01m\\n\u001b[39;00m\u001b[38;5;130;01m\\u001b\u001b[39;00m\u001b[38;5;124m[1;32m    329\u001b[39m\u001b[38;5;130;01m\\u001b\u001b[39;00m\u001b[38;5;124m[0m     target \u001b[39m\u001b[38;5;130;01m\\u001b\u001b[39;00m\u001b[38;5;124m[38;5;241m+\u001b[39m\u001b[38;5;130;01m\\u001b\u001b[39;00m\u001b[38;5;124m[39m\u001b[39m\u001b[38;5;130;01m\\u001b\u001b[39;00m\u001b[38;5;124m[38;5;241m=\u001b[39m\u001b[38;5;130;01m\\u001b\u001b[39;00m\u001b[38;5;124m[39m \u001b[39m\u001b[38;5;130;01m\\u001b\u001b[39;00m\u001b[38;5;124m[38;5;124m\u001b[39m\u001b[38;5;130;01m\\\"\u001b[39;00m\u001b[38;5;130;01m\\u001b\u001b[39;00m\u001b[38;5;124m[39m\u001b[39m\u001b[38;5;130;01m\\u001b\u001b[39;00m\u001b[38;5;124m[38;5;124m?\u001b[39m\u001b[38;5;130;01m\\u001b\u001b[39;00m\u001b[38;5;124m[39m\u001b[39m\u001b[38;5;130;01m\\u001b\u001b[39;00m\u001b[38;5;124m[38;5;124m\u001b[39m\u001b[38;5;130;01m\\\"\u001b[39;00m\u001b[38;5;130;01m\\u001b\u001b[39;00m\u001b[38;5;124m[39m \u001b[39m\u001b[38;5;130;01m\\u001b\u001b[39;00m\u001b[38;5;124m[38;5;241m+\u001b[39m\u001b[38;5;130;01m\\u001b\u001b[39;00m\u001b[38;5;124m[39m query\u001b[39m\u001b[38;5;130;01m\\n\u001b[39;00m\u001b[38;5;124m\"\u001b[39m,\n\u001b[1;32m    175\u001b[0m       \u001b[38;5;124m\"\u001b[39m\u001b[38;5;124mFile \u001b[39m\u001b[38;5;130;01m\\u001b\u001b[39;00m\u001b[38;5;124m[0;32m~/anaconda3/lib/python3.11/site-packages/urllib3/util/url.py:222\u001b[39m\u001b[38;5;130;01m\\u001b\u001b[39;00m\u001b[38;5;124m[0m, in \u001b[39m\u001b[38;5;130;01m\\u001b\u001b[39;00m\u001b[38;5;124m[0;36m_encode_invalid_chars\u001b[39m\u001b[38;5;130;01m\\u001b\u001b[39;00m\u001b[38;5;124m[0;34m(component, allowed_chars, encoding)\u001b[39m\u001b[38;5;130;01m\\u001b\u001b[39;00m\u001b[38;5;124m[0m\u001b[39m\u001b[38;5;130;01m\\n\u001b[39;00m\u001b[38;5;130;01m\\u001b\u001b[39;00m\u001b[38;5;124m[1;32m    217\u001b[39m\u001b[38;5;130;01m\\u001b\u001b[39;00m\u001b[38;5;124m[0m component \u001b[39m\u001b[38;5;130;01m\\u001b\u001b[39;00m\u001b[38;5;124m[38;5;241m=\u001b[39m\u001b[38;5;130;01m\\u001b\u001b[39;00m\u001b[38;5;124m[39m six\u001b[39m\u001b[38;5;130;01m\\u001b\u001b[39;00m\u001b[38;5;124m[38;5;241m.\u001b[39m\u001b[38;5;130;01m\\u001b\u001b[39;00m\u001b[38;5;124m[39mensure_text(component)\u001b[39m\u001b[38;5;130;01m\\n\u001b[39;00m\u001b[38;5;130;01m\\u001b\u001b[39;00m\u001b[38;5;124m[1;32m    219\u001b[39m\u001b[38;5;130;01m\\u001b\u001b[39;00m\u001b[38;5;124m[0m \u001b[39m\u001b[38;5;130;01m\\u001b\u001b[39;00m\u001b[38;5;124m[38;5;66;03m# Normalize existing percent-encoded bytes.\u001b[39m\u001b[38;5;130;01m\\u001b\u001b[39;00m\u001b[38;5;124m[39;00m\u001b[39m\u001b[38;5;130;01m\\n\u001b[39;00m\u001b[38;5;130;01m\\u001b\u001b[39;00m\u001b[38;5;124m[1;32m    220\u001b[39m\u001b[38;5;130;01m\\u001b\u001b[39;00m\u001b[38;5;124m[0m \u001b[39m\u001b[38;5;130;01m\\u001b\u001b[39;00m\u001b[38;5;124m[38;5;66;03m# Try to see if the component we\u001b[39m\u001b[38;5;124m'\u001b[39m\u001b[38;5;124mre encoding is already percent-encoded\u001b[39m\u001b[38;5;130;01m\\u001b\u001b[39;00m\u001b[38;5;124m[39;00m\u001b[39m\u001b[38;5;130;01m\\n\u001b[39;00m\u001b[38;5;130;01m\\u001b\u001b[39;00m\u001b[38;5;124m[1;32m    221\u001b[39m\u001b[38;5;130;01m\\u001b\u001b[39;00m\u001b[38;5;124m[0m \u001b[39m\u001b[38;5;130;01m\\u001b\u001b[39;00m\u001b[38;5;124m[38;5;66;03m# so we can skip all \u001b[39m\u001b[38;5;124m'\u001b[39m\u001b[38;5;124m%\u001b[39m\u001b[38;5;124m'\u001b[39m\u001b[38;5;124m characters but still encode all others.\u001b[39m\u001b[38;5;130;01m\\u001b\u001b[39;00m\u001b[38;5;124m[39;00m\u001b[39m\u001b[38;5;130;01m\\n\u001b[39;00m\u001b[38;5;130;01m\\u001b\u001b[39;00m\u001b[38;5;124m[0;32m--> 222\u001b[39m\u001b[38;5;130;01m\\u001b\u001b[39;00m\u001b[38;5;124m[0m component, percent_encodings \u001b[39m\u001b[38;5;130;01m\\u001b\u001b[39;00m\u001b[38;5;124m[38;5;241m=\u001b[39m\u001b[38;5;130;01m\\u001b\u001b[39;00m\u001b[38;5;124m[39m PERCENT_RE\u001b[39m\u001b[38;5;130;01m\\u001b\u001b[39;00m\u001b[38;5;124m[38;5;241m.\u001b[39m\u001b[38;5;130;01m\\u001b\u001b[39;00m\u001b[38;5;124m[39msubn(\u001b[39m\u001b[38;5;130;01m\\n\u001b[39;00m\u001b[38;5;130;01m\\u001b\u001b[39;00m\u001b[38;5;124m[1;32m    223\u001b[39m\u001b[38;5;130;01m\\u001b\u001b[39;00m\u001b[38;5;124m[0m     \u001b[39m\u001b[38;5;130;01m\\u001b\u001b[39;00m\u001b[38;5;124m[38;5;28;01mlambda\u001b[39m\u001b[38;5;130;01m\\u001b\u001b[39;00m\u001b[38;5;124m[39;00m match: match\u001b[39m\u001b[38;5;130;01m\\u001b\u001b[39;00m\u001b[38;5;124m[38;5;241m.\u001b[39m\u001b[38;5;130;01m\\u001b\u001b[39;00m\u001b[38;5;124m[39mgroup(\u001b[39m\u001b[38;5;130;01m\\u001b\u001b[39;00m\u001b[38;5;124m[38;5;241m0\u001b[39m\u001b[38;5;130;01m\\u001b\u001b[39;00m\u001b[38;5;124m[39m)\u001b[39m\u001b[38;5;130;01m\\u001b\u001b[39;00m\u001b[38;5;124m[38;5;241m.\u001b[39m\u001b[38;5;130;01m\\u001b\u001b[39;00m\u001b[38;5;124m[39mupper(), component\u001b[39m\u001b[38;5;130;01m\\n\u001b[39;00m\u001b[38;5;130;01m\\u001b\u001b[39;00m\u001b[38;5;124m[1;32m    224\u001b[39m\u001b[38;5;130;01m\\u001b\u001b[39;00m\u001b[38;5;124m[0m )\u001b[39m\u001b[38;5;130;01m\\n\u001b[39;00m\u001b[38;5;130;01m\\u001b\u001b[39;00m\u001b[38;5;124m[1;32m    226\u001b[39m\u001b[38;5;130;01m\\u001b\u001b[39;00m\u001b[38;5;124m[0m uri_bytes \u001b[39m\u001b[38;5;130;01m\\u001b\u001b[39;00m\u001b[38;5;124m[38;5;241m=\u001b[39m\u001b[38;5;130;01m\\u001b\u001b[39;00m\u001b[38;5;124m[39m component\u001b[39m\u001b[38;5;130;01m\\u001b\u001b[39;00m\u001b[38;5;124m[38;5;241m.\u001b[39m\u001b[38;5;130;01m\\u001b\u001b[39;00m\u001b[38;5;124m[39mencode(\u001b[39m\u001b[38;5;130;01m\\u001b\u001b[39;00m\u001b[38;5;124m[38;5;124m\u001b[39m\u001b[38;5;130;01m\\\"\u001b[39;00m\u001b[38;5;130;01m\\u001b\u001b[39;00m\u001b[38;5;124m[39m\u001b[39m\u001b[38;5;130;01m\\u001b\u001b[39;00m\u001b[38;5;124m[38;5;124mutf-8\u001b[39m\u001b[38;5;130;01m\\u001b\u001b[39;00m\u001b[38;5;124m[39m\u001b[39m\u001b[38;5;130;01m\\u001b\u001b[39;00m\u001b[38;5;124m[38;5;124m\u001b[39m\u001b[38;5;130;01m\\\"\u001b[39;00m\u001b[38;5;130;01m\\u001b\u001b[39;00m\u001b[38;5;124m[39m, \u001b[39m\u001b[38;5;130;01m\\u001b\u001b[39;00m\u001b[38;5;124m[38;5;124m\u001b[39m\u001b[38;5;130;01m\\\"\u001b[39;00m\u001b[38;5;130;01m\\u001b\u001b[39;00m\u001b[38;5;124m[39m\u001b[39m\u001b[38;5;130;01m\\u001b\u001b[39;00m\u001b[38;5;124m[38;5;124msurrogatepass\u001b[39m\u001b[38;5;130;01m\\u001b\u001b[39;00m\u001b[38;5;124m[39m\u001b[39m\u001b[38;5;130;01m\\u001b\u001b[39;00m\u001b[38;5;124m[38;5;124m\u001b[39m\u001b[38;5;130;01m\\\"\u001b[39;00m\u001b[38;5;130;01m\\u001b\u001b[39;00m\u001b[38;5;124m[39m)\u001b[39m\u001b[38;5;130;01m\\n\u001b[39;00m\u001b[38;5;130;01m\\u001b\u001b[39;00m\u001b[38;5;124m[1;32m    227\u001b[39m\u001b[38;5;130;01m\\u001b\u001b[39;00m\u001b[38;5;124m[0m is_percent_encoded \u001b[39m\u001b[38;5;130;01m\\u001b\u001b[39;00m\u001b[38;5;124m[38;5;241m=\u001b[39m\u001b[38;5;130;01m\\u001b\u001b[39;00m\u001b[38;5;124m[39m percent_encodings \u001b[39m\u001b[38;5;130;01m\\u001b\u001b[39;00m\u001b[38;5;124m[38;5;241m==\u001b[39m\u001b[38;5;130;01m\\u001b\u001b[39;00m\u001b[38;5;124m[39m uri_bytes\u001b[39m\u001b[38;5;130;01m\\u001b\u001b[39;00m\u001b[38;5;124m[38;5;241m.\u001b[39m\u001b[38;5;130;01m\\u001b\u001b[39;00m\u001b[38;5;124m[39mcount(\u001b[39m\u001b[38;5;130;01m\\u001b\u001b[39;00m\u001b[38;5;124m[38;5;124mb\u001b[39m\u001b[38;5;130;01m\\u001b\u001b[39;00m\u001b[38;5;124m[39m\u001b[39m\u001b[38;5;130;01m\\u001b\u001b[39;00m\u001b[38;5;124m[38;5;124m\u001b[39m\u001b[38;5;130;01m\\\"\u001b[39;00m\u001b[38;5;130;01m\\u001b\u001b[39;00m\u001b[38;5;124m[39m\u001b[39m\u001b[38;5;130;01m\\u001b\u001b[39;00m\u001b[38;5;124m[38;5;124m\u001b[39m\u001b[38;5;124m%\u001b[39m\u001b[38;5;130;01m\\u001b\u001b[39;00m\u001b[38;5;124m[39m\u001b[39m\u001b[38;5;130;01m\\u001b\u001b[39;00m\u001b[38;5;124m[38;5;124m\u001b[39m\u001b[38;5;130;01m\\\"\u001b[39;00m\u001b[38;5;130;01m\\u001b\u001b[39;00m\u001b[38;5;124m[39m)\u001b[39m\u001b[38;5;130;01m\\n\u001b[39;00m\u001b[38;5;124m\"\u001b[39m,\n\u001b[1;32m    176\u001b[0m       \u001b[38;5;124m\"\u001b[39m\u001b[38;5;124mFile \u001b[39m\u001b[38;5;130;01m\\u001b\u001b[39;00m\u001b[38;5;124m[0;32m~/anaconda3/lib/python3.11/site-packages/urllib3/util/url.py:223\u001b[39m\u001b[38;5;130;01m\\u001b\u001b[39;00m\u001b[38;5;124m[0m, in \u001b[39m\u001b[38;5;130;01m\\u001b\u001b[39;00m\u001b[38;5;124m[0;36m_encode_invalid_chars.<locals>.<lambda>\u001b[39m\u001b[38;5;130;01m\\u001b\u001b[39;00m\u001b[38;5;124m[0;34m(match)\u001b[39m\u001b[38;5;130;01m\\u001b\u001b[39;00m\u001b[38;5;124m[0m\u001b[39m\u001b[38;5;130;01m\\n\u001b[39;00m\u001b[38;5;130;01m\\u001b\u001b[39;00m\u001b[38;5;124m[1;32m    217\u001b[39m\u001b[38;5;130;01m\\u001b\u001b[39;00m\u001b[38;5;124m[0m component \u001b[39m\u001b[38;5;130;01m\\u001b\u001b[39;00m\u001b[38;5;124m[38;5;241m=\u001b[39m\u001b[38;5;130;01m\\u001b\u001b[39;00m\u001b[38;5;124m[39m six\u001b[39m\u001b[38;5;130;01m\\u001b\u001b[39;00m\u001b[38;5;124m[38;5;241m.\u001b[39m\u001b[38;5;130;01m\\u001b\u001b[39;00m\u001b[38;5;124m[39mensure_text(component)\u001b[39m\u001b[38;5;130;01m\\n\u001b[39;00m\u001b[38;5;130;01m\\u001b\u001b[39;00m\u001b[38;5;124m[1;32m    219\u001b[39m\u001b[38;5;130;01m\\u001b\u001b[39;00m\u001b[38;5;124m[0m \u001b[39m\u001b[38;5;130;01m\\u001b\u001b[39;00m\u001b[38;5;124m[38;5;66;03m# Normalize existing percent-encoded bytes.\u001b[39m\u001b[38;5;130;01m\\u001b\u001b[39;00m\u001b[38;5;124m[39;00m\u001b[39m\u001b[38;5;130;01m\\n\u001b[39;00m\u001b[38;5;130;01m\\u001b\u001b[39;00m\u001b[38;5;124m[1;32m    220\u001b[39m\u001b[38;5;130;01m\\u001b\u001b[39;00m\u001b[38;5;124m[0m \u001b[39m\u001b[38;5;130;01m\\u001b\u001b[39;00m\u001b[38;5;124m[38;5;66;03m# Try to see if the component we\u001b[39m\u001b[38;5;124m'\u001b[39m\u001b[38;5;124mre encoding is already percent-encoded\u001b[39m\u001b[38;5;130;01m\\u001b\u001b[39;00m\u001b[38;5;124m[39;00m\u001b[39m\u001b[38;5;130;01m\\n\u001b[39;00m\u001b[38;5;130;01m\\u001b\u001b[39;00m\u001b[38;5;124m[1;32m    221\u001b[39m\u001b[38;5;130;01m\\u001b\u001b[39;00m\u001b[38;5;124m[0m \u001b[39m\u001b[38;5;130;01m\\u001b\u001b[39;00m\u001b[38;5;124m[38;5;66;03m# so we can skip all \u001b[39m\u001b[38;5;124m'\u001b[39m\u001b[38;5;124m%\u001b[39m\u001b[38;5;124m'\u001b[39m\u001b[38;5;124m characters but still encode all others.\u001b[39m\u001b[38;5;130;01m\\u001b\u001b[39;00m\u001b[38;5;124m[39;00m\u001b[39m\u001b[38;5;130;01m\\n\u001b[39;00m\u001b[38;5;130;01m\\u001b\u001b[39;00m\u001b[38;5;124m[1;32m    222\u001b[39m\u001b[38;5;130;01m\\u001b\u001b[39;00m\u001b[38;5;124m[0m component, percent_encodings \u001b[39m\u001b[38;5;130;01m\\u001b\u001b[39;00m\u001b[38;5;124m[38;5;241m=\u001b[39m\u001b[38;5;130;01m\\u001b\u001b[39;00m\u001b[38;5;124m[39m PERCENT_RE\u001b[39m\u001b[38;5;130;01m\\u001b\u001b[39;00m\u001b[38;5;124m[38;5;241m.\u001b[39m\u001b[38;5;130;01m\\u001b\u001b[39;00m\u001b[38;5;124m[39msubn(\u001b[39m\u001b[38;5;130;01m\\n\u001b[39;00m\u001b[38;5;130;01m\\u001b\u001b[39;00m\u001b[38;5;124m[0;32m--> 223\u001b[39m\u001b[38;5;130;01m\\u001b\u001b[39;00m\u001b[38;5;124m[0m     \u001b[39m\u001b[38;5;130;01m\\u001b\u001b[39;00m\u001b[38;5;124m[38;5;28;01mlambda\u001b[39m\u001b[38;5;130;01m\\u001b\u001b[39;00m\u001b[38;5;124m[39;00m match: match\u001b[39m\u001b[38;5;130;01m\\u001b\u001b[39;00m\u001b[38;5;124m[38;5;241m.\u001b[39m\u001b[38;5;130;01m\\u001b\u001b[39;00m\u001b[38;5;124m[39mgroup(\u001b[39m\u001b[38;5;130;01m\\u001b\u001b[39;00m\u001b[38;5;124m[38;5;241m0\u001b[39m\u001b[38;5;130;01m\\u001b\u001b[39;00m\u001b[38;5;124m[39m)\u001b[39m\u001b[38;5;130;01m\\u001b\u001b[39;00m\u001b[38;5;124m[38;5;241m.\u001b[39m\u001b[38;5;130;01m\\u001b\u001b[39;00m\u001b[38;5;124m[39mupper(), component\u001b[39m\u001b[38;5;130;01m\\n\u001b[39;00m\u001b[38;5;130;01m\\u001b\u001b[39;00m\u001b[38;5;124m[1;32m    224\u001b[39m\u001b[38;5;130;01m\\u001b\u001b[39;00m\u001b[38;5;124m[0m )\u001b[39m\u001b[38;5;130;01m\\n\u001b[39;00m\u001b[38;5;130;01m\\u001b\u001b[39;00m\u001b[38;5;124m[1;32m    226\u001b[39m\u001b[38;5;130;01m\\u001b\u001b[39;00m\u001b[38;5;124m[0m uri_bytes \u001b[39m\u001b[38;5;130;01m\\u001b\u001b[39;00m\u001b[38;5;124m[38;5;241m=\u001b[39m\u001b[38;5;130;01m\\u001b\u001b[39;00m\u001b[38;5;124m[39m component\u001b[39m\u001b[38;5;130;01m\\u001b\u001b[39;00m\u001b[38;5;124m[38;5;241m.\u001b[39m\u001b[38;5;130;01m\\u001b\u001b[39;00m\u001b[38;5;124m[39mencode(\u001b[39m\u001b[38;5;130;01m\\u001b\u001b[39;00m\u001b[38;5;124m[38;5;124m\u001b[39m\u001b[38;5;130;01m\\\"\u001b[39;00m\u001b[38;5;130;01m\\u001b\u001b[39;00m\u001b[38;5;124m[39m\u001b[39m\u001b[38;5;130;01m\\u001b\u001b[39;00m\u001b[38;5;124m[38;5;124mutf-8\u001b[39m\u001b[38;5;130;01m\\u001b\u001b[39;00m\u001b[38;5;124m[39m\u001b[39m\u001b[38;5;130;01m\\u001b\u001b[39;00m\u001b[38;5;124m[38;5;124m\u001b[39m\u001b[38;5;130;01m\\\"\u001b[39;00m\u001b[38;5;130;01m\\u001b\u001b[39;00m\u001b[38;5;124m[39m, \u001b[39m\u001b[38;5;130;01m\\u001b\u001b[39;00m\u001b[38;5;124m[38;5;124m\u001b[39m\u001b[38;5;130;01m\\\"\u001b[39;00m\u001b[38;5;130;01m\\u001b\u001b[39;00m\u001b[38;5;124m[39m\u001b[39m\u001b[38;5;130;01m\\u001b\u001b[39;00m\u001b[38;5;124m[38;5;124msurrogatepass\u001b[39m\u001b[38;5;130;01m\\u001b\u001b[39;00m\u001b[38;5;124m[39m\u001b[39m\u001b[38;5;130;01m\\u001b\u001b[39;00m\u001b[38;5;124m[38;5;124m\u001b[39m\u001b[38;5;130;01m\\\"\u001b[39;00m\u001b[38;5;130;01m\\u001b\u001b[39;00m\u001b[38;5;124m[39m)\u001b[39m\u001b[38;5;130;01m\\n\u001b[39;00m\u001b[38;5;130;01m\\u001b\u001b[39;00m\u001b[38;5;124m[1;32m    227\u001b[39m\u001b[38;5;130;01m\\u001b\u001b[39;00m\u001b[38;5;124m[0m is_percent_encoded \u001b[39m\u001b[38;5;130;01m\\u001b\u001b[39;00m\u001b[38;5;124m[38;5;241m=\u001b[39m\u001b[38;5;130;01m\\u001b\u001b[39;00m\u001b[38;5;124m[39m percent_encodings \u001b[39m\u001b[38;5;130;01m\\u001b\u001b[39;00m\u001b[38;5;124m[38;5;241m==\u001b[39m\u001b[38;5;130;01m\\u001b\u001b[39;00m\u001b[38;5;124m[39m uri_bytes\u001b[39m\u001b[38;5;130;01m\\u001b\u001b[39;00m\u001b[38;5;124m[38;5;241m.\u001b[39m\u001b[38;5;130;01m\\u001b\u001b[39;00m\u001b[38;5;124m[39mcount(\u001b[39m\u001b[38;5;130;01m\\u001b\u001b[39;00m\u001b[38;5;124m[38;5;124mb\u001b[39m\u001b[38;5;130;01m\\u001b\u001b[39;00m\u001b[38;5;124m[39m\u001b[39m\u001b[38;5;130;01m\\u001b\u001b[39;00m\u001b[38;5;124m[38;5;124m\u001b[39m\u001b[38;5;130;01m\\\"\u001b[39;00m\u001b[38;5;130;01m\\u001b\u001b[39;00m\u001b[38;5;124m[39m\u001b[39m\u001b[38;5;130;01m\\u001b\u001b[39;00m\u001b[38;5;124m[38;5;124m\u001b[39m\u001b[38;5;124m%\u001b[39m\u001b[38;5;130;01m\\u001b\u001b[39;00m\u001b[38;5;124m[39m\u001b[39m\u001b[38;5;130;01m\\u001b\u001b[39;00m\u001b[38;5;124m[38;5;124m\u001b[39m\u001b[38;5;130;01m\\\"\u001b[39;00m\u001b[38;5;130;01m\\u001b\u001b[39;00m\u001b[38;5;124m[39m)\u001b[39m\u001b[38;5;130;01m\\n\u001b[39;00m\u001b[38;5;124m\"\u001b[39m,\n\u001b[1;32m    177\u001b[0m       \u001b[38;5;124m\"\u001b[39m\u001b[38;5;130;01m\\u001b\u001b[39;00m\u001b[38;5;124m[0;31mKeyboardInterrupt\u001b[39m\u001b[38;5;130;01m\\u001b\u001b[39;00m\u001b[38;5;124m[0m: \u001b[39m\u001b[38;5;124m\"\u001b[39m\n\u001b[1;32m    178\u001b[0m      ]\n\u001b[1;32m    179\u001b[0m     }\n\u001b[1;32m    180\u001b[0m    ],\n\u001b[1;32m    181\u001b[0m    \u001b[38;5;124m\"\u001b[39m\u001b[38;5;124msource\u001b[39m\u001b[38;5;124m\"\u001b[39m: [\n\u001b[1;32m    182\u001b[0m     \u001b[38;5;124m\"\u001b[39m\u001b[38;5;124m#***************\u001b[39m\u001b[38;5;130;01m\\n\u001b[39;00m\u001b[38;5;124m\"\u001b[39m,\n\u001b[1;32m    183\u001b[0m     \u001b[38;5;124m\"\u001b[39m\u001b[38;5;124m#this function will insert data into historcal data table. \u001b[39m\u001b[38;5;130;01m\\n\u001b[39;00m\u001b[38;5;124m\"\u001b[39m,\n\u001b[1;32m    184\u001b[0m     \u001b[38;5;124m\"\u001b[39m\u001b[38;5;124m#Repeatable\u001b[39m\u001b[38;5;130;01m\\n\u001b[39;00m\u001b[38;5;124m\"\u001b[39m,\n\u001b[1;32m    185\u001b[0m     \u001b[38;5;124m\"\u001b[39m\u001b[38;5;124m#Reference cell D\u001b[39m\u001b[38;5;130;01m\\n\u001b[39;00m\u001b[38;5;124m\"\u001b[39m,\n\u001b[1;32m    186\u001b[0m     \u001b[38;5;124m\"\u001b[39m\u001b[38;5;124m#Reference cell E\u001b[39m\u001b[38;5;130;01m\\n\u001b[39;00m\u001b[38;5;124m\"\u001b[39m,\n\u001b[1;32m    187\u001b[0m     \u001b[38;5;124m\"\u001b[39m\u001b[38;5;124m#SQL REFERENCE A\u001b[39m\u001b[38;5;130;01m\\n\u001b[39;00m\u001b[38;5;124m\"\u001b[39m,\n\u001b[1;32m    188\u001b[0m     \u001b[38;5;124m\"\u001b[39m\u001b[38;5;130;01m\\n\u001b[39;00m\u001b[38;5;124m\"\u001b[39m,\n\u001b[1;32m    189\u001b[0m     \u001b[38;5;124m\"\u001b[39m\u001b[38;5;124m#***************\u001b[39m\u001b[38;5;130;01m\\n\u001b[39;00m\u001b[38;5;124m\"\u001b[39m,\n\u001b[1;32m    190\u001b[0m     \u001b[38;5;124m\"\u001b[39m\u001b[38;5;130;01m\\n\u001b[39;00m\u001b[38;5;124m\"\u001b[39m,\n\u001b[1;32m    191\u001b[0m     \u001b[38;5;124m\"\u001b[39m\u001b[38;5;124m#Reference cell F Name\u001b[39m\u001b[38;5;130;01m\\n\u001b[39;00m\u001b[38;5;124m\"\u001b[39m,\n\u001b[1;32m    192\u001b[0m     \u001b[38;5;124m\"\u001b[39m\u001b[38;5;124mdef insert_new_stock_data(df):\u001b[39m\u001b[38;5;130;01m\\n\u001b[39;00m\u001b[38;5;124m\"\u001b[39m,\n\u001b[1;32m    193\u001b[0m     \u001b[38;5;124m\"\u001b[39m\u001b[38;5;124m    insert_query = \u001b[39m\u001b[38;5;130;01m\\\"\u001b[39;00m\u001b[38;5;130;01m\\\"\u001b[39;00m\u001b[38;5;130;01m\\\"\u001b[39;00m\u001b[38;5;130;01m\\n\u001b[39;00m\u001b[38;5;124m\"\u001b[39m,\n\u001b[1;32m    194\u001b[0m     \u001b[38;5;124m\"\u001b[39m\u001b[38;5;124m    INSERT INTO source.historical_stock_data (Date, Open, High, Low, Close, Volume, Dividends, Stock_Splits, Symbol)\u001b[39m\u001b[38;5;130;01m\\n\u001b[39;00m\u001b[38;5;124m\"\u001b[39m,\n\u001b[1;32m    195\u001b[0m     \u001b[38;5;124m\"\u001b[39m\u001b[38;5;124m    VALUES (\u001b[39m\u001b[38;5;132;01m%s\u001b[39;00m\u001b[38;5;124m, \u001b[39m\u001b[38;5;132;01m%s\u001b[39;00m\u001b[38;5;124m, \u001b[39m\u001b[38;5;132;01m%s\u001b[39;00m\u001b[38;5;124m, \u001b[39m\u001b[38;5;132;01m%s\u001b[39;00m\u001b[38;5;124m, \u001b[39m\u001b[38;5;132;01m%s\u001b[39;00m\u001b[38;5;124m, \u001b[39m\u001b[38;5;132;01m%s\u001b[39;00m\u001b[38;5;124m, \u001b[39m\u001b[38;5;132;01m%s\u001b[39;00m\u001b[38;5;124m, \u001b[39m\u001b[38;5;132;01m%s\u001b[39;00m\u001b[38;5;124m, \u001b[39m\u001b[38;5;132;01m%s\u001b[39;00m\u001b[38;5;124m)\u001b[39m\u001b[38;5;130;01m\\n\u001b[39;00m\u001b[38;5;124m\"\u001b[39m,\n\u001b[1;32m    196\u001b[0m     \u001b[38;5;124m\"\u001b[39m\u001b[38;5;124m    \u001b[39m\u001b[38;5;130;01m\\\"\u001b[39;00m\u001b[38;5;130;01m\\\"\u001b[39;00m\u001b[38;5;130;01m\\\"\u001b[39;00m\u001b[38;5;130;01m\\n\u001b[39;00m\u001b[38;5;124m\"\u001b[39m,\n\u001b[1;32m    197\u001b[0m     \u001b[38;5;124m\"\u001b[39m\u001b[38;5;124m    for index, row in df.iterrows():\u001b[39m\u001b[38;5;130;01m\\n\u001b[39;00m\u001b[38;5;124m\"\u001b[39m,\n\u001b[1;32m    198\u001b[0m     \u001b[38;5;124m\"\u001b[39m\u001b[38;5;124m        params = (\u001b[39m\u001b[38;5;130;01m\\n\u001b[39;00m\u001b[38;5;124m\"\u001b[39m,\n\u001b[1;32m    199\u001b[0m     \u001b[38;5;124m\"\u001b[39m\u001b[38;5;124m            row[\u001b[39m\u001b[38;5;124m'\u001b[39m\u001b[38;5;124mDate\u001b[39m\u001b[38;5;124m'\u001b[39m\u001b[38;5;124m], row[\u001b[39m\u001b[38;5;124m'\u001b[39m\u001b[38;5;124mOpen\u001b[39m\u001b[38;5;124m'\u001b[39m\u001b[38;5;124m], row[\u001b[39m\u001b[38;5;124m'\u001b[39m\u001b[38;5;124mHigh\u001b[39m\u001b[38;5;124m'\u001b[39m\u001b[38;5;124m], row[\u001b[39m\u001b[38;5;124m'\u001b[39m\u001b[38;5;124mLow\u001b[39m\u001b[38;5;124m'\u001b[39m\u001b[38;5;124m], row[\u001b[39m\u001b[38;5;124m'\u001b[39m\u001b[38;5;124mClose\u001b[39m\u001b[38;5;124m'\u001b[39m\u001b[38;5;124m],\u001b[39m\u001b[38;5;130;01m\\n\u001b[39;00m\u001b[38;5;124m\"\u001b[39m,\n\u001b[1;32m    200\u001b[0m     \u001b[38;5;124m\"\u001b[39m\u001b[38;5;124m            row[\u001b[39m\u001b[38;5;124m'\u001b[39m\u001b[38;5;124mVolume\u001b[39m\u001b[38;5;124m'\u001b[39m\u001b[38;5;124m], row[\u001b[39m\u001b[38;5;124m'\u001b[39m\u001b[38;5;124mDividends\u001b[39m\u001b[38;5;124m'\u001b[39m\u001b[38;5;124m], row[\u001b[39m\u001b[38;5;124m'\u001b[39m\u001b[38;5;124mStock Splits\u001b[39m\u001b[38;5;124m'\u001b[39m\u001b[38;5;124m], row[\u001b[39m\u001b[38;5;124m'\u001b[39m\u001b[38;5;124mSymbol\u001b[39m\u001b[38;5;124m'\u001b[39m\u001b[38;5;124m]\u001b[39m\u001b[38;5;130;01m\\n\u001b[39;00m\u001b[38;5;124m\"\u001b[39m,\n\u001b[1;32m    201\u001b[0m     \u001b[38;5;124m\"\u001b[39m\u001b[38;5;124m        )\u001b[39m\u001b[38;5;130;01m\\n\u001b[39;00m\u001b[38;5;124m\"\u001b[39m,\n\u001b[1;32m    202\u001b[0m     \u001b[38;5;124m\"\u001b[39m\u001b[38;5;124m        execute_sql_query(insert_query, params)\u001b[39m\u001b[38;5;130;01m\\n\u001b[39;00m\u001b[38;5;124m\"\u001b[39m,\n\u001b[1;32m    203\u001b[0m     \u001b[38;5;124m\"\u001b[39m\u001b[38;5;124mif __name__ == \u001b[39m\u001b[38;5;130;01m\\\"\u001b[39;00m\u001b[38;5;124m__main__\u001b[39m\u001b[38;5;130;01m\\\"\u001b[39;00m\u001b[38;5;124m:\u001b[39m\u001b[38;5;130;01m\\n\u001b[39;00m\u001b[38;5;124m\"\u001b[39m,\n\u001b[1;32m    204\u001b[0m     \u001b[38;5;124m\"\u001b[39m\u001b[38;5;124m    symbols_dates_df = fetch_symbols_and_last_dates()\u001b[39m\u001b[38;5;130;01m\\n\u001b[39;00m\u001b[38;5;124m\"\u001b[39m,\n\u001b[1;32m    205\u001b[0m     \u001b[38;5;124m\"\u001b[39m\u001b[38;5;124m    if not symbols_dates_df.empty:\u001b[39m\u001b[38;5;130;01m\\n\u001b[39;00m\u001b[38;5;124m\"\u001b[39m,\n\u001b[1;32m    206\u001b[0m     \u001b[38;5;124m\"\u001b[39m\u001b[38;5;124m        new_stock_data = pd.DataFrame()\u001b[39m\u001b[38;5;130;01m\\n\u001b[39;00m\u001b[38;5;124m\"\u001b[39m,\n\u001b[1;32m    207\u001b[0m     \u001b[38;5;124m\"\u001b[39m\u001b[38;5;124m        for index, row in symbols_dates_df.iterrows():\u001b[39m\u001b[38;5;130;01m\\n\u001b[39;00m\u001b[38;5;124m\"\u001b[39m,\n\u001b[1;32m    208\u001b[0m     \u001b[38;5;124m\"\u001b[39m\u001b[38;5;124m            symbol = row[\u001b[39m\u001b[38;5;124m'\u001b[39m\u001b[38;5;124msymbol\u001b[39m\u001b[38;5;124m'\u001b[39m\u001b[38;5;124m]\u001b[39m\u001b[38;5;130;01m\\n\u001b[39;00m\u001b[38;5;124m\"\u001b[39m,\n\u001b[1;32m    209\u001b[0m     \u001b[38;5;124m\"\u001b[39m\u001b[38;5;124m            last_date = row[\u001b[39m\u001b[38;5;124m'\u001b[39m\u001b[38;5;124mlastdate\u001b[39m\u001b[38;5;124m'\u001b[39m\u001b[38;5;124m] + pd.Timedelta(days=1)  # Start from the day after the last recorded date\u001b[39m\u001b[38;5;130;01m\\n\u001b[39;00m\u001b[38;5;124m\"\u001b[39m,\n\u001b[1;32m    210\u001b[0m     \u001b[38;5;124m\"\u001b[39m\u001b[38;5;124m            symbol_new_data = fetch_new_stock_data_for_symbol(symbol, last_date.strftime(\u001b[39m\u001b[38;5;124m'\u001b[39m\u001b[38;5;124m%\u001b[39m\u001b[38;5;124mY-\u001b[39m\u001b[38;5;124m%\u001b[39m\u001b[38;5;124mm-\u001b[39m\u001b[38;5;132;01m%d\u001b[39;00m\u001b[38;5;124m'\u001b[39m\u001b[38;5;124m))\u001b[39m\u001b[38;5;130;01m\\n\u001b[39;00m\u001b[38;5;124m\"\u001b[39m,\n\u001b[1;32m    211\u001b[0m     \u001b[38;5;124m\"\u001b[39m\u001b[38;5;124m            new_stock_data = pd.concat([new_stock_data, symbol_new_data], ignore_index=True)\u001b[39m\u001b[38;5;130;01m\\n\u001b[39;00m\u001b[38;5;124m\"\u001b[39m,\n\u001b[1;32m    212\u001b[0m     \u001b[38;5;124m\"\u001b[39m\u001b[38;5;124m        if not new_stock_data.empty:\u001b[39m\u001b[38;5;130;01m\\n\u001b[39;00m\u001b[38;5;124m\"\u001b[39m,\n\u001b[1;32m    213\u001b[0m     \u001b[38;5;124m\"\u001b[39m\u001b[38;5;124m            insert_new_stock_data(new_stock_data)\u001b[39m\u001b[38;5;130;01m\\n\u001b[39;00m\u001b[38;5;124m\"\u001b[39m,\n\u001b[1;32m    214\u001b[0m     \u001b[38;5;124m\"\u001b[39m\u001b[38;5;124m        print(\u001b[39m\u001b[38;5;130;01m\\\"\u001b[39;00m\u001b[38;5;124mStock data update process completed.\u001b[39m\u001b[38;5;130;01m\\\"\u001b[39;00m\u001b[38;5;124m)\u001b[39m\u001b[38;5;130;01m\\n\u001b[39;00m\u001b[38;5;124m\"\u001b[39m,\n\u001b[1;32m    215\u001b[0m     \u001b[38;5;124m\"\u001b[39m\u001b[38;5;124m    else:\u001b[39m\u001b[38;5;130;01m\\n\u001b[39;00m\u001b[38;5;124m\"\u001b[39m,\n\u001b[1;32m    216\u001b[0m     \u001b[38;5;124m\"\u001b[39m\u001b[38;5;124m        print(\u001b[39m\u001b[38;5;130;01m\\\"\u001b[39;00m\u001b[38;5;124mNo symbols or last dates found.\u001b[39m\u001b[38;5;130;01m\\\"\u001b[39;00m\u001b[38;5;124m)\u001b[39m\u001b[38;5;130;01m\\n\u001b[39;00m\u001b[38;5;124m\"\u001b[39m,\n\u001b[1;32m    217\u001b[0m     \u001b[38;5;124m\"\u001b[39m\u001b[38;5;124mprint(insert_new_stock_data)\u001b[39m\u001b[38;5;124m\"\u001b[39m\n\u001b[1;32m    218\u001b[0m    ]\n\u001b[1;32m    219\u001b[0m   },\n\u001b[1;32m    220\u001b[0m   {\n\u001b[1;32m    221\u001b[0m    \u001b[38;5;124m\"\u001b[39m\u001b[38;5;124mcell_type\u001b[39m\u001b[38;5;124m\"\u001b[39m: \u001b[38;5;124m\"\u001b[39m\u001b[38;5;124mcode\u001b[39m\u001b[38;5;124m\"\u001b[39m,\n\u001b[1;32m    222\u001b[0m    \u001b[38;5;124m\"\u001b[39m\u001b[38;5;124mexecution_count\u001b[39m\u001b[38;5;124m\"\u001b[39m: null,\n\u001b[1;32m    223\u001b[0m    \u001b[38;5;124m\"\u001b[39m\u001b[38;5;124mid\u001b[39m\u001b[38;5;124m\"\u001b[39m: \u001b[38;5;124m\"\u001b[39m\u001b[38;5;124mc7265e83-f552-4068-bdc2-e23f252bae6f\u001b[39m\u001b[38;5;124m\"\u001b[39m,\n\u001b[1;32m    224\u001b[0m    \u001b[38;5;124m\"\u001b[39m\u001b[38;5;124mmetadata\u001b[39m\u001b[38;5;124m\"\u001b[39m: {},\n\u001b[1;32m    225\u001b[0m    \u001b[38;5;124m\"\u001b[39m\u001b[38;5;124moutputs\u001b[39m\u001b[38;5;124m\"\u001b[39m: [],\n\u001b[1;32m    226\u001b[0m    \u001b[38;5;124m\"\u001b[39m\u001b[38;5;124msource\u001b[39m\u001b[38;5;124m\"\u001b[39m: [\n\u001b[1;32m    227\u001b[0m     \u001b[38;5;124m\"\u001b[39m\u001b[38;5;124m# Define a function to insert new financial data into the dimension.d_financial_info table.\u001b[39m\u001b[38;5;130;01m\\n\u001b[39;00m\u001b[38;5;124m\"\u001b[39m,\n\u001b[1;32m    228\u001b[0m     \u001b[38;5;124m\"\u001b[39m\u001b[38;5;124mdef insert_into_financial_info():\u001b[39m\u001b[38;5;130;01m\\n\u001b[39;00m\u001b[38;5;124m\"\u001b[39m,\n\u001b[1;32m    229\u001b[0m     \u001b[38;5;124m\"\u001b[39m\u001b[38;5;124m    \u001b[39m\u001b[38;5;130;01m\\\"\u001b[39;00m\u001b[38;5;130;01m\\\"\u001b[39;00m\u001b[38;5;130;01m\\\"\u001b[39;00m\u001b[38;5;130;01m\\n\u001b[39;00m\u001b[38;5;124m\"\u001b[39m,\n\u001b[1;32m    230\u001b[0m     \u001b[38;5;124m\"\u001b[39m\u001b[38;5;124m    This function inserts new records into the dimension.d_financial_info table\u001b[39m\u001b[38;5;130;01m\\n\u001b[39;00m\u001b[38;5;124m\"\u001b[39m,\n\u001b[1;32m    231\u001b[0m     \u001b[38;5;124m\"\u001b[39m\u001b[38;5;124m    from the source.historical_stock_data table. It ensures uniqueness by not inserting\u001b[39m\u001b[38;5;130;01m\\n\u001b[39;00m\u001b[38;5;124m\"\u001b[39m,\n\u001b[1;32m    232\u001b[0m     \u001b[38;5;124m\"\u001b[39m\u001b[38;5;124m    any records that match existing symbol and date combinations in the target table,\u001b[39m\u001b[38;5;130;01m\\n\u001b[39;00m\u001b[38;5;124m\"\u001b[39m,\n\u001b[1;32m    233\u001b[0m     \u001b[38;5;124m\"\u001b[39m\u001b[38;5;124m    thereby preventing duplicate entries.\u001b[39m\u001b[38;5;130;01m\\n\u001b[39;00m\u001b[38;5;124m\"\u001b[39m,\n\u001b[1;32m    234\u001b[0m     \u001b[38;5;124m\"\u001b[39m\u001b[38;5;124m    \u001b[39m\u001b[38;5;130;01m\\\"\u001b[39;00m\u001b[38;5;130;01m\\\"\u001b[39;00m\u001b[38;5;130;01m\\\"\u001b[39;00m\u001b[38;5;130;01m\\n\u001b[39;00m\u001b[38;5;124m\"\u001b[39m,\n\u001b[1;32m    235\u001b[0m     \u001b[38;5;124m\"\u001b[39m\u001b[38;5;124m    \u001b[39m\u001b[38;5;130;01m\\n\u001b[39;00m\u001b[38;5;124m\"\u001b[39m,\n\u001b[1;32m    236\u001b[0m     \u001b[38;5;124m\"\u001b[39m\u001b[38;5;124m    # SQL command for inserting data into dimension.d_financial_info table.\u001b[39m\u001b[38;5;130;01m\\n\u001b[39;00m\u001b[38;5;124m\"\u001b[39m,\n\u001b[1;32m    237\u001b[0m     \u001b[38;5;124m\"\u001b[39m\u001b[38;5;124m    # The INSERT INTO SELECT statement is used to select data from the source.historical_stock_data table\u001b[39m\u001b[38;5;130;01m\\n\u001b[39;00m\u001b[38;5;124m\"\u001b[39m,\n\u001b[1;32m    238\u001b[0m     \u001b[38;5;124m\"\u001b[39m\u001b[38;5;124m    # and insert it into the dimension.d_financial_info table.\u001b[39m\u001b[38;5;130;01m\\n\u001b[39;00m\u001b[38;5;124m\"\u001b[39m,\n\u001b[1;32m    239\u001b[0m     \u001b[38;5;124m\"\u001b[39m\u001b[38;5;124m    # The WHERE NOT EXISTS clause checks if a record with the same symbol and date already exists\u001b[39m\u001b[38;5;130;01m\\n\u001b[39;00m\u001b[38;5;124m\"\u001b[39m,\n\u001b[1;32m    240\u001b[0m     \u001b[38;5;124m\"\u001b[39m\u001b[38;5;124m    # in the dimension.d_financial_info table, preventing duplicate entries.\u001b[39m\u001b[38;5;130;01m\\n\u001b[39;00m\u001b[38;5;124m\"\u001b[39m,\n\u001b[1;32m    241\u001b[0m     \u001b[38;5;124m\"\u001b[39m\u001b[38;5;124m    insert_query = \u001b[39m\u001b[38;5;130;01m\\\"\u001b[39;00m\u001b[38;5;130;01m\\\"\u001b[39;00m\u001b[38;5;130;01m\\\"\u001b[39;00m\u001b[38;5;130;01m\\n\u001b[39;00m\u001b[38;5;124m\"\u001b[39m,\n\u001b[1;32m    242\u001b[0m     \u001b[38;5;124m\"\u001b[39m\u001b[38;5;124m    INSERT INTO dimension.d_financial_info (\u001b[39m\u001b[38;5;130;01m\\n\u001b[39;00m\u001b[38;5;124m\"\u001b[39m,\n\u001b[1;32m    243\u001b[0m     \u001b[38;5;124m\"\u001b[39m\u001b[38;5;124m        symbol, \u001b[39m\u001b[38;5;130;01m\\n\u001b[39;00m\u001b[38;5;124m\"\u001b[39m,\n\u001b[1;32m    244\u001b[0m     \u001b[38;5;124m\"\u001b[39m\u001b[38;5;124m        date,\u001b[39m\u001b[38;5;130;01m\\n\u001b[39;00m\u001b[38;5;124m\"\u001b[39m,\n\u001b[1;32m    245\u001b[0m     \u001b[38;5;124m\"\u001b[39m\u001b[38;5;124m        open,\u001b[39m\u001b[38;5;130;01m\\n\u001b[39;00m\u001b[38;5;124m\"\u001b[39m,\n\u001b[1;32m    246\u001b[0m     \u001b[38;5;124m\"\u001b[39m\u001b[38;5;124m        high,\u001b[39m\u001b[38;5;130;01m\\n\u001b[39;00m\u001b[38;5;124m\"\u001b[39m,\n\u001b[1;32m    247\u001b[0m     \u001b[38;5;124m\"\u001b[39m\u001b[38;5;124m        low,\u001b[39m\u001b[38;5;130;01m\\n\u001b[39;00m\u001b[38;5;124m\"\u001b[39m,\n\u001b[1;32m    248\u001b[0m     \u001b[38;5;124m\"\u001b[39m\u001b[38;5;124m        close,\u001b[39m\u001b[38;5;130;01m\\n\u001b[39;00m\u001b[38;5;124m\"\u001b[39m,\n\u001b[1;32m    249\u001b[0m     \u001b[38;5;124m\"\u001b[39m\u001b[38;5;124m        volume,\u001b[39m\u001b[38;5;130;01m\\n\u001b[39;00m\u001b[38;5;124m\"\u001b[39m,\n\u001b[1;32m    250\u001b[0m     \u001b[38;5;124m\"\u001b[39m\u001b[38;5;124m        dividends,\u001b[39m\u001b[38;5;130;01m\\n\u001b[39;00m\u001b[38;5;124m\"\u001b[39m,\n\u001b[1;32m    251\u001b[0m     \u001b[38;5;124m\"\u001b[39m\u001b[38;5;124m        stock_splits\u001b[39m\u001b[38;5;130;01m\\n\u001b[39;00m\u001b[38;5;124m\"\u001b[39m,\n\u001b[1;32m    252\u001b[0m     \u001b[38;5;124m\"\u001b[39m\u001b[38;5;124m    )\u001b[39m\u001b[38;5;130;01m\\n\u001b[39;00m\u001b[38;5;124m\"\u001b[39m,\n\u001b[1;32m    253\u001b[0m     \u001b[38;5;124m\"\u001b[39m\u001b[38;5;124m    SELECT \u001b[39m\u001b[38;5;130;01m\\n\u001b[39;00m\u001b[38;5;124m\"\u001b[39m,\n\u001b[1;32m    254\u001b[0m     \u001b[38;5;124m\"\u001b[39m\u001b[38;5;124m        symbol, \u001b[39m\u001b[38;5;130;01m\\n\u001b[39;00m\u001b[38;5;124m\"\u001b[39m,\n\u001b[1;32m    255\u001b[0m     \u001b[38;5;124m\"\u001b[39m\u001b[38;5;124m        date,\u001b[39m\u001b[38;5;130;01m\\n\u001b[39;00m\u001b[38;5;124m\"\u001b[39m,\n\u001b[1;32m    256\u001b[0m     \u001b[38;5;124m\"\u001b[39m\u001b[38;5;124m        open,\u001b[39m\u001b[38;5;130;01m\\n\u001b[39;00m\u001b[38;5;124m\"\u001b[39m,\n\u001b[1;32m    257\u001b[0m     \u001b[38;5;124m\"\u001b[39m\u001b[38;5;124m        high,\u001b[39m\u001b[38;5;130;01m\\n\u001b[39;00m\u001b[38;5;124m\"\u001b[39m,\n\u001b[1;32m    258\u001b[0m     \u001b[38;5;124m\"\u001b[39m\u001b[38;5;124m        low,\u001b[39m\u001b[38;5;130;01m\\n\u001b[39;00m\u001b[38;5;124m\"\u001b[39m,\n\u001b[1;32m    259\u001b[0m     \u001b[38;5;124m\"\u001b[39m\u001b[38;5;124m        close,\u001b[39m\u001b[38;5;130;01m\\n\u001b[39;00m\u001b[38;5;124m\"\u001b[39m,\n\u001b[1;32m    260\u001b[0m     \u001b[38;5;124m\"\u001b[39m\u001b[38;5;124m        volume,\u001b[39m\u001b[38;5;130;01m\\n\u001b[39;00m\u001b[38;5;124m\"\u001b[39m,\n\u001b[1;32m    261\u001b[0m     \u001b[38;5;124m\"\u001b[39m\u001b[38;5;124m        dividends,\u001b[39m\u001b[38;5;130;01m\\n\u001b[39;00m\u001b[38;5;124m\"\u001b[39m,\n\u001b[1;32m    262\u001b[0m     \u001b[38;5;124m\"\u001b[39m\u001b[38;5;124m        stock_splits\u001b[39m\u001b[38;5;130;01m\\n\u001b[39;00m\u001b[38;5;124m\"\u001b[39m,\n\u001b[1;32m    263\u001b[0m     \u001b[38;5;124m\"\u001b[39m\u001b[38;5;124m    FROM \u001b[39m\u001b[38;5;130;01m\\n\u001b[39;00m\u001b[38;5;124m\"\u001b[39m,\n\u001b[1;32m    264\u001b[0m     \u001b[38;5;124m\"\u001b[39m\u001b[38;5;124m        source.historical_stock_data AS s\u001b[39m\u001b[38;5;130;01m\\n\u001b[39;00m\u001b[38;5;124m\"\u001b[39m,\n\u001b[1;32m    265\u001b[0m     \u001b[38;5;124m\"\u001b[39m\u001b[38;5;124m    WHERE NOT EXISTS (\u001b[39m\u001b[38;5;130;01m\\n\u001b[39;00m\u001b[38;5;124m\"\u001b[39m,\n\u001b[1;32m    266\u001b[0m     \u001b[38;5;124m\"\u001b[39m\u001b[38;5;124m        SELECT 1 \u001b[39m\u001b[38;5;130;01m\\n\u001b[39;00m\u001b[38;5;124m\"\u001b[39m,\n\u001b[1;32m    267\u001b[0m     \u001b[38;5;124m\"\u001b[39m\u001b[38;5;124m        FROM dimension.d_financial_info AS d \u001b[39m\u001b[38;5;130;01m\\n\u001b[39;00m\u001b[38;5;124m\"\u001b[39m,\n\u001b[1;32m    268\u001b[0m     \u001b[38;5;124m\"\u001b[39m\u001b[38;5;124m        WHERE \u001b[39m\u001b[38;5;130;01m\\n\u001b[39;00m\u001b[38;5;124m\"\u001b[39m,\n\u001b[1;32m    269\u001b[0m     \u001b[38;5;124m\"\u001b[39m\u001b[38;5;124m            d.symbol = s.symbol \u001b[39m\u001b[38;5;130;01m\\n\u001b[39;00m\u001b[38;5;124m\"\u001b[39m,\n\u001b[1;32m    270\u001b[0m     \u001b[38;5;124m\"\u001b[39m\u001b[38;5;124m            AND d.date = s.date\u001b[39m\u001b[38;5;130;01m\\n\u001b[39;00m\u001b[38;5;124m\"\u001b[39m,\n\u001b[1;32m    271\u001b[0m     \u001b[38;5;124m\"\u001b[39m\u001b[38;5;124m    );\u001b[39m\u001b[38;5;130;01m\\n\u001b[39;00m\u001b[38;5;124m\"\u001b[39m,\n\u001b[1;32m    272\u001b[0m     \u001b[38;5;124m\"\u001b[39m\u001b[38;5;124m    \u001b[39m\u001b[38;5;130;01m\\\"\u001b[39;00m\u001b[38;5;130;01m\\\"\u001b[39;00m\u001b[38;5;130;01m\\\"\u001b[39;00m\u001b[38;5;130;01m\\n\u001b[39;00m\u001b[38;5;124m\"\u001b[39m,\n\u001b[1;32m    273\u001b[0m     \u001b[38;5;124m\"\u001b[39m\u001b[38;5;130;01m\\n\u001b[39;00m\u001b[38;5;124m\"\u001b[39m,\n\u001b[1;32m    274\u001b[0m     \u001b[38;5;124m\"\u001b[39m\u001b[38;5;124m    # Execute the SQL command using a try-except block.\u001b[39m\u001b[38;5;130;01m\\n\u001b[39;00m\u001b[38;5;124m\"\u001b[39m,\n\u001b[1;32m    275\u001b[0m     \u001b[38;5;124m\"\u001b[39m\u001b[38;5;124m    # This block attempts to run the insert_query and catches any exceptions that occur,\u001b[39m\u001b[38;5;130;01m\\n\u001b[39;00m\u001b[38;5;124m\"\u001b[39m,\n\u001b[1;32m    276\u001b[0m     \u001b[38;5;124m\"\u001b[39m\u001b[38;5;124m    # printing an error message if an exception is raised.\u001b[39m\u001b[38;5;130;01m\\n\u001b[39;00m\u001b[38;5;124m\"\u001b[39m,\n\u001b[1;32m    277\u001b[0m     \u001b[38;5;124m\"\u001b[39m\u001b[38;5;124m    try:\u001b[39m\u001b[38;5;130;01m\\n\u001b[39;00m\u001b[38;5;124m\"\u001b[39m,\n\u001b[1;32m    278\u001b[0m     \u001b[38;5;124m\"\u001b[39m\u001b[38;5;124m        execute_sql_query(insert_query)\u001b[39m\u001b[38;5;130;01m\\n\u001b[39;00m\u001b[38;5;124m\"\u001b[39m,\n\u001b[1;32m    279\u001b[0m     \u001b[38;5;124m\"\u001b[39m\u001b[38;5;124m        # If the SQL command executes successfully, print a confirmation message.\u001b[39m\u001b[38;5;130;01m\\n\u001b[39;00m\u001b[38;5;124m\"\u001b[39m,\n\u001b[1;32m    280\u001b[0m     \u001b[38;5;124m\"\u001b[39m\u001b[38;5;124m        print(\u001b[39m\u001b[38;5;130;01m\\\"\u001b[39;00m\u001b[38;5;124mData inserted into dimension.d_financial_info successfully.\u001b[39m\u001b[38;5;130;01m\\\"\u001b[39;00m\u001b[38;5;124m)\u001b[39m\u001b[38;5;130;01m\\n\u001b[39;00m\u001b[38;5;124m\"\u001b[39m,\n\u001b[1;32m    281\u001b[0m     \u001b[38;5;124m\"\u001b[39m\u001b[38;5;124m    except Exception as e:\u001b[39m\u001b[38;5;130;01m\\n\u001b[39;00m\u001b[38;5;124m\"\u001b[39m,\n\u001b[1;32m    282\u001b[0m     \u001b[38;5;124m\"\u001b[39m\u001b[38;5;124m        # If an error occurs during the execution of the SQL command, print an error message.\u001b[39m\u001b[38;5;130;01m\\n\u001b[39;00m\u001b[38;5;124m\"\u001b[39m,\n\u001b[1;32m    283\u001b[0m     \u001b[38;5;124m\"\u001b[39m\u001b[38;5;124m        # The error message includes the exception details to help diagnose the issue.\u001b[39m\u001b[38;5;130;01m\\n\u001b[39;00m\u001b[38;5;124m\"\u001b[39m,\n\u001b[1;32m    284\u001b[0m     \u001b[38;5;124m\"\u001b[39m\u001b[38;5;124m        print(f\u001b[39m\u001b[38;5;130;01m\\\"\u001b[39;00m\u001b[38;5;124mAn error occurred while inserting data: \u001b[39m\u001b[38;5;132;01m{e}\u001b[39;00m\u001b[38;5;130;01m\\\"\u001b[39;00m\u001b[38;5;124m)\u001b[39m\u001b[38;5;130;01m\\n\u001b[39;00m\u001b[38;5;124m\"\u001b[39m\n\u001b[1;32m    285\u001b[0m    ]\n\u001b[1;32m    286\u001b[0m   },\n\u001b[1;32m    287\u001b[0m   {\n\u001b[1;32m    288\u001b[0m    \u001b[38;5;124m\"\u001b[39m\u001b[38;5;124mcell_type\u001b[39m\u001b[38;5;124m\"\u001b[39m: \u001b[38;5;124m\"\u001b[39m\u001b[38;5;124mcode\u001b[39m\u001b[38;5;124m\"\u001b[39m,\n\u001b[1;32m    289\u001b[0m    \u001b[38;5;124m\"\u001b[39m\u001b[38;5;124mexecution_count\u001b[39m\u001b[38;5;124m\"\u001b[39m: null,\n\u001b[1;32m    290\u001b[0m    \u001b[38;5;124m\"\u001b[39m\u001b[38;5;124mid\u001b[39m\u001b[38;5;124m\"\u001b[39m: \u001b[38;5;124m\"\u001b[39m\u001b[38;5;124m53a37863-f881-41dd-ba24-6f1b25f5fb65\u001b[39m\u001b[38;5;124m\"\u001b[39m,\n\u001b[1;32m    291\u001b[0m    \u001b[38;5;124m\"\u001b[39m\u001b[38;5;124mmetadata\u001b[39m\u001b[38;5;124m\"\u001b[39m: {},\n\u001b[1;32m    292\u001b[0m    \u001b[38;5;124m\"\u001b[39m\u001b[38;5;124moutputs\u001b[39m\u001b[38;5;124m\"\u001b[39m: [],\n\u001b[1;32m    293\u001b[0m    \u001b[38;5;124m\"\u001b[39m\u001b[38;5;124msource\u001b[39m\u001b[38;5;124m\"\u001b[39m: [\n\u001b[1;32m    294\u001b[0m     \u001b[38;5;124m\"\u001b[39m\u001b[38;5;124m############\u001b[39m\u001b[38;5;130;01m\\n\u001b[39;00m\u001b[38;5;124m\"\u001b[39m,\n\u001b[1;32m    295\u001b[0m     \u001b[38;5;124m\"\u001b[39m\u001b[38;5;124m#Part of the Data refresh\u001b[39m\u001b[38;5;130;01m\\n\u001b[39;00m\u001b[38;5;124m\"\u001b[39m,\n\u001b[1;32m    296\u001b[0m     \u001b[38;5;124m\"\u001b[39m\u001b[38;5;124m#Define a function to update the \u001b[39m\u001b[38;5;124m'\u001b[39m\u001b[38;5;124mfacts.daily_facts\u001b[39m\u001b[38;5;124m'\u001b[39m\u001b[38;5;124m table in the database.\u001b[39m\u001b[38;5;130;01m\\n\u001b[39;00m\u001b[38;5;124m\"\u001b[39m,\n\u001b[1;32m    297\u001b[0m     \u001b[38;5;124m\"\u001b[39m\u001b[38;5;124m#SQL REFERENCE A\u001b[39m\u001b[38;5;130;01m\\n\u001b[39;00m\u001b[38;5;124m\"\u001b[39m,\n\u001b[1;32m    298\u001b[0m     \u001b[38;5;124m\"\u001b[39m\u001b[38;5;130;01m\\n\u001b[39;00m\u001b[38;5;124m\"\u001b[39m,\n\u001b[1;32m    299\u001b[0m     \u001b[38;5;124m\"\u001b[39m\u001b[38;5;130;01m\\n\u001b[39;00m\u001b[38;5;124m\"\u001b[39m,\n\u001b[1;32m    300\u001b[0m     \u001b[38;5;124m\"\u001b[39m\u001b[38;5;124m#Reference cell H Name\u001b[39m\u001b[38;5;130;01m\\n\u001b[39;00m\u001b[38;5;124m\"\u001b[39m,\n\u001b[1;32m    301\u001b[0m     \u001b[38;5;124m\"\u001b[39m\u001b[38;5;124mdef update_facts_table():\u001b[39m\u001b[38;5;130;01m\\n\u001b[39;00m\u001b[38;5;124m\"\u001b[39m,\n\u001b[1;32m    302\u001b[0m     \u001b[38;5;124m\"\u001b[39m\u001b[38;5;124m    # SQL command to start a new database transaction.\u001b[39m\u001b[38;5;130;01m\\n\u001b[39;00m\u001b[38;5;124m\"\u001b[39m,\n\u001b[1;32m    303\u001b[0m     \u001b[38;5;124m\"\u001b[39m\u001b[38;5;124m    # This ensures that all subsequent operations are part of a single transaction,\u001b[39m\u001b[38;5;130;01m\\n\u001b[39;00m\u001b[38;5;124m\"\u001b[39m,\n\u001b[1;32m    304\u001b[0m     \u001b[38;5;124m\"\u001b[39m\u001b[38;5;124m    # which can be either committed or rolled back in case of an error.\u001b[39m\u001b[38;5;130;01m\\n\u001b[39;00m\u001b[38;5;124m\"\u001b[39m,\n\u001b[1;32m    305\u001b[0m     \u001b[38;5;124m\"\u001b[39m\u001b[38;5;124m    begin_transaction = \u001b[39m\u001b[38;5;130;01m\\\"\u001b[39;00m\u001b[38;5;124mBEGIN;\u001b[39m\u001b[38;5;130;01m\\\"\u001b[39;00m\u001b[38;5;130;01m\\n\u001b[39;00m\u001b[38;5;124m\"\u001b[39m,\n\u001b[1;32m    306\u001b[0m     \u001b[38;5;124m\"\u001b[39m\u001b[38;5;130;01m\\n\u001b[39;00m\u001b[38;5;124m\"\u001b[39m,\n\u001b[1;32m    307\u001b[0m     \u001b[38;5;124m\"\u001b[39m\u001b[38;5;124m    # SQL command to clear the \u001b[39m\u001b[38;5;124m'\u001b[39m\u001b[38;5;124mfacts.daily_facts\u001b[39m\u001b[38;5;124m'\u001b[39m\u001b[38;5;124m table.\u001b[39m\u001b[38;5;130;01m\\n\u001b[39;00m\u001b[38;5;124m\"\u001b[39m,\n\u001b[1;32m    308\u001b[0m     \u001b[38;5;124m\"\u001b[39m\u001b[38;5;124m    # This removes all existing records to prepare for inserting updated data.\u001b[39m\u001b[38;5;130;01m\\n\u001b[39;00m\u001b[38;5;124m\"\u001b[39m,\n\u001b[1;32m    309\u001b[0m     \u001b[38;5;124m\"\u001b[39m\u001b[38;5;124m    # It\u001b[39m\u001b[38;5;124m'\u001b[39m\u001b[38;5;124ms important to be cautious with this operation in a production environment.\u001b[39m\u001b[38;5;130;01m\\n\u001b[39;00m\u001b[38;5;124m\"\u001b[39m,\n\u001b[1;32m    310\u001b[0m     \u001b[38;5;124m\"\u001b[39m\u001b[38;5;124m    truncate_table = \u001b[39m\u001b[38;5;130;01m\\\"\u001b[39;00m\u001b[38;5;124mTRUNCATE facts.daily_facts;\u001b[39m\u001b[38;5;130;01m\\\"\u001b[39;00m\u001b[38;5;130;01m\\n\u001b[39;00m\u001b[38;5;124m\"\u001b[39m,\n\u001b[1;32m    311\u001b[0m     \u001b[38;5;124m\"\u001b[39m\u001b[38;5;130;01m\\n\u001b[39;00m\u001b[38;5;124m\"\u001b[39m,\n\u001b[1;32m    312\u001b[0m     \u001b[38;5;124m\"\u001b[39m\u001b[38;5;124m    # SQL command to insert updated data into the \u001b[39m\u001b[38;5;124m'\u001b[39m\u001b[38;5;124mfacts.daily_facts\u001b[39m\u001b[38;5;124m'\u001b[39m\u001b[38;5;124m table.\u001b[39m\u001b[38;5;130;01m\\n\u001b[39;00m\u001b[38;5;124m\"\u001b[39m,\n\u001b[1;32m    313\u001b[0m     \u001b[38;5;124m\"\u001b[39m\u001b[38;5;124m    # This command performs a SELECT operation joining several tables to gather\u001b[39m\u001b[38;5;130;01m\\n\u001b[39;00m\u001b[38;5;124m\"\u001b[39m,\n\u001b[1;32m    314\u001b[0m     \u001b[38;5;124m\"\u001b[39m\u001b[38;5;124m    # the necessary data (like open, high, low, close prices, volume, and various growth metrics)\u001b[39m\u001b[38;5;130;01m\\n\u001b[39;00m\u001b[38;5;124m\"\u001b[39m,\n\u001b[1;32m    315\u001b[0m     \u001b[38;5;124m\"\u001b[39m\u001b[38;5;124m    # and inserts the resulting dataset into the \u001b[39m\u001b[38;5;124m'\u001b[39m\u001b[38;5;124mfacts.daily_facts\u001b[39m\u001b[38;5;124m'\u001b[39m\u001b[38;5;124m table.\u001b[39m\u001b[38;5;130;01m\\n\u001b[39;00m\u001b[38;5;124m\"\u001b[39m,\n\u001b[1;32m    316\u001b[0m     \u001b[38;5;124m\"\u001b[39m\u001b[38;5;124m    insert_data = \u001b[39m\u001b[38;5;130;01m\\\"\u001b[39;00m\u001b[38;5;130;01m\\\"\u001b[39;00m\u001b[38;5;130;01m\\\"\u001b[39;00m\u001b[38;5;130;01m\\n\u001b[39;00m\u001b[38;5;124m\"\u001b[39m,\n\u001b[1;32m    317\u001b[0m     \u001b[38;5;124m\"\u001b[39m\u001b[38;5;124m    INSERT INTO facts.daily_facts(\u001b[39m\u001b[38;5;130;01m\\n\u001b[39;00m\u001b[38;5;124m\"\u001b[39m,\n\u001b[1;32m    318\u001b[0m     \u001b[38;5;124m\"\u001b[39m\u001b[38;5;124m        Date, IsWeekend, symbol,  \u001b[39m\u001b[38;5;130;01m\\n\u001b[39;00m\u001b[38;5;124m\"\u001b[39m,\n\u001b[1;32m    319\u001b[0m     \u001b[38;5;124m\"\u001b[39m\u001b[38;5;124m        open, high, low, close, volume, \u001b[39m\u001b[38;5;130;01m\\n\u001b[39;00m\u001b[38;5;124m\"\u001b[39m,\n\u001b[1;32m    320\u001b[0m     \u001b[38;5;124m\"\u001b[39m\u001b[38;5;124m        profit_margins, earnings_growth, revenue_growth \u001b[39m\u001b[38;5;130;01m\\n\u001b[39;00m\u001b[38;5;124m\"\u001b[39m,\n\u001b[1;32m    321\u001b[0m     \u001b[38;5;124m\"\u001b[39m\u001b[38;5;124m    ) \u001b[39m\u001b[38;5;130;01m\\n\u001b[39;00m\u001b[38;5;124m\"\u001b[39m,\n\u001b[1;32m    322\u001b[0m     \u001b[38;5;124m\"\u001b[39m\u001b[38;5;124m    SELECT \u001b[39m\u001b[38;5;130;01m\\n\u001b[39;00m\u001b[38;5;124m\"\u001b[39m,\n\u001b[1;32m    323\u001b[0m     \u001b[38;5;124m\"\u001b[39m\u001b[38;5;124m        dd.date as date, \u001b[39m\u001b[38;5;130;01m\\n\u001b[39;00m\u001b[38;5;124m\"\u001b[39m,\n\u001b[1;32m    324\u001b[0m     \u001b[38;5;124m\"\u001b[39m\u001b[38;5;124m        dd.isweekend as isweekend,\u001b[39m\u001b[38;5;130;01m\\n\u001b[39;00m\u001b[38;5;124m\"\u001b[39m,\n\u001b[1;32m    325\u001b[0m     \u001b[38;5;124m\"\u001b[39m\u001b[38;5;124m        df.symbol AS symbol,\u001b[39m\u001b[38;5;130;01m\\n\u001b[39;00m\u001b[38;5;124m\"\u001b[39m,\n\u001b[1;32m    326\u001b[0m     \u001b[38;5;124m\"\u001b[39m\u001b[38;5;124m        df.open AS open,\u001b[39m\u001b[38;5;130;01m\\n\u001b[39;00m\u001b[38;5;124m\"\u001b[39m,\n\u001b[1;32m    327\u001b[0m     \u001b[38;5;124m\"\u001b[39m\u001b[38;5;124m        df.high AS high,\u001b[39m\u001b[38;5;130;01m\\n\u001b[39;00m\u001b[38;5;124m\"\u001b[39m,\n\u001b[1;32m    328\u001b[0m     \u001b[38;5;124m\"\u001b[39m\u001b[38;5;124m        df.low AS low,\u001b[39m\u001b[38;5;130;01m\\n\u001b[39;00m\u001b[38;5;124m\"\u001b[39m,\n\u001b[1;32m    329\u001b[0m     \u001b[38;5;124m\"\u001b[39m\u001b[38;5;124m        df.close AS close,\u001b[39m\u001b[38;5;130;01m\\n\u001b[39;00m\u001b[38;5;124m\"\u001b[39m,\n\u001b[1;32m    330\u001b[0m     \u001b[38;5;124m\"\u001b[39m\u001b[38;5;124m        df.volume AS volume, \u001b[39m\u001b[38;5;130;01m\\n\u001b[39;00m\u001b[38;5;124m\"\u001b[39m,\n\u001b[1;32m    331\u001b[0m     \u001b[38;5;124m\"\u001b[39m\u001b[38;5;124m        dc.profit_margins AS profit_margins,\u001b[39m\u001b[38;5;130;01m\\n\u001b[39;00m\u001b[38;5;124m\"\u001b[39m,\n\u001b[1;32m    332\u001b[0m     \u001b[38;5;124m\"\u001b[39m\u001b[38;5;124m        dc.earnings_growth AS earnings_growth,\u001b[39m\u001b[38;5;130;01m\\n\u001b[39;00m\u001b[38;5;124m\"\u001b[39m,\n\u001b[1;32m    333\u001b[0m     \u001b[38;5;124m\"\u001b[39m\u001b[38;5;124m        dc.revenue_growth AS revenue_growth\u001b[39m\u001b[38;5;130;01m\\n\u001b[39;00m\u001b[38;5;124m\"\u001b[39m,\n\u001b[1;32m    334\u001b[0m     \u001b[38;5;124m\"\u001b[39m\u001b[38;5;124m    FROM \u001b[39m\u001b[38;5;130;01m\\n\u001b[39;00m\u001b[38;5;124m\"\u001b[39m,\n\u001b[1;32m    335\u001b[0m     \u001b[38;5;124m\"\u001b[39m\u001b[38;5;124m        dimension.d_financial_info as df \u001b[39m\u001b[38;5;130;01m\\n\u001b[39;00m\u001b[38;5;124m\"\u001b[39m,\n\u001b[1;32m    336\u001b[0m     \u001b[38;5;124m\"\u001b[39m\u001b[38;5;124m    JOIN\u001b[39m\u001b[38;5;130;01m\\n\u001b[39;00m\u001b[38;5;124m\"\u001b[39m,\n\u001b[1;32m    337\u001b[0m     \u001b[38;5;124m\"\u001b[39m\u001b[38;5;124m        dimension.d_dated AS dd ON df.date = dd.Date\u001b[39m\u001b[38;5;130;01m\\n\u001b[39;00m\u001b[38;5;124m\"\u001b[39m,\n\u001b[1;32m    338\u001b[0m     \u001b[38;5;124m\"\u001b[39m\u001b[38;5;124m    JOIN\u001b[39m\u001b[38;5;130;01m\\n\u001b[39;00m\u001b[38;5;124m\"\u001b[39m,\n\u001b[1;32m    339\u001b[0m     \u001b[38;5;124m\"\u001b[39m\u001b[38;5;124m        dimension.d_customer AS dc ON df.symbol = dc.symbol;\u001b[39m\u001b[38;5;130;01m\\n\u001b[39;00m\u001b[38;5;124m\"\u001b[39m,\n\u001b[1;32m    340\u001b[0m     \u001b[38;5;124m\"\u001b[39m\u001b[38;5;124m    \u001b[39m\u001b[38;5;130;01m\\\"\u001b[39;00m\u001b[38;5;130;01m\\\"\u001b[39;00m\u001b[38;5;130;01m\\\"\u001b[39;00m\u001b[38;5;130;01m\\n\u001b[39;00m\u001b[38;5;124m\"\u001b[39m,\n\u001b[1;32m    341\u001b[0m     \u001b[38;5;124m\"\u001b[39m\u001b[38;5;130;01m\\n\u001b[39;00m\u001b[38;5;124m\"\u001b[39m,\n\u001b[1;32m    342\u001b[0m     \u001b[38;5;124m\"\u001b[39m\u001b[38;5;124m    # SQL command to commit the transaction to the database.\u001b[39m\u001b[38;5;130;01m\\n\u001b[39;00m\u001b[38;5;124m\"\u001b[39m,\n\u001b[1;32m    343\u001b[0m     \u001b[38;5;124m\"\u001b[39m\u001b[38;5;124m    # This finalizes the insertion of new data and ensures data integrity by\u001b[39m\u001b[38;5;130;01m\\n\u001b[39;00m\u001b[38;5;124m\"\u001b[39m,\n\u001b[1;32m    344\u001b[0m     \u001b[38;5;124m\"\u001b[39m\u001b[38;5;124m    # making the changes permanent in the database.\u001b[39m\u001b[38;5;130;01m\\n\u001b[39;00m\u001b[38;5;124m\"\u001b[39m,\n\u001b[1;32m    345\u001b[0m     \u001b[38;5;124m\"\u001b[39m\u001b[38;5;124m    commit_transaction = \u001b[39m\u001b[38;5;130;01m\\\"\u001b[39;00m\u001b[38;5;124mCOMMIT;\u001b[39m\u001b[38;5;130;01m\\\"\u001b[39;00m\u001b[38;5;130;01m\\n\u001b[39;00m\u001b[38;5;124m\"\u001b[39m,\n\u001b[1;32m    346\u001b[0m     \u001b[38;5;124m\"\u001b[39m\u001b[38;5;130;01m\\n\u001b[39;00m\u001b[38;5;124m\"\u001b[39m,\n\u001b[1;32m    347\u001b[0m     \u001b[38;5;124m\"\u001b[39m\u001b[38;5;124m    # Attempt to execute the SQL commands within a try-except block to handle potential errors.\u001b[39m\u001b[38;5;130;01m\\n\u001b[39;00m\u001b[38;5;124m\"\u001b[39m,\n\u001b[1;32m    348\u001b[0m     \u001b[38;5;124m\"\u001b[39m\u001b[38;5;124m    try:\u001b[39m\u001b[38;5;130;01m\\n\u001b[39;00m\u001b[38;5;124m\"\u001b[39m,\n\u001b[1;32m    349\u001b[0m     \u001b[38;5;124m\"\u001b[39m\u001b[38;5;124m        # Execute the SQL commands one by one using a previously defined function.\u001b[39m\u001b[38;5;130;01m\\n\u001b[39;00m\u001b[38;5;124m\"\u001b[39m,\n\u001b[1;32m    350\u001b[0m     \u001b[38;5;124m\"\u001b[39m\u001b[38;5;124m        # This function manages the database connection and query execution.\u001b[39m\u001b[38;5;130;01m\\n\u001b[39;00m\u001b[38;5;124m\"\u001b[39m,\n\u001b[1;32m    351\u001b[0m     \u001b[38;5;124m\"\u001b[39m\u001b[38;5;124m        execute_sql_query(begin_transaction)\u001b[39m\u001b[38;5;130;01m\\n\u001b[39;00m\u001b[38;5;124m\"\u001b[39m,\n\u001b[1;32m    352\u001b[0m     \u001b[38;5;124m\"\u001b[39m\u001b[38;5;124m        execute_sql_query(truncate_table)\u001b[39m\u001b[38;5;130;01m\\n\u001b[39;00m\u001b[38;5;124m\"\u001b[39m,\n\u001b[1;32m    353\u001b[0m     \u001b[38;5;124m\"\u001b[39m\u001b[38;5;124m        execute_sql_query(insert_data)\u001b[39m\u001b[38;5;130;01m\\n\u001b[39;00m\u001b[38;5;124m\"\u001b[39m,\n\u001b[1;32m    354\u001b[0m     \u001b[38;5;124m\"\u001b[39m\u001b[38;5;124m        execute_sql_query(commit_transaction)\u001b[39m\u001b[38;5;130;01m\\n\u001b[39;00m\u001b[38;5;124m\"\u001b[39m,\n\u001b[1;32m    355\u001b[0m     \u001b[38;5;124m\"\u001b[39m\u001b[38;5;124m        # Notify the user that the update process was successful.\u001b[39m\u001b[38;5;130;01m\\n\u001b[39;00m\u001b[38;5;124m\"\u001b[39m,\n\u001b[1;32m    356\u001b[0m     \u001b[38;5;124m\"\u001b[39m\u001b[38;5;124m        print(\u001b[39m\u001b[38;5;130;01m\\\"\u001b[39;00m\u001b[38;5;124mFacts table updated successfully.\u001b[39m\u001b[38;5;130;01m\\\"\u001b[39;00m\u001b[38;5;124m)\u001b[39m\u001b[38;5;130;01m\\n\u001b[39;00m\u001b[38;5;124m\"\u001b[39m,\n\u001b[1;32m    357\u001b[0m     \u001b[38;5;124m\"\u001b[39m\u001b[38;5;124m    except Exception as e:\u001b[39m\u001b[38;5;130;01m\\n\u001b[39;00m\u001b[38;5;124m\"\u001b[39m,\n\u001b[1;32m    358\u001b[0m     \u001b[38;5;124m\"\u001b[39m\u001b[38;5;124m        # If an error occurs during any of the SQL operations, print an error message.\u001b[39m\u001b[38;5;130;01m\\n\u001b[39;00m\u001b[38;5;124m\"\u001b[39m,\n\u001b[1;32m    359\u001b[0m     \u001b[38;5;124m\"\u001b[39m\u001b[38;5;124m        # The specific nature of the error is captured and displayed for troubleshooting.\u001b[39m\u001b[38;5;130;01m\\n\u001b[39;00m\u001b[38;5;124m\"\u001b[39m,\n\u001b[1;32m    360\u001b[0m     \u001b[38;5;124m\"\u001b[39m\u001b[38;5;124m        print(f\u001b[39m\u001b[38;5;130;01m\\\"\u001b[39;00m\u001b[38;5;124mAn error occurred while updating the facts table: \u001b[39m\u001b[38;5;132;01m{e}\u001b[39;00m\u001b[38;5;130;01m\\\"\u001b[39;00m\u001b[38;5;124m)\u001b[39m\u001b[38;5;130;01m\\n\u001b[39;00m\u001b[38;5;124m\"\u001b[39m\n\u001b[1;32m    361\u001b[0m    ]\n\u001b[1;32m    362\u001b[0m   },\n\u001b[1;32m    363\u001b[0m   {\n\u001b[1;32m    364\u001b[0m    \u001b[38;5;124m\"\u001b[39m\u001b[38;5;124mcell_type\u001b[39m\u001b[38;5;124m\"\u001b[39m: \u001b[38;5;124m\"\u001b[39m\u001b[38;5;124mcode\u001b[39m\u001b[38;5;124m\"\u001b[39m,\n\u001b[1;32m    365\u001b[0m    \u001b[38;5;124m\"\u001b[39m\u001b[38;5;124mexecution_count\u001b[39m\u001b[38;5;124m\"\u001b[39m: null,\n\u001b[1;32m    366\u001b[0m    \u001b[38;5;124m\"\u001b[39m\u001b[38;5;124mid\u001b[39m\u001b[38;5;124m\"\u001b[39m: \u001b[38;5;124m\"\u001b[39m\u001b[38;5;124m42a9f353-b54c-460d-9e84-77af5ea845b9\u001b[39m\u001b[38;5;124m\"\u001b[39m,\n\u001b[1;32m    367\u001b[0m    \u001b[38;5;124m\"\u001b[39m\u001b[38;5;124mmetadata\u001b[39m\u001b[38;5;124m\"\u001b[39m: {},\n\u001b[1;32m    368\u001b[0m    \u001b[38;5;124m\"\u001b[39m\u001b[38;5;124moutputs\u001b[39m\u001b[38;5;124m\"\u001b[39m: [],\n\u001b[1;32m    369\u001b[0m    \u001b[38;5;124m\"\u001b[39m\u001b[38;5;124msource\u001b[39m\u001b[38;5;124m\"\u001b[39m: [\n\u001b[1;32m    370\u001b[0m     \u001b[38;5;124m\"\u001b[39m\u001b[38;5;130;01m\\n\u001b[39;00m\u001b[38;5;124m\"\u001b[39m,\n\u001b[1;32m    371\u001b[0m     \u001b[38;5;124m\"\u001b[39m\u001b[38;5;130;01m\\n\u001b[39;00m\u001b[38;5;124m\"\u001b[39m,\n\u001b[1;32m    372\u001b[0m     \u001b[38;5;124m\"\u001b[39m\u001b[38;5;130;01m\\n\u001b[39;00m\u001b[38;5;124m\"\u001b[39m,\n\u001b[1;32m    373\u001b[0m     \u001b[38;5;124m\"\u001b[39m\u001b[38;5;124mdef update_dates_of_stock_info():\u001b[39m\u001b[38;5;130;01m\\n\u001b[39;00m\u001b[38;5;124m\"\u001b[39m,\n\u001b[1;32m    374\u001b[0m     \u001b[38;5;124m\"\u001b[39m\u001b[38;5;124m    # SQL command to start a new transaction.\u001b[39m\u001b[38;5;130;01m\\n\u001b[39;00m\u001b[38;5;124m\"\u001b[39m,\n\u001b[1;32m    375\u001b[0m     \u001b[38;5;124m\"\u001b[39m\u001b[38;5;124m    # Beginning a transaction ensures that all the following operations are executed as a single unit of work,\u001b[39m\u001b[38;5;130;01m\\n\u001b[39;00m\u001b[38;5;124m\"\u001b[39m,\n\u001b[1;32m    376\u001b[0m     \u001b[38;5;124m\"\u001b[39m\u001b[38;5;124m    # allowing for rollback if something goes wrong, thus maintaining data consistency.\u001b[39m\u001b[38;5;130;01m\\n\u001b[39;00m\u001b[38;5;124m\"\u001b[39m,\n\u001b[1;32m    377\u001b[0m     \u001b[38;5;124m\"\u001b[39m\u001b[38;5;124m    begin_transaction = \u001b[39m\u001b[38;5;130;01m\\\"\u001b[39;00m\u001b[38;5;124mBEGIN;\u001b[39m\u001b[38;5;130;01m\\\"\u001b[39;00m\u001b[38;5;130;01m\\n\u001b[39;00m\u001b[38;5;124m\"\u001b[39m,\n\u001b[1;32m    378\u001b[0m     \u001b[38;5;124m\"\u001b[39m\u001b[38;5;130;01m\\n\u001b[39;00m\u001b[38;5;124m\"\u001b[39m,\n\u001b[1;32m    379\u001b[0m     \u001b[38;5;124m\"\u001b[39m\u001b[38;5;124m    # SQL command to clear the \u001b[39m\u001b[38;5;124m'\u001b[39m\u001b[38;5;124mfacts.dates_of_stock_info\u001b[39m\u001b[38;5;124m'\u001b[39m\u001b[38;5;124m table.\u001b[39m\u001b[38;5;130;01m\\n\u001b[39;00m\u001b[38;5;124m\"\u001b[39m,\n\u001b[1;32m    380\u001b[0m     \u001b[38;5;124m\"\u001b[39m\u001b[38;5;124m    # This operation removes all existing records from the table, preparing it for the insertion of updated data.\u001b[39m\u001b[38;5;130;01m\\n\u001b[39;00m\u001b[38;5;124m\"\u001b[39m,\n\u001b[1;32m    381\u001b[0m     \u001b[38;5;124m\"\u001b[39m\u001b[38;5;124m    # Truncating a table is a drastic action and should be used with caution.\u001b[39m\u001b[38;5;130;01m\\n\u001b[39;00m\u001b[38;5;124m\"\u001b[39m,\n\u001b[1;32m    382\u001b[0m     \u001b[38;5;124m\"\u001b[39m\u001b[38;5;124m    truncate_table = \u001b[39m\u001b[38;5;130;01m\\\"\u001b[39;00m\u001b[38;5;124mTRUNCATE facts.dates_of_stock_info;\u001b[39m\u001b[38;5;130;01m\\\"\u001b[39;00m\u001b[38;5;130;01m\\n\u001b[39;00m\u001b[38;5;124m\"\u001b[39m,\n\u001b[1;32m    383\u001b[0m     \u001b[38;5;124m\"\u001b[39m\u001b[38;5;130;01m\\n\u001b[39;00m\u001b[38;5;124m\"\u001b[39m,\n\u001b[1;32m    384\u001b[0m     \u001b[38;5;124m\"\u001b[39m\u001b[38;5;124m    # SQL command to insert updated date information for each stock symbol into the \u001b[39m\u001b[38;5;124m'\u001b[39m\u001b[38;5;124mfacts.dates_of_stock_info\u001b[39m\u001b[38;5;124m'\u001b[39m\u001b[38;5;124m table.\u001b[39m\u001b[38;5;130;01m\\n\u001b[39;00m\u001b[38;5;124m\"\u001b[39m,\n\u001b[1;32m    385\u001b[0m     \u001b[38;5;124m\"\u001b[39m\u001b[38;5;124m    # This command aggregates data from the \u001b[39m\u001b[38;5;124m'\u001b[39m\u001b[38;5;124msource.historical_stock_data\u001b[39m\u001b[38;5;124m'\u001b[39m\u001b[38;5;124m table, selecting the maximum date (i.e., the last date)\u001b[39m\u001b[38;5;130;01m\\n\u001b[39;00m\u001b[38;5;124m\"\u001b[39m,\n\u001b[1;32m    386\u001b[0m     \u001b[38;5;124m\"\u001b[39m\u001b[38;5;124m    # for each symbol and the current date, then groups the results by symbol.\u001b[39m\u001b[38;5;130;01m\\n\u001b[39;00m\u001b[38;5;124m\"\u001b[39m,\n\u001b[1;32m    387\u001b[0m     \u001b[38;5;124m\"\u001b[39m\u001b[38;5;124m    # The purpose is to keep a record of the last date for which data is available for each stock symbol,\u001b[39m\u001b[38;5;130;01m\\n\u001b[39;00m\u001b[38;5;124m\"\u001b[39m,\n\u001b[1;32m    388\u001b[0m     \u001b[38;5;124m\"\u001b[39m\u001b[38;5;124m    # as well as today\u001b[39m\u001b[38;5;124m'\u001b[39m\u001b[38;5;124ms date to monitor the currency of the data.\u001b[39m\u001b[38;5;130;01m\\n\u001b[39;00m\u001b[38;5;124m\"\u001b[39m,\n\u001b[1;32m    389\u001b[0m     \u001b[38;5;124m\"\u001b[39m\u001b[38;5;124m    insert_data = \u001b[39m\u001b[38;5;130;01m\\\"\u001b[39;00m\u001b[38;5;130;01m\\\"\u001b[39;00m\u001b[38;5;130;01m\\\"\u001b[39;00m\u001b[38;5;130;01m\\n\u001b[39;00m\u001b[38;5;124m\"\u001b[39m,\n\u001b[1;32m    390\u001b[0m     \u001b[38;5;124m\"\u001b[39m\u001b[38;5;124m    INSERT INTO facts.dates_of_stock_info (symbol, lastdate, todays_date)\u001b[39m\u001b[38;5;130;01m\\n\u001b[39;00m\u001b[38;5;124m\"\u001b[39m,\n\u001b[1;32m    391\u001b[0m     \u001b[38;5;124m\"\u001b[39m\u001b[38;5;124m    SELECT symbol, MAX(date), CURRENT_DATE AS Todays_date FROM source.historical_stock_data GROUP BY symbol;\u001b[39m\u001b[38;5;130;01m\\n\u001b[39;00m\u001b[38;5;124m\"\u001b[39m,\n\u001b[1;32m    392\u001b[0m     \u001b[38;5;124m\"\u001b[39m\u001b[38;5;124m    \u001b[39m\u001b[38;5;130;01m\\\"\u001b[39;00m\u001b[38;5;130;01m\\\"\u001b[39;00m\u001b[38;5;130;01m\\\"\u001b[39;00m\u001b[38;5;130;01m\\n\u001b[39;00m\u001b[38;5;124m\"\u001b[39m,\n\u001b[1;32m    393\u001b[0m     \u001b[38;5;124m\"\u001b[39m\u001b[38;5;130;01m\\n\u001b[39;00m\u001b[38;5;124m\"\u001b[39m,\n\u001b[1;32m    394\u001b[0m     \u001b[38;5;124m\"\u001b[39m\u001b[38;5;124m    # SQL command to commit the transaction to the database.\u001b[39m\u001b[38;5;130;01m\\n\u001b[39;00m\u001b[38;5;124m\"\u001b[39m,\n\u001b[1;32m    395\u001b[0m     \u001b[38;5;124m\"\u001b[39m\u001b[38;5;124m    # Committing the transaction makes all changes made during the transaction permanent,\u001b[39m\u001b[38;5;130;01m\\n\u001b[39;00m\u001b[38;5;124m\"\u001b[39m,\n\u001b[1;32m    396\u001b[0m     \u001b[38;5;124m\"\u001b[39m\u001b[38;5;124m    # ensuring that the data in the database is up to date and consistent.\u001b[39m\u001b[38;5;130;01m\\n\u001b[39;00m\u001b[38;5;124m\"\u001b[39m,\n\u001b[1;32m    397\u001b[0m     \u001b[38;5;124m\"\u001b[39m\u001b[38;5;124m    commit_transaction = \u001b[39m\u001b[38;5;130;01m\\\"\u001b[39;00m\u001b[38;5;124mCOMMIT;\u001b[39m\u001b[38;5;130;01m\\\"\u001b[39;00m\u001b[38;5;130;01m\\n\u001b[39;00m\u001b[38;5;124m\"\u001b[39m,\n\u001b[1;32m    398\u001b[0m     \u001b[38;5;124m\"\u001b[39m\u001b[38;5;130;01m\\n\u001b[39;00m\u001b[38;5;124m\"\u001b[39m,\n\u001b[1;32m    399\u001b[0m     \u001b[38;5;124m\"\u001b[39m\u001b[38;5;124m    # Attempt to execute the SQL commands within a try-except block to handle potential errors.\u001b[39m\u001b[38;5;130;01m\\n\u001b[39;00m\u001b[38;5;124m\"\u001b[39m,\n\u001b[1;32m    400\u001b[0m     \u001b[38;5;124m\"\u001b[39m\u001b[38;5;124m    try:\u001b[39m\u001b[38;5;130;01m\\n\u001b[39;00m\u001b[38;5;124m\"\u001b[39m,\n\u001b[1;32m    401\u001b[0m     \u001b[38;5;124m\"\u001b[39m\u001b[38;5;124m        # Execute the SQL commands sequentially using a predefined function to manage database connection and execution.\u001b[39m\u001b[38;5;130;01m\\n\u001b[39;00m\u001b[38;5;124m\"\u001b[39m,\n\u001b[1;32m    402\u001b[0m     \u001b[38;5;124m\"\u001b[39m\u001b[38;5;124m        # This function executes the SQL query against the database and commits or rolls back the transaction as necessary.\u001b[39m\u001b[38;5;130;01m\\n\u001b[39;00m\u001b[38;5;124m\"\u001b[39m,\n\u001b[1;32m    403\u001b[0m     \u001b[38;5;124m\"\u001b[39m\u001b[38;5;124m        execute_sql_query(begin_transaction)\u001b[39m\u001b[38;5;130;01m\\n\u001b[39;00m\u001b[38;5;124m\"\u001b[39m,\n\u001b[1;32m    404\u001b[0m     \u001b[38;5;124m\"\u001b[39m\u001b[38;5;124m        execute_sql_query(truncate_table)\u001b[39m\u001b[38;5;130;01m\\n\u001b[39;00m\u001b[38;5;124m\"\u001b[39m,\n\u001b[1;32m    405\u001b[0m     \u001b[38;5;124m\"\u001b[39m\u001b[38;5;124m        execute_sql_query(insert_data)\u001b[39m\u001b[38;5;130;01m\\n\u001b[39;00m\u001b[38;5;124m\"\u001b[39m,\n\u001b[1;32m    406\u001b[0m     \u001b[38;5;124m\"\u001b[39m\u001b[38;5;124m        execute_sql_query(commit_transaction)\u001b[39m\u001b[38;5;130;01m\\n\u001b[39;00m\u001b[38;5;124m\"\u001b[39m,\n\u001b[1;32m    407\u001b[0m     \u001b[38;5;124m\"\u001b[39m\u001b[38;5;124m        # Notify the user that the update process was successfully completed.\u001b[39m\u001b[38;5;130;01m\\n\u001b[39;00m\u001b[38;5;124m\"\u001b[39m,\n\u001b[1;32m    408\u001b[0m     \u001b[38;5;124m\"\u001b[39m\u001b[38;5;124m        print(\u001b[39m\u001b[38;5;130;01m\\\"\u001b[39;00m\u001b[38;5;124mDates of stock info table updated successfully.\u001b[39m\u001b[38;5;130;01m\\\"\u001b[39;00m\u001b[38;5;124m)\u001b[39m\u001b[38;5;130;01m\\n\u001b[39;00m\u001b[38;5;124m\"\u001b[39m,\n\u001b[1;32m    409\u001b[0m     \u001b[38;5;124m\"\u001b[39m\u001b[38;5;124m    except Exception as e:\u001b[39m\u001b[38;5;130;01m\\n\u001b[39;00m\u001b[38;5;124m\"\u001b[39m,\n\u001b[1;32m    410\u001b[0m     \u001b[38;5;124m\"\u001b[39m\u001b[38;5;124m        # If an error occurs during the execution of the SQL commands, print an error message.\u001b[39m\u001b[38;5;130;01m\\n\u001b[39;00m\u001b[38;5;124m\"\u001b[39m,\n\u001b[1;32m    411\u001b[0m     \u001b[38;5;124m\"\u001b[39m\u001b[38;5;124m        # The message includes the specific error encountered to assist with troubleshooting.\u001b[39m\u001b[38;5;130;01m\\n\u001b[39;00m\u001b[38;5;124m\"\u001b[39m,\n\u001b[1;32m    412\u001b[0m     \u001b[38;5;124m\"\u001b[39m\u001b[38;5;124m        print(f\u001b[39m\u001b[38;5;130;01m\\\"\u001b[39;00m\u001b[38;5;124mAn error occurred while updating the dates of stock info table: \u001b[39m\u001b[38;5;132;01m{e}\u001b[39;00m\u001b[38;5;130;01m\\\"\u001b[39;00m\u001b[38;5;124m)\u001b[39m\u001b[38;5;130;01m\\n\u001b[39;00m\u001b[38;5;124m\"\u001b[39m\n\u001b[1;32m    413\u001b[0m    ]\n\u001b[1;32m    414\u001b[0m   }\n\u001b[1;32m    415\u001b[0m  ],\n\u001b[1;32m    416\u001b[0m  \u001b[38;5;124m\"\u001b[39m\u001b[38;5;124mmetadata\u001b[39m\u001b[38;5;124m\"\u001b[39m: {\n\u001b[1;32m    417\u001b[0m   \u001b[38;5;124m\"\u001b[39m\u001b[38;5;124mkernelspec\u001b[39m\u001b[38;5;124m\"\u001b[39m: {\n\u001b[1;32m    418\u001b[0m    \u001b[38;5;124m\"\u001b[39m\u001b[38;5;124mdisplay_name\u001b[39m\u001b[38;5;124m\"\u001b[39m: \u001b[38;5;124m\"\u001b[39m\u001b[38;5;124mPython 3 (ipykernel)\u001b[39m\u001b[38;5;124m\"\u001b[39m,\n\u001b[1;32m    419\u001b[0m    \u001b[38;5;124m\"\u001b[39m\u001b[38;5;124mlanguage\u001b[39m\u001b[38;5;124m\"\u001b[39m: \u001b[38;5;124m\"\u001b[39m\u001b[38;5;124mpython\u001b[39m\u001b[38;5;124m\"\u001b[39m,\n\u001b[1;32m    420\u001b[0m    \u001b[38;5;124m\"\u001b[39m\u001b[38;5;124mname\u001b[39m\u001b[38;5;124m\"\u001b[39m: \u001b[38;5;124m\"\u001b[39m\u001b[38;5;124mpython3\u001b[39m\u001b[38;5;124m\"\u001b[39m\n\u001b[1;32m    421\u001b[0m   },\n\u001b[1;32m    422\u001b[0m   \u001b[38;5;124m\"\u001b[39m\u001b[38;5;124mlanguage_info\u001b[39m\u001b[38;5;124m\"\u001b[39m: {\n\u001b[1;32m    423\u001b[0m    \u001b[38;5;124m\"\u001b[39m\u001b[38;5;124mcodemirror_mode\u001b[39m\u001b[38;5;124m\"\u001b[39m: {\n\u001b[1;32m    424\u001b[0m     \u001b[38;5;124m\"\u001b[39m\u001b[38;5;124mname\u001b[39m\u001b[38;5;124m\"\u001b[39m: \u001b[38;5;124m\"\u001b[39m\u001b[38;5;124mipython\u001b[39m\u001b[38;5;124m\"\u001b[39m,\n\u001b[1;32m    425\u001b[0m     \u001b[38;5;124m\"\u001b[39m\u001b[38;5;124mversion\u001b[39m\u001b[38;5;124m\"\u001b[39m: \u001b[38;5;241m3\u001b[39m\n\u001b[1;32m    426\u001b[0m    },\n\u001b[1;32m    427\u001b[0m    \u001b[38;5;124m\"\u001b[39m\u001b[38;5;124mfile_extension\u001b[39m\u001b[38;5;124m\"\u001b[39m: \u001b[38;5;124m\"\u001b[39m\u001b[38;5;124m.py\u001b[39m\u001b[38;5;124m\"\u001b[39m,\n\u001b[1;32m    428\u001b[0m    \u001b[38;5;124m\"\u001b[39m\u001b[38;5;124mmimetype\u001b[39m\u001b[38;5;124m\"\u001b[39m: \u001b[38;5;124m\"\u001b[39m\u001b[38;5;124mtext/x-python\u001b[39m\u001b[38;5;124m\"\u001b[39m,\n\u001b[1;32m    429\u001b[0m    \u001b[38;5;124m\"\u001b[39m\u001b[38;5;124mname\u001b[39m\u001b[38;5;124m\"\u001b[39m: \u001b[38;5;124m\"\u001b[39m\u001b[38;5;124mpython\u001b[39m\u001b[38;5;124m\"\u001b[39m,\n\u001b[1;32m    430\u001b[0m    \u001b[38;5;124m\"\u001b[39m\u001b[38;5;124mnbconvert_exporter\u001b[39m\u001b[38;5;124m\"\u001b[39m: \u001b[38;5;124m\"\u001b[39m\u001b[38;5;124mpython\u001b[39m\u001b[38;5;124m\"\u001b[39m,\n\u001b[1;32m    431\u001b[0m    \u001b[38;5;124m\"\u001b[39m\u001b[38;5;124mpygments_lexer\u001b[39m\u001b[38;5;124m\"\u001b[39m: \u001b[38;5;124m\"\u001b[39m\u001b[38;5;124mipython3\u001b[39m\u001b[38;5;124m\"\u001b[39m,\n\u001b[1;32m    432\u001b[0m    \u001b[38;5;124m\"\u001b[39m\u001b[38;5;124mversion\u001b[39m\u001b[38;5;124m\"\u001b[39m: \u001b[38;5;124m\"\u001b[39m\u001b[38;5;124m3.11.5\u001b[39m\u001b[38;5;124m\"\u001b[39m\n\u001b[1;32m    433\u001b[0m   }\n\u001b[1;32m    434\u001b[0m  },\n\u001b[1;32m    435\u001b[0m  \u001b[38;5;124m\"\u001b[39m\u001b[38;5;124mnbformat\u001b[39m\u001b[38;5;124m\"\u001b[39m: \u001b[38;5;241m4\u001b[39m,\n\u001b[1;32m    436\u001b[0m  \u001b[38;5;124m\"\u001b[39m\u001b[38;5;124mnbformat_minor\u001b[39m\u001b[38;5;124m\"\u001b[39m: \u001b[38;5;241m5\u001b[39m\n\u001b[1;32m    437\u001b[0m }\n",
      "File \u001b[0;32m~/anaconda3/lib/python3.11/site-packages/yfinance/utils.py:103\u001b[0m, in \u001b[0;36mlog_indent_decorator.<locals>.wrapper\u001b[0;34m(*args, **kwargs)\u001b[0m\n\u001b[1;32m    100\u001b[0m logger\u001b[38;5;241m.\u001b[39mdebug(\u001b[38;5;124mf\u001b[39m\u001b[38;5;124m'\u001b[39m\u001b[38;5;124mEntering \u001b[39m\u001b[38;5;132;01m{\u001b[39;00mfunc\u001b[38;5;241m.\u001b[39m\u001b[38;5;18m__name__\u001b[39m\u001b[38;5;132;01m}\u001b[39;00m\u001b[38;5;124m()\u001b[39m\u001b[38;5;124m'\u001b[39m)\n\u001b[1;32m    102\u001b[0m \u001b[38;5;28;01mwith\u001b[39;00m IndentationContext():\n\u001b[0;32m--> 103\u001b[0m     result \u001b[38;5;241m=\u001b[39m func(\u001b[38;5;241m*\u001b[39margs, \u001b[38;5;241m*\u001b[39m\u001b[38;5;241m*\u001b[39mkwargs)\n\u001b[1;32m    105\u001b[0m logger\u001b[38;5;241m.\u001b[39mdebug(\u001b[38;5;124mf\u001b[39m\u001b[38;5;124m'\u001b[39m\u001b[38;5;124mExiting \u001b[39m\u001b[38;5;132;01m{\u001b[39;00mfunc\u001b[38;5;241m.\u001b[39m\u001b[38;5;18m__name__\u001b[39m\u001b[38;5;132;01m}\u001b[39;00m\u001b[38;5;124m()\u001b[39m\u001b[38;5;124m'\u001b[39m)\n\u001b[1;32m    106\u001b[0m \u001b[38;5;28;01mreturn\u001b[39;00m result\n",
      "File \u001b[0;32m~/anaconda3/lib/python3.11/site-packages/yfinance/base.py:322\u001b[0m, in \u001b[0;36mTickerBase.history\u001b[0;34m(self, period, interval, start, end, prepost, actions, auto_adjust, back_adjust, repair, keepna, proxy, rounding, timeout, raise_errors)\u001b[0m\n\u001b[1;32m    320\u001b[0m         tps \u001b[38;5;241m=\u001b[39m \u001b[38;5;28mself\u001b[39m\u001b[38;5;241m.\u001b[39m_history_metadata[\u001b[38;5;124m\"\u001b[39m\u001b[38;5;124mtradingPeriods\u001b[39m\u001b[38;5;124m\"\u001b[39m]\n\u001b[1;32m    321\u001b[0m     quotes \u001b[38;5;241m=\u001b[39m utils\u001b[38;5;241m.\u001b[39mfix_Yahoo_returning_prepost_unrequested(quotes, params[\u001b[38;5;124m\"\u001b[39m\u001b[38;5;124minterval\u001b[39m\u001b[38;5;124m\"\u001b[39m], tps)\n\u001b[0;32m--> 322\u001b[0m logger\u001b[38;5;241m.\u001b[39mdebug(\u001b[38;5;124mf\u001b[39m\u001b[38;5;124m'\u001b[39m\u001b[38;5;132;01m{\u001b[39;00m\u001b[38;5;28mself\u001b[39m\u001b[38;5;241m.\u001b[39mticker\u001b[38;5;132;01m}\u001b[39;00m\u001b[38;5;124m: OHLC after cleaning: \u001b[39m\u001b[38;5;132;01m{\u001b[39;00mquotes\u001b[38;5;241m.\u001b[39mindex[\u001b[38;5;241m0\u001b[39m]\u001b[38;5;132;01m}\u001b[39;00m\u001b[38;5;124m -> \u001b[39m\u001b[38;5;132;01m{\u001b[39;00mquotes\u001b[38;5;241m.\u001b[39mindex[\u001b[38;5;241m-\u001b[39m\u001b[38;5;241m1\u001b[39m]\u001b[38;5;132;01m}\u001b[39;00m\u001b[38;5;124m'\u001b[39m)\n\u001b[1;32m    324\u001b[0m \u001b[38;5;66;03m# actions\u001b[39;00m\n\u001b[1;32m    325\u001b[0m dividends, splits, capital_gains \u001b[38;5;241m=\u001b[39m utils\u001b[38;5;241m.\u001b[39mparse_actions(data[\u001b[38;5;124m\"\u001b[39m\u001b[38;5;124mchart\u001b[39m\u001b[38;5;124m\"\u001b[39m][\u001b[38;5;124m\"\u001b[39m\u001b[38;5;124mresult\u001b[39m\u001b[38;5;124m\"\u001b[39m][\u001b[38;5;241m0\u001b[39m])\n",
      "File \u001b[0;32m~/anaconda3/lib/python3.11/site-packages/pandas/core/indexes/base.py:5175\u001b[0m, in \u001b[0;36mIndex.__getitem__\u001b[0;34m(self, key)\u001b[0m\n\u001b[1;32m   5172\u001b[0m \u001b[38;5;28;01mif\u001b[39;00m is_integer(key) \u001b[38;5;129;01mor\u001b[39;00m is_float(key):\n\u001b[1;32m   5173\u001b[0m     \u001b[38;5;66;03m# GH#44051 exclude bool, which would return a 2d ndarray\u001b[39;00m\n\u001b[1;32m   5174\u001b[0m     key \u001b[38;5;241m=\u001b[39m com\u001b[38;5;241m.\u001b[39mcast_scalar_indexer(key)\n\u001b[0;32m-> 5175\u001b[0m     \u001b[38;5;28;01mreturn\u001b[39;00m getitem(key)\n\u001b[1;32m   5177\u001b[0m \u001b[38;5;28;01mif\u001b[39;00m \u001b[38;5;28misinstance\u001b[39m(key, \u001b[38;5;28mslice\u001b[39m):\n\u001b[1;32m   5178\u001b[0m     \u001b[38;5;66;03m# This case is separated from the conditional above to avoid\u001b[39;00m\n\u001b[1;32m   5179\u001b[0m     \u001b[38;5;66;03m# pessimization com.is_bool_indexer and ndim checks.\u001b[39;00m\n\u001b[1;32m   5180\u001b[0m     result \u001b[38;5;241m=\u001b[39m getitem(key)\n",
      "File \u001b[0;32m~/anaconda3/lib/python3.11/site-packages/pandas/core/arrays/datetimelike.py:370\u001b[0m, in \u001b[0;36mDatetimeLikeArrayMixin.__getitem__\u001b[0;34m(self, key)\u001b[0m\n\u001b[1;32m    362\u001b[0m \u001b[38;5;250m\u001b[39m\u001b[38;5;124;03m\"\"\"\u001b[39;00m\n\u001b[1;32m    363\u001b[0m \u001b[38;5;124;03mThis getitem defers to the underlying array, which by-definition can\u001b[39;00m\n\u001b[1;32m    364\u001b[0m \u001b[38;5;124;03monly handle list-likes, slices, and integer scalars\u001b[39;00m\n\u001b[1;32m    365\u001b[0m \u001b[38;5;124;03m\"\"\"\u001b[39;00m\n\u001b[1;32m    366\u001b[0m \u001b[38;5;66;03m# Use cast as we know we will get back a DatetimeLikeArray or DTScalar,\u001b[39;00m\n\u001b[1;32m    367\u001b[0m \u001b[38;5;66;03m# but skip evaluating the Union at runtime for performance\u001b[39;00m\n\u001b[1;32m    368\u001b[0m \u001b[38;5;66;03m# (see https://github.com/pandas-dev/pandas/pull/44624)\u001b[39;00m\n\u001b[1;32m    369\u001b[0m result \u001b[38;5;241m=\u001b[39m cast(\n\u001b[0;32m--> 370\u001b[0m     \u001b[38;5;124m\"\u001b[39m\u001b[38;5;124mUnion[DatetimeLikeArrayT, DTScalarOrNaT]\u001b[39m\u001b[38;5;124m\"\u001b[39m, \u001b[38;5;28msuper\u001b[39m()\u001b[38;5;241m.\u001b[39m\u001b[38;5;21m__getitem__\u001b[39m(key)\n\u001b[1;32m    371\u001b[0m )\n\u001b[1;32m    372\u001b[0m \u001b[38;5;28;01mif\u001b[39;00m lib\u001b[38;5;241m.\u001b[39mis_scalar(result):\n\u001b[1;32m    373\u001b[0m     \u001b[38;5;28;01mreturn\u001b[39;00m result\n",
      "File \u001b[0;32m~/anaconda3/lib/python3.11/site-packages/pandas/core/arrays/_mixins.py:272\u001b[0m, in \u001b[0;36mNDArrayBackedExtensionArray.__getitem__\u001b[0;34m(self, key)\u001b[0m\n\u001b[1;32m    266\u001b[0m \u001b[38;5;28;01mdef\u001b[39;00m \u001b[38;5;21m__getitem__\u001b[39m(\n\u001b[1;32m    267\u001b[0m     \u001b[38;5;28mself\u001b[39m: NDArrayBackedExtensionArrayT,\n\u001b[1;32m    268\u001b[0m     key: PositionalIndexer2D,\n\u001b[1;32m    269\u001b[0m ) \u001b[38;5;241m-\u001b[39m\u001b[38;5;241m>\u001b[39m NDArrayBackedExtensionArrayT \u001b[38;5;241m|\u001b[39m Any:\n\u001b[1;32m    270\u001b[0m     \u001b[38;5;28;01mif\u001b[39;00m lib\u001b[38;5;241m.\u001b[39mis_integer(key):\n\u001b[1;32m    271\u001b[0m         \u001b[38;5;66;03m# fast-path\u001b[39;00m\n\u001b[0;32m--> 272\u001b[0m         result \u001b[38;5;241m=\u001b[39m \u001b[38;5;28mself\u001b[39m\u001b[38;5;241m.\u001b[39m_ndarray[key]\n\u001b[1;32m    273\u001b[0m         \u001b[38;5;28;01mif\u001b[39;00m \u001b[38;5;28mself\u001b[39m\u001b[38;5;241m.\u001b[39mndim \u001b[38;5;241m==\u001b[39m \u001b[38;5;241m1\u001b[39m:\n\u001b[1;32m    274\u001b[0m             \u001b[38;5;28;01mreturn\u001b[39;00m \u001b[38;5;28mself\u001b[39m\u001b[38;5;241m.\u001b[39m_box_func(result)\n",
      "\u001b[0;31mIndexError\u001b[0m: index 0 is out of bounds for axis 0 with size 0"
     ]
    }
   ],
   "source": [
    "execute_update_process()"
   ]
  },
  {
   "cell_type": "code",
   "execution_count": 17,
   "id": "373ccbb4-991f-4c93-93ab-68c9bf1a3ca8",
   "metadata": {
    "tags": []
   },
   "outputs": [
    {
     "name": "stdout",
     "output_type": "stream",
     "text": [
      "ETL update Complete 2024-03-03\n"
     ]
    }
   ],
   "source": [
    "from datetime import datetime\n",
    "current_date = datetime.now().date()\n",
    "print(\"ETL update Complete\", current_date)"
   ]
  }
 ],
 "metadata": {
  "kernelspec": {
   "display_name": "Python 3 (ipykernel)",
   "language": "python",
   "name": "python3"
  },
  "language_info": {
   "codemirror_mode": {
    "name": "ipython",
    "version": 3
   },
   "file_extension": ".py",
   "mimetype": "text/x-python",
   "name": "python",
   "nbconvert_exporter": "python",
   "pygments_lexer": "ipython3",
   "version": "3.11.5"
  }
 },
 "nbformat": 4,
 "nbformat_minor": 5
}
