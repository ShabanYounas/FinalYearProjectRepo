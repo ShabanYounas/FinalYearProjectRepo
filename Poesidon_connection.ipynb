{
 "cells": [
  {
   "cell_type": "code",
   "execution_count": null,
   "id": "28697972-61a5-4bbe-96dd-424887672e17",
   "metadata": {},
   "outputs": [],
   "source": [
    "'''pip install yfinance'''\n",
    "'''pip install nbimporter'''\n",
    "'''pip install psycopg2'''"
   ]
  },
  {
   "cell_type": "code",
   "execution_count": 44,
   "id": "7a026ce6-6785-442b-befb-01376af7a08c",
   "metadata": {
    "scrolled": true
   },
   "outputs": [],
   "source": [
    "#pip install psycopg2"
   ]
  },
  {
   "cell_type": "code",
   "execution_count": 45,
   "id": "b8b8ab0c-8b0a-40d7-afed-50482fa48462",
   "metadata": {},
   "outputs": [],
   "source": [
    "#pip install nbimporter"
   ]
  },
  {
   "cell_type": "code",
   "execution_count": 42,
   "id": "faff195f-b88b-4cc7-935c-adea5e1d1a8b",
   "metadata": {},
   "outputs": [],
   "source": [
    "#pip install yfinance"
   ]
  },
  {
   "cell_type": "code",
   "execution_count": 1,
   "id": "aad4fcea-3bb0-490c-882c-4d6c3e123aa0",
   "metadata": {},
   "outputs": [],
   "source": [
    "import yfinance as yf\n",
    "from datetime import datetime\n",
    "import pandas as pd\n",
    "import psycopg2\n",
    "import configparser\n",
    "import datetime\n",
    "import nbimporter\n",
    "from General import *\n",
    "from Daily_etl import *\n",
    "from SQL import *\n",
    "from Functions import *"
   ]
  },
  {
   "cell_type": "code",
   "execution_count": 2,
   "id": "b46a6ef1-ae99-47a0-9789-9ed6c4b89417",
   "metadata": {},
   "outputs": [
    {
     "name": "stdout",
     "output_type": "stream",
     "text": [
      "Connected to the database successfully.\n"
     ]
    }
   ],
   "source": [
    "#connecting to the database\n",
    "\n",
    "\n",
    "def connect_to_database_posidon():\n",
    "    try:\n",
    "        # Read database credentials from the configuration file\n",
    "        config = configparser.ConfigParser()\n",
    "        config.read('configuration.ini')\n",
    "\n",
    "        host = config['database']['host']\n",
    "        user = config['database']['user']\n",
    "        password = config['database']['password']\n",
    "        database = config['database']['database']\n",
    "\n",
    "        # Establish a connection to the database\n",
    "        connection = psycopg2.connect(host=host, user=user, password=password, database=database)\n",
    "\n",
    "        return connection\n",
    "\n",
    "    except (Exception, psycopg2.Error) as error:\n",
    "        print(f\"Error: {error}\")\n",
    "        return None\n",
    "\n",
    "if __name__ == \"__main__\":\n",
    "    # Establish a connection to the database\n",
    "    connection = connect_to_database_posidon()\n",
    "\n",
    "    if connection:\n",
    "        print(\"Connected to the database successfully.\")\n",
    "        # can continue with database operations here\n",
    "\n",
    "        # Close the connection when done\n",
    "        connection.close()\n",
    "    else:\n",
    "        print(\"Failed to connect to the database.\")\n"
   ]
  },
  {
   "cell_type": "code",
   "execution_count": 3,
   "id": "23cc8415-6d98-4006-8e42-c8144f8d3947",
   "metadata": {},
   "outputs": [],
   "source": [
    "\n",
    "# Function to execute SQL queries\n",
    "#SQL REFERENCE A\n",
    "\n",
    "\n",
    "def execute_sql_query_poisedon(query, params=None):\n",
    "    \n",
    "    # Establish a connection to the database\n",
    "    connection = connect_to_database_posidon()\n",
    "\n",
    "    try:\n",
    "        if connection:\n",
    "            cursor = connection.cursor()\n",
    "            \n",
    "            # Execute the SQL query\n",
    "            if params:\n",
    "                cursor.execute(query, params)\n",
    "            else:\n",
    "                cursor.execute(query)\n",
    "\n",
    "            # If it's a SELECT query, fetch the results\n",
    "            if query.strip().lower().startswith(\"select\"):\n",
    "                results = cursor.fetchall()\n",
    "                cursor.close()\n",
    "                return results\n",
    "\n",
    "            # For other types of queries, commit the changes\n",
    "            else:\n",
    "                connection.commit()\n",
    "               # print(\"Query executed successfully.\")\n",
    "\n",
    "    except (Exception, psycopg2.Error) as error:\n",
    "        print(f\"Error: {error}\")\n",
    "        if connection:\n",
    "            connection.rollback()\n",
    "\n",
    "    finally:\n",
    "        if connection:\n",
    "            connection.close()"
   ]
  },
  {
   "cell_type": "code",
   "execution_count": 28,
   "id": "3f10a966-c18c-4430-a5ea-473edb6c6a92",
   "metadata": {},
   "outputs": [],
   "source": [
    "##Testing For rows"
   ]
  },
  {
   "cell_type": "code",
   "execution_count": 25,
   "id": "ffc9f2b0-5d0f-4715-ac03-e713b9326263",
   "metadata": {},
   "outputs": [
    {
     "name": "stdout",
     "output_type": "stream",
     "text": [
      "                                  Open         High          Low        Close  \\\n",
      "Date                                                                            \n",
      "2019-05-02 00:00:00+01:00   273.756256   273.756256   273.756256   273.756256   \n",
      "2019-05-23 00:00:00+01:00   276.249390   276.249390   276.249390   276.249390   \n",
      "2019-06-17 00:00:00+01:00   277.191681   277.191681   277.191681   277.191681   \n",
      "2019-06-18 00:00:00+01:00   279.056641   279.056641   279.056641   279.056641   \n",
      "2019-06-19 00:00:00+01:00   277.682465   277.682465   277.682465   277.682465   \n",
      "...                                ...          ...          ...          ...   \n",
      "2024-04-12 00:00:00+01:00  7254.429199  7263.049805  7247.616699  7247.616699   \n",
      "2024-04-15 00:00:00+01:00  7260.049805  7260.049805  7253.982910  7253.982910   \n",
      "2024-04-17 00:00:00+01:00  7244.528809  7254.294922  7244.528809  7254.294922   \n",
      "2024-04-19 00:00:00+01:00  7262.946777  7267.740234  7250.259766  7257.000488   \n",
      "2024-04-23 00:00:00+01:00  7264.006836  7264.006836  7264.006836  7264.006836   \n",
      "\n",
      "                           Volume  Dividends  Stock Splits  Capital Gains  \n",
      "Date                                                                       \n",
      "2019-05-02 00:00:00+01:00    2128        0.0           0.0            0.0  \n",
      "2019-05-23 00:00:00+01:00     220        0.0           0.0            0.0  \n",
      "2019-06-17 00:00:00+01:00    6086        0.0           0.0            0.0  \n",
      "2019-06-18 00:00:00+01:00    1140        0.0           0.0            0.0  \n",
      "2019-06-19 00:00:00+01:00     178        0.0           0.0            0.0  \n",
      "...                           ...        ...           ...            ...  \n",
      "2024-04-12 00:00:00+01:00    1211        0.0           0.0            0.0  \n",
      "2024-04-15 00:00:00+01:00     387        0.0           0.0            0.0  \n",
      "2024-04-17 00:00:00+01:00    3899        0.0           0.0            0.0  \n",
      "2024-04-19 00:00:00+01:00     836        0.0           0.0            0.0  \n",
      "2024-04-23 00:00:00+01:00   23162        0.0           0.0            0.0  \n",
      "\n",
      "[613 rows x 8 columns]\n"
     ]
    }
   ],
   "source": [
    "#This is a sample test and will be used for testing only. \n",
    "#It utilises yfinance library. It takes \"Ticker\" symbol then returns the ticker information. \n",
    "#Fetch data for a single stock symbol\n",
    "#This is used to get financial information on stock market from yahoo finance using ticker as test \n",
    "\n",
    "stock = yf.Ticker(\"0A0B.L\")\n",
    "hist = stock.history(period=\"6y\")  # Fetches one month of historical data\n",
    "\n",
    "print(hist)\n",
    "#If you want to see the result just uncomment the print statement.\n",
    "#This was a test that was run to ensure that the code is able to work on one ticker\n"
   ]
  },
  {
   "cell_type": "code",
   "execution_count": 31,
   "id": "da469ead-b44b-4b79-b366-c84dba55a5eb",
   "metadata": {},
   "outputs": [],
   "source": [
    "#I know need to insert Symbol and description into the poseidon."
   ]
  },
  {
   "cell_type": "code",
   "execution_count": 75,
   "id": "217843c7-9e0f-4638-9a09-56422fdb16a9",
   "metadata": {},
   "outputs": [
    {
     "name": "stdout",
     "output_type": "stream",
     "text": [
      "Data inserted successfully.\n"
     ]
    }
   ],
   "source": [
    "'''#path to the text file \n",
    "file_path = \"lse.txt\"\n",
    "\n",
    "#SQL query to insert data into the table\n",
    "insert_query = \"INSERT INTO \\\"ticker_and_name\\\" (\\\"Symbol\\\", \\\"description\\\") VALUES (%s, %s);\"\n",
    "\n",
    "#connection to the database and creates a cursor\n",
    "connection = connect_to_database_posidon()\n",
    "cursor = connection.cursor()\n",
    "\n",
    "try:\n",
    "    # Opens the file for reading\n",
    "    with open(file_path, \"r\") as file:\n",
    "        # Reads each line in the file\n",
    "        for line in file:\n",
    "            \n",
    "            # Splits each line into columns based on a delimiter (e.g., tab)\n",
    "            parts = line.strip().split('\\t')  # Assumes tab as the delimiter\n",
    "\n",
    "            # Check if the line contains the expected number of columns\n",
    "            if len(parts) == 2:  # Assuming 2 columns (Symbol and Description)\n",
    "                symbol, description = parts\n",
    "\n",
    "                # Executes the INSERT query for each row\n",
    "                cursor.execute(insert_query, (symbol, description))\n",
    "\n",
    "    # Commits the changes to the database\n",
    "    connection.commit()\n",
    "    print(\"Data inserted successfully.\")\n",
    "\n",
    "except (Exception, psycopg2.Error) as error:\n",
    "    print(f\"Error: {error}\")\n",
    "    if connection:\n",
    "        connection.rollback()\n",
    "\n",
    "finally:\n",
    "    # Closes the cursor and connection\n",
    "    if cursor:\n",
    "        cursor.close()\n",
    "    if connection:\n",
    "        connection.close()\n",
    "'''"
   ]
  },
  {
   "cell_type": "code",
   "execution_count": null,
   "id": "f0bd83c3-b6b2-4248-b5f8-2a734c9dfd14",
   "metadata": {},
   "outputs": [],
   "source": []
  },
  {
   "cell_type": "code",
   "execution_count": 9,
   "id": "06bf7aa5-71cd-4390-a4be-5bd417e861f2",
   "metadata": {},
   "outputs": [],
   "source": [
    "#NOW THAT SYMBOLS AND DESCRIPTION HAVE BEEN ADDED TO poseidon THE REST CAN CONTINUE. "
   ]
  },
  {
   "cell_type": "code",
   "execution_count": null,
   "id": "4108d1ed-7c47-49d4-8a0a-603d083964c7",
   "metadata": {},
   "outputs": [],
   "source": [
    "#INSERT STOCK INFORMATION Into poseidon s_historical_stock_data the bwlow code does that"
   ]
  },
  {
   "cell_type": "code",
   "execution_count": 21,
   "id": "c3c27189-4add-438d-8519-0f57ee8f0115",
   "metadata": {},
   "outputs": [],
   "source": [
    "def fetch_historical_data_posiedon(symbol):\n",
    "    try:\n",
    "        stock = yf.Ticker(symbol)\n",
    "        end_date = datetime.now().strftime('%Y-%m-%d')  # Explicitly calling now() function\n",
    "        hist = stock.history(start=\"2005-01-01\", end=end_date)\n",
    "        if hist.empty:\n",
    "            return pd.DataFrame()\n",
    "        \n",
    "        hist.reset_index(inplace=True)\n",
    "        hist['Symbol'] = symbol\n",
    "\n",
    "        #the desired column order, \n",
    "        #Because I was receiving lots of columns that were not important, therefore I only want the specified columns.\n",
    "        desired_columns =['Symbol', 'Date', 'Open', 'High', 'Low', 'Close', 'Volume', 'Dividends', 'Stock Splits' ]\n",
    "        return hist[desired_columns]\n",
    "    except Exception as e:\n",
    "        print(f\"Error fetching data for {symbol}: {str(e)}\")\n",
    "        return pd.DataFrame()"
   ]
  },
  {
   "cell_type": "code",
   "execution_count": 26,
   "id": "8560a9e9-4778-4b23-9c43-938a25fad803",
   "metadata": {
    "scrolled": true
   },
   "outputs": [
    {
     "name": "stderr",
     "output_type": "stream",
     "text": [
      "02NG.L: Period '1mo' is invalid, must be one of ['1d', '5d']\n",
      "0DK9.L: No timezone found, symbol may be delisted\n",
      "0DU3.L: No timezone found, symbol may be delisted\n",
      "0E12.L: No timezone found, symbol may be delisted\n"
     ]
    },
    {
     "ename": "KeyboardInterrupt",
     "evalue": "",
     "output_type": "error",
     "traceback": [
      "\u001b[1;31m---------------------------------------------------------------------------\u001b[0m",
      "\u001b[1;31mKeyboardInterrupt\u001b[0m                         Traceback (most recent call last)",
      "Cell \u001b[1;32mIn[26], line 46\u001b[0m\n\u001b[0;32m     42\u001b[0m \u001b[38;5;28;01mfor\u001b[39;00m record \u001b[38;5;129;01min\u001b[39;00m records_to_insert:\n\u001b[0;32m     43\u001b[0m     \u001b[38;5;66;03m# Handle NaN values and convert them to None\u001b[39;00m\n\u001b[0;32m     44\u001b[0m     modified_record \u001b[38;5;241m=\u001b[39m \u001b[38;5;28mtuple\u001b[39m([\u001b[38;5;28;01mNone\u001b[39;00m \u001b[38;5;28;01mif\u001b[39;00m pd\u001b[38;5;241m.\u001b[39misna(value) \u001b[38;5;28;01melse\u001b[39;00m value \u001b[38;5;28;01mfor\u001b[39;00m value \u001b[38;5;129;01min\u001b[39;00m record])\n\u001b[1;32m---> 46\u001b[0m     execute_sql_query_poisedon(insert_query, modified_record)\n\u001b[0;32m     47\u001b[0m     record_count \u001b[38;5;241m+\u001b[39m\u001b[38;5;241m=\u001b[39m \u001b[38;5;241m1\u001b[39m\n\u001b[0;32m     49\u001b[0m \u001b[38;5;28mprint\u001b[39m(\u001b[38;5;124mf\u001b[39m\u001b[38;5;124m\"\u001b[39m\u001b[38;5;124mBatch \u001b[39m\u001b[38;5;132;01m{\u001b[39;00mi\u001b[38;5;241m/\u001b[39m\u001b[38;5;241m/\u001b[39mbatch_size\u001b[38;5;250m \u001b[39m\u001b[38;5;241m+\u001b[39m\u001b[38;5;250m \u001b[39m\u001b[38;5;241m1\u001b[39m\u001b[38;5;132;01m}\u001b[39;00m\u001b[38;5;124m: Inserted \u001b[39m\u001b[38;5;132;01m{\u001b[39;00mrecord_count\u001b[38;5;132;01m}\u001b[39;00m\u001b[38;5;124m records.\u001b[39m\u001b[38;5;124m\"\u001b[39m)\n",
      "Cell \u001b[1;32mIn[3], line 8\u001b[0m, in \u001b[0;36mexecute_sql_query_poisedon\u001b[1;34m(query, params)\u001b[0m\n\u001b[0;32m      5\u001b[0m \u001b[38;5;28;01mdef\u001b[39;00m \u001b[38;5;21mexecute_sql_query_poisedon\u001b[39m(query, params\u001b[38;5;241m=\u001b[39m\u001b[38;5;28;01mNone\u001b[39;00m):\n\u001b[0;32m      6\u001b[0m     \n\u001b[0;32m      7\u001b[0m     \u001b[38;5;66;03m# Establish a connection to the database\u001b[39;00m\n\u001b[1;32m----> 8\u001b[0m     connection \u001b[38;5;241m=\u001b[39m connect_to_database_posidon()\n\u001b[0;32m     10\u001b[0m     \u001b[38;5;28;01mtry\u001b[39;00m:\n\u001b[0;32m     11\u001b[0m         \u001b[38;5;28;01mif\u001b[39;00m connection:\n",
      "Cell \u001b[1;32mIn[2], line 16\u001b[0m, in \u001b[0;36mconnect_to_database_posidon\u001b[1;34m()\u001b[0m\n\u001b[0;32m     13\u001b[0m     database \u001b[38;5;241m=\u001b[39m config[\u001b[38;5;124m'\u001b[39m\u001b[38;5;124mdatabase\u001b[39m\u001b[38;5;124m'\u001b[39m][\u001b[38;5;124m'\u001b[39m\u001b[38;5;124mdatabase\u001b[39m\u001b[38;5;124m'\u001b[39m]\n\u001b[0;32m     15\u001b[0m     \u001b[38;5;66;03m# Establish a connection to the database\u001b[39;00m\n\u001b[1;32m---> 16\u001b[0m     connection \u001b[38;5;241m=\u001b[39m psycopg2\u001b[38;5;241m.\u001b[39mconnect(host\u001b[38;5;241m=\u001b[39mhost, user\u001b[38;5;241m=\u001b[39muser, password\u001b[38;5;241m=\u001b[39mpassword, database\u001b[38;5;241m=\u001b[39mdatabase)\n\u001b[0;32m     18\u001b[0m     \u001b[38;5;28;01mreturn\u001b[39;00m connection\n\u001b[0;32m     20\u001b[0m \u001b[38;5;28;01mexcept\u001b[39;00m (\u001b[38;5;167;01mException\u001b[39;00m, psycopg2\u001b[38;5;241m.\u001b[39mError) \u001b[38;5;28;01mas\u001b[39;00m error:\n",
      "File \u001b[1;32m~\\AppData\\Local\\anaconda3\\Lib\\site-packages\\psycopg2\\__init__.py:122\u001b[0m, in \u001b[0;36mconnect\u001b[1;34m(dsn, connection_factory, cursor_factory, **kwargs)\u001b[0m\n\u001b[0;32m    119\u001b[0m     kwasync[\u001b[38;5;124m'\u001b[39m\u001b[38;5;124masync_\u001b[39m\u001b[38;5;124m'\u001b[39m] \u001b[38;5;241m=\u001b[39m kwargs\u001b[38;5;241m.\u001b[39mpop(\u001b[38;5;124m'\u001b[39m\u001b[38;5;124masync_\u001b[39m\u001b[38;5;124m'\u001b[39m)\n\u001b[0;32m    121\u001b[0m dsn \u001b[38;5;241m=\u001b[39m _ext\u001b[38;5;241m.\u001b[39mmake_dsn(dsn, \u001b[38;5;241m*\u001b[39m\u001b[38;5;241m*\u001b[39mkwargs)\n\u001b[1;32m--> 122\u001b[0m conn \u001b[38;5;241m=\u001b[39m _connect(dsn, connection_factory\u001b[38;5;241m=\u001b[39mconnection_factory, \u001b[38;5;241m*\u001b[39m\u001b[38;5;241m*\u001b[39mkwasync)\n\u001b[0;32m    123\u001b[0m \u001b[38;5;28;01mif\u001b[39;00m cursor_factory \u001b[38;5;129;01mis\u001b[39;00m \u001b[38;5;129;01mnot\u001b[39;00m \u001b[38;5;28;01mNone\u001b[39;00m:\n\u001b[0;32m    124\u001b[0m     conn\u001b[38;5;241m.\u001b[39mcursor_factory \u001b[38;5;241m=\u001b[39m cursor_factory\n",
      "\u001b[1;31mKeyboardInterrupt\u001b[0m: "
     ]
    }
   ],
   "source": [
    "from datetime import datetime\n",
    "\n",
    "# Path to file containing symbols\n",
    "file_path = \"lse.txt\"\n",
    "symbols = []\n",
    "\n",
    "# Flag to start adding symbols\n",
    "start_adding = True\n",
    "\n",
    "with open(file_path, \"r\") as file:\n",
    "    next(file)  # Skip the header\n",
    "    for line in file:\n",
    "        symbol = line.split()[0].strip()\n",
    "        # Skip invalid symbols\n",
    "        if symbol in ('null', '0.0', ''):\n",
    "            continue\n",
    "        if start_adding:\n",
    "            symbols.append(symbol)\n",
    "\n",
    "\n",
    "#SQL INSERT statement here\n",
    "insert_query = \"\"\"\n",
    "    INSERT INTO s_historical_stock_data (symbol, date, open, high, low, close, volume, dividends, stock_splits)\n",
    "    VALUES (%s, %s, %s, %s, %s, %s, %s, %s, %s)\n",
    "\"\"\"\n",
    "\n",
    "# Process symbols in batches of 100\n",
    "batch_size = 100\n",
    "for i in range(0, len(symbols), batch_size):\n",
    "    batch_symbols = symbols[i:i + batch_size]\n",
    "    all_historical_data = pd.DataFrame()\n",
    "\n",
    "    for symbol in batch_symbols:\n",
    "        historical_data = fetch_historical_data_posiedon(symbol)\n",
    "        if not historical_data.empty:\n",
    "            all_historical_data = pd.concat([all_historical_data, historical_data])\n",
    "\n",
    "    if not all_historical_data.empty:\n",
    "        records_to_insert = all_historical_data.to_records(index=False).tolist()\n",
    "\n",
    "        record_count = 0\n",
    "        for record in records_to_insert:\n",
    "            # Handle NaN values and convert them to None\n",
    "            modified_record = tuple([None if pd.isna(value) else value for value in record])\n",
    "\n",
    "            execute_sql_query_poisedon(insert_query, modified_record)\n",
    "            record_count += 1\n",
    "\n",
    "        print(f\"Batch {i//batch_size + 1}: Inserted {record_count} records.\")\n",
    "    else:\n",
    "        print(f\"Batch {i//batch_size + 1}: No data to insert.\")\n",
    "        \n"
   ]
  },
  {
   "cell_type": "code",
   "execution_count": null,
   "id": "410f0b69-50a6-48e8-805c-2ddfafcfc1e0",
   "metadata": {},
   "outputs": [],
   "source": [
    "#NEXT STEP IS TO POPULATE S_CUSTOMER DATE ON POSIEDON."
   ]
  },
  {
   "cell_type": "code",
   "execution_count": null,
   "id": "7fb5af29-011b-4e52-9edd-7c19f45e0274",
   "metadata": {},
   "outputs": [],
   "source": []
  }
 ],
 "metadata": {
  "kernelspec": {
   "display_name": "Python 3 (ipykernel)",
   "language": "python",
   "name": "python3"
  },
  "language_info": {
   "codemirror_mode": {
    "name": "ipython",
    "version": 3
   },
   "file_extension": ".py",
   "mimetype": "text/x-python",
   "name": "python",
   "nbconvert_exporter": "python",
   "pygments_lexer": "ipython3",
   "version": "3.11.7"
  }
 },
 "nbformat": 4,
 "nbformat_minor": 5
}
