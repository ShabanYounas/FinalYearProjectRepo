{
 "cells": [
  {
   "cell_type": "code",
   "execution_count": 21,
   "id": "e7a011aa-fed9-4d16-96a6-9a269f8d834e",
   "metadata": {
    "tags": []
   },
   "outputs": [],
   "source": [
    "import yfinance as yf\n",
    "import pandas as pd\n",
    "import psycopg2\n",
    "import configparser\n",
    "import datetime\n",
    "from datetime import datetime\n",
    "import nbimporter\n",
    "from General import *\n",
    "from Functions import *\n",
    "from SQL import *\n",
    "from Connection_to_pgAdmin4 import *"
   ]
  },
  {
   "cell_type": "code",
   "execution_count": 9,
   "id": "a45288d5-5e4a-4998-869d-44a6b2bdda92",
   "metadata": {
    "tags": []
   },
   "outputs": [
    {
     "data": {
      "text/plain": [
       "'\\n\\nThe Python script is designed to automate the process of updating a financial database with the latest stock information.\\nIt begins by connecting to a database to retrieve a list of stock symbols and their last recorded data dates. \\nFor each symbol, it fetches new stock data from Yahoo Finance, starting from the day after the last recorded date until the current date. \\nThis new data includes various financial metrics such as opening price, highest price, lowest price, closing price, volume, dividends, and stock splits. \\nOnce the data is fetched, it is inserted into the source.historical_stock_data table in the database. \\nThe script uses custom functions from imported modules for database connections, data fetching, and SQL operations.\\nIf executed as the main program, the script will carry out the update process from start to finish, provided all the necessary modules and functions are correctly defined and available.\\nThe script includes a user warning about the potential for large data transfers and database modifications.\\n\\n'"
      ]
     },
     "execution_count": 9,
     "metadata": {},
     "output_type": "execute_result"
    }
   ],
   "source": [
    "'''\n",
    "\n",
    "The Python script is designed to automate the process of updating a financial database with the latest stock information.\n",
    "It begins by connecting to a database to retrieve a list of stock symbols and their last recorded data dates. \n",
    "For each symbol, it fetches new stock data from Yahoo Finance, starting from the day after the last recorded date until the current date. \n",
    "This new data includes various financial metrics such as opening price, highest price, lowest price, closing price, volume, dividends, and stock splits. \n",
    "Once the data is fetched, it is inserted into the source.historical_stock_data table in the database. \n",
    "The script uses custom functions from imported modules for database connections, data fetching, and SQL operations.\n",
    "If executed as the main program, the script will carry out the update process from start to finish, provided all the necessary modules and functions are correctly defined and available.\n",
    "The script includes a user warning about the potential for large data transfers and database modifications.\n",
    "\n",
    "'''"
   ]
  },
  {
   "cell_type": "code",
   "execution_count": 28,
   "id": "c587b209-2573-4dbd-8ca1-9eb7e087a9b4",
   "metadata": {},
   "outputs": [
    {
     "name": "stderr",
     "output_type": "stream",
     "text": [
      "/var/folders/9l/q47vm9y51kd6dzhzbt4sppmr0000gq/T/ipykernel_12810/528693453.py:15: UserWarning: pandas only supports SQLAlchemy connectable (engine/connection) or database string URI or sqlite3 DBAPI2 connection. Other DBAPI2 objects are not tested. Please consider using SQLAlchemy.\n",
      "  symbols_dates_df = pd.read_sql(query, connection)\n"
     ]
    }
   ],
   "source": [
    "#*****************\n",
    "#This function reads the data from the facts.dates_of_stock_info\n",
    "#Repeatable\n",
    "#*****************\n",
    "\n",
    "#Reference cell D Name\n",
    "def fetch_symbols_and_last_dates():\n",
    "    connection = connect_to_database()\n",
    "    if connection:\n",
    "        try:\n",
    "            query = \"\"\"\n",
    "            SELECT symbol, lastdate\n",
    "            FROM facts.dates_of_stock_info;\n",
    "            \"\"\"\n",
    "            symbols_dates_df = pd.read_sql(query, connection)\n",
    "            return symbols_dates_df\n",
    "        except (Exception, psycopg2.Error) as error:\n",
    "            print(f\"Error fetching symbols and dates: {error}\")\n",
    "        finally:\n",
    "            connection.close()\n",
    "           # print(symbols_dates_df)\n",
    "\n",
    "symbols_dates_df = fetch_symbols_and_last_dates()\n",
    "\n"
   ]
  },
  {
   "cell_type": "code",
   "execution_count": 29,
   "id": "de25a67c-8710-447e-9bba-9d4fbade59b3",
   "metadata": {
    "tags": []
   },
   "outputs": [
    {
     "data": {
      "text/plain": [
       "\"#Reference cell E Name\\ndef fetch_new_stock_data_for_symbol(symbol, start_date):\\n    end_date = datetime.now().strftime('%Y-%m-%d')\\n    stock = yf.Ticker(symbol)\\n    new_data = stock.history(start=start_date, end=end_date)\\n    new_data.reset_index(inplace=True)\\n    new_data['Symbol'] = symbol\\n    return new_data\\n\""
      ]
     },
     "execution_count": 29,
     "metadata": {},
     "output_type": "execute_result"
    }
   ],
   "source": [
    "#*****************\n",
    "#This function reads the data from the facts.dates_of_stock_info and compares the dates \n",
    "#Repeatable\n",
    "#*****************\n",
    "\n",
    "def fetch_new_stock_data_for_symbol(symbol, start_date):\n",
    "    end_date = datetime.now().strftime('%Y-%m-%d')\n",
    "    stock = yf.Ticker(symbol)\n",
    "    try:\n",
    "        new_data = stock.history(start=start_date, end=end_date)\n",
    "        if new_data.empty:\n",
    "            # If no data is found for the symbol, print a message and return an empty DataFrame\n",
    "            print(f\"No data found for {symbol} between {start_date} and {end_date}.\")\n",
    "            return pd.DataFrame()\n",
    "        else:\n",
    "            new_data.reset_index(inplace=True)\n",
    "            new_data['Symbol'] = symbol\n",
    "            return new_data\n",
    "    except IndexError as e:\n",
    "        # Handle the specific 'index out of bounds' error\n",
    "        print(f\"Error fetching data for {symbol}: {e}. Returning empty DataFrame.\")\n",
    "        return pd.DataFrame()\n",
    "    except Exception as e:\n",
    "        # Handle any other unexpected errors\n",
    "        print(f\"Unexpected error fetching data for {symbol}: {e}. Returning empty DataFrame.\")\n",
    "        return pd.DataFrame()\n",
    "\n",
    "\n",
    "\n",
    "\n",
    "'''#Reference cell E Name\n",
    "def fetch_new_stock_data_for_symbol(symbol, start_date):\n",
    "    end_date = datetime.now().strftime('%Y-%m-%d')\n",
    "    stock = yf.Ticker(symbol)\n",
    "    new_data = stock.history(start=start_date, end=end_date)\n",
    "    new_data.reset_index(inplace=True)\n",
    "    new_data['Symbol'] = symbol\n",
    "    return new_data\n",
    "'''\n",
    "\n"
   ]
  },
  {
   "cell_type": "code",
   "execution_count": 30,
   "id": "fbb59af4-bf6f-4e2c-90a3-1e29712bcff2",
   "metadata": {
    "tags": []
   },
   "outputs": [
    {
     "name": "stderr",
     "output_type": "stream",
     "text": [
      "/var/folders/9l/q47vm9y51kd6dzhzbt4sppmr0000gq/T/ipykernel_12810/528693453.py:15: UserWarning: pandas only supports SQLAlchemy connectable (engine/connection) or database string URI or sqlite3 DBAPI2 connection. Other DBAPI2 objects are not tested. Please consider using SQLAlchemy.\n",
      "  symbols_dates_df = pd.read_sql(query, connection)\n",
      "N30X.L: Period '1mo' is invalid, must be one of ['1d', '5d']\n"
     ]
    },
    {
     "name": "stdout",
     "output_type": "stream",
     "text": [
      "No data found for N30X.L between 2014-08-02 and 2024-03-03.\n"
     ]
    },
    {
     "name": "stderr",
     "output_type": "stream",
     "text": [
      "OGLD.L: Period '1mo' is invalid, must be one of ['1d', '5d']\n"
     ]
    },
    {
     "name": "stdout",
     "output_type": "stream",
     "text": [
      "No data found for OGLD.L between 2024-02-21 and 2024-03-03.\n"
     ]
    },
    {
     "name": "stderr",
     "output_type": "stream",
     "text": [
      "SCDNCH.L: Period '1mo' is invalid, must be one of ['1d', '5d']\n"
     ]
    },
    {
     "name": "stdout",
     "output_type": "stream",
     "text": [
      "No data found for SCDNCH.L between 2014-08-02 and 2024-03-03.\n"
     ]
    },
    {
     "name": "stderr",
     "output_type": "stream",
     "text": [
      "MCXNUK.L: Period '1mo' is invalid, must be one of ['1d', '5d']\n"
     ]
    },
    {
     "name": "stdout",
     "output_type": "stream",
     "text": [
      "No data found for MCXNUK.L between 2024-02-24 and 2024-03-03.\n"
     ]
    },
    {
     "name": "stderr",
     "output_type": "stream",
     "text": [
      "4US1.L: Period '1mo' is invalid, must be one of ['1d', '5d']\n"
     ]
    },
    {
     "name": "stdout",
     "output_type": "stream",
     "text": [
      "No data found for 4US1.L between 2014-08-02 and 2024-03-03.\n"
     ]
    },
    {
     "name": "stderr",
     "output_type": "stream",
     "text": [
      "0DRH.L: No price data found, symbol may be delisted (1d 2024-01-18 -> 2024-03-03)\n"
     ]
    },
    {
     "name": "stdout",
     "output_type": "stream",
     "text": [
      "No data found for 0DRH.L between 2024-01-18 and 2024-03-03.\n"
     ]
    },
    {
     "name": "stderr",
     "output_type": "stream",
     "text": [
      "83HC.L: Period '1mo' is invalid, must be one of ['1d', '5d']\n"
     ]
    },
    {
     "name": "stdout",
     "output_type": "stream",
     "text": [
      "No data found for 83HC.L between 2018-07-05 and 2024-03-03.\n"
     ]
    },
    {
     "name": "stderr",
     "output_type": "stream",
     "text": [
      "66GD.L: Period '1mo' is invalid, must be one of ['1d', '5d']\n"
     ]
    },
    {
     "name": "stdout",
     "output_type": "stream",
     "text": [
      "No data found for 66GD.L between 2015-10-24 and 2024-03-03.\n"
     ]
    },
    {
     "name": "stderr",
     "output_type": "stream",
     "text": [
      "AG02.L: Period '1mo' is invalid, must be one of ['1d', '5d']\n"
     ]
    },
    {
     "name": "stdout",
     "output_type": "stream",
     "text": [
      "No data found for AG02.L between 2014-08-02 and 2024-03-03.\n"
     ]
    },
    {
     "name": "stderr",
     "output_type": "stream",
     "text": [
      "0OJX.L: No price data found, symbol may be delisted (1d 2024-02-14 -> 2024-03-03)\n"
     ]
    },
    {
     "name": "stdout",
     "output_type": "stream",
     "text": [
      "No data found for 0OJX.L between 2024-02-14 and 2024-03-03.\n"
     ]
    },
    {
     "name": "stderr",
     "output_type": "stream",
     "text": [
      "CJ1U.L: No price data found, symbol may be delisted (1d 2024-02-29 -> 2024-03-03)\n"
     ]
    },
    {
     "name": "stdout",
     "output_type": "stream",
     "text": [
      "No data found for CJ1U.L between 2024-02-29 and 2024-03-03.\n"
     ]
    },
    {
     "name": "stderr",
     "output_type": "stream",
     "text": [
      "FIVE.L: No price data found, symbol may be delisted (1d 2024-02-22 -> 2024-03-03)\n",
      "SCDN.L: Period '1mo' is invalid, must be one of ['1d', '5d']\n",
      "EPIC.L: No price data found, symbol may be delisted (1d 2024-01-13 -> 2024-03-03)\n"
     ]
    },
    {
     "name": "stdout",
     "output_type": "stream",
     "text": [
      "No data found for FIVE.L between 2024-02-22 and 2024-03-03.\n",
      "No data found for SCDN.L between 2014-08-02 and 2024-03-03.\n",
      "No data found for EPIC.L between 2024-01-13 and 2024-03-03.\n"
     ]
    },
    {
     "name": "stderr",
     "output_type": "stream",
     "text": [
      "ACNANCH.L: Period '1mo' is invalid, must be one of ['1d', '5d']\n"
     ]
    },
    {
     "name": "stdout",
     "output_type": "stream",
     "text": [
      "No data found for ACNANCH.L between 2014-08-02 and 2024-03-03.\n"
     ]
    },
    {
     "name": "stderr",
     "output_type": "stream",
     "text": [
      "GPVAN001.L: Period '1mo' is invalid, must be one of ['1d', '5d']\n"
     ]
    },
    {
     "name": "stdout",
     "output_type": "stream",
     "text": [
      "No data found for GPVAN001.L between 2014-08-02 and 2024-03-03.\n"
     ]
    },
    {
     "name": "stderr",
     "output_type": "stream",
     "text": [
      "82JF.L: Period '1mo' is invalid, must be one of ['1d', '5d']\n"
     ]
    },
    {
     "name": "stdout",
     "output_type": "stream",
     "text": [
      "No data found for 82JF.L between 2018-08-22 and 2024-03-03.\n"
     ]
    },
    {
     "name": "stderr",
     "output_type": "stream",
     "text": [
      "AIM1.L: Period '1mo' is invalid, must be one of ['1d', '5d']\n",
      "M0EB.L: Period '1mo' is invalid, must be one of ['1d', '5d']\n"
     ]
    },
    {
     "name": "stdout",
     "output_type": "stream",
     "text": [
      "No data found for AIM1.L between 2024-02-24 and 2024-03-03.\n",
      "No data found for M0EB.L between 2016-06-30 and 2024-03-03.\n"
     ]
    },
    {
     "name": "stderr",
     "output_type": "stream",
     "text": [
      "0KAZ.L: No price data found, symbol may be delisted (1d 2024-02-07 -> 2024-03-03)\n"
     ]
    },
    {
     "name": "stdout",
     "output_type": "stream",
     "text": [
      "No data found for 0KAZ.L between 2024-02-07 and 2024-03-03.\n"
     ]
    },
    {
     "name": "stderr",
     "output_type": "stream",
     "text": [
      "GPSCW002.L: Period '1mo' is invalid, must be one of ['1d', '5d']\n"
     ]
    },
    {
     "name": "stdout",
     "output_type": "stream",
     "text": [
      "No data found for GPSCW002.L between 2014-08-02 and 2024-03-03.\n"
     ]
    },
    {
     "name": "stderr",
     "output_type": "stream",
     "text": [
      "NMXDEN.L: Period '1mo' is invalid, must be one of ['1d', '5d']\n"
     ]
    },
    {
     "name": "stdout",
     "output_type": "stream",
     "text": [
      "No data found for NMXDEN.L between 2024-02-24 and 2024-03-03.\n"
     ]
    },
    {
     "name": "stderr",
     "output_type": "stream",
     "text": [
      "ASEAN40N.L: Period '1mo' is invalid, must be one of ['1d', '5d']\n"
     ]
    },
    {
     "name": "stdout",
     "output_type": "stream",
     "text": [
      "No data found for ASEAN40N.L between 2014-08-02 and 2024-03-03.\n"
     ]
    },
    {
     "name": "stderr",
     "output_type": "stream",
     "text": [
      "M0X.L: Period '1mo' is invalid, must be one of ['1d', '5d']\n"
     ]
    },
    {
     "name": "stdout",
     "output_type": "stream",
     "text": [
      "No data found for M0X.L between 2016-06-30 and 2024-03-03.\n"
     ]
    },
    {
     "name": "stderr",
     "output_type": "stream",
     "text": [
      "BEL1.L: Period '1mo' is invalid, must be one of ['1d', '5d']\n"
     ]
    },
    {
     "name": "stdout",
     "output_type": "stream",
     "text": [
      "No data found for BEL1.L between 2018-12-19 and 2024-03-03.\n"
     ]
    },
    {
     "name": "stderr",
     "output_type": "stream",
     "text": [
      "48VM.L: Period '1mo' is invalid, must be one of ['1d', '5d']\n"
     ]
    },
    {
     "name": "stdout",
     "output_type": "stream",
     "text": [
      "No data found for 48VM.L between 2013-03-21 and 2024-03-03.\n"
     ]
    },
    {
     "name": "stderr",
     "output_type": "stream",
     "text": [
      "AWDPXJC.L: Period '1mo' is invalid, must be one of ['1d', '5d']\n"
     ]
    },
    {
     "name": "stdout",
     "output_type": "stream",
     "text": [
      "No data found for AWDPXJC.L between 2014-08-02 and 2024-03-03.\n"
     ]
    },
    {
     "name": "stderr",
     "output_type": "stream",
     "text": [
      "0LX1.L: No price data found, symbol may be delisted (1d 2024-02-03 -> 2024-03-03)\n"
     ]
    },
    {
     "name": "stdout",
     "output_type": "stream",
     "text": [
      "No data found for 0LX1.L between 2024-02-03 and 2024-03-03.\n"
     ]
    },
    {
     "name": "stderr",
     "output_type": "stream",
     "text": [
      "SG90.L: No price data found, symbol may be delisted (1d 2020-09-17 -> 2024-03-03)\n"
     ]
    },
    {
     "name": "stdout",
     "output_type": "stream",
     "text": [
      "No data found for SG90.L between 2020-09-17 and 2024-03-03.\n"
     ]
    },
    {
     "name": "stderr",
     "output_type": "stream",
     "text": [
      "0FI1.L: No price data found, symbol may be delisted (1d 2024-02-23 -> 2024-03-03)\n"
     ]
    },
    {
     "name": "stdout",
     "output_type": "stream",
     "text": [
      "No data found for 0FI1.L between 2024-02-23 and 2024-03-03.\n"
     ]
    },
    {
     "name": "stderr",
     "output_type": "stream",
     "text": [
      "64DE.L: Period '1mo' is invalid, must be one of ['1d', '5d']\n"
     ]
    },
    {
     "name": "stdout",
     "output_type": "stream",
     "text": [
      "No data found for 64DE.L between 2018-10-24 and 2024-03-03.\n"
     ]
    },
    {
     "name": "stderr",
     "output_type": "stream",
     "text": [
      "GPFF003.L: Period '1mo' is invalid, must be one of ['1d', '5d']\n"
     ]
    },
    {
     "name": "stdout",
     "output_type": "stream",
     "text": [
      "No data found for GPFF003.L between 2014-08-02 and 2024-03-03.\n"
     ]
    },
    {
     "name": "stderr",
     "output_type": "stream",
     "text": [
      "32DX.L: Period '1mo' is invalid, must be one of ['1d', '5d']\n"
     ]
    },
    {
     "name": "stdout",
     "output_type": "stream",
     "text": [
      "No data found for 32DX.L between 2018-12-28 and 2024-03-03.\n"
     ]
    },
    {
     "name": "stderr",
     "output_type": "stream",
     "text": [
      "PAG3.L: Period '1mo' is invalid, must be one of ['1d', '5d']\n"
     ]
    },
    {
     "name": "stdout",
     "output_type": "stream",
     "text": [
      "No data found for PAG3.L between 2019-02-01 and 2024-03-03.\n"
     ]
    },
    {
     "name": "stderr",
     "output_type": "stream",
     "text": [
      "GPFF004.L: Period '1mo' is invalid, must be one of ['1d', '5d']\n"
     ]
    },
    {
     "name": "stdout",
     "output_type": "stream",
     "text": [
      "No data found for GPFF004.L between 2014-08-02 and 2024-03-03.\n"
     ]
    },
    {
     "name": "stderr",
     "output_type": "stream",
     "text": [
      "HDLVUKN.L: Period '1mo' is invalid, must be one of ['1d', '5d']\n"
     ]
    },
    {
     "name": "stdout",
     "output_type": "stream",
     "text": [
      "No data found for HDLVUKN.L between 2024-02-24 and 2024-03-03.\n"
     ]
    },
    {
     "name": "stderr",
     "output_type": "stream",
     "text": [
      "0KO8.L: No price data found, symbol may be delisted (1d 2024-01-06 -> 2024-03-03)\n"
     ]
    },
    {
     "name": "stdout",
     "output_type": "stream",
     "text": [
      "No data found for 0KO8.L between 2024-01-06 and 2024-03-03.\n"
     ]
    },
    {
     "name": "stderr",
     "output_type": "stream",
     "text": [
      "4GUK.L: Period '1mo' is invalid, must be one of ['1d', '5d']\n",
      "RPDEU.L: Period '1mo' is invalid, must be one of ['1d', '5d']\n"
     ]
    },
    {
     "name": "stdout",
     "output_type": "stream",
     "text": [
      "No data found for 4GUK.L between 2024-02-24 and 2024-03-03.\n",
      "No data found for RPDEU.L between 2016-06-29 and 2024-03-03.\n"
     ]
    },
    {
     "name": "stderr",
     "output_type": "stream",
     "text": [
      "83NL.L: Period '1mo' is invalid, must be one of ['1d', '5d']\n"
     ]
    },
    {
     "name": "stdout",
     "output_type": "stream",
     "text": [
      "No data found for 83NL.L between 2018-02-27 and 2024-03-03.\n"
     ]
    },
    {
     "name": "stderr",
     "output_type": "stream",
     "text": [
      "NDKX.L: Period '1mo' is invalid, must be one of ['1d', '5d']\n"
     ]
    },
    {
     "name": "stdout",
     "output_type": "stream",
     "text": [
      "No data found for NDKX.L between 2014-08-02 and 2024-03-03.\n"
     ]
    },
    {
     "name": "stderr",
     "output_type": "stream",
     "text": [
      "NSWX.L: Period '1mo' is invalid, must be one of ['1d', '5d']\n"
     ]
    },
    {
     "name": "stdout",
     "output_type": "stream",
     "text": [
      "No data found for NSWX.L between 2014-08-02 and 2024-03-03.\n"
     ]
    },
    {
     "name": "stderr",
     "output_type": "stream",
     "text": [
      "MV1X.L: Period '1mo' is invalid, must be one of ['1d', '5d']\n"
     ]
    },
    {
     "name": "stdout",
     "output_type": "stream",
     "text": [
      "No data found for MV1X.L between 2014-08-02 and 2024-03-03.\n"
     ]
    },
    {
     "name": "stderr",
     "output_type": "stream",
     "text": [
      "GPSSG239.L: Period '1mo' is invalid, must be one of ['1d', '5d']\n"
     ]
    },
    {
     "name": "stdout",
     "output_type": "stream",
     "text": [
      "No data found for GPSSG239.L between 2014-08-02 and 2024-03-03.\n"
     ]
    },
    {
     "name": "stderr",
     "output_type": "stream",
     "text": [
      "31CM.L: Period '1mo' is invalid, must be one of ['1d', '5d']\n"
     ]
    },
    {
     "name": "stdout",
     "output_type": "stream",
     "text": [
      "No data found for 31CM.L between 2019-01-24 and 2024-03-03.\n"
     ]
    },
    {
     "name": "stderr",
     "output_type": "stream",
     "text": [
      "AG15.L: Period '1mo' is invalid, must be one of ['1d', '5d']\n",
      "OGZU.L: Period '1mo' is invalid, must be one of ['1d', '5d']\n"
     ]
    },
    {
     "name": "stdout",
     "output_type": "stream",
     "text": [
      "No data found for AG15.L between 2014-08-02 and 2024-03-03.\n",
      "No data found for OGZU.L between 2023-12-01 and 2024-03-03.\n"
     ]
    },
    {
     "name": "stderr",
     "output_type": "stream",
     "text": [
      "4GUS.L: Period '1mo' is invalid, must be one of ['1d', '5d']\n"
     ]
    },
    {
     "name": "stdout",
     "output_type": "stream",
     "text": [
      "No data found for 4GUS.L between 2014-08-02 and 2024-03-03.\n"
     ]
    },
    {
     "name": "stderr",
     "output_type": "stream",
     "text": [
      "MCP2.L: Period '1mo' is invalid, must be one of ['1d', '5d']\n"
     ]
    },
    {
     "name": "stdout",
     "output_type": "stream",
     "text": [
      "No data found for MCP2.L between 2018-04-04 and 2024-03-03.\n"
     ]
    },
    {
     "name": "stderr",
     "output_type": "stream",
     "text": [
      "AWNT05CH.L: Period '1mo' is invalid, must be one of ['1d', '5d']\n"
     ]
    },
    {
     "name": "stdout",
     "output_type": "stream",
     "text": [
      "No data found for AWNT05CH.L between 2014-08-02 and 2024-03-03.\n"
     ]
    },
    {
     "name": "stderr",
     "output_type": "stream",
     "text": [
      "0G4L.L: Period '1mo' is invalid, must be one of ['1d', '5d']\n"
     ]
    },
    {
     "name": "stdout",
     "output_type": "stream",
     "text": [
      "No data found for 0G4L.L between 2024-02-02 and 2024-03-03.\n"
     ]
    },
    {
     "name": "stderr",
     "output_type": "stream",
     "text": [
      "0M5M.L: No price data found, symbol may be delisted (1d 2024-02-16 -> 2024-03-03)\n"
     ]
    },
    {
     "name": "stdout",
     "output_type": "stream",
     "text": [
      "No data found for 0M5M.L between 2024-02-16 and 2024-03-03.\n"
     ]
    },
    {
     "name": "stderr",
     "output_type": "stream",
     "text": [
      "RE99.L: Period '1mo' is invalid, must be one of ['1d', '5d']\n"
     ]
    },
    {
     "name": "stdout",
     "output_type": "stream",
     "text": [
      "No data found for RE99.L between 2024-01-13 and 2024-03-03.\n"
     ]
    },
    {
     "name": "stderr",
     "output_type": "stream",
     "text": [
      "92PG.L: Period '1mo' is invalid, must be one of ['1d', '5d']\n"
     ]
    },
    {
     "name": "stdout",
     "output_type": "stream",
     "text": [
      "No data found for 92PG.L between 2017-06-14 and 2024-03-03.\n"
     ]
    },
    {
     "name": "stderr",
     "output_type": "stream",
     "text": [
      "OVZB.L: Period '1mo' is invalid, must be one of ['1d', '5d']\n"
     ]
    },
    {
     "name": "stdout",
     "output_type": "stream",
     "text": [
      "No data found for OVZB.L between 2023-08-30 and 2024-03-03.\n"
     ]
    },
    {
     "name": "stderr",
     "output_type": "stream",
     "text": [
      "AWDPCXJE.L: Period '1mo' is invalid, must be one of ['1d', '5d']\n"
     ]
    },
    {
     "name": "stdout",
     "output_type": "stream",
     "text": [
      "No data found for AWDPCXJE.L between 2014-08-02 and 2024-03-03.\n"
     ]
    },
    {
     "name": "stderr",
     "output_type": "stream",
     "text": [
      "OVZC.L: Period '1mo' is invalid, must be one of ['1d', '5d']\n"
     ]
    },
    {
     "name": "stdout",
     "output_type": "stream",
     "text": [
      "No data found for OVZC.L between 2023-11-28 and 2024-03-03.\n"
     ]
    },
    {
     "name": "stderr",
     "output_type": "stream",
     "text": [
      "AWAMERS.L: Period '1mo' is invalid, must be one of ['1d', '5d']\n"
     ]
    },
    {
     "name": "stdout",
     "output_type": "stream",
     "text": [
      "No data found for AWAMERS.L between 2014-08-02 and 2024-03-03.\n"
     ]
    },
    {
     "name": "stderr",
     "output_type": "stream",
     "text": [
      "GWUSA.L: Period '1mo' is invalid, must be one of ['1d', '5d']\n"
     ]
    },
    {
     "name": "stdout",
     "output_type": "stream",
     "text": [
      "No data found for GWUSA.L between 2014-08-02 and 2024-03-03.\n"
     ]
    },
    {
     "name": "stderr",
     "output_type": "stream",
     "text": [
      "N30XN.L: Period '1mo' is invalid, must be one of ['1d', '5d']\n"
     ]
    },
    {
     "name": "stdout",
     "output_type": "stream",
     "text": [
      "No data found for N30XN.L between 2014-08-02 and 2024-03-03.\n"
     ]
    },
    {
     "name": "stderr",
     "output_type": "stream",
     "text": [
      "58KN.L: Period '1mo' is invalid, must be one of ['1d', '5d']\n"
     ]
    },
    {
     "name": "stdout",
     "output_type": "stream",
     "text": [
      "No data found for 58KN.L between 2018-11-21 and 2024-03-03.\n"
     ]
    },
    {
     "name": "stderr",
     "output_type": "stream",
     "text": [
      "AWNT06HK.L: Period '1mo' is invalid, must be one of ['1d', '5d']\n",
      "NMIXNUK.L: Period '1mo' is invalid, must be one of ['1d', '5d']\n"
     ]
    },
    {
     "name": "stdout",
     "output_type": "stream",
     "text": [
      "No data found for AWNT06HK.L between 2014-08-02 and 2024-03-03.\n",
      "No data found for NMIXNUK.L between 2024-02-24 and 2024-03-03.\n"
     ]
    },
    {
     "name": "stderr",
     "output_type": "stream",
     "text": [
      "61WO.L: Period '1mo' is invalid, must be one of ['1d', '5d']\n",
      "SD12.L: Period '1mo' is invalid, must be one of ['1d', '5d']\n"
     ]
    },
    {
     "name": "stdout",
     "output_type": "stream",
     "text": [
      "No data found for 61WO.L between 2015-01-14 and 2024-03-03.\n",
      "No data found for SD12.L between 2014-03-18 and 2024-03-03.\n"
     ]
    },
    {
     "name": "stderr",
     "output_type": "stream",
     "text": [
      "MCXL4X.L: Period '1mo' is invalid, must be one of ['1d', '5d']\n",
      "0FMN.L: No price data found, symbol may be delisted (1d 2024-02-29 -> 2024-03-03)\n"
     ]
    },
    {
     "name": "stdout",
     "output_type": "stream",
     "text": [
      "No data found for MCXL4X.L between 2024-02-24 and 2024-03-03.\n",
      "No data found for 0FMN.L between 2024-02-29 and 2024-03-03.\n"
     ]
    },
    {
     "name": "stderr",
     "output_type": "stream",
     "text": [
      "AWNT05UK.L: Period '1mo' is invalid, must be one of ['1d', '5d']\n"
     ]
    },
    {
     "name": "stdout",
     "output_type": "stream",
     "text": [
      "No data found for AWNT05UK.L between 2024-02-24 and 2024-03-03.\n"
     ]
    },
    {
     "name": "stderr",
     "output_type": "stream",
     "text": [
      "GPFF001.L: Period '1mo' is invalid, must be one of ['1d', '5d']\n"
     ]
    },
    {
     "name": "stdout",
     "output_type": "stream",
     "text": [
      "No data found for GPFF001.L between 2014-08-02 and 2024-03-03.\n"
     ]
    },
    {
     "name": "stderr",
     "output_type": "stream",
     "text": [
      "AWNT14.L: Period '1mo' is invalid, must be one of ['1d', '5d']\n"
     ]
    },
    {
     "name": "stdout",
     "output_type": "stream",
     "text": [
      "No data found for AWNT14.L between 2014-08-02 and 2024-03-03.\n"
     ]
    },
    {
     "name": "stderr",
     "output_type": "stream",
     "text": [
      "3XEC.L: Period '1mo' is invalid, must be one of ['1d', '5d']\n"
     ]
    },
    {
     "name": "stdout",
     "output_type": "stream",
     "text": [
      "No data found for 3XEC.L between 2016-06-30 and 2024-03-03.\n"
     ]
    },
    {
     "name": "stderr",
     "output_type": "stream",
     "text": [
      "MCXI1X.L: Period '1mo' is invalid, must be one of ['1d', '5d']\n"
     ]
    },
    {
     "name": "stdout",
     "output_type": "stream",
     "text": [
      "No data found for MCXI1X.L between 2024-02-24 and 2024-03-03.\n"
     ]
    },
    {
     "name": "stderr",
     "output_type": "stream",
     "text": [
      "0LRI.L: No price data found, symbol may be delisted (1d 2024-03-01 -> 2024-03-03)\n"
     ]
    },
    {
     "name": "stdout",
     "output_type": "stream",
     "text": [
      "No data found for 0LRI.L between 2024-03-01 and 2024-03-03.\n"
     ]
    },
    {
     "name": "stderr",
     "output_type": "stream",
     "text": [
      "43FS.L: Period '1mo' is invalid, must be one of ['1d', '5d']\n"
     ]
    },
    {
     "name": "stdout",
     "output_type": "stream",
     "text": [
      "No data found for 43FS.L between 2019-03-27 and 2024-03-03.\n"
     ]
    },
    {
     "name": "stderr",
     "output_type": "stream",
     "text": [
      "RNXGUS.L: Period '1mo' is invalid, must be one of ['1d', '5d']\n"
     ]
    },
    {
     "name": "stdout",
     "output_type": "stream",
     "text": [
      "No data found for RNXGUS.L between 2014-08-02 and 2024-03-03.\n"
     ]
    },
    {
     "name": "stderr",
     "output_type": "stream",
     "text": [
      "LC12.L: Period '1mo' is invalid, must be one of ['1d', '5d']\n"
     ]
    },
    {
     "name": "stdout",
     "output_type": "stream",
     "text": [
      "No data found for LC12.L between 2024-01-18 and 2024-03-03.\n"
     ]
    },
    {
     "name": "stderr",
     "output_type": "stream",
     "text": [
      "ACNAN.L: Period '1mo' is invalid, must be one of ['1d', '5d']\n"
     ]
    },
    {
     "name": "stdout",
     "output_type": "stream",
     "text": [
      "No data found for ACNAN.L between 2014-08-02 and 2024-03-03.\n"
     ]
    },
    {
     "name": "stderr",
     "output_type": "stream",
     "text": [
      "0MN3.L: No price data found, symbol may be delisted (1d 2024-01-25 -> 2024-03-03)\n"
     ]
    },
    {
     "name": "stdout",
     "output_type": "stream",
     "text": [
      "No data found for 0MN3.L between 2024-01-25 and 2024-03-03.\n"
     ]
    },
    {
     "name": "stderr",
     "output_type": "stream",
     "text": [
      "GSHT.L: Period '1mo' is invalid, must be one of ['1d', '5d']\n"
     ]
    },
    {
     "name": "stdout",
     "output_type": "stream",
     "text": [
      "No data found for GSHT.L between 2019-01-24 and 2024-03-03.\n"
     ]
    },
    {
     "name": "stderr",
     "output_type": "stream",
     "text": [
      "MCXI3X.L: Period '1mo' is invalid, must be one of ['1d', '5d']\n"
     ]
    },
    {
     "name": "stdout",
     "output_type": "stream",
     "text": [
      "No data found for MCXI3X.L between 2024-02-24 and 2024-03-03.\n"
     ]
    },
    {
     "name": "stderr",
     "output_type": "stream",
     "text": [
      "AWNT04.L: Period '1mo' is invalid, must be one of ['1d', '5d']\n"
     ]
    },
    {
     "name": "stdout",
     "output_type": "stream",
     "text": [
      "No data found for AWNT04.L between 2014-08-02 and 2024-03-03.\n"
     ]
    },
    {
     "name": "stderr",
     "output_type": "stream",
     "text": [
      "MCXL2X.L: Period '1mo' is invalid, must be one of ['1d', '5d']\n"
     ]
    },
    {
     "name": "stdout",
     "output_type": "stream",
     "text": [
      "No data found for MCXL2X.L between 2024-02-24 and 2024-03-03.\n"
     ]
    },
    {
     "name": "stderr",
     "output_type": "stream",
     "text": [
      "0O8D.L: No price data found, symbol may be delisted (1d 2024-02-16 -> 2024-03-03)\n"
     ]
    },
    {
     "name": "stdout",
     "output_type": "stream",
     "text": [
      "No data found for 0O8D.L between 2024-02-16 and 2024-03-03.\n"
     ]
    },
    {
     "name": "stderr",
     "output_type": "stream",
     "text": [
      "HDT.L: No price data found, symbol may be delisted (1d 2024-01-11 -> 2024-03-03)\n",
      "68TU.L: Period '1mo' is invalid, must be one of ['1d', '5d']\n",
      "MCIX.L: Period '1mo' is invalid, must be one of ['1d', '5d']\n"
     ]
    },
    {
     "name": "stdout",
     "output_type": "stream",
     "text": [
      "No data found for HDT.L between 2024-01-11 and 2024-03-03.\n",
      "No data found for 68TU.L between 2019-03-22 and 2024-03-03.\n",
      "No data found for MCIX.L between 2014-08-02 and 2024-03-03.\n"
     ]
    },
    {
     "name": "stderr",
     "output_type": "stream",
     "text": [
      "3XUK.L: Period '1mo' is invalid, must be one of ['1d', '5d']\n",
      "89SK.L: Period '1mo' is invalid, must be one of ['1d', '5d']\n"
     ]
    },
    {
     "name": "stdout",
     "output_type": "stream",
     "text": [
      "No data found for 3XUK.L between 2016-06-30 and 2024-03-03.\n",
      "No data found for 89SK.L between 2018-11-07 and 2024-03-03.\n"
     ]
    },
    {
     "name": "stderr",
     "output_type": "stream",
     "text": [
      "A2D2.L: Period '1mo' is invalid, must be one of ['1d', '5d']\n"
     ]
    },
    {
     "name": "stdout",
     "output_type": "stream",
     "text": [
      "No data found for A2D2.L between 2019-02-06 and 2024-03-03.\n"
     ]
    },
    {
     "name": "stderr",
     "output_type": "stream",
     "text": [
      "AG99.L: Period '1mo' is invalid, must be one of ['1d', '5d']\n"
     ]
    },
    {
     "name": "stdout",
     "output_type": "stream",
     "text": [
      "No data found for AG99.L between 2019-01-23 and 2024-03-03.\n"
     ]
    },
    {
     "name": "stderr",
     "output_type": "stream",
     "text": [
      "RPRA.L: Period '1mo' is invalid, must be one of ['1d', '5d']\n",
      "NGAG.L: Period '1mo' is invalid, must be one of ['1d', '5d']\n"
     ]
    },
    {
     "name": "stdout",
     "output_type": "stream",
     "text": [
      "No data found for RPRA.L between 2016-06-29 and 2024-03-03.\n",
      "No data found for NGAG.L between 2024-02-22 and 2024-03-03.\n"
     ]
    },
    {
     "name": "stderr",
     "output_type": "stream",
     "text": [
      "0E4F.L: No price data found, symbol may be delisted (1d 2024-02-20 -> 2024-03-03)\n"
     ]
    },
    {
     "name": "stdout",
     "output_type": "stream",
     "text": [
      "No data found for 0E4F.L between 2024-02-20 and 2024-03-03.\n"
     ]
    },
    {
     "name": "stderr",
     "output_type": "stream",
     "text": [
      "AWNAMERS.L: Period '1mo' is invalid, must be one of ['1d', '5d']\n"
     ]
    },
    {
     "name": "stdout",
     "output_type": "stream",
     "text": [
      "No data found for AWNAMERS.L between 2014-08-02 and 2024-03-03.\n"
     ]
    },
    {
     "name": "stderr",
     "output_type": "stream",
     "text": [
      "SGS100.L: Period '1mo' is invalid, must be one of ['1d', '5d']\n"
     ]
    },
    {
     "name": "stdout",
     "output_type": "stream",
     "text": [
      "No data found for SGS100.L between 2014-08-02 and 2024-03-03.\n"
     ]
    },
    {
     "name": "stderr",
     "output_type": "stream",
     "text": [
      "0FMO.L: No price data found, symbol may be delisted (1d 2024-02-16 -> 2024-03-03)\n"
     ]
    },
    {
     "name": "stdout",
     "output_type": "stream",
     "text": [
      "No data found for 0FMO.L between 2024-02-16 and 2024-03-03.\n"
     ]
    },
    {
     "name": "stderr",
     "output_type": "stream",
     "text": [
      "82HM.L: Period '1mo' is invalid, must be one of ['1d', '5d']\n"
     ]
    },
    {
     "name": "stdout",
     "output_type": "stream",
     "text": [
      "No data found for 82HM.L between 2019-03-13 and 2024-03-03.\n"
     ]
    },
    {
     "name": "stderr",
     "output_type": "stream",
     "text": [
      "ORC2.L: No price data found, symbol may be delisted (1d 2019-03-08 -> 2024-03-03)\n",
      "LC08.L: Period '1mo' is invalid, must be one of ['1d', '5d']\n"
     ]
    },
    {
     "name": "stdout",
     "output_type": "stream",
     "text": [
      "No data found for ORC2.L between 2019-03-08 and 2024-03-03.\n",
      "No data found for LC08.L between 2014-12-31 and 2024-03-03.\n"
     ]
    },
    {
     "name": "stderr",
     "output_type": "stream",
     "text": [
      "0HOV.L: No price data found, symbol may be delisted (1d 2024-02-15 -> 2024-03-03)\n"
     ]
    },
    {
     "name": "stdout",
     "output_type": "stream",
     "text": [
      "No data found for 0HOV.L between 2024-02-15 and 2024-03-03.\n"
     ]
    },
    {
     "name": "stderr",
     "output_type": "stream",
     "text": [
      "84DG.L: Period '1mo' is invalid, must be one of ['1d', '5d']\n"
     ]
    },
    {
     "name": "stdout",
     "output_type": "stream",
     "text": [
      "No data found for 84DG.L between 2019-01-09 and 2024-03-03.\n"
     ]
    },
    {
     "name": "stderr",
     "output_type": "stream",
     "text": [
      "N099.L: Period '1mo' is invalid, must be one of ['1d', '5d']\n",
      "AWNT04CH.L: Period '1mo' is invalid, must be one of ['1d', '5d']\n"
     ]
    },
    {
     "name": "stdout",
     "output_type": "stream",
     "text": [
      "No data found for N099.L between 2014-08-01 and 2024-03-03.\n",
      "No data found for AWNT04CH.L between 2014-08-02 and 2024-03-03.\n"
     ]
    },
    {
     "name": "stderr",
     "output_type": "stream",
     "text": [
      "39GJ.L: Period '1mo' is invalid, must be one of ['1d', '5d']\n"
     ]
    },
    {
     "name": "stdout",
     "output_type": "stream",
     "text": [
      "No data found for 39GJ.L between 2019-01-23 and 2024-03-03.\n"
     ]
    },
    {
     "name": "stderr",
     "output_type": "stream",
     "text": [
      "GPVAN022.L: Period '1mo' is invalid, must be one of ['1d', '5d']\n"
     ]
    },
    {
     "name": "stdout",
     "output_type": "stream",
     "text": [
      "No data found for GPVAN022.L between 2014-08-02 and 2024-03-03.\n"
     ]
    },
    {
     "name": "stderr",
     "output_type": "stream",
     "text": [
      "0DZN.L: No price data found, symbol may be delisted (1d 2024-02-29 -> 2024-03-03)\n"
     ]
    },
    {
     "name": "stdout",
     "output_type": "stream",
     "text": [
      "No data found for 0DZN.L between 2024-02-29 and 2024-03-03.\n"
     ]
    },
    {
     "name": "stderr",
     "output_type": "stream",
     "text": [
      "ASX.L: Period '1mo' is invalid, must be one of ['1d', '5d']\n"
     ]
    },
    {
     "name": "stdout",
     "output_type": "stream",
     "text": [
      "No data found for ASX.L between 2014-08-02 and 2024-03-03.\n"
     ]
    },
    {
     "name": "stderr",
     "output_type": "stream",
     "text": [
      "43FO.L: Period '1mo' is invalid, must be one of ['1d', '5d']\n"
     ]
    },
    {
     "name": "stdout",
     "output_type": "stream",
     "text": [
      "No data found for 43FO.L between 2019-03-13 and 2024-03-03.\n"
     ]
    },
    {
     "name": "stderr",
     "output_type": "stream",
     "text": [
      "GPVAN013.L: Period '1mo' is invalid, must be one of ['1d', '5d']\n"
     ]
    },
    {
     "name": "stdout",
     "output_type": "stream",
     "text": [
      "No data found for GPVAN013.L between 2014-08-02 and 2024-03-03.\n"
     ]
    },
    {
     "name": "stderr",
     "output_type": "stream",
     "text": [
      "ACNANEU.L: Period '1mo' is invalid, must be one of ['1d', '5d']\n"
     ]
    },
    {
     "name": "stdout",
     "output_type": "stream",
     "text": [
      "No data found for ACNANEU.L between 2014-08-02 and 2024-03-03.\n"
     ]
    },
    {
     "name": "stderr",
     "output_type": "stream",
     "text": [
      "64XX.L: Period '1mo' is invalid, must be one of ['1d', '5d']\n"
     ]
    },
    {
     "name": "stdout",
     "output_type": "stream",
     "text": [
      "No data found for 64XX.L between 2017-09-16 and 2024-03-03.\n"
     ]
    },
    {
     "name": "stderr",
     "output_type": "stream",
     "text": [
      "ASXX.L: Period '1mo' is invalid, must be one of ['1d', '5d']\n",
      "SJG.L: Duplicate key 1507705200\n"
     ]
    },
    {
     "name": "stdout",
     "output_type": "stream",
     "text": [
      "No data found for ASXX.L between 2024-01-27 and 2024-03-03.\n",
      "No data found for SJG.L between 2024-01-31 and 2024-03-03.\n"
     ]
    },
    {
     "name": "stderr",
     "output_type": "stream",
     "text": [
      "76PL.L: Period '1mo' is invalid, must be one of ['1d', '5d']\n"
     ]
    },
    {
     "name": "stdout",
     "output_type": "stream",
     "text": [
      "No data found for 76PL.L between 2019-03-13 and 2024-03-03.\n"
     ]
    },
    {
     "name": "stderr",
     "output_type": "stream",
     "text": [
      "0MG0.L: No price data found, symbol may be delisted (1d 2024-01-18 -> 2024-03-03)\n"
     ]
    },
    {
     "name": "stdout",
     "output_type": "stream",
     "text": [
      "No data found for 0MG0.L between 2024-01-18 and 2024-03-03.\n"
     ]
    },
    {
     "name": "stderr",
     "output_type": "stream",
     "text": [
      "R0UK.L: Period '1mo' is invalid, must be one of ['1d', '5d']\n"
     ]
    },
    {
     "name": "stdout",
     "output_type": "stream",
     "text": [
      "No data found for R0UK.L between 2016-06-30 and 2024-03-03.\n"
     ]
    },
    {
     "name": "stderr",
     "output_type": "stream",
     "text": [
      "AWHDY01C.L: Period '1mo' is invalid, must be one of ['1d', '5d']\n"
     ]
    },
    {
     "name": "stdout",
     "output_type": "stream",
     "text": [
      "No data found for AWHDY01C.L between 2014-08-02 and 2024-03-03.\n"
     ]
    },
    {
     "name": "stderr",
     "output_type": "stream",
     "text": [
      "SCDNEU.L: Period '1mo' is invalid, must be one of ['1d', '5d']\n"
     ]
    },
    {
     "name": "stdout",
     "output_type": "stream",
     "text": [
      "No data found for SCDNEU.L between 2014-08-02 and 2024-03-03.\n"
     ]
    },
    {
     "name": "stderr",
     "output_type": "stream",
     "text": [
      "MCXL3X.L: Period '1mo' is invalid, must be one of ['1d', '5d']\n"
     ]
    },
    {
     "name": "stdout",
     "output_type": "stream",
     "text": [
      "No data found for MCXL3X.L between 2024-01-31 and 2024-03-03.\n"
     ]
    },
    {
     "name": "stderr",
     "output_type": "stream",
     "text": [
      "LBS.L: No price data found, symbol may be delisted (1d 2019-10-09 -> 2024-03-03)\n"
     ]
    },
    {
     "name": "stdout",
     "output_type": "stream",
     "text": [
      "No data found for LBS.L between 2019-10-09 and 2024-03-03.\n"
     ]
    },
    {
     "name": "stderr",
     "output_type": "stream",
     "text": [
      "OVZA.L: Period '1mo' is invalid, must be one of ['1d', '5d']\n"
     ]
    },
    {
     "name": "stdout",
     "output_type": "stream",
     "text": [
      "No data found for OVZA.L between 2023-08-30 and 2024-03-03.\n"
     ]
    },
    {
     "name": "stderr",
     "output_type": "stream",
     "text": [
      "67RW.L: Period '1mo' is invalid, must be one of ['1d', '5d']\n"
     ]
    },
    {
     "name": "stdout",
     "output_type": "stream",
     "text": [
      "No data found for 67RW.L between 2019-01-23 and 2024-03-03.\n"
     ]
    },
    {
     "name": "stderr",
     "output_type": "stream",
     "text": [
      "NSX.L: Period '1mo' is invalid, must be one of ['1d', '5d']\n"
     ]
    },
    {
     "name": "stdout",
     "output_type": "stream",
     "text": [
      "No data found for NSX.L between 2024-01-31 and 2024-03-03.\n"
     ]
    },
    {
     "name": "stderr",
     "output_type": "stream",
     "text": [
      "OXA5.L: Period '1mo' is invalid, must be one of ['1d', '5d']\n"
     ]
    },
    {
     "name": "stdout",
     "output_type": "stream",
     "text": [
      "No data found for OXA5.L between 2023-10-03 and 2024-03-03.\n"
     ]
    },
    {
     "name": "stderr",
     "output_type": "stream",
     "text": [
      "SG77.L: No price data found, symbol may be delisted (1d 2020-09-10 -> 2024-03-03)\n"
     ]
    },
    {
     "name": "stdout",
     "output_type": "stream",
     "text": [
      "No data found for SG77.L between 2020-09-10 and 2024-03-03.\n"
     ]
    },
    {
     "name": "stderr",
     "output_type": "stream",
     "text": [
      "72NS.L: Period '1mo' is invalid, must be one of ['1d', '5d']\n"
     ]
    },
    {
     "name": "stdout",
     "output_type": "stream",
     "text": [
      "No data found for 72NS.L between 2019-01-23 and 2024-03-03.\n"
     ]
    },
    {
     "name": "stderr",
     "output_type": "stream",
     "text": [
      "64EQ.L: Period '1mo' is invalid, must be one of ['1d', '5d']\n"
     ]
    },
    {
     "name": "stdout",
     "output_type": "stream",
     "text": [
      "No data found for 64EQ.L between 2018-09-19 and 2024-03-03.\n"
     ]
    },
    {
     "name": "stderr",
     "output_type": "stream",
     "text": [
      "AWDEURSE.L: Period '1mo' is invalid, must be one of ['1d', '5d']\n"
     ]
    },
    {
     "name": "stdout",
     "output_type": "stream",
     "text": [
      "No data found for AWDEURSE.L between 2014-08-02 and 2024-03-03.\n"
     ]
    },
    {
     "name": "stderr",
     "output_type": "stream",
     "text": [
      "76UZ.L: Period '1mo' is invalid, must be one of ['1d', '5d']\n"
     ]
    },
    {
     "name": "stdout",
     "output_type": "stream",
     "text": [
      "No data found for 76UZ.L between 2017-11-09 and 2024-03-03.\n"
     ]
    },
    {
     "name": "stderr",
     "output_type": "stream",
     "text": [
      "LIX.L: Period '1mo' is invalid, must be one of ['1d', '5d']\n"
     ]
    },
    {
     "name": "stdout",
     "output_type": "stream",
     "text": [
      "No data found for LIX.L between 2024-01-31 and 2024-03-03.\n"
     ]
    },
    {
     "name": "stderr",
     "output_type": "stream",
     "text": [
      "TCS.L: No price data found, symbol may be delisted (1d 2024-01-31 -> 2024-03-03)\n"
     ]
    },
    {
     "name": "stdout",
     "output_type": "stream",
     "text": [
      "No data found for TCS.L between 2024-01-31 and 2024-03-03.\n"
     ]
    },
    {
     "name": "stderr",
     "output_type": "stream",
     "text": [
      "69WH.L: Period '1mo' is invalid, must be one of ['1d', '5d']\n"
     ]
    },
    {
     "name": "stdout",
     "output_type": "stream",
     "text": [
      "No data found for 69WH.L between 2019-01-23 and 2024-03-03.\n"
     ]
    },
    {
     "name": "stderr",
     "output_type": "stream",
     "text": [
      "72VH.L: Period '1mo' is invalid, must be one of ['1d', '5d']\n"
     ]
    },
    {
     "name": "stdout",
     "output_type": "stream",
     "text": [
      "No data found for 72VH.L between 2018-05-23 and 2024-03-03.\n"
     ]
    },
    {
     "name": "stderr",
     "output_type": "stream",
     "text": [
      "3EC.L: Period '1mo' is invalid, must be one of ['1d', '5d']\n"
     ]
    },
    {
     "name": "stdout",
     "output_type": "stream",
     "text": [
      "No data found for 3EC.L between 2016-06-30 and 2024-03-03.\n"
     ]
    },
    {
     "name": "stderr",
     "output_type": "stream",
     "text": [
      "HDIV.L: No price data found, symbol may be delisted (1d 2024-01-19 -> 2024-03-03)\n"
     ]
    },
    {
     "name": "stdout",
     "output_type": "stream",
     "text": [
      "No data found for HDIV.L between 2024-01-19 and 2024-03-03.\n"
     ]
    },
    {
     "name": "stderr",
     "output_type": "stream",
     "text": [
      "MCXI2X.L: Period '1mo' is invalid, must be one of ['1d', '5d']\n",
      "43PT.L: Period '1mo' is invalid, must be one of ['1d', '5d']\n"
     ]
    },
    {
     "name": "stdout",
     "output_type": "stream",
     "text": [
      "No data found for MCXI2X.L between 2024-01-31 and 2024-03-03.\n",
      "No data found for 43PT.L between 2019-02-27 and 2024-03-03.\n"
     ]
    },
    {
     "name": "stderr",
     "output_type": "stream",
     "text": [
      "80QT.L: Period '1mo' is invalid, must be one of ['1d', '5d']\n"
     ]
    },
    {
     "name": "stdout",
     "output_type": "stream",
     "text": [
      "No data found for 80QT.L between 2017-10-20 and 2024-03-03.\n"
     ]
    },
    {
     "name": "stderr",
     "output_type": "stream",
     "text": [
      "40EM.L: Period '1mo' is invalid, must be one of ['1d', '5d']\n"
     ]
    },
    {
     "name": "stdout",
     "output_type": "stream",
     "text": [
      "No data found for 40EM.L between 2017-11-15 and 2024-03-03.\n"
     ]
    },
    {
     "name": "stderr",
     "output_type": "stream",
     "text": [
      "AWNT04EU.L: Period '1mo' is invalid, must be one of ['1d', '5d']\n"
     ]
    },
    {
     "name": "stdout",
     "output_type": "stream",
     "text": [
      "No data found for AWNT04EU.L between 2014-08-02 and 2024-03-03.\n"
     ]
    },
    {
     "name": "stderr",
     "output_type": "stream",
     "text": [
      "02NG.L: Period '1mo' is invalid, must be one of ['1d', '5d']\n"
     ]
    },
    {
     "name": "stdout",
     "output_type": "stream",
     "text": [
      "No data found for 02NG.L between 2019-02-27 and 2024-03-03.\n"
     ]
    },
    {
     "name": "stderr",
     "output_type": "stream",
     "text": [
      "44EB.L: Period '1mo' is invalid, must be one of ['1d', '5d']\n"
     ]
    },
    {
     "name": "stdout",
     "output_type": "stream",
     "text": [
      "No data found for 44EB.L between 2017-11-10 and 2024-03-03.\n"
     ]
    },
    {
     "name": "stderr",
     "output_type": "stream",
     "text": [
      "AWNT14UK.L: Period '1mo' is invalid, must be one of ['1d', '5d']\n"
     ]
    },
    {
     "name": "stdout",
     "output_type": "stream",
     "text": [
      "No data found for AWNT14UK.L between 2024-01-27 and 2024-03-03.\n"
     ]
    },
    {
     "name": "stderr",
     "output_type": "stream",
     "text": [
      "42FI.L: Period '1mo' is invalid, must be one of ['1d', '5d']\n"
     ]
    },
    {
     "name": "stdout",
     "output_type": "stream",
     "text": [
      "No data found for 42FI.L between 2018-11-07 and 2024-03-03.\n"
     ]
    },
    {
     "name": "stderr",
     "output_type": "stream",
     "text": [
      "30EF.L: Period '1mo' is invalid, must be one of ['1d', '5d']\n"
     ]
    },
    {
     "name": "stdout",
     "output_type": "stream",
     "text": [
      "No data found for 30EF.L between 2018-11-14 and 2024-03-03.\n"
     ]
    },
    {
     "name": "stderr",
     "output_type": "stream",
     "text": [
      "RI54.L: Period '1mo' is invalid, must be one of ['1d', '5d']\n"
     ]
    },
    {
     "name": "stdout",
     "output_type": "stream",
     "text": [
      "No data found for RI54.L between 2024-01-24 and 2024-03-03.\n"
     ]
    },
    {
     "name": "stderr",
     "output_type": "stream",
     "text": [
      "ATST.L: Duplicate key 1521014400\n"
     ]
    },
    {
     "name": "stdout",
     "output_type": "stream",
     "text": [
      "No data found for ATST.L between 2024-01-27 and 2024-03-03.\n"
     ]
    },
    {
     "name": "stderr",
     "output_type": "stream",
     "text": [
      "88QT.L: Period '1mo' is invalid, must be one of ['1d', '5d']\n"
     ]
    },
    {
     "name": "stdout",
     "output_type": "stream",
     "text": [
      "No data found for 88QT.L between 2018-11-28 and 2024-03-03.\n"
     ]
    },
    {
     "name": "stderr",
     "output_type": "stream",
     "text": [
      "0LVL.L: No price data found, symbol may be delisted (1d 2024-02-16 -> 2024-03-03)\n"
     ]
    },
    {
     "name": "stdout",
     "output_type": "stream",
     "text": [
      "No data found for 0LVL.L between 2024-02-16 and 2024-03-03.\n"
     ]
    },
    {
     "name": "stderr",
     "output_type": "stream",
     "text": [
      "68WN.L: Period '1mo' is invalid, must be one of ['1d', '5d']\n"
     ]
    },
    {
     "name": "stdout",
     "output_type": "stream",
     "text": [
      "No data found for 68WN.L between 2019-01-16 and 2024-03-03.\n"
     ]
    },
    {
     "name": "stderr",
     "output_type": "stream",
     "text": [
      "52TC.L: Period '1mo' is invalid, must be one of ['1d', '5d']\n"
     ]
    },
    {
     "name": "stdout",
     "output_type": "stream",
     "text": [
      "No data found for 52TC.L between 2019-01-04 and 2024-03-03.\n"
     ]
    },
    {
     "name": "stderr",
     "output_type": "stream",
     "text": [
      "GPFF002.L: Period '1mo' is invalid, must be one of ['1d', '5d']\n"
     ]
    },
    {
     "name": "stdout",
     "output_type": "stream",
     "text": [
      "No data found for GPFF002.L between 2014-08-02 and 2024-03-03.\n"
     ]
    },
    {
     "name": "stderr",
     "output_type": "stream",
     "text": [
      "0MYY.L: No price data found, symbol may be delisted (1d 2024-02-16 -> 2024-03-03)\n"
     ]
    },
    {
     "name": "stdout",
     "output_type": "stream",
     "text": [
      "No data found for 0MYY.L between 2024-02-16 and 2024-03-03.\n"
     ]
    },
    {
     "name": "stderr",
     "output_type": "stream",
     "text": [
      "59UI.L: Period '1mo' is invalid, must be one of ['1d', '5d']\n"
     ]
    },
    {
     "name": "stdout",
     "output_type": "stream",
     "text": [
      "No data found for 59UI.L between 2019-03-07 and 2024-03-03.\n"
     ]
    },
    {
     "name": "stderr",
     "output_type": "stream",
     "text": [
      "DX.L: No price data found, symbol may be delisted (1d 2024-01-30 -> 2024-03-03)\n",
      "AWNT05EU.L: Period '1mo' is invalid, must be one of ['1d', '5d']\n"
     ]
    },
    {
     "name": "stdout",
     "output_type": "stream",
     "text": [
      "No data found for DX.L between 2024-01-30 and 2024-03-03.\n",
      "No data found for AWNT05EU.L between 2014-08-02 and 2024-03-03.\n"
     ]
    },
    {
     "name": "stderr",
     "output_type": "stream",
     "text": [
      "54HG.L: Period '1mo' is invalid, must be one of ['1d', '5d']\n"
     ]
    },
    {
     "name": "stdout",
     "output_type": "stream",
     "text": [
      "No data found for 54HG.L between 2018-10-24 and 2024-03-03.\n"
     ]
    },
    {
     "name": "stderr",
     "output_type": "stream",
     "text": [
      "BNR.L: No price data found, symbol may be delisted (1d 2024-02-21 -> 2024-03-03)\n"
     ]
    },
    {
     "name": "stdout",
     "output_type": "stream",
     "text": [
      "No data found for BNR.L between 2024-02-21 and 2024-03-03.\n"
     ]
    },
    {
     "name": "stderr",
     "output_type": "stream",
     "text": [
      "0IID.L: Period '1mo' is invalid, must be one of ['1d', '5d']\n"
     ]
    },
    {
     "name": "stdout",
     "output_type": "stream",
     "text": [
      "No data found for 0IID.L between 2024-01-27 and 2024-03-03.\n"
     ]
    },
    {
     "name": "stderr",
     "output_type": "stream",
     "text": [
      "AWNT01HK.L: Period '1mo' is invalid, must be one of ['1d', '5d']\n"
     ]
    },
    {
     "name": "stdout",
     "output_type": "stream",
     "text": [
      "No data found for AWNT01HK.L between 2014-08-02 and 2024-03-03.\n"
     ]
    },
    {
     "name": "stderr",
     "output_type": "stream",
     "text": [
      "AWDPACXJ.L: Period '1mo' is invalid, must be one of ['1d', '5d']\n"
     ]
    },
    {
     "name": "stdout",
     "output_type": "stream",
     "text": [
      "No data found for AWDPACXJ.L between 2014-08-02 and 2024-03-03.\n"
     ]
    },
    {
     "name": "stderr",
     "output_type": "stream",
     "text": [
      "36EL.L: Period '1mo' is invalid, must be one of ['1d', '5d']\n"
     ]
    },
    {
     "name": "stdout",
     "output_type": "stream",
     "text": [
      "No data found for 36EL.L between 2019-01-05 and 2024-03-03.\n"
     ]
    },
    {
     "name": "stderr",
     "output_type": "stream",
     "text": [
      "SG91.L: No price data found, symbol may be delisted (1d 2020-10-03 -> 2024-03-03)\n"
     ]
    },
    {
     "name": "stdout",
     "output_type": "stream",
     "text": [
      "No data found for SG91.L between 2020-10-03 and 2024-03-03.\n"
     ]
    },
    {
     "name": "stderr",
     "output_type": "stream",
     "text": [
      "0DP0.L: No price data found, symbol may be delisted (1d 2024-02-16 -> 2024-03-03)\n"
     ]
    },
    {
     "name": "stdout",
     "output_type": "stream",
     "text": [
      "No data found for 0DP0.L between 2024-02-16 and 2024-03-03.\n"
     ]
    },
    {
     "name": "stderr",
     "output_type": "stream",
     "text": [
      "AWHDY01E.L: Period '1mo' is invalid, must be one of ['1d', '5d']\n"
     ]
    },
    {
     "name": "stdout",
     "output_type": "stream",
     "text": [
      "No data found for AWHDY01E.L between 2014-08-02 and 2024-03-03.\n"
     ]
    },
    {
     "name": "stderr",
     "output_type": "stream",
     "text": [
      "AWNT05.L: Period '1mo' is invalid, must be one of ['1d', '5d']\n",
      "0J39.L: Period '1mo' is invalid, must be one of ['1d', '5d']\n"
     ]
    },
    {
     "name": "stdout",
     "output_type": "stream",
     "text": [
      "No data found for AWNT05.L between 2014-08-02 and 2024-03-03.\n",
      "No data found for 0J39.L between 2024-01-27 and 2024-03-03.\n"
     ]
    },
    {
     "name": "stderr",
     "output_type": "stream",
     "text": [
      "45CR.L: Period '1mo' is invalid, must be one of ['1d', '5d']\n"
     ]
    },
    {
     "name": "stdout",
     "output_type": "stream",
     "text": [
      "No data found for 45CR.L between 2017-12-08 and 2024-03-03.\n"
     ]
    },
    {
     "name": "stderr",
     "output_type": "stream",
     "text": [
      "JMF.L: No price data found, symbol may be delisted (1d 2024-02-29 -> 2024-03-03)\n"
     ]
    },
    {
     "name": "stdout",
     "output_type": "stream",
     "text": [
      "No data found for JMF.L between 2024-02-29 and 2024-03-03.\n"
     ]
    },
    {
     "name": "stderr",
     "output_type": "stream",
     "text": [
      "NMX.L: Period '1mo' is invalid, must be one of ['1d', '5d']\n"
     ]
    },
    {
     "name": "stdout",
     "output_type": "stream",
     "text": [
      "No data found for NMX.L between 2014-08-02 and 2024-03-03.\n"
     ]
    },
    {
     "name": "stderr",
     "output_type": "stream",
     "text": [
      "38OG.L: Period '1mo' is invalid, must be one of ['1d', '5d']\n"
     ]
    },
    {
     "name": "stdout",
     "output_type": "stream",
     "text": [
      "No data found for 38OG.L between 2019-01-23 and 2024-03-03.\n",
      "Error fetching data for LSUG.L: index 0 is out of bounds for axis 0 with size 0. Returning empty DataFrame.\n"
     ]
    },
    {
     "name": "stderr",
     "output_type": "stream",
     "text": [
      "N30XU.L: Period '1mo' is invalid, must be one of ['1d', '5d']\n"
     ]
    },
    {
     "name": "stdout",
     "output_type": "stream",
     "text": [
      "No data found for N30XU.L between 2014-08-02 and 2024-03-03.\n"
     ]
    },
    {
     "name": "stderr",
     "output_type": "stream",
     "text": [
      "ACXUSS.L: Period '1mo' is invalid, must be one of ['1d', '5d']\n"
     ]
    },
    {
     "name": "stdout",
     "output_type": "stream",
     "text": [
      "No data found for ACXUSS.L between 2014-08-02 and 2024-03-03.\n"
     ]
    },
    {
     "name": "stderr",
     "output_type": "stream",
     "text": [
      "65LF.L: Period '1mo' is invalid, must be one of ['1d', '5d']\n"
     ]
    },
    {
     "name": "stdout",
     "output_type": "stream",
     "text": [
      "No data found for 65LF.L between 2019-03-20 and 2024-03-03.\n"
     ]
    },
    {
     "name": "stderr",
     "output_type": "stream",
     "text": [
      "0MR6.L: No data found, symbol may be delisted\n"
     ]
    },
    {
     "name": "stdout",
     "output_type": "stream",
     "text": [
      "No data found for 0MR6.L between 2024-01-27 and 2024-03-03.\n"
     ]
    },
    {
     "name": "stderr",
     "output_type": "stream",
     "text": [
      "4GJA.L: Period '1mo' is invalid, must be one of ['1d', '5d']\n",
      "ASEAN40.L: Period '1mo' is invalid, must be one of ['1d', '5d']\n"
     ]
    },
    {
     "name": "stdout",
     "output_type": "stream",
     "text": [
      "No data found for 4GJA.L between 2014-08-02 and 2024-03-03.\n",
      "No data found for ASEAN40.L between 2016-06-30 and 2024-03-03.\n"
     ]
    },
    {
     "name": "stderr",
     "output_type": "stream",
     "text": [
      "AA18.L: Period '1mo' is invalid, must be one of ['1d', '5d']\n"
     ]
    },
    {
     "name": "stdout",
     "output_type": "stream",
     "text": [
      "No data found for AA18.L between 2019-02-27 and 2024-03-03.\n"
     ]
    },
    {
     "name": "stderr",
     "output_type": "stream",
     "text": [
      "HFEL.L: Duplicate key 1525244400\n"
     ]
    },
    {
     "name": "stdout",
     "output_type": "stream",
     "text": [
      "No data found for HFEL.L between 2024-01-30 and 2024-03-03.\n"
     ]
    },
    {
     "name": "stderr",
     "output_type": "stream",
     "text": [
      "4UK5.L: Period '1mo' is invalid, must be one of ['1d', '5d']\n"
     ]
    },
    {
     "name": "stdout",
     "output_type": "stream",
     "text": [
      "No data found for 4UK5.L between 2024-01-27 and 2024-03-03.\n"
     ]
    },
    {
     "name": "stderr",
     "output_type": "stream",
     "text": [
      "NFIX.L: Period '1mo' is invalid, must be one of ['1d', '5d']\n",
      "HEY1.L: Period '1mo' is invalid, must be one of ['1d', '5d']\n"
     ]
    },
    {
     "name": "stdout",
     "output_type": "stream",
     "text": [
      "No data found for NFIX.L between 2014-08-02 and 2024-03-03.\n",
      "No data found for HEY1.L between 2019-03-13 and 2024-03-03.\n"
     ]
    },
    {
     "name": "stderr",
     "output_type": "stream",
     "text": [
      "96QO.L: Period '1mo' is invalid, must be one of ['1d', '5d']\n",
      "AE57.L: Period '1mo' is invalid, must be one of ['1d', '5d']\n"
     ]
    },
    {
     "name": "stdout",
     "output_type": "stream",
     "text": [
      "No data found for 96QO.L between 2018-11-21 and 2024-03-03.\n",
      "No data found for AE57.L between 2019-06-29 and 2024-03-03.\n"
     ]
    },
    {
     "name": "stderr",
     "output_type": "stream",
     "text": [
      "70TD.L: Period '1mo' is invalid, must be one of ['1d', '5d']\n"
     ]
    },
    {
     "name": "stdout",
     "output_type": "stream",
     "text": [
      "No data found for 70TD.L between 2019-01-23 and 2024-03-03.\n"
     ]
    },
    {
     "name": "stderr",
     "output_type": "stream",
     "text": [
      "SD70.L: Period '1mo' is invalid, must be one of ['1d', '5d']\n"
     ]
    },
    {
     "name": "stdout",
     "output_type": "stream",
     "text": [
      "No data found for SD70.L between 2014-11-06 and 2024-03-03.\n"
     ]
    },
    {
     "name": "stderr",
     "output_type": "stream",
     "text": [
      "91SN.L: Period '1mo' is invalid, must be one of ['1d', '5d']\n"
     ]
    },
    {
     "name": "stdout",
     "output_type": "stream",
     "text": [
      "No data found for 91SN.L between 2019-03-20 and 2024-03-03.\n"
     ]
    },
    {
     "name": "stderr",
     "output_type": "stream",
     "text": [
      "0NZF.L: No price data found, symbol may be delisted (1d 2024-03-01 -> 2024-03-03)\n"
     ]
    },
    {
     "name": "stdout",
     "output_type": "stream",
     "text": [
      "No data found for 0NZF.L between 2024-03-01 and 2024-03-03.\n"
     ]
    },
    {
     "name": "stderr",
     "output_type": "stream",
     "text": [
      "M0XU.L: Period '1mo' is invalid, must be one of ['1d', '5d']\n",
      "AWNT14EU.L: Period '1mo' is invalid, must be one of ['1d', '5d']\n"
     ]
    },
    {
     "name": "stdout",
     "output_type": "stream",
     "text": [
      "No data found for M0XU.L between 2016-06-30 and 2024-03-03.\n",
      "No data found for AWNT14EU.L between 2014-08-02 and 2024-03-03.\n"
     ]
    },
    {
     "name": "stderr",
     "output_type": "stream",
     "text": [
      "NMIX.L: Period '1mo' is invalid, must be one of ['1d', '5d']\n"
     ]
    },
    {
     "name": "stdout",
     "output_type": "stream",
     "text": [
      "No data found for NMIX.L between 2014-08-02 and 2024-03-03.\n"
     ]
    },
    {
     "name": "stderr",
     "output_type": "stream",
     "text": [
      "PRUD.L: Period '1mo' is invalid, must be one of ['1d', '5d']\n"
     ]
    },
    {
     "name": "stdout",
     "output_type": "stream",
     "text": [
      "No data found for PRUD.L between 2019-03-22 and 2024-03-03.\n"
     ]
    },
    {
     "name": "stderr",
     "output_type": "stream",
     "text": [
      "AWDEURSC.L: Period '1mo' is invalid, must be one of ['1d', '5d']\n"
     ]
    },
    {
     "name": "stdout",
     "output_type": "stream",
     "text": [
      "No data found for AWDEURSC.L between 2014-08-02 and 2024-03-03.\n"
     ]
    },
    {
     "name": "stderr",
     "output_type": "stream",
     "text": [
      "77KB.L: Period '1mo' is invalid, must be one of ['1d', '5d']\n"
     ]
    },
    {
     "name": "stdout",
     "output_type": "stream",
     "text": [
      "No data found for 77KB.L between 2019-02-27 and 2024-03-03.\n"
     ]
    },
    {
     "name": "stderr",
     "output_type": "stream",
     "text": [
      "0DVR.L: No price data found, symbol may be delisted (1d 2024-02-16 -> 2024-03-03)\n"
     ]
    },
    {
     "name": "stdout",
     "output_type": "stream",
     "text": [
      "No data found for 0DVR.L between 2024-02-16 and 2024-03-03.\n"
     ]
    },
    {
     "name": "stderr",
     "output_type": "stream",
     "text": [
      "0FIZ.L: No price data found, symbol may be delisted (1d 2024-03-01 -> 2024-03-03)\n"
     ]
    },
    {
     "name": "stdout",
     "output_type": "stream",
     "text": [
      "No data found for 0FIZ.L between 2024-03-01 and 2024-03-03.\n"
     ]
    },
    {
     "name": "stderr",
     "output_type": "stream",
     "text": [
      "NSIX.L: Period '1mo' is invalid, must be one of ['1d', '5d']\n"
     ]
    },
    {
     "name": "stdout",
     "output_type": "stream",
     "text": [
      "No data found for NSIX.L between 2024-01-31 and 2024-03-03.\n"
     ]
    },
    {
     "name": "stderr",
     "output_type": "stream",
     "text": [
      "SG72.L: No price data found, symbol may be delisted (1d 2020-10-03 -> 2024-03-03)\n"
     ]
    },
    {
     "name": "stdout",
     "output_type": "stream",
     "text": [
      "No data found for SG72.L between 2020-10-03 and 2024-03-03.\n"
     ]
    },
    {
     "name": "stderr",
     "output_type": "stream",
     "text": [
      "QDII1.L: Period '1mo' is invalid, must be one of ['1d', '5d']\n"
     ]
    },
    {
     "name": "stdout",
     "output_type": "stream",
     "text": [
      "No data found for QDII1.L between 2014-08-02 and 2024-03-03.\n"
     ]
    },
    {
     "name": "stderr",
     "output_type": "stream",
     "text": [
      "44CS.L: Period '1mo' is invalid, must be one of ['1d', '5d']\n"
     ]
    },
    {
     "name": "stdout",
     "output_type": "stream",
     "text": [
      "No data found for 44CS.L between 2018-06-30 and 2024-03-03.\n"
     ]
    },
    {
     "name": "stderr",
     "output_type": "stream",
     "text": [
      "0E16.L: No price data found, symbol may be delisted (1d 2024-03-01 -> 2024-03-03)\n"
     ]
    },
    {
     "name": "stdout",
     "output_type": "stream",
     "text": [
      "No data found for 0E16.L between 2024-03-01 and 2024-03-03.\n"
     ]
    },
    {
     "name": "stderr",
     "output_type": "stream",
     "text": [
      "OXA2.L: Period '1mo' is invalid, must be one of ['1d', '5d']\n",
      "ASEANEM.L: Period '1mo' is invalid, must be one of ['1d', '5d']\n"
     ]
    },
    {
     "name": "stdout",
     "output_type": "stream",
     "text": [
      "No data found for OXA2.L between 2023-08-30 and 2024-03-03.\n",
      "No data found for ASEANEM.L between 2014-08-02 and 2024-03-03.\n"
     ]
    },
    {
     "name": "stderr",
     "output_type": "stream",
     "text": [
      "AWHDY01.L: Period '1mo' is invalid, must be one of ['1d', '5d']\n"
     ]
    },
    {
     "name": "stdout",
     "output_type": "stream",
     "text": [
      "No data found for AWHDY01.L between 2014-08-02 and 2024-03-03.\n"
     ]
    },
    {
     "name": "stderr",
     "output_type": "stream",
     "text": [
      "AIM5.L: Period '1mo' is invalid, must be one of ['1d', '5d']\n"
     ]
    },
    {
     "name": "stdout",
     "output_type": "stream",
     "text": [
      "No data found for AIM5.L between 2024-01-27 and 2024-03-03.\n"
     ]
    },
    {
     "name": "stderr",
     "output_type": "stream",
     "text": [
      "AWDPAC.L: Period '1mo' is invalid, must be one of ['1d', '5d']\n",
      "OXA6.L: Period '1mo' is invalid, must be one of ['1d', '5d']\n"
     ]
    },
    {
     "name": "stdout",
     "output_type": "stream",
     "text": [
      "No data found for AWDPAC.L between 2014-08-02 and 2024-03-03.\n",
      "No data found for OXA6.L between 2023-09-29 and 2024-03-03.\n"
     ]
    },
    {
     "name": "stderr",
     "output_type": "stream",
     "text": [
      "0MQT.L: No price data found, symbol may be delisted (1d 2024-02-29 -> 2024-03-03)\n",
      "44CT.L: Period '1mo' is invalid, must be one of ['1d', '5d']\n"
     ]
    },
    {
     "name": "stdout",
     "output_type": "stream",
     "text": [
      "No data found for 0MQT.L between 2024-02-29 and 2024-03-03.\n",
      "No data found for 44CT.L between 2018-11-14 and 2024-03-03.\n"
     ]
    },
    {
     "name": "stderr",
     "output_type": "stream",
     "text": [
      "ASEANAS.L: Period '1mo' is invalid, must be one of ['1d', '5d']\n"
     ]
    },
    {
     "name": "stdout",
     "output_type": "stream",
     "text": [
      "No data found for ASEANAS.L between 2014-08-02 and 2024-03-03.\n"
     ]
    },
    {
     "name": "stderr",
     "output_type": "stream",
     "text": [
      "R0EU.L: Period '1mo' is invalid, must be one of ['1d', '5d']\n"
     ]
    },
    {
     "name": "stdout",
     "output_type": "stream",
     "text": [
      "No data found for R0EU.L between 2016-06-30 and 2024-03-03.\n"
     ]
    },
    {
     "name": "stderr",
     "output_type": "stream",
     "text": [
      "AWDEURSG.L: Period '1mo' is invalid, must be one of ['1d', '5d']\n"
     ]
    },
    {
     "name": "stdout",
     "output_type": "stream",
     "text": [
      "No data found for AWDEURSG.L between 2024-01-27 and 2024-03-03.\n"
     ]
    },
    {
     "name": "stderr",
     "output_type": "stream",
     "text": [
      "GPVAN025.L: Period '1mo' is invalid, must be one of ['1d', '5d']\n",
      "RIOB.L: Period '1mo' is invalid, must be one of ['1d', '5d']\n"
     ]
    },
    {
     "name": "stdout",
     "output_type": "stream",
     "text": [
      "No data found for GPVAN025.L between 2014-08-02 and 2024-03-03.\n",
      "No data found for RIOB.L between 2014-08-02 and 2024-03-03.\n"
     ]
    },
    {
     "name": "stderr",
     "output_type": "stream",
     "text": [
      "AWNT14CH.L: Period '1mo' is invalid, must be one of ['1d', '5d']\n"
     ]
    },
    {
     "name": "stdout",
     "output_type": "stream",
     "text": [
      "No data found for AWNT14CH.L between 2014-08-02 and 2024-03-03.\n"
     ]
    },
    {
     "name": "stderr",
     "output_type": "stream",
     "text": [
      "N098.L: Period '1mo' is invalid, must be one of ['1d', '5d']\n"
     ]
    },
    {
     "name": "stdout",
     "output_type": "stream",
     "text": [
      "No data found for N098.L between 2014-08-02 and 2024-03-03.\n"
     ]
    },
    {
     "name": "stderr",
     "output_type": "stream",
     "text": [
      "ASEANSTR.L: Period '1mo' is invalid, must be one of ['1d', '5d']\n"
     ]
    },
    {
     "name": "stdout",
     "output_type": "stream",
     "text": [
      "No data found for ASEANSTR.L between 2014-08-02 and 2024-03-03.\n"
     ]
    },
    {
     "name": "stderr",
     "output_type": "stream",
     "text": [
      "AWPXJANN.L: Period '1mo' is invalid, must be one of ['1d', '5d']\n"
     ]
    },
    {
     "name": "stdout",
     "output_type": "stream",
     "text": [
      "No data found for AWPXJANN.L between 2014-08-02 and 2024-03-03.\n"
     ]
    },
    {
     "name": "stderr",
     "output_type": "stream",
     "text": [
      "NGAU.L: Period '1mo' is invalid, must be one of ['1d', '5d']\n"
     ]
    },
    {
     "name": "stdout",
     "output_type": "stream",
     "text": [
      "No data found for NGAU.L between 2024-01-10 and 2024-03-03.\n"
     ]
    },
    {
     "name": "stderr",
     "output_type": "stream",
     "text": [
      "51BJ.L: Period '1mo' is invalid, must be one of ['1d', '5d']\n",
      "OXA1.L: Period '1mo' is invalid, must be one of ['1d', '5d']\n"
     ]
    },
    {
     "name": "stdout",
     "output_type": "stream",
     "text": [
      "No data found for 51BJ.L between 2017-12-29 and 2024-03-03.\n",
      "No data found for OXA1.L between 2024-01-18 and 2024-03-03.\n"
     ]
    },
    {
     "name": "stderr",
     "output_type": "stream",
     "text": [
      "BB08.L: Period '1mo' is invalid, must be one of ['1d', '5d']\n"
     ]
    },
    {
     "name": "stdout",
     "output_type": "stream",
     "text": [
      "No data found for BB08.L between 2015-12-10 and 2024-03-03.\n"
     ]
    },
    {
     "name": "stderr",
     "output_type": "stream",
     "text": [
      "RB19.L: Period '1mo' is invalid, must be one of ['1d', '5d']\n"
     ]
    },
    {
     "name": "stdout",
     "output_type": "stream",
     "text": [
      "No data found for RB19.L between 2024-01-26 and 2024-03-03.\n"
     ]
    },
    {
     "name": "stderr",
     "output_type": "stream",
     "text": [
      "MCXNUKEU.L: Period '1mo' is invalid, must be one of ['1d', '5d']\n"
     ]
    },
    {
     "name": "stdout",
     "output_type": "stream",
     "text": [
      "No data found for MCXNUKEU.L between 2014-08-02 and 2024-03-03.\n",
      "Stock data update process completed.\n"
     ]
    }
   ],
   "source": [
    "#***************\n",
    "#this function will insert data into historcal data table. \n",
    "#Repeatable\n",
    "#Reference cell D\n",
    "#Reference cell E\n",
    "#SQL REFERENCE A\n",
    "\n",
    "#***************\n",
    "\n",
    "'''#Reference cell F Name\n",
    "def insert_new_stock_data(df):\n",
    "    if df.empty:\n",
    "        print(\"No new stock data to insert. Skipping insertion process.\")\n",
    "        return  # Exit the function early if there's no data to process.\n",
    "\n",
    "    insert_query = \"\"\"\n",
    "    INSERT INTO source.historical_stock_data (Date, Open, High, Low, Close, Volume, Dividends, Stock_Splits, Symbol)\n",
    "    VALUES (%s, %s, %s, %s, %s, %s, %s, %s, %s)\n",
    "    \"\"\"\n",
    "    for index, row in df.iterrows():\n",
    "        params = (\n",
    "            row['Date'], row['Open'], row['High'], row['Low'], row['Close'],\n",
    "            row['Volume'], row['Dividends'], row['Stock Splits'], row['Symbol']\n",
    "        )\n",
    "        try:\n",
    "            execute_sql_query(insert_query, params)\n",
    "        except Exception as e:\n",
    "            print(f\"An error occurred while inserting data for symbol {row['Symbol']}: {e}\")\n",
    "\n",
    "    print(\"Stock data update process completed for all symbols.\")'''\n",
    "\n",
    "def insert_new_stock_data(df):\n",
    "    insert_query = \"\"\"\n",
    "    INSERT INTO source.historical_stock_data (Date, Open, High, Low, Close, Volume, Dividends, Stock_Splits, Symbol)\n",
    "    VALUES (%s, %s, %s, %s, %s, %s, %s, %s, %s)\n",
    "    \"\"\"\n",
    "    for index, row in df.iterrows():\n",
    "        params = (\n",
    "            row['Date'], row['Open'], row['High'], row['Low'], row['Close'],\n",
    "            row['Volume'], row['Dividends'], row['Stock Splits'], row['Symbol']\n",
    "        )\n",
    "        execute_sql_query(insert_query, params)\n",
    "if __name__ == \"__main__\":\n",
    "    symbols_dates_df = fetch_symbols_and_last_dates()\n",
    "    if not symbols_dates_df.empty:\n",
    "        new_stock_data = pd.DataFrame()\n",
    "        for index, row in symbols_dates_df.iterrows():\n",
    "            symbol = row['symbol']\n",
    "            last_date = row['lastdate'] + pd.Timedelta(days=1)  # Start from the day after the last recorded date\n",
    "            symbol_new_data = fetch_new_stock_data_for_symbol(symbol, last_date.strftime('%Y-%m-%d'))\n",
    "            new_stock_data = pd.concat([new_stock_data, symbol_new_data], ignore_index=True)\n",
    "        if not new_stock_data.empty:\n",
    "            insert_new_stock_data(new_stock_data)\n",
    "        print(\"Stock data update process completed.\")\n",
    "    else:\n",
    "        print(\"No symbols or last dates found.\")\n",
    "#print(insert_new_stock_data)"
   ]
  },
  {
   "cell_type": "code",
   "execution_count": 36,
   "id": "c7265e83-f552-4068-bdc2-e23f252bae6f",
   "metadata": {
    "tags": []
   },
   "outputs": [],
   "source": [
    "# Define a function to insert new financial data into the dimension.d_financial_info table.\n",
    "def insert_into_financial_info():\n",
    "    \"\"\"\n",
    "    This function inserts new records into the dimension.d_financial_info table\n",
    "    from the source.historical_stock_data table. It ensures uniqueness by not inserting\n",
    "    any records that match existing symbol and date combinations in the target table,\n",
    "    thereby preventing duplicate entries.\n",
    "    \"\"\"\n",
    "    \n",
    "    # SQL command for inserting data into dimension.d_financial_info table.\n",
    "    # The INSERT INTO SELECT statement is used to select data from the source.historical_stock_data table\n",
    "    # and insert it into the dimension.d_financial_info table.\n",
    "    # The WHERE NOT EXISTS clause checks if a record with the same symbol and date already exists\n",
    "    # in the dimension.d_financial_info table, preventing duplicate entries.\n",
    "    insert_query = \"\"\"\n",
    "    INSERT INTO dimension.d_financial_info (\n",
    "        symbol, \n",
    "        date,\n",
    "        open,\n",
    "        high,\n",
    "        low,\n",
    "        close,\n",
    "        volume,\n",
    "        dividends,\n",
    "        stock_splits\n",
    "    )\n",
    "    SELECT \n",
    "        symbol, \n",
    "        date,\n",
    "        open,\n",
    "        high,\n",
    "        low,\n",
    "        close,\n",
    "        volume,\n",
    "        dividends,\n",
    "        stock_splits\n",
    "    FROM \n",
    "        source.historical_stock_data AS s\n",
    "    WHERE NOT EXISTS (\n",
    "        SELECT 1 \n",
    "        FROM dimension.d_financial_info AS d \n",
    "        WHERE \n",
    "            d.symbol = s.symbol \n",
    "            AND d.date = s.date\n",
    "    );\n",
    "    \"\"\"\n",
    "\n",
    "    # Execute the SQL command using a try-except block.\n",
    "    # This block attempts to run the insert_query and catches any exceptions that occur,\n",
    "    # printing an error message if an exception is raised.\n",
    "    try:\n",
    "        execute_sql_query(insert_query)\n",
    "        # If the SQL command executes successfully, print a confirmation message.\n",
    "        print(\"Data inserted into dimension.d_financial_info successfully.\")\n",
    "    except Exception as e:\n",
    "        # If an error occurs during the execution of the SQL command, print an error message.\n",
    "        # The error message includes the exception details to help diagnose the issue.\n",
    "        print(f\"An error occurred while inserting data: {e}\")\n"
   ]
  },
  {
   "cell_type": "code",
   "execution_count": 33,
   "id": "53a37863-f881-41dd-ba24-6f1b25f5fb65",
   "metadata": {
    "tags": []
   },
   "outputs": [],
   "source": [
    "############\n",
    "#Part of the Data refresh\n",
    "#Define a function to update the 'facts.daily_facts' table in the database.\n",
    "#SQL REFERENCE A\n",
    "\n",
    "\n",
    "#Reference cell H Name\n",
    "def update_facts_table():\n",
    "    # SQL command to start a new database transaction.\n",
    "    # This ensures that all subsequent operations are part of a single transaction,\n",
    "    # which can be either committed or rolled back in case of an error.\n",
    "    begin_transaction = \"BEGIN;\"\n",
    "\n",
    "    # SQL command to clear the 'facts.daily_facts' table.\n",
    "    # This removes all existing records to prepare for inserting updated data.\n",
    "    # It's important to be cautious with this operation in a production environment.\n",
    "    truncate_table = \"TRUNCATE facts.daily_facts;\"\n",
    "\n",
    "    # SQL command to insert updated data into the 'facts.daily_facts' table.\n",
    "    # This command performs a SELECT operation joining several tables to gather\n",
    "    # the necessary data (like open, high, low, close prices, volume, and various growth metrics)\n",
    "    # and inserts the resulting dataset into the 'facts.daily_facts' table.\n",
    "    insert_data = \"\"\"\n",
    "    INSERT INTO facts.daily_facts(\n",
    "        Date, IsWeekend, symbol,  \n",
    "        open, high, low, close, volume, \n",
    "        profit_margins, earnings_growth, revenue_growth \n",
    "    ) \n",
    "    SELECT \n",
    "        dd.date as date, \n",
    "        dd.isweekend as isweekend,\n",
    "        df.symbol AS symbol,\n",
    "        df.open AS open,\n",
    "        df.high AS high,\n",
    "        df.low AS low,\n",
    "        df.close AS close,\n",
    "        df.volume AS volume, \n",
    "        dc.profit_margins AS profit_margins,\n",
    "        dc.earnings_growth AS earnings_growth,\n",
    "        dc.revenue_growth AS revenue_growth\n",
    "    FROM \n",
    "        dimension.d_financial_info as df \n",
    "    JOIN\n",
    "        dimension.d_dated AS dd ON df.date = dd.Date\n",
    "    JOIN\n",
    "        dimension.d_customer AS dc ON df.symbol = dc.symbol;\n",
    "    \"\"\"\n",
    "\n",
    "    # SQL command to commit the transaction to the database.\n",
    "    # This finalizes the insertion of new data and ensures data integrity by\n",
    "    # making the changes permanent in the database.\n",
    "    commit_transaction = \"COMMIT;\"\n",
    "\n",
    "    # Attempt to execute the SQL commands within a try-except block to handle potential errors.\n",
    "    try:\n",
    "        # Execute the SQL commands one by one using a previously defined function.\n",
    "        # This function manages the database connection and query execution.\n",
    "        execute_sql_query(begin_transaction)\n",
    "        execute_sql_query(truncate_table)\n",
    "        execute_sql_query(insert_data)\n",
    "        execute_sql_query(commit_transaction)\n",
    "        # Notify the user that the update process was successful.\n",
    "        print(\"Facts table updated successfully.\")\n",
    "    except Exception as e:\n",
    "        # If an error occurs during any of the SQL operations, print an error message.\n",
    "        # The specific nature of the error is captured and displayed for troubleshooting.\n",
    "        print(f\"An error occurred while updating the facts table: {e}\")\n"
   ]
  },
  {
   "cell_type": "code",
   "execution_count": 34,
   "id": "42a9f353-b54c-460d-9e84-77af5ea845b9",
   "metadata": {
    "tags": []
   },
   "outputs": [],
   "source": [
    "\n",
    "\n",
    "\n",
    "def update_dates_of_stock_info():\n",
    "    # SQL command to start a new transaction.\n",
    "    # Beginning a transaction ensures that all the following operations are executed as a single unit of work,\n",
    "    # allowing for rollback if something goes wrong, thus maintaining data consistency.\n",
    "    begin_transaction = \"BEGIN;\"\n",
    "\n",
    "    # SQL command to clear the 'facts.dates_of_stock_info' table.\n",
    "    # This operation removes all existing records from the table, preparing it for the insertion of updated data.\n",
    "    # Truncating a table is a drastic action and should be used with caution.\n",
    "    truncate_table = \"TRUNCATE facts.dates_of_stock_info;\"\n",
    "\n",
    "    # SQL command to insert updated date information for each stock symbol into the 'facts.dates_of_stock_info' table.\n",
    "    # This command aggregates data from the 'source.historical_stock_data' table, selecting the maximum date (i.e., the last date)\n",
    "    # for each symbol and the current date, then groups the results by symbol.\n",
    "    # The purpose is to keep a record of the last date for which data is available for each stock symbol,\n",
    "    # as well as today's date to monitor the currency of the data.\n",
    "    insert_data = \"\"\"\n",
    "    INSERT INTO facts.dates_of_stock_info (symbol, lastdate, todays_date)\n",
    "    SELECT symbol, MAX(date), CURRENT_DATE AS Todays_date FROM source.historical_stock_data GROUP BY symbol;\n",
    "    \"\"\"\n",
    "\n",
    "    # SQL command to commit the transaction to the database.\n",
    "    # Committing the transaction makes all changes made during the transaction permanent,\n",
    "    # ensuring that the data in the database is up to date and consistent.\n",
    "    commit_transaction = \"COMMIT;\"\n",
    "\n",
    "    # Attempt to execute the SQL commands within a try-except block to handle potential errors.\n",
    "    try:\n",
    "        # Execute the SQL commands sequentially using a predefined function to manage database connection and execution.\n",
    "        # This function executes the SQL query against the database and commits or rolls back the transaction as necessary.\n",
    "        execute_sql_query(begin_transaction)\n",
    "        execute_sql_query(truncate_table)\n",
    "        execute_sql_query(insert_data)\n",
    "        execute_sql_query(commit_transaction)\n",
    "        # Notify the user that the update process was successfully completed.\n",
    "        print(\"Dates of stock info table updated successfully.\")\n",
    "    except Exception as e:\n",
    "        # If an error occurs during the execution of the SQL commands, print an error message.\n",
    "        # The message includes the specific error encountered to assist with troubleshooting.\n",
    "        print(f\"An error occurred while updating the dates of stock info table: {e}\")\n"
   ]
  },
  {
   "cell_type": "code",
   "execution_count": null,
   "id": "23c1d61c-0b21-4d09-8faa-2d14e7ecd67d",
   "metadata": {},
   "outputs": [],
   "source": []
  }
 ],
 "metadata": {
  "kernelspec": {
   "display_name": "Python 3 (ipykernel)",
   "language": "python",
   "name": "python3"
  },
  "language_info": {
   "codemirror_mode": {
    "name": "ipython",
    "version": 3
   },
   "file_extension": ".py",
   "mimetype": "text/x-python",
   "name": "python",
   "nbconvert_exporter": "python",
   "pygments_lexer": "ipython3",
   "version": "3.11.5"
  }
 },
 "nbformat": 4,
 "nbformat_minor": 5
}
