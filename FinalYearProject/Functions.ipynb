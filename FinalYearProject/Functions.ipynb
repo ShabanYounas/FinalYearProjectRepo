{
 "cells": [
  {
   "cell_type": "code",
   "execution_count": 8,
   "id": "bc8875e2-e912-4294-8c56-53d24f919be4",
   "metadata": {
    "tags": []
   },
   "outputs": [],
   "source": [
    "import yfinance as yf\n",
    "from datetime import datetime\n",
    "import pandas as pd\n",
    "import psycopg2\n",
    "import configparser\n",
    "import datetime\n",
    "import nbimporter\n",
    "from General import *\n",
    "from Daily_etl import *\n",
    "from SQL import *\n",
    "from Connection_to_pgAdmin4 import *"
   ]
  },
  {
   "cell_type": "code",
   "execution_count": 9,
   "id": "fbe27eae-e049-4d96-b4b0-cf66bfe7b2e8",
   "metadata": {},
   "outputs": [
    {
     "data": {
      "text/plain": [
       "'pip install psycopg2'"
      ]
     },
     "execution_count": 9,
     "metadata": {},
     "output_type": "execute_result"
    }
   ],
   "source": [
    "#installation \n",
    "#by default you might not have yahoo finance/ library, or psycopg2, or  nbimporternbimporter so you may have to install one\n",
    "'''pip install yfinance'''\n",
    "'''pip install nbimporter'''\n",
    "'''pip install psycopg2'''"
   ]
  },
  {
   "cell_type": "code",
   "execution_count": 10,
   "id": "16c9f4c0-895c-4ee0-abec-67c29a99f20e",
   "metadata": {
    "tags": []
   },
   "outputs": [],
   "source": [
    "#*********************\n",
    "#This code was developed to work on the missing data that was intialy not collected with other functions. \n",
    "#*********************\n",
    "\n",
    "\n",
    "#Reference cell G\n",
    "def fetch_missing_symbol_data(symbol):\n",
    "    try:\n",
    "        # Create a Ticker object for the given symbol\n",
    "        stock = yf.Ticker(symbol)\n",
    "        \n",
    "        # Fetch historical data for the stock from Jan 1, 2005 until today\n",
    "        hist = stock.history(start = datetime.strptime(\"2005-01-01\", \"%Y-%m-%d\"), end= datetime.now().strftime('%Y-%m-%d'))\n",
    "        \n",
    "         # Check if the historical data DataFrame is empty (no data returned)\n",
    "        if hist.empty:\n",
    "            return pd.DataFrame()# Return an empty DataFrame if no data found\n",
    "        \n",
    "        # Reset the index of the DataFrame which contains the dates\n",
    "        hist.reset_index(inplace=True)\n",
    "        \n",
    "         # Add a new column to the DataFrame with the symbol name\n",
    "        hist['Symbol'] = symbol\n",
    "\n",
    "        #the desired column order, \n",
    "        #Because I was receving lots of colums that were not important, therefor i only want the the specified columns.\n",
    "        desired_columns = ['Date', 'Open', 'High', 'Low', 'Close', 'Volume', 'Dividends', 'Stock Splits', 'Symbol']\n",
    "        return hist[desired_columns]\n",
    "    \n",
    "    # Print an error message with the symbol and the exception message\n",
    "    except Exception as e:\n",
    "        print(f\"Error fetching data for {symbol}: {str(e)}\")\n",
    "        return pd.DataFrame()"
   ]
  },
  {
   "cell_type": "code",
   "execution_count": 16,
   "id": "590b0e94-0544-4443-af9c-809b833b08bf",
   "metadata": {},
   "outputs": [],
   "source": [
    "#***** \n",
    "#Creatig function to fetch data since 2005 as a basline for the project.\n",
    "\n",
    "\n",
    "#Reference cell A\n",
    "def fetch_historical_data(symbol):\n",
    "    try:\n",
    "        stock = yf.Ticker(symbol)\n",
    "        hist = stock.history(start=\"2005-01-01\", end=datetime.now().strftime('%Y-%m-%d'))\n",
    "        if hist.empty:\n",
    "            return pd.DataFrame()\n",
    "        \n",
    "        hist.reset_index(inplace=True)\n",
    "        hist['Symbol'] = symbol\n",
    "\n",
    "        #the desired column order, \n",
    "        #Because I was receving lots of colums that were not important, therefor i only want the the specified columns.\n",
    "        desired_columns = ['Date', 'Open', 'High', 'Low', 'Close', 'Volume', 'Dividends', 'Stock Splits', 'Symbol']\n",
    "        return hist[desired_columns]\n",
    "    except Exception as e:\n",
    "        print(f\"Error fetching data for {symbol}: {str(e)}\")\n",
    "        return pd.DataFrame()"
   ]
  },
  {
   "cell_type": "code",
   "execution_count": 12,
   "id": "641b2d17-0d3b-4e16-a941-e9615a4a95b7",
   "metadata": {
    "tags": []
   },
   "outputs": [],
   "source": [
    "#*******\n",
    "#Creatig function to fetch Information on copanies that are listed based on symbol.\n",
    "#This is slightly different because it populates information on companies.\n",
    "\n",
    "\n",
    "#Reference cell B\n",
    "def fetch_info_data(symbol):\n",
    "    try:\n",
    "        stock = yf.Ticker(symbol)\n",
    "        info = stock.info\n",
    "\n",
    "        selected_columns = [\n",
    "            \"address1\", \"city\", \"state\", \"zip\", \"country\", \"phone\", \"website\",\n",
    "            \"industry\", \"sector\", \"sectorKey\", \"symbol\", \"longName\",\n",
    "            \"fullTimeEmployees\", \"profitMargins\", \"earningsGrowth\", \"revenueGrowth\",\n",
    "            \"marketCap\", \"fiftyTwoWeekHigh\", \"fiftyTwoWeekLow\", \"currency\", \"exchange\"\n",
    "        ]\n",
    "\n",
    "        info_data = {column: info.get(column, \"N/A\") for column in selected_columns}\n",
    "        return pd.DataFrame([info_data])\n",
    "\n",
    "    except Exception as e:\n",
    "        print(f\"Error fetching data for {symbol}: {str(e)}\")\n",
    "        return None"
   ]
  },
  {
   "cell_type": "code",
   "execution_count": 13,
   "id": "f5d345ac-549d-4ba6-845e-3b83ee9176ce",
   "metadata": {
    "tags": []
   },
   "outputs": [],
   "source": [
    "#*****************\n",
    "#Generating date dimension\n",
    "\n",
    "#start_date = datetime.date(2005, 1, 1)\n",
    "#end_date = datetime.date(2008, 12, 31)\n",
    "\n",
    "\n",
    "#Reference cell C\n",
    "def generate_date_dimension(start_date, end_date):\n",
    "    # Generating a date range because i want to get the date upto 2050-12-31\n",
    "    date_range = pd.date_range(start=start_date, end=end_date, name='Date')\n",
    "    # Create DataFrame\n",
    "    date_dimension = pd.DataFrame(date_range)\n",
    "    # the columns to concider here are below\n",
    "    date_dimension['Year'] = date_dimension['Date'].dt.year\n",
    "    date_dimension['Quarter'] = date_dimension['Date'].dt.quarter\n",
    "    date_dimension['Month'] = date_dimension['Date'].dt.month\n",
    "    date_dimension[\"Week\"] = date_dimension[\"Date\"].dt.strftime(\"%U\")\n",
    "    date_dimension['Day'] = date_dimension['Date'].dt.day\n",
    "    date_dimension['DayOfWeek'] = date_dimension['Date'].dt.dayofweek\n",
    "    date_dimension['IsWeekend'] = date_dimension['DayOfWeek'].isin([5, 6])\n",
    "    date_dimension['IsHoliday'] = False \n",
    "    date_dimension['FiscalYear'] = date_dimension['Year']  #  based on fiscal year\n",
    "    date_dimension['FiscalQuarter'] = date_dimension['Date'].dt.quarter  #  based on fiscal quarters\n",
    "    date_dimension['FiscalMonth'] = date_dimension['Date'].dt.month  #  based on fiscal months\n",
    "    return date_dimension\n",
    "\n",
    "\n",
    "#to see the result of this just uncomment the print statement below"
   ]
  },
  {
   "cell_type": "code",
   "execution_count": 14,
   "id": "9ec03f1f-2b4d-4806-84ca-1f2ecf0a76c4",
   "metadata": {
    "tags": []
   },
   "outputs": [],
   "source": [
    "#start_date = datetime.date(2005, 1, 1)\n",
    "#end_date = datetime.date(2008, 12, 31)\n",
    "#generate_date_dimension(start_date, end_date)\n",
    "\n",
    "#to see the result of this just uncomment the print statement and year variable"
   ]
  },
  {
   "cell_type": "code",
   "execution_count": null,
   "id": "dfd3afcc-41c9-4f48-b148-ea9c2d658864",
   "metadata": {},
   "outputs": [],
   "source": []
  },
  {
   "cell_type": "code",
   "execution_count": null,
   "id": "d717ede6-0556-4358-9e7c-ebb8bb57ad18",
   "metadata": {},
   "outputs": [],
   "source": []
  },
  {
   "cell_type": "code",
   "execution_count": null,
   "id": "62eeb514-1bb4-40bc-b1e0-4101334b742e",
   "metadata": {},
   "outputs": [],
   "source": []
  }
 ],
 "metadata": {
  "kernelspec": {
   "display_name": "Python 3 (ipykernel)",
   "language": "python",
   "name": "python3"
  },
  "language_info": {
   "codemirror_mode": {
    "name": "ipython",
    "version": 3
   },
   "file_extension": ".py",
   "mimetype": "text/x-python",
   "name": "python",
   "nbconvert_exporter": "python",
   "pygments_lexer": "ipython3",
   "version": "3.11.7"
  }
 },
 "nbformat": 4,
 "nbformat_minor": 5
}
