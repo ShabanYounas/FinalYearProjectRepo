{
 "cells": [
  {
   "cell_type": "code",
   "execution_count": 1,
   "id": "8d7d8620-5ace-45d7-91c5-a88d41e6ea83",
   "metadata": {
    "tags": []
   },
   "outputs": [],
   "source": [
    "import yfinance as yf\n",
    "from datetime import datetime\n",
    "import pandas as pd\n",
    "import psycopg2\n",
    "import configparser\n",
    "import datetime\n",
    "import nbimporter\n",
    "from General import *\n",
    "from Daily_etl import *\n",
    "from Functions import *\n",
    "from Connection_to_pgAdmin4 import *"
   ]
  },
  {
   "cell_type": "code",
   "execution_count": 2,
   "id": "93967461-5233-49eb-a75d-dce53715c7a8",
   "metadata": {
    "tags": []
   },
   "outputs": [],
   "source": [
    "\n",
    "# Function to execute SQL queries\n",
    "#SQL REFERENCE A\n",
    "\n",
    "\n",
    "def execute_sql_query(query, params=None):\n",
    "    \n",
    "    # Establish a connection to the database\n",
    "    connection = connect_to_database()\n",
    "\n",
    "    try:\n",
    "        if connection:\n",
    "            cursor = connection.cursor()\n",
    "            \n",
    "            # Execute the SQL query\n",
    "            if params:\n",
    "                cursor.execute(query, params)\n",
    "            else:\n",
    "                cursor.execute(query)\n",
    "\n",
    "            # If it's a SELECT query, fetch the results\n",
    "            if query.strip().lower().startswith(\"select\"):\n",
    "                results = cursor.fetchall()\n",
    "                cursor.close()\n",
    "                return results\n",
    "\n",
    "            # For other types of queries, commit the changes\n",
    "            else:\n",
    "                connection.commit()\n",
    "               # print(\"Query executed successfully.\")\n",
    "\n",
    "    except (Exception, psycopg2.Error) as error:\n",
    "        print(f\"Error: {error}\")\n",
    "        if connection:\n",
    "            connection.rollback()\n",
    "\n",
    "    finally:\n",
    "        if connection:\n",
    "            connection.close()\n"
   ]
  },
  {
   "cell_type": "code",
   "execution_count": 8,
   "id": "eae8a5c0-c2fa-4ce9-8df3-311829a768f0",
   "metadata": {},
   "outputs": [
    {
     "name": "stdout",
     "output_type": "stream",
     "text": [
      "Error: relation \"ticker_and_name\" already exists\n",
      "\n"
     ]
    }
   ],
   "source": [
    "#Creating the table to store ticker and symbol that was downloaded\n",
    "#Creating first table using function.\n",
    "# Define the SQL query in the 'test' variable running as test\n",
    "test = \"\"\"\n",
    "CREATE TABLE source.ticker_and_name (\n",
    "    Symbol TEXT,\n",
    "    Description TEXT\n",
    ");\n",
    "\"\"\"\n",
    "\n",
    "# Execute the SQL query using the execute_sql_query function\n",
    "execute_sql_query(test)"
   ]
  },
  {
   "cell_type": "code",
   "execution_count": null,
   "id": "fd276207-7bcd-4ba5-8c15-0561af03c743",
   "metadata": {},
   "outputs": [],
   "source": [
    "#***************\n",
    "# The below function inserts company data into source schema inside table s_customer table. This table was created directly inside postgreSQL\n",
    "# This will be commented out to avoid running by error and rewriting the entire table or causing duplication.\n",
    "#SQL REFERENCE B\n",
    "#Reference cell A\n",
    "#***************\n",
    "\n",
    "'''\n",
    "\n",
    "def insert_customer_data(row):\n",
    "    query = \"\"\"\n",
    "    INSERT INTO source.s_customer \n",
    "    (Address1, City, State, Zip, Country, Phone, Website, Industry, Sector, SectorKey, Symbol, \n",
    "    Customer_Name, Full_Time_Employees, Profit_Margins, Earnings_Growth, Revenue_Growth, Market_Cap, \n",
    "    Fifty_Two_Week_High, Fifty_Two_Week_Low, Currency, Exchange) \n",
    "    VALUES (%s, %s, %s, %s, %s, %s, %s, %s, %s, %s, %s, %s, %s, %s, %s, %s, %s, %s, %s, %s, %s)\n",
    "    \"\"\"\n",
    "    params = (\n",
    "        row['address1'] if row['address1'] != 'N/A' else None,\n",
    "        row['city'] if row['city'] != 'N/A' else None,\n",
    "        row['state'] if row['state'] != 'N/A' else None,\n",
    "        row['zip'] if row['zip'] != 'N/A' else None,\n",
    "        row['country'] if row['country'] != 'N/A' else None,\n",
    "        row['phone'] if row['phone'] != 'N/A' else None,\n",
    "        row['website'] if row['website'] != 'N/A' else None,\n",
    "        row['industry'] if row['industry'] != 'N/A' else None,\n",
    "        row['sector'] if row['sector'] != 'N/A' else None,\n",
    "        row['sectorKey'] if row['sectorKey'] != 'N/A' else None,\n",
    "        row['symbol'] if row['symbol'] != 'N/A' else None,\n",
    "        row['longName'] if row['longName'] != 'N/A' else None,\n",
    "        int(row['fullTimeEmployees']) if row['fullTimeEmployees'] != 'N/A' else None,\n",
    "        float(row['profitMargins']) if row['profitMargins'] != 'N/A' else None,\n",
    "        float(row['earningsGrowth']) if row['earningsGrowth'] != 'N/A' else None,\n",
    "        float(row['revenueGrowth']) if row['revenueGrowth'] != 'N/A' else None,\n",
    "        float(row['marketCap']) if row['marketCap'] != 'N/A' else None,\n",
    "        float(row['fiftyTwoWeekHigh']) if 'fiftyTwoWeekHigh' in row and row['fiftyTwoWeekHigh'] != 'N/A' else None,\n",
    "        float(row['fiftyTwoWeekLow']) if 'fiftyTwoWeekLow' in row and row['fiftyTwoWeekLow'] != 'N/A' else None,\n",
    "        row['currency'] if row['currency'] != 'N/A' else None,\n",
    "        row['exchange'] if row['exchange'] != 'N/A' else None\n",
    "    )\n",
    "    execute_sql_query(query, params)\n",
    "    \n",
    "'''"
   ]
  },
  {
   "cell_type": "code",
   "execution_count": null,
   "id": "a4ce4615-78bd-407e-b2e9-6894c786ea5f",
   "metadata": {},
   "outputs": [],
   "source": [
    "\n",
    "        "
   ]
  },
  {
   "cell_type": "code",
   "execution_count": null,
   "id": "f6155e08-932e-4641-b8e3-2f0f27f886c4",
   "metadata": {},
   "outputs": [],
   "source": []
  },
  {
   "cell_type": "code",
   "execution_count": null,
   "id": "729de20c-8f13-489e-bb2c-ac9d8ef27396",
   "metadata": {},
   "outputs": [],
   "source": [
    "##this table has been generated by running this command  so goint to disable this as i do not want to lose the table being replaced\n",
    "\n",
    "'''\n",
    "execute_sql_query(\"\"\"\n",
    "    CREATE TABLE source.historical_stock_data (\n",
    "        symbol TEXT,\n",
    "        date DATE,\n",
    "        open NUMERIC(10, 2),\n",
    "        high NUMERIC(10, 2),\n",
    "        low NUMERIC(10, 2),\n",
    "        close NUMERIC(10, 2),\n",
    "        volume INT,\n",
    "        dividends NUMERIC(10, 2),\n",
    "        stock_splits NUMERIC(10, 2)\n",
    "    );\"\"\") \n",
    "    \n",
    "'''"
   ]
  }
 ],
 "metadata": {
  "kernelspec": {
   "display_name": "Python 3 (ipykernel)",
   "language": "python",
   "name": "python3"
  },
  "language_info": {
   "codemirror_mode": {
    "name": "ipython",
    "version": 3
   },
   "file_extension": ".py",
   "mimetype": "text/x-python",
   "name": "python",
   "nbconvert_exporter": "python",
   "pygments_lexer": "ipython3",
   "version": "3.11.7"
  }
 },
 "nbformat": 4,
 "nbformat_minor": 5
}
